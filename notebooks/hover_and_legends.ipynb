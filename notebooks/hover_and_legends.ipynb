{
 "cells": [
  {
   "metadata": {},
   "cell_type": "markdown",
   "source": "# Customizing hover information and legends",
   "id": "2bbe69d98041c66"
  },
  {
   "metadata": {
    "ExecuteTime": {
     "end_time": "2024-07-30T14:42:50.316390Z",
     "start_time": "2024-07-30T14:42:50.037332Z"
    }
   },
   "cell_type": "code",
   "source": [
    "import plotly.graph_objects as go\n",
    "import plotly.express as px\n",
    "import pandas as pd"
   ],
   "id": "b41f46340a364e54",
   "outputs": [],
   "execution_count": 2
  },
  {
   "metadata": {},
   "cell_type": "markdown",
   "source": "## Load the data",
   "id": "20cf454c2931fa4e"
  },
  {
   "metadata": {
    "ExecuteTime": {
     "end_time": "2024-07-30T15:02:10.639029Z",
     "start_time": "2024-07-30T15:02:10.633591Z"
    }
   },
   "cell_type": "code",
   "source": [
    "# get life expectancy and GDP data\n",
    "life_gdp = pd.read_csv(\"../data/world_happiness.csv\")"
   ],
   "id": "b4688834dc9f0b9a",
   "outputs": [],
   "execution_count": 36
  },
  {
   "metadata": {
    "ExecuteTime": {
     "end_time": "2024-07-30T15:02:10.873059Z",
     "start_time": "2024-07-30T15:02:10.870412Z"
    }
   },
   "cell_type": "code",
   "source": "life_gdp.columns",
   "id": "2a046e04415b70c0",
   "outputs": [
    {
     "data": {
      "text/plain": [
       "Index(['Unnamed: 0', 'country', 'social_support', 'freedom', 'corruption',\n",
       "       'generosity', 'gdp_per_cap', 'life_exp', 'happiness_score'],\n",
       "      dtype='object')"
      ]
     },
     "execution_count": 37,
     "metadata": {},
     "output_type": "execute_result"
    }
   ],
   "execution_count": 37
  },
  {
   "metadata": {
    "ExecuteTime": {
     "end_time": "2024-07-30T15:02:11.140007Z",
     "start_time": "2024-07-30T15:02:11.137802Z"
    }
   },
   "cell_type": "code",
   "source": [
    "life_gdp.rename(columns={'life_exp': 'Life expectancy',\n",
    "                         'gdp_per_cap': 'GDP Per Capita',\n",
    "                         'country': 'Country',\n",
    "                         },\n",
    "                inplace=True)"
   ],
   "id": "d4b32ded8c1b9e44",
   "outputs": [],
   "execution_count": 38
  },
  {
   "metadata": {},
   "cell_type": "markdown",
   "source": "## Create a scatterplot",
   "id": "f4930a0800fdab14"
  },
  {
   "metadata": {
    "ExecuteTime": {
     "end_time": "2024-07-30T15:02:11.900086Z",
     "start_time": "2024-07-30T15:02:11.780089Z"
    }
   },
   "cell_type": "code",
   "source": [
    "# Create the scatterplot\n",
    "fig = px.scatter(\n",
    "    data_frame=life_gdp, \n",
    "    x=\"Life expectancy\",\n",
    "    y=\"GDP Per Capita\",\n",
    "    color='Country')\n",
    "\n",
    "# Create the legend\n",
    "my_legend = {'x': 0.2, 'y': 0.95, 'bgcolor':\"rgb(60, 240, 201)\", 'borderwidth': 5}\n",
    "\n",
    "# Update the figure\n",
    "fig.update_layout({'showlegend': True, 'legend': my_legend})\n",
    "\n",
    "# Show the plot\n",
    "fig.show()\n",
    "with open('../docs/plots/scatter/hover_and_legends_1.html', 'w') as f:\n",
    "    f.write(fig.to_html())"
   ],
   "id": "b1d988fa379e95b2",
   "outputs": [
    {
     "data": {
      "application/vnd.plotly.v1+json": {
       "data": [
        {
         "hovertemplate": "Country=Finland<br>Life expectancy=%{x}<br>GDP Per Capita=%{y}<extra></extra>",
         "legendgroup": "Finland",
         "marker": {
          "color": "#636efa",
          "symbol": "circle"
         },
         "mode": "markers",
         "name": "Finland",
         "orientation": "v",
         "showlegend": true,
         "x": [
          81.8
         ],
         "xaxis": "x",
         "y": [
          42400
         ],
         "yaxis": "y",
         "type": "scatter"
        },
        {
         "hovertemplate": "Country=Denmark<br>Life expectancy=%{x}<br>GDP Per Capita=%{y}<extra></extra>",
         "legendgroup": "Denmark",
         "marker": {
          "color": "#EF553B",
          "symbol": "circle"
         },
         "mode": "markers",
         "name": "Denmark",
         "orientation": "v",
         "showlegend": true,
         "x": [
          81.0
         ],
         "xaxis": "x",
         "y": [
          48300
         ],
         "yaxis": "y",
         "type": "scatter"
        },
        {
         "hovertemplate": "Country=Norway<br>Life expectancy=%{x}<br>GDP Per Capita=%{y}<extra></extra>",
         "legendgroup": "Norway",
         "marker": {
          "color": "#00cc96",
          "symbol": "circle"
         },
         "mode": "markers",
         "name": "Norway",
         "orientation": "v",
         "showlegend": true,
         "x": [
          82.6
         ],
         "xaxis": "x",
         "y": [
          66300
         ],
         "yaxis": "y",
         "type": "scatter"
        },
        {
         "hovertemplate": "Country=Iceland<br>Life expectancy=%{x}<br>GDP Per Capita=%{y}<extra></extra>",
         "legendgroup": "Iceland",
         "marker": {
          "color": "#ab63fa",
          "symbol": "circle"
         },
         "mode": "markers",
         "name": "Iceland",
         "orientation": "v",
         "showlegend": true,
         "x": [
          83.0
         ],
         "xaxis": "x",
         "y": [
          47900
         ],
         "yaxis": "y",
         "type": "scatter"
        },
        {
         "hovertemplate": "Country=Netherlands<br>Life expectancy=%{x}<br>GDP Per Capita=%{y}<extra></extra>",
         "legendgroup": "Netherlands",
         "marker": {
          "color": "#FFA15A",
          "symbol": "circle"
         },
         "mode": "markers",
         "name": "Netherlands",
         "orientation": "v",
         "showlegend": true,
         "x": [
          81.8
         ],
         "xaxis": "x",
         "y": [
          50500
         ],
         "yaxis": "y",
         "type": "scatter"
        },
        {
         "hovertemplate": "Country=Switzerland<br>Life expectancy=%{x}<br>GDP Per Capita=%{y}<extra></extra>",
         "legendgroup": "Switzerland",
         "marker": {
          "color": "#19d3f3",
          "symbol": "circle"
         },
         "mode": "markers",
         "name": "Switzerland",
         "orientation": "v",
         "showlegend": true,
         "x": [
          84.3
         ],
         "xaxis": "x",
         "y": [
          59000
         ],
         "yaxis": "y",
         "type": "scatter"
        },
        {
         "hovertemplate": "Country=Sweden<br>Life expectancy=%{x}<br>GDP Per Capita=%{y}<extra></extra>",
         "legendgroup": "Sweden",
         "marker": {
          "color": "#FF6692",
          "symbol": "circle"
         },
         "mode": "markers",
         "name": "Sweden",
         "orientation": "v",
         "showlegend": true,
         "x": [
          82.8
         ],
         "xaxis": "x",
         "y": [
          47200
         ],
         "yaxis": "y",
         "type": "scatter"
        },
        {
         "hovertemplate": "Country=New Zealand<br>Life expectancy=%{x}<br>GDP Per Capita=%{y}<extra></extra>",
         "legendgroup": "New Zealand",
         "marker": {
          "color": "#B6E880",
          "symbol": "circle"
         },
         "mode": "markers",
         "name": "New Zealand",
         "orientation": "v",
         "showlegend": true,
         "x": [
          81.9
         ],
         "xaxis": "x",
         "y": [
          36500
         ],
         "yaxis": "y",
         "type": "scatter"
        },
        {
         "hovertemplate": "Country=Canada<br>Life expectancy=%{x}<br>GDP Per Capita=%{y}<extra></extra>",
         "legendgroup": "Canada",
         "marker": {
          "color": "#FF97FF",
          "symbol": "circle"
         },
         "mode": "markers",
         "name": "Canada",
         "orientation": "v",
         "showlegend": true,
         "x": [
          82.2
         ],
         "xaxis": "x",
         "y": [
          44200
         ],
         "yaxis": "y",
         "type": "scatter"
        },
        {
         "hovertemplate": "Country=Austria<br>Life expectancy=%{x}<br>GDP Per Capita=%{y}<extra></extra>",
         "legendgroup": "Austria",
         "marker": {
          "color": "#FECB52",
          "symbol": "circle"
         },
         "mode": "markers",
         "name": "Austria",
         "orientation": "v",
         "showlegend": true,
         "x": [
          82.0
         ],
         "xaxis": "x",
         "y": [
          46900
         ],
         "yaxis": "y",
         "type": "scatter"
        },
        {
         "hovertemplate": "Country=Australia<br>Life expectancy=%{x}<br>GDP Per Capita=%{y}<extra></extra>",
         "legendgroup": "Australia",
         "marker": {
          "color": "#636efa",
          "symbol": "circle"
         },
         "mode": "markers",
         "name": "Australia",
         "orientation": "v",
         "showlegend": true,
         "x": [
          82.7
         ],
         "xaxis": "x",
         "y": [
          45500
         ],
         "yaxis": "y",
         "type": "scatter"
        },
        {
         "hovertemplate": "Country=Costa Rica<br>Life expectancy=%{x}<br>GDP Per Capita=%{y}<extra></extra>",
         "legendgroup": "Costa Rica",
         "marker": {
          "color": "#EF553B",
          "symbol": "circle"
         },
         "mode": "markers",
         "name": "Costa Rica",
         "orientation": "v",
         "showlegend": true,
         "x": [
          79.8
         ],
         "xaxis": "x",
         "y": [
          15800
         ],
         "yaxis": "y",
         "type": "scatter"
        },
        {
         "hovertemplate": "Country=Israel<br>Life expectancy=%{x}<br>GDP Per Capita=%{y}<extra></extra>",
         "legendgroup": "Israel",
         "marker": {
          "color": "#00cc96",
          "symbol": "circle"
         },
         "mode": "markers",
         "name": "Israel",
         "orientation": "v",
         "showlegend": true,
         "x": [
          83.3
         ],
         "xaxis": "x",
         "y": [
          34100
         ],
         "yaxis": "y",
         "type": "scatter"
        },
        {
         "hovertemplate": "Country=Luxembourg<br>Life expectancy=%{x}<br>GDP Per Capita=%{y}<extra></extra>",
         "legendgroup": "Luxembourg",
         "marker": {
          "color": "#ab63fa",
          "symbol": "circle"
         },
         "mode": "markers",
         "name": "Luxembourg",
         "orientation": "v",
         "showlegend": true,
         "x": [
          82.0
         ],
         "xaxis": "x",
         "y": [
          94300
         ],
         "yaxis": "y",
         "type": "scatter"
        },
        {
         "hovertemplate": "Country=United Kingdom<br>Life expectancy=%{x}<br>GDP Per Capita=%{y}<extra></extra>",
         "legendgroup": "United Kingdom",
         "marker": {
          "color": "#FFA15A",
          "symbol": "circle"
         },
         "mode": "markers",
         "name": "United Kingdom",
         "orientation": "v",
         "showlegend": true,
         "x": [
          81.1
         ],
         "xaxis": "x",
         "y": [
          40400
         ],
         "yaxis": "y",
         "type": "scatter"
        },
        {
         "hovertemplate": "Country=Ireland<br>Life expectancy=%{x}<br>GDP Per Capita=%{y}<extra></extra>",
         "legendgroup": "Ireland",
         "marker": {
          "color": "#19d3f3",
          "symbol": "circle"
         },
         "mode": "markers",
         "name": "Ireland",
         "orientation": "v",
         "showlegend": true,
         "x": [
          82.3
         ],
         "xaxis": "x",
         "y": [
          72400
         ],
         "yaxis": "y",
         "type": "scatter"
        },
        {
         "hovertemplate": "Country=Germany<br>Life expectancy=%{x}<br>GDP Per Capita=%{y}<extra></extra>",
         "legendgroup": "Germany",
         "marker": {
          "color": "#FF6692",
          "symbol": "circle"
         },
         "mode": "markers",
         "name": "Germany",
         "orientation": "v",
         "showlegend": true,
         "x": [
          80.9
         ],
         "xaxis": "x",
         "y": [
          46200
         ],
         "yaxis": "y",
         "type": "scatter"
        },
        {
         "hovertemplate": "Country=Belgium<br>Life expectancy=%{x}<br>GDP Per Capita=%{y}<extra></extra>",
         "legendgroup": "Belgium",
         "marker": {
          "color": "#B6E880",
          "symbol": "circle"
         },
         "mode": "markers",
         "name": "Belgium",
         "orientation": "v",
         "showlegend": true,
         "x": [
          81.7
         ],
         "xaxis": "x",
         "y": [
          43500
         ],
         "yaxis": "y",
         "type": "scatter"
        },
        {
         "hovertemplate": "Country=United States<br>Life expectancy=%{x}<br>GDP Per Capita=%{y}<extra></extra>",
         "legendgroup": "United States",
         "marker": {
          "color": "#FF97FF",
          "symbol": "circle"
         },
         "mode": "markers",
         "name": "United States",
         "orientation": "v",
         "showlegend": true,
         "x": [
          78.6
         ],
         "xaxis": "x",
         "y": [
          56700
         ],
         "yaxis": "y",
         "type": "scatter"
        },
        {
         "hovertemplate": "Country=Czech Republic<br>Life expectancy=%{x}<br>GDP Per Capita=%{y}<extra></extra>",
         "legendgroup": "Czech Republic",
         "marker": {
          "color": "#FECB52",
          "symbol": "circle"
         },
         "mode": "markers",
         "name": "Czech Republic",
         "orientation": "v",
         "showlegend": true,
         "x": [
          79.5
         ],
         "xaxis": "x",
         "y": [
          34100
         ],
         "yaxis": "y",
         "type": "scatter"
        },
        {
         "hovertemplate": "Country=United Arab Emirates<br>Life expectancy=%{x}<br>GDP Per Capita=%{y}<extra></extra>",
         "legendgroup": "United Arab Emirates",
         "marker": {
          "color": "#636efa",
          "symbol": "circle"
         },
         "mode": "markers",
         "name": "United Arab Emirates",
         "orientation": "v",
         "showlegend": true,
         "x": [
          73.6
         ],
         "xaxis": "x",
         "y": [
          65700
         ],
         "yaxis": "y",
         "type": "scatter"
        },
        {
         "hovertemplate": "Country=Malta<br>Life expectancy=%{x}<br>GDP Per Capita=%{y}<extra></extra>",
         "legendgroup": "Malta",
         "marker": {
          "color": "#EF553B",
          "symbol": "circle"
         },
         "mode": "markers",
         "name": "Malta",
         "orientation": "v",
         "showlegend": true,
         "x": [
          81.3
         ],
         "xaxis": "x",
         "y": [
          39300
         ],
         "yaxis": "y",
         "type": "scatter"
        },
        {
         "hovertemplate": "Country=Mexico<br>Life expectancy=%{x}<br>GDP Per Capita=%{y}<extra></extra>",
         "legendgroup": "Mexico",
         "marker": {
          "color": "#00cc96",
          "symbol": "circle"
         },
         "mode": "markers",
         "name": "Mexico",
         "orientation": "v",
         "showlegend": true,
         "x": [
          75.6
         ],
         "xaxis": "x",
         "y": [
          18000
         ],
         "yaxis": "y",
         "type": "scatter"
        },
        {
         "hovertemplate": "Country=France<br>Life expectancy=%{x}<br>GDP Per Capita=%{y}<extra></extra>",
         "legendgroup": "France",
         "marker": {
          "color": "#ab63fa",
          "symbol": "circle"
         },
         "mode": "markers",
         "name": "France",
         "orientation": "v",
         "showlegend": true,
         "x": [
          83.1
         ],
         "xaxis": "x",
         "y": [
          40000
         ],
         "yaxis": "y",
         "type": "scatter"
        },
        {
         "hovertemplate": "Country=Chile<br>Life expectancy=%{x}<br>GDP Per Capita=%{y}<extra></extra>",
         "legendgroup": "Chile",
         "marker": {
          "color": "#FFA15A",
          "symbol": "circle"
         },
         "mode": "markers",
         "name": "Chile",
         "orientation": "v",
         "showlegend": true,
         "x": [
          80.0
         ],
         "xaxis": "x",
         "y": [
          23000
         ],
         "yaxis": "y",
         "type": "scatter"
        },
        {
         "hovertemplate": "Country=Guatemala<br>Life expectancy=%{x}<br>GDP Per Capita=%{y}<extra></extra>",
         "legendgroup": "Guatemala",
         "marker": {
          "color": "#19d3f3",
          "symbol": "circle"
         },
         "mode": "markers",
         "name": "Guatemala",
         "orientation": "v",
         "showlegend": true,
         "x": [
          73.1
         ],
         "xaxis": "x",
         "y": [
          7610
         ],
         "yaxis": "y",
         "type": "scatter"
        },
        {
         "hovertemplate": "Country=Saudi Arabia<br>Life expectancy=%{x}<br>GDP Per Capita=%{y}<extra></extra>",
         "legendgroup": "Saudi Arabia",
         "marker": {
          "color": "#FF6692",
          "symbol": "circle"
         },
         "mode": "markers",
         "name": "Saudi Arabia",
         "orientation": "v",
         "showlegend": true,
         "x": [
          77.1
         ],
         "xaxis": "x",
         "y": [
          48100
         ],
         "yaxis": "y",
         "type": "scatter"
        },
        {
         "hovertemplate": "Country=Qatar<br>Life expectancy=%{x}<br>GDP Per Capita=%{y}<extra></extra>",
         "legendgroup": "Qatar",
         "marker": {
          "color": "#B6E880",
          "symbol": "circle"
         },
         "mode": "markers",
         "name": "Qatar",
         "orientation": "v",
         "showlegend": true,
         "x": [
          80.5
         ],
         "xaxis": "x",
         "y": [
          113000
         ],
         "yaxis": "y",
         "type": "scatter"
        },
        {
         "hovertemplate": "Country=Spain<br>Life expectancy=%{x}<br>GDP Per Capita=%{y}<extra></extra>",
         "legendgroup": "Spain",
         "marker": {
          "color": "#FF97FF",
          "symbol": "circle"
         },
         "mode": "markers",
         "name": "Spain",
         "orientation": "v",
         "showlegend": true,
         "x": [
          83.3
         ],
         "xaxis": "x",
         "y": [
          35700
         ],
         "yaxis": "y",
         "type": "scatter"
        },
        {
         "hovertemplate": "Country=Panama<br>Life expectancy=%{x}<br>GDP Per Capita=%{y}<extra></extra>",
         "legendgroup": "Panama",
         "marker": {
          "color": "#FECB52",
          "symbol": "circle"
         },
         "mode": "markers",
         "name": "Panama",
         "orientation": "v",
         "showlegend": true,
         "x": [
          79.7
         ],
         "xaxis": "x",
         "y": [
          23300
         ],
         "yaxis": "y",
         "type": "scatter"
        },
        {
         "hovertemplate": "Country=Brazil<br>Life expectancy=%{x}<br>GDP Per Capita=%{y}<extra></extra>",
         "legendgroup": "Brazil",
         "marker": {
          "color": "#636efa",
          "symbol": "circle"
         },
         "mode": "markers",
         "name": "Brazil",
         "orientation": "v",
         "showlegend": true,
         "x": [
          75.9
         ],
         "xaxis": "x",
         "y": [
          14300
         ],
         "yaxis": "y",
         "type": "scatter"
        },
        {
         "hovertemplate": "Country=Uruguay<br>Life expectancy=%{x}<br>GDP Per Capita=%{y}<extra></extra>",
         "legendgroup": "Uruguay",
         "marker": {
          "color": "#EF553B",
          "symbol": "circle"
         },
         "mode": "markers",
         "name": "Uruguay",
         "orientation": "v",
         "showlegend": true,
         "x": [
          77.3
         ],
         "xaxis": "x",
         "y": [
          20900
         ],
         "yaxis": "y",
         "type": "scatter"
        },
        {
         "hovertemplate": "Country=Singapore<br>Life expectancy=%{x}<br>GDP Per Capita=%{y}<extra></extra>",
         "legendgroup": "Singapore",
         "marker": {
          "color": "#00cc96",
          "symbol": "circle"
         },
         "mode": "markers",
         "name": "Singapore",
         "orientation": "v",
         "showlegend": true,
         "x": [
          85.1
         ],
         "xaxis": "x",
         "y": [
          90100
         ],
         "yaxis": "y",
         "type": "scatter"
        },
        {
         "hovertemplate": "Country=El Salvador<br>Life expectancy=%{x}<br>GDP Per Capita=%{y}<extra></extra>",
         "legendgroup": "El Salvador",
         "marker": {
          "color": "#ab63fa",
          "symbol": "circle"
         },
         "mode": "markers",
         "name": "El Salvador",
         "orientation": "v",
         "showlegend": true,
         "x": [
          74.5
         ],
         "xaxis": "x",
         "y": [
          7510
         ],
         "yaxis": "y",
         "type": "scatter"
        },
        {
         "hovertemplate": "Country=Italy<br>Life expectancy=%{x}<br>GDP Per Capita=%{y}<extra></extra>",
         "legendgroup": "Italy",
         "marker": {
          "color": "#FFA15A",
          "symbol": "circle"
         },
         "mode": "markers",
         "name": "Italy",
         "orientation": "v",
         "showlegend": true,
         "x": [
          83.5
         ],
         "xaxis": "x",
         "y": [
          35800
         ],
         "yaxis": "y",
         "type": "scatter"
        },
        {
         "hovertemplate": "Country=Bahrain<br>Life expectancy=%{x}<br>GDP Per Capita=%{y}<extra></extra>",
         "legendgroup": "Bahrain",
         "marker": {
          "color": "#19d3f3",
          "symbol": "circle"
         },
         "mode": "markers",
         "name": "Bahrain",
         "orientation": "v",
         "showlegend": true,
         "x": [
          79.8
         ],
         "xaxis": "x",
         "y": [
          42000
         ],
         "yaxis": "y",
         "type": "scatter"
        },
        {
         "hovertemplate": "Country=Trinidad and Tobago<br>Life expectancy=%{x}<br>GDP Per Capita=%{y}<extra></extra>",
         "legendgroup": "Trinidad and Tobago",
         "marker": {
          "color": "#FF6692",
          "symbol": "circle"
         },
         "mode": "markers",
         "name": "Trinidad and Tobago",
         "orientation": "v",
         "showlegend": true,
         "x": [
          74.5
         ],
         "xaxis": "x",
         "y": [
          28500
         ],
         "yaxis": "y",
         "type": "scatter"
        },
        {
         "hovertemplate": "Country=Poland<br>Life expectancy=%{x}<br>GDP Per Capita=%{y}<extra></extra>",
         "legendgroup": "Poland",
         "marker": {
          "color": "#B6E880",
          "symbol": "circle"
         },
         "mode": "markers",
         "name": "Poland",
         "orientation": "v",
         "showlegend": true,
         "x": [
          78.4
         ],
         "xaxis": "x",
         "y": [
          29900
         ],
         "yaxis": "y",
         "type": "scatter"
        },
        {
         "hovertemplate": "Country=Uzbekistan<br>Life expectancy=%{x}<br>GDP Per Capita=%{y}<extra></extra>",
         "legendgroup": "Uzbekistan",
         "marker": {
          "color": "#FF97FF",
          "symbol": "circle"
         },
         "mode": "markers",
         "name": "Uzbekistan",
         "orientation": "v",
         "showlegend": true,
         "x": [
          70.7
         ],
         "xaxis": "x",
         "y": [
          6490
         ],
         "yaxis": "y",
         "type": "scatter"
        },
        {
         "hovertemplate": "Country=Lithuania<br>Life expectancy=%{x}<br>GDP Per Capita=%{y}<extra></extra>",
         "legendgroup": "Lithuania",
         "marker": {
          "color": "#FECB52",
          "symbol": "circle"
         },
         "mode": "markers",
         "name": "Lithuania",
         "orientation": "v",
         "showlegend": true,
         "x": [
          75.4
         ],
         "xaxis": "x",
         "y": [
          32400
         ],
         "yaxis": "y",
         "type": "scatter"
        },
        {
         "hovertemplate": "Country=Colombia<br>Life expectancy=%{x}<br>GDP Per Capita=%{y}<extra></extra>",
         "legendgroup": "Colombia",
         "marker": {
          "color": "#636efa",
          "symbol": "circle"
         },
         "mode": "markers",
         "name": "Colombia",
         "orientation": "v",
         "showlegend": true,
         "x": [
          80.5
         ],
         "xaxis": "x",
         "y": [
          13600
         ],
         "yaxis": "y",
         "type": "scatter"
        },
        {
         "hovertemplate": "Country=Slovenia<br>Life expectancy=%{x}<br>GDP Per Capita=%{y}<extra></extra>",
         "legendgroup": "Slovenia",
         "marker": {
          "color": "#EF553B",
          "symbol": "circle"
         },
         "mode": "markers",
         "name": "Slovenia",
         "orientation": "v",
         "showlegend": true,
         "x": [
          81.4
         ],
         "xaxis": "x",
         "y": [
          33700
         ],
         "yaxis": "y",
         "type": "scatter"
        },
        {
         "hovertemplate": "Country=Nicaragua<br>Life expectancy=%{x}<br>GDP Per Capita=%{y}<extra></extra>",
         "legendgroup": "Nicaragua",
         "marker": {
          "color": "#00cc96",
          "symbol": "circle"
         },
         "mode": "markers",
         "name": "Nicaragua",
         "orientation": "v",
         "showlegend": true,
         "x": [
          79.2
         ],
         "xaxis": "x",
         "y": [
          4620
         ],
         "yaxis": "y",
         "type": "scatter"
        },
        {
         "hovertemplate": "Country=Argentina<br>Life expectancy=%{x}<br>GDP Per Capita=%{y}<extra></extra>",
         "legendgroup": "Argentina",
         "marker": {
          "color": "#ab63fa",
          "symbol": "circle"
         },
         "mode": "markers",
         "name": "Argentina",
         "orientation": "v",
         "showlegend": true,
         "x": [
          77.0
         ],
         "xaxis": "x",
         "y": [
          17500
         ],
         "yaxis": "y",
         "type": "scatter"
        },
        {
         "hovertemplate": "Country=Romania<br>Life expectancy=%{x}<br>GDP Per Capita=%{y}<extra></extra>",
         "legendgroup": "Romania",
         "marker": {
          "color": "#FFA15A",
          "symbol": "circle"
         },
         "mode": "markers",
         "name": "Romania",
         "orientation": "v",
         "showlegend": true,
         "x": [
          75.4
         ],
         "xaxis": "x",
         "y": [
          25500
         ],
         "yaxis": "y",
         "type": "scatter"
        },
        {
         "hovertemplate": "Country=Cyprus<br>Life expectancy=%{x}<br>GDP Per Capita=%{y}<extra></extra>",
         "legendgroup": "Cyprus",
         "marker": {
          "color": "#19d3f3",
          "symbol": "circle"
         },
         "mode": "markers",
         "name": "Cyprus",
         "orientation": "v",
         "showlegend": true,
         "x": [
          82.0
         ],
         "xaxis": "x",
         "y": [
          34500
         ],
         "yaxis": "y",
         "type": "scatter"
        },
        {
         "hovertemplate": "Country=Ecuador<br>Life expectancy=%{x}<br>GDP Per Capita=%{y}<extra></extra>",
         "legendgroup": "Ecuador",
         "marker": {
          "color": "#FF6692",
          "symbol": "circle"
         },
         "mode": "markers",
         "name": "Ecuador",
         "orientation": "v",
         "showlegend": true,
         "x": [
          77.2
         ],
         "xaxis": "x",
         "y": [
          10200
         ],
         "yaxis": "y",
         "type": "scatter"
        },
        {
         "hovertemplate": "Country=Kuwait<br>Life expectancy=%{x}<br>GDP Per Capita=%{y}<extra></extra>",
         "legendgroup": "Kuwait",
         "marker": {
          "color": "#B6E880",
          "symbol": "circle"
         },
         "mode": "markers",
         "name": "Kuwait",
         "orientation": "v",
         "showlegend": true,
         "x": [
          83.3
         ],
         "xaxis": "x",
         "y": [
          64100
         ],
         "yaxis": "y",
         "type": "scatter"
        },
        {
         "hovertemplate": "Country=Thailand<br>Life expectancy=%{x}<br>GDP Per Capita=%{y}<extra></extra>",
         "legendgroup": "Thailand",
         "marker": {
          "color": "#FF97FF",
          "symbol": "circle"
         },
         "mode": "markers",
         "name": "Thailand",
         "orientation": "v",
         "showlegend": true,
         "x": [
          78.6
         ],
         "xaxis": "x",
         "y": [
          17400
         ],
         "yaxis": "y",
         "type": "scatter"
        },
        {
         "hovertemplate": "Country=Latvia<br>Life expectancy=%{x}<br>GDP Per Capita=%{y}<extra></extra>",
         "legendgroup": "Latvia",
         "marker": {
          "color": "#FECB52",
          "symbol": "circle"
         },
         "mode": "markers",
         "name": "Latvia",
         "orientation": "v",
         "showlegend": true,
         "x": [
          75.4
         ],
         "xaxis": "x",
         "y": [
          27300
         ],
         "yaxis": "y",
         "type": "scatter"
        },
        {
         "hovertemplate": "Country=South Korea<br>Life expectancy=%{x}<br>GDP Per Capita=%{y}<extra></extra>",
         "legendgroup": "South Korea",
         "marker": {
          "color": "#636efa",
          "symbol": "circle"
         },
         "mode": "markers",
         "name": "South Korea",
         "orientation": "v",
         "showlegend": true,
         "x": [
          83.0
         ],
         "xaxis": "x",
         "y": [
          37300
         ],
         "yaxis": "y",
         "type": "scatter"
        },
        {
         "hovertemplate": "Country=Estonia<br>Life expectancy=%{x}<br>GDP Per Capita=%{y}<extra></extra>",
         "legendgroup": "Estonia",
         "marker": {
          "color": "#EF553B",
          "symbol": "circle"
         },
         "mode": "markers",
         "name": "Estonia",
         "orientation": "v",
         "showlegend": true,
         "x": [
          78.5
         ],
         "xaxis": "x",
         "y": [
          32000
         ],
         "yaxis": "y",
         "type": "scatter"
        },
        {
         "hovertemplate": "Country=Jamaica<br>Life expectancy=%{x}<br>GDP Per Capita=%{y}<extra></extra>",
         "legendgroup": "Jamaica",
         "marker": {
          "color": "#00cc96",
          "symbol": "circle"
         },
         "mode": "markers",
         "name": "Jamaica",
         "orientation": "v",
         "showlegend": true,
         "x": [
          74.9
         ],
         "xaxis": "x",
         "y": [
          8310
         ],
         "yaxis": "y",
         "type": "scatter"
        },
        {
         "hovertemplate": "Country=Mauritius<br>Life expectancy=%{x}<br>GDP Per Capita=%{y}<extra></extra>",
         "legendgroup": "Mauritius",
         "marker": {
          "color": "#ab63fa",
          "symbol": "circle"
         },
         "mode": "markers",
         "name": "Mauritius",
         "orientation": "v",
         "showlegend": true,
         "x": [
          75.0
         ],
         "xaxis": "x",
         "y": [
          21800
         ],
         "yaxis": "y",
         "type": "scatter"
        },
        {
         "hovertemplate": "Country=Japan<br>Life expectancy=%{x}<br>GDP Per Capita=%{y}<extra></extra>",
         "legendgroup": "Japan",
         "marker": {
          "color": "#FFA15A",
          "symbol": "circle"
         },
         "mode": "markers",
         "name": "Japan",
         "orientation": "v",
         "showlegend": true,
         "x": [
          84.5
         ],
         "xaxis": "x",
         "y": [
          39700
         ],
         "yaxis": "y",
         "type": "scatter"
        },
        {
         "hovertemplate": "Country=Honduras<br>Life expectancy=%{x}<br>GDP Per Capita=%{y}<extra></extra>",
         "legendgroup": "Honduras",
         "marker": {
          "color": "#19d3f3",
          "symbol": "circle"
         },
         "mode": "markers",
         "name": "Honduras",
         "orientation": "v",
         "showlegend": true,
         "x": [
          74.3
         ],
         "xaxis": "x",
         "y": [
          4630
         ],
         "yaxis": "y",
         "type": "scatter"
        },
        {
         "hovertemplate": "Country=Kazakhstan<br>Life expectancy=%{x}<br>GDP Per Capita=%{y}<extra></extra>",
         "legendgroup": "Kazakhstan",
         "marker": {
          "color": "#FF6692",
          "symbol": "circle"
         },
         "mode": "markers",
         "name": "Kazakhstan",
         "orientation": "v",
         "showlegend": true,
         "x": [
          72.8
         ],
         "xaxis": "x",
         "y": [
          25400
         ],
         "yaxis": "y",
         "type": "scatter"
        },
        {
         "hovertemplate": "Country=Bolivia<br>Life expectancy=%{x}<br>GDP Per Capita=%{y}<extra></extra>",
         "legendgroup": "Bolivia",
         "marker": {
          "color": "#B6E880",
          "symbol": "circle"
         },
         "mode": "markers",
         "name": "Bolivia",
         "orientation": "v",
         "showlegend": true,
         "x": [
          73.3
         ],
         "xaxis": "x",
         "y": [
          7150
         ],
         "yaxis": "y",
         "type": "scatter"
        },
        {
         "hovertemplate": "Country=Hungary<br>Life expectancy=%{x}<br>GDP Per Capita=%{y}<extra></extra>",
         "legendgroup": "Hungary",
         "marker": {
          "color": "#FF97FF",
          "symbol": "circle"
         },
         "mode": "markers",
         "name": "Hungary",
         "orientation": "v",
         "showlegend": true,
         "x": [
          77.2
         ],
         "xaxis": "x",
         "y": [
          29600
         ],
         "yaxis": "y",
         "type": "scatter"
        },
        {
         "hovertemplate": "Country=Paraguay<br>Life expectancy=%{x}<br>GDP Per Capita=%{y}<extra></extra>",
         "legendgroup": "Paraguay",
         "marker": {
          "color": "#FECB52",
          "symbol": "circle"
         },
         "mode": "markers",
         "name": "Paraguay",
         "orientation": "v",
         "showlegend": true,
         "x": [
          76.4
         ],
         "xaxis": "x",
         "y": [
          12000
         ],
         "yaxis": "y",
         "type": "scatter"
        },
        {
         "hovertemplate": "Country=Peru<br>Life expectancy=%{x}<br>GDP Per Capita=%{y}<extra></extra>",
         "legendgroup": "Peru",
         "marker": {
          "color": "#636efa",
          "symbol": "circle"
         },
         "mode": "markers",
         "name": "Peru",
         "orientation": "v",
         "showlegend": true,
         "x": [
          80.8
         ],
         "xaxis": "x",
         "y": [
          13000
         ],
         "yaxis": "y",
         "type": "scatter"
        },
        {
         "hovertemplate": "Country=Portugal<br>Life expectancy=%{x}<br>GDP Per Capita=%{y}<extra></extra>",
         "legendgroup": "Portugal",
         "marker": {
          "color": "#EF553B",
          "symbol": "circle"
         },
         "mode": "markers",
         "name": "Portugal",
         "orientation": "v",
         "showlegend": true,
         "x": [
          81.8
         ],
         "xaxis": "x",
         "y": [
          29300
         ],
         "yaxis": "y",
         "type": "scatter"
        },
        {
         "hovertemplate": "Country=Pakistan<br>Life expectancy=%{x}<br>GDP Per Capita=%{y}<extra></extra>",
         "legendgroup": "Pakistan",
         "marker": {
          "color": "#00cc96",
          "symbol": "circle"
         },
         "mode": "markers",
         "name": "Pakistan",
         "orientation": "v",
         "showlegend": true,
         "x": [
          67.2
         ],
         "xaxis": "x",
         "y": [
          5000
         ],
         "yaxis": "y",
         "type": "scatter"
        },
        {
         "hovertemplate": "Country=Russia<br>Life expectancy=%{x}<br>GDP Per Capita=%{y}<extra></extra>",
         "legendgroup": "Russia",
         "marker": {
          "color": "#ab63fa",
          "symbol": "circle"
         },
         "mode": "markers",
         "name": "Russia",
         "orientation": "v",
         "showlegend": true,
         "x": [
          72.5
         ],
         "xaxis": "x",
         "y": [
          25700
         ],
         "yaxis": "y",
         "type": "scatter"
        },
        {
         "hovertemplate": "Country=Philippines<br>Life expectancy=%{x}<br>GDP Per Capita=%{y}<extra></extra>",
         "legendgroup": "Philippines",
         "marker": {
          "color": "#FFA15A",
          "symbol": "circle"
         },
         "mode": "markers",
         "name": "Philippines",
         "orientation": "v",
         "showlegend": true,
         "x": [
          70.0
         ],
         "xaxis": "x",
         "y": [
          8260
         ],
         "yaxis": "y",
         "type": "scatter"
        },
        {
         "hovertemplate": "Country=Serbia<br>Life expectancy=%{x}<br>GDP Per Capita=%{y}<extra></extra>",
         "legendgroup": "Serbia",
         "marker": {
          "color": "#19d3f3",
          "symbol": "circle"
         },
         "mode": "markers",
         "name": "Serbia",
         "orientation": "v",
         "showlegend": true,
         "x": [
          76.0
         ],
         "xaxis": "x",
         "y": [
          16700
         ],
         "yaxis": "y",
         "type": "scatter"
        },
        {
         "hovertemplate": "Country=Moldova<br>Life expectancy=%{x}<br>GDP Per Capita=%{y}<extra></extra>",
         "legendgroup": "Moldova",
         "marker": {
          "color": "#FF6692",
          "symbol": "circle"
         },
         "mode": "markers",
         "name": "Moldova",
         "orientation": "v",
         "showlegend": true,
         "x": [
          73.1
         ],
         "xaxis": "x",
         "y": [
          6720
         ],
         "yaxis": "y",
         "type": "scatter"
        },
        {
         "hovertemplate": "Country=Libya<br>Life expectancy=%{x}<br>GDP Per Capita=%{y}<extra></extra>",
         "legendgroup": "Libya",
         "marker": {
          "color": "#B6E880",
          "symbol": "circle"
         },
         "mode": "markers",
         "name": "Libya",
         "orientation": "v",
         "showlegend": true,
         "x": [
          73.3
         ],
         "xaxis": "x",
         "y": [
          14800
         ],
         "yaxis": "y",
         "type": "scatter"
        },
        {
         "hovertemplate": "Country=Montenegro<br>Life expectancy=%{x}<br>GDP Per Capita=%{y}<extra></extra>",
         "legendgroup": "Montenegro",
         "marker": {
          "color": "#FF97FF",
          "symbol": "circle"
         },
         "mode": "markers",
         "name": "Montenegro",
         "orientation": "v",
         "showlegend": true,
         "x": [
          76.7
         ],
         "xaxis": "x",
         "y": [
          17800
         ],
         "yaxis": "y",
         "type": "scatter"
        },
        {
         "hovertemplate": "Country=Tajikistan<br>Life expectancy=%{x}<br>GDP Per Capita=%{y}<extra></extra>",
         "legendgroup": "Tajikistan",
         "marker": {
          "color": "#FECB52",
          "symbol": "circle"
         },
         "mode": "markers",
         "name": "Tajikistan",
         "orientation": "v",
         "showlegend": true,
         "x": [
          70.8
         ],
         "xaxis": "x",
         "y": [
          3150
         ],
         "yaxis": "y",
         "type": "scatter"
        },
        {
         "hovertemplate": "Country=Croatia<br>Life expectancy=%{x}<br>GDP Per Capita=%{y}<extra></extra>",
         "legendgroup": "Croatia",
         "marker": {
          "color": "#636efa",
          "symbol": "circle"
         },
         "mode": "markers",
         "name": "Croatia",
         "orientation": "v",
         "showlegend": true,
         "x": [
          78.8
         ],
         "xaxis": "x",
         "y": [
          24500
         ],
         "yaxis": "y",
         "type": "scatter"
        },
        {
         "hovertemplate": "Country=Dominican Republic<br>Life expectancy=%{x}<br>GDP Per Capita=%{y}<extra></extra>",
         "legendgroup": "Dominican Republic",
         "marker": {
          "color": "#EF553B",
          "symbol": "circle"
         },
         "mode": "markers",
         "name": "Dominican Republic",
         "orientation": "v",
         "showlegend": true,
         "x": [
          73.5
         ],
         "xaxis": "x",
         "y": [
          16400
         ],
         "yaxis": "y",
         "type": "scatter"
        },
        {
         "hovertemplate": "Country=Turkey<br>Life expectancy=%{x}<br>GDP Per Capita=%{y}<extra></extra>",
         "legendgroup": "Turkey",
         "marker": {
          "color": "#00cc96",
          "symbol": "circle"
         },
         "mode": "markers",
         "name": "Turkey",
         "orientation": "v",
         "showlegend": true,
         "x": [
          79.5
         ],
         "xaxis": "x",
         "y": [
          25000
         ],
         "yaxis": "y",
         "type": "scatter"
        },
        {
         "hovertemplate": "Country=Malaysia<br>Life expectancy=%{x}<br>GDP Per Capita=%{y}<extra></extra>",
         "legendgroup": "Malaysia",
         "marker": {
          "color": "#ab63fa",
          "symbol": "circle"
         },
         "mode": "markers",
         "name": "Malaysia",
         "orientation": "v",
         "showlegend": true,
         "x": [
          75.0
         ],
         "xaxis": "x",
         "y": [
          29100
         ],
         "yaxis": "y",
         "type": "scatter"
        },
        {
         "hovertemplate": "Country=Belarus<br>Life expectancy=%{x}<br>GDP Per Capita=%{y}<extra></extra>",
         "legendgroup": "Belarus",
         "marker": {
          "color": "#FFA15A",
          "symbol": "circle"
         },
         "mode": "markers",
         "name": "Belarus",
         "orientation": "v",
         "showlegend": true,
         "x": [
          74.5
         ],
         "xaxis": "x",
         "y": [
          18000
         ],
         "yaxis": "y",
         "type": "scatter"
        },
        {
         "hovertemplate": "Country=Greece<br>Life expectancy=%{x}<br>GDP Per Capita=%{y}<extra></extra>",
         "legendgroup": "Greece",
         "marker": {
          "color": "#19d3f3",
          "symbol": "circle"
         },
         "mode": "markers",
         "name": "Greece",
         "orientation": "v",
         "showlegend": true,
         "x": [
          81.3
         ],
         "xaxis": "x",
         "y": [
          25700
         ],
         "yaxis": "y",
         "type": "scatter"
        },
        {
         "hovertemplate": "Country=Mongolia<br>Life expectancy=%{x}<br>GDP Per Capita=%{y}<extra></extra>",
         "legendgroup": "Mongolia",
         "marker": {
          "color": "#FF6692",
          "symbol": "circle"
         },
         "mode": "markers",
         "name": "Mongolia",
         "orientation": "v",
         "showlegend": true,
         "x": [
          69.3
         ],
         "xaxis": "x",
         "y": [
          12800
         ],
         "yaxis": "y",
         "type": "scatter"
        },
        {
         "hovertemplate": "Country=Nigeria<br>Life expectancy=%{x}<br>GDP Per Capita=%{y}<extra></extra>",
         "legendgroup": "Nigeria",
         "marker": {
          "color": "#B6E880",
          "symbol": "circle"
         },
         "mode": "markers",
         "name": "Nigeria",
         "orientation": "v",
         "showlegend": true,
         "x": [
          65.2
         ],
         "xaxis": "x",
         "y": [
          5300
         ],
         "yaxis": "y",
         "type": "scatter"
        },
        {
         "hovertemplate": "Country=Turkmenistan<br>Life expectancy=%{x}<br>GDP Per Capita=%{y}<extra></extra>",
         "legendgroup": "Turkmenistan",
         "marker": {
          "color": "#FF97FF",
          "symbol": "circle"
         },
         "mode": "markers",
         "name": "Turkmenistan",
         "orientation": "v",
         "showlegend": true,
         "x": [
          70.3
         ],
         "xaxis": "x",
         "y": [
          17600
         ],
         "yaxis": "y",
         "type": "scatter"
        },
        {
         "hovertemplate": "Country=Algeria<br>Life expectancy=%{x}<br>GDP Per Capita=%{y}<extra></extra>",
         "legendgroup": "Algeria",
         "marker": {
          "color": "#FECB52",
          "symbol": "circle"
         },
         "mode": "markers",
         "name": "Algeria",
         "orientation": "v",
         "showlegend": true,
         "x": [
          78.1
         ],
         "xaxis": "x",
         "y": [
          14000
         ],
         "yaxis": "y",
         "type": "scatter"
        },
        {
         "hovertemplate": "Country=Morocco<br>Life expectancy=%{x}<br>GDP Per Capita=%{y}<extra></extra>",
         "legendgroup": "Morocco",
         "marker": {
          "color": "#636efa",
          "symbol": "circle"
         },
         "mode": "markers",
         "name": "Morocco",
         "orientation": "v",
         "showlegend": true,
         "x": [
          74.4
         ],
         "xaxis": "x",
         "y": [
          7770
         ],
         "yaxis": "y",
         "type": "scatter"
        },
        {
         "hovertemplate": "Country=Azerbaijan<br>Life expectancy=%{x}<br>GDP Per Capita=%{y}<extra></extra>",
         "legendgroup": "Azerbaijan",
         "marker": {
          "color": "#EF553B",
          "symbol": "circle"
         },
         "mode": "markers",
         "name": "Azerbaijan",
         "orientation": "v",
         "showlegend": true,
         "x": [
          71.1
         ],
         "xaxis": "x",
         "y": [
          16200
         ],
         "yaxis": "y",
         "type": "scatter"
        },
        {
         "hovertemplate": "Country=Lebanon<br>Life expectancy=%{x}<br>GDP Per Capita=%{y}<extra></extra>",
         "legendgroup": "Lebanon",
         "marker": {
          "color": "#00cc96",
          "symbol": "circle"
         },
         "mode": "markers",
         "name": "Lebanon",
         "orientation": "v",
         "showlegend": true,
         "x": [
          78.1
         ],
         "xaxis": "x",
         "y": [
          11700
         ],
         "yaxis": "y",
         "type": "scatter"
        },
        {
         "hovertemplate": "Country=Indonesia<br>Life expectancy=%{x}<br>GDP Per Capita=%{y}<extra></extra>",
         "legendgroup": "Indonesia",
         "marker": {
          "color": "#ab63fa",
          "symbol": "circle"
         },
         "mode": "markers",
         "name": "Indonesia",
         "orientation": "v",
         "showlegend": true,
         "x": [
          71.9
         ],
         "xaxis": "x",
         "y": [
          12100
         ],
         "yaxis": "y",
         "type": "scatter"
        },
        {
         "hovertemplate": "Country=China<br>Life expectancy=%{x}<br>GDP Per Capita=%{y}<extra></extra>",
         "legendgroup": "China",
         "marker": {
          "color": "#FFA15A",
          "symbol": "circle"
         },
         "mode": "markers",
         "name": "China",
         "orientation": "v",
         "showlegend": true,
         "x": [
          77.5
         ],
         "xaxis": "x",
         "y": [
          17100
         ],
         "yaxis": "y",
         "type": "scatter"
        },
        {
         "hovertemplate": "Country=Vietnam<br>Life expectancy=%{x}<br>GDP Per Capita=%{y}<extra></extra>",
         "legendgroup": "Vietnam",
         "marker": {
          "color": "#19d3f3",
          "symbol": "circle"
         },
         "mode": "markers",
         "name": "Vietnam",
         "orientation": "v",
         "showlegend": true,
         "x": [
          74.7
         ],
         "xaxis": "x",
         "y": [
          6970
         ],
         "yaxis": "y",
         "type": "scatter"
        },
        {
         "hovertemplate": "Country=Bhutan<br>Life expectancy=%{x}<br>GDP Per Capita=%{y}<extra></extra>",
         "legendgroup": "Bhutan",
         "marker": {
          "color": "#FF6692",
          "symbol": "circle"
         },
         "mode": "markers",
         "name": "Bhutan",
         "orientation": "v",
         "showlegend": true,
         "x": [
          74.7
         ],
         "xaxis": "x",
         "y": [
          9710
         ],
         "yaxis": "y",
         "type": "scatter"
        },
        {
         "hovertemplate": "Country=Cameroon<br>Life expectancy=%{x}<br>GDP Per Capita=%{y}<extra></extra>",
         "legendgroup": "Cameroon",
         "marker": {
          "color": "#B6E880",
          "symbol": "circle"
         },
         "mode": "markers",
         "name": "Cameroon",
         "orientation": "v",
         "showlegend": true,
         "x": [
          63.8
         ],
         "xaxis": "x",
         "y": [
          3400
         ],
         "yaxis": "y",
         "type": "scatter"
        },
        {
         "hovertemplate": "Country=Bulgaria<br>Life expectancy=%{x}<br>GDP Per Capita=%{y}<extra></extra>",
         "legendgroup": "Bulgaria",
         "marker": {
          "color": "#FF97FF",
          "symbol": "circle"
         },
         "mode": "markers",
         "name": "Bulgaria",
         "orientation": "v",
         "showlegend": true,
         "x": [
          75.1
         ],
         "xaxis": "x",
         "y": [
          20200
         ],
         "yaxis": "y",
         "type": "scatter"
        },
        {
         "hovertemplate": "Country=Ghana<br>Life expectancy=%{x}<br>GDP Per Capita=%{y}<extra></extra>",
         "legendgroup": "Ghana",
         "marker": {
          "color": "#FECB52",
          "symbol": "circle"
         },
         "mode": "markers",
         "name": "Ghana",
         "orientation": "v",
         "showlegend": true,
         "x": [
          66.1
         ],
         "xaxis": "x",
         "y": [
          4430
         ],
         "yaxis": "y",
         "type": "scatter"
        },
        {
         "hovertemplate": "Country=Nepal<br>Life expectancy=%{x}<br>GDP Per Capita=%{y}<extra></extra>",
         "legendgroup": "Nepal",
         "marker": {
          "color": "#636efa",
          "symbol": "circle"
         },
         "mode": "markers",
         "name": "Nepal",
         "orientation": "v",
         "showlegend": true,
         "x": [
          71.5
         ],
         "xaxis": "x",
         "y": [
          2880
         ],
         "yaxis": "y",
         "type": "scatter"
        },
        {
         "hovertemplate": "Country=Jordan<br>Life expectancy=%{x}<br>GDP Per Capita=%{y}<extra></extra>",
         "legendgroup": "Jordan",
         "marker": {
          "color": "#EF553B",
          "symbol": "circle"
         },
         "mode": "markers",
         "name": "Jordan",
         "orientation": "v",
         "showlegend": true,
         "x": [
          79.6
         ],
         "xaxis": "x",
         "y": [
          8350
         ],
         "yaxis": "y",
         "type": "scatter"
        },
        {
         "hovertemplate": "Country=Benin<br>Life expectancy=%{x}<br>GDP Per Capita=%{y}<extra></extra>",
         "legendgroup": "Benin",
         "marker": {
          "color": "#00cc96",
          "symbol": "circle"
         },
         "mode": "markers",
         "name": "Benin",
         "orientation": "v",
         "showlegend": true,
         "x": [
          65.3
         ],
         "xaxis": "x",
         "y": [
          2230
         ],
         "yaxis": "y",
         "type": "scatter"
        },
        {
         "hovertemplate": "Country=Gabon<br>Life expectancy=%{x}<br>GDP Per Capita=%{y}<extra></extra>",
         "legendgroup": "Gabon",
         "marker": {
          "color": "#ab63fa",
          "symbol": "circle"
         },
         "mode": "markers",
         "name": "Gabon",
         "orientation": "v",
         "showlegend": true,
         "x": [
          69.0
         ],
         "xaxis": "x",
         "y": [
          16200
         ],
         "yaxis": "y",
         "type": "scatter"
        },
        {
         "hovertemplate": "Country=South Africa<br>Life expectancy=%{x}<br>GDP Per Capita=%{y}<extra></extra>",
         "legendgroup": "South Africa",
         "marker": {
          "color": "#FFA15A",
          "symbol": "circle"
         },
         "mode": "markers",
         "name": "South Africa",
         "orientation": "v",
         "showlegend": true,
         "x": [
          66.9
         ],
         "xaxis": "x",
         "y": [
          12000
         ],
         "yaxis": "y",
         "type": "scatter"
        },
        {
         "hovertemplate": "Country=Albania<br>Life expectancy=%{x}<br>GDP Per Capita=%{y}<extra></extra>",
         "legendgroup": "Albania",
         "marker": {
          "color": "#19d3f3",
          "symbol": "circle"
         },
         "mode": "markers",
         "name": "Albania",
         "orientation": "v",
         "showlegend": true,
         "x": [
          78.5
         ],
         "xaxis": "x",
         "y": [
          12700
         ],
         "yaxis": "y",
         "type": "scatter"
        },
        {
         "hovertemplate": "Country=Venezuela<br>Life expectancy=%{x}<br>GDP Per Capita=%{y}<extra></extra>",
         "legendgroup": "Venezuela",
         "marker": {
          "color": "#FF6692",
          "symbol": "circle"
         },
         "mode": "markers",
         "name": "Venezuela",
         "orientation": "v",
         "showlegend": true,
         "x": [
          75.1
         ],
         "xaxis": "x",
         "y": [
          9720
         ],
         "yaxis": "y",
         "type": "scatter"
        },
        {
         "hovertemplate": "Country=Cambodia<br>Life expectancy=%{x}<br>GDP Per Capita=%{y}<extra></extra>",
         "legendgroup": "Cambodia",
         "marker": {
          "color": "#B6E880",
          "symbol": "circle"
         },
         "mode": "markers",
         "name": "Cambodia",
         "orientation": "v",
         "showlegend": true,
         "x": [
          70.4
         ],
         "xaxis": "x",
         "y": [
          4080
         ],
         "yaxis": "y",
         "type": "scatter"
        },
        {
         "hovertemplate": "Country=Senegal<br>Life expectancy=%{x}<br>GDP Per Capita=%{y}<extra></extra>",
         "legendgroup": "Senegal",
         "marker": {
          "color": "#FF97FF",
          "symbol": "circle"
         },
         "mode": "markers",
         "name": "Senegal",
         "orientation": "v",
         "showlegend": true,
         "x": [
          68.6
         ],
         "xaxis": "x",
         "y": [
          3460
         ],
         "yaxis": "y",
         "type": "scatter"
        },
        {
         "hovertemplate": "Country=Somalia<br>Life expectancy=%{x}<br>GDP Per Capita=%{y}<extra></extra>",
         "legendgroup": "Somalia",
         "marker": {
          "color": "#FECB52",
          "symbol": "circle"
         },
         "mode": "markers",
         "name": "Somalia",
         "orientation": "v",
         "showlegend": true,
         "x": [
          59.2
         ],
         "xaxis": "x",
         "y": [
          631
         ],
         "yaxis": "y",
         "type": "scatter"
        },
        {
         "hovertemplate": "Country=Namibia<br>Life expectancy=%{x}<br>GDP Per Capita=%{y}<extra></extra>",
         "legendgroup": "Namibia",
         "marker": {
          "color": "#636efa",
          "symbol": "circle"
         },
         "mode": "markers",
         "name": "Namibia",
         "orientation": "v",
         "showlegend": true,
         "x": [
          67.2
         ],
         "xaxis": "x",
         "y": [
          9700
         ],
         "yaxis": "y",
         "type": "scatter"
        },
        {
         "hovertemplate": "Country=Niger<br>Life expectancy=%{x}<br>GDP Per Capita=%{y}<extra></extra>",
         "legendgroup": "Niger",
         "marker": {
          "color": "#EF553B",
          "symbol": "circle"
         },
         "mode": "markers",
         "name": "Niger",
         "orientation": "v",
         "showlegend": true,
         "x": [
          63.2
         ],
         "xaxis": "x",
         "y": [
          954
         ],
         "yaxis": "y",
         "type": "scatter"
        },
        {
         "hovertemplate": "Country=Burkina Faso<br>Life expectancy=%{x}<br>GDP Per Capita=%{y}<extra></extra>",
         "legendgroup": "Burkina Faso",
         "marker": {
          "color": "#00cc96",
          "symbol": "circle"
         },
         "mode": "markers",
         "name": "Burkina Faso",
         "orientation": "v",
         "showlegend": true,
         "x": [
          62.5
         ],
         "xaxis": "x",
         "y": [
          1810
         ],
         "yaxis": "y",
         "type": "scatter"
        },
        {
         "hovertemplate": "Country=Armenia<br>Life expectancy=%{x}<br>GDP Per Capita=%{y}<extra></extra>",
         "legendgroup": "Armenia",
         "marker": {
          "color": "#ab63fa",
          "symbol": "circle"
         },
         "mode": "markers",
         "name": "Armenia",
         "orientation": "v",
         "showlegend": true,
         "x": [
          75.9
         ],
         "xaxis": "x",
         "y": [
          9730
         ],
         "yaxis": "y",
         "type": "scatter"
        },
        {
         "hovertemplate": "Country=Iran<br>Life expectancy=%{x}<br>GDP Per Capita=%{y}<extra></extra>",
         "legendgroup": "Iran",
         "marker": {
          "color": "#FFA15A",
          "symbol": "circle"
         },
         "mode": "markers",
         "name": "Iran",
         "orientation": "v",
         "showlegend": true,
         "x": [
          77.8
         ],
         "xaxis": "x",
         "y": [
          16100
         ],
         "yaxis": "y",
         "type": "scatter"
        },
        {
         "hovertemplate": "Country=Guinea<br>Life expectancy=%{x}<br>GDP Per Capita=%{y}<extra></extra>",
         "legendgroup": "Guinea",
         "marker": {
          "color": "#19d3f3",
          "symbol": "circle"
         },
         "mode": "markers",
         "name": "Guinea",
         "orientation": "v",
         "showlegend": true,
         "x": [
          61.6
         ],
         "xaxis": "x",
         "y": [
          2420
         ],
         "yaxis": "y",
         "type": "scatter"
        },
        {
         "hovertemplate": "Country=Georgia<br>Life expectancy=%{x}<br>GDP Per Capita=%{y}<extra></extra>",
         "legendgroup": "Georgia",
         "marker": {
          "color": "#FF6692",
          "symbol": "circle"
         },
         "mode": "markers",
         "name": "Georgia",
         "orientation": "v",
         "showlegend": true,
         "x": [
          73.2
         ],
         "xaxis": "x",
         "y": [
          10700
         ],
         "yaxis": "y",
         "type": "scatter"
        },
        {
         "hovertemplate": "Country=Gambia<br>Life expectancy=%{x}<br>GDP Per Capita=%{y}<extra></extra>",
         "legendgroup": "Gambia",
         "marker": {
          "color": "#B6E880",
          "symbol": "circle"
         },
         "mode": "markers",
         "name": "Gambia",
         "orientation": "v",
         "showlegend": true,
         "x": [
          66.4
         ],
         "xaxis": "x",
         "y": [
          1570
         ],
         "yaxis": "y",
         "type": "scatter"
        },
        {
         "hovertemplate": "Country=Kenya<br>Life expectancy=%{x}<br>GDP Per Capita=%{y}<extra></extra>",
         "legendgroup": "Kenya",
         "marker": {
          "color": "#FF97FF",
          "symbol": "circle"
         },
         "mode": "markers",
         "name": "Kenya",
         "orientation": "v",
         "showlegend": true,
         "x": [
          66.7
         ],
         "xaxis": "x",
         "y": [
          3160
         ],
         "yaxis": "y",
         "type": "scatter"
        },
        {
         "hovertemplate": "Country=Mauritania<br>Life expectancy=%{x}<br>GDP Per Capita=%{y}<extra></extra>",
         "legendgroup": "Mauritania",
         "marker": {
          "color": "#FECB52",
          "symbol": "circle"
         },
         "mode": "markers",
         "name": "Mauritania",
         "orientation": "v",
         "showlegend": true,
         "x": [
          71.0
         ],
         "xaxis": "x",
         "y": [
          3890
         ],
         "yaxis": "y",
         "type": "scatter"
        },
        {
         "hovertemplate": "Country=Mozambique<br>Life expectancy=%{x}<br>GDP Per Capita=%{y}<extra></extra>",
         "legendgroup": "Mozambique",
         "marker": {
          "color": "#636efa",
          "symbol": "circle"
         },
         "mode": "markers",
         "name": "Mozambique",
         "orientation": "v",
         "showlegend": true,
         "x": [
          59.9
         ],
         "xaxis": "x",
         "y": [
          1170
         ],
         "yaxis": "y",
         "type": "scatter"
        },
        {
         "hovertemplate": "Country=Tunisia<br>Life expectancy=%{x}<br>GDP Per Capita=%{y}<extra></extra>",
         "legendgroup": "Tunisia",
         "marker": {
          "color": "#EF553B",
          "symbol": "circle"
         },
         "mode": "markers",
         "name": "Tunisia",
         "orientation": "v",
         "showlegend": true,
         "x": [
          78.7
         ],
         "xaxis": "x",
         "y": [
          11100
         ],
         "yaxis": "y",
         "type": "scatter"
        },
        {
         "hovertemplate": "Country=Bangladesh<br>Life expectancy=%{x}<br>GDP Per Capita=%{y}<extra></extra>",
         "legendgroup": "Bangladesh",
         "marker": {
          "color": "#00cc96",
          "symbol": "circle"
         },
         "mode": "markers",
         "name": "Bangladesh",
         "orientation": "v",
         "showlegend": true,
         "x": [
          73.7
         ],
         "xaxis": "x",
         "y": [
          4140
         ],
         "yaxis": "y",
         "type": "scatter"
        },
        {
         "hovertemplate": "Country=Iraq<br>Life expectancy=%{x}<br>GDP Per Capita=%{y}<extra></extra>",
         "legendgroup": "Iraq",
         "marker": {
          "color": "#ab63fa",
          "symbol": "circle"
         },
         "mode": "markers",
         "name": "Iraq",
         "orientation": "v",
         "showlegend": true,
         "x": [
          77.1
         ],
         "xaxis": "x",
         "y": [
          15700
         ],
         "yaxis": "y",
         "type": "scatter"
        },
        {
         "hovertemplate": "Country=Mali<br>Life expectancy=%{x}<br>GDP Per Capita=%{y}<extra></extra>",
         "legendgroup": "Mali",
         "marker": {
          "color": "#FFA15A",
          "symbol": "circle"
         },
         "mode": "markers",
         "name": "Mali",
         "orientation": "v",
         "showlegend": true,
         "x": [
          62.9
         ],
         "xaxis": "x",
         "y": [
          2100
         ],
         "yaxis": "y",
         "type": "scatter"
        },
        {
         "hovertemplate": "Country=Sierra Leone<br>Life expectancy=%{x}<br>GDP Per Capita=%{y}<extra></extra>",
         "legendgroup": "Sierra Leone",
         "marker": {
          "color": "#19d3f3",
          "symbol": "circle"
         },
         "mode": "markers",
         "name": "Sierra Leone",
         "orientation": "v",
         "showlegend": true,
         "x": [
          61.3
         ],
         "xaxis": "x",
         "y": [
          1460
         ],
         "yaxis": "y",
         "type": "scatter"
        },
        {
         "hovertemplate": "Country=Sri Lanka<br>Life expectancy=%{x}<br>GDP Per Capita=%{y}<extra></extra>",
         "legendgroup": "Sri Lanka",
         "marker": {
          "color": "#FF6692",
          "symbol": "circle"
         },
         "mode": "markers",
         "name": "Sri Lanka",
         "orientation": "v",
         "showlegend": true,
         "x": [
          77.8
         ],
         "xaxis": "x",
         "y": [
          12100
         ],
         "yaxis": "y",
         "type": "scatter"
        },
        {
         "hovertemplate": "Country=Myanmar<br>Life expectancy=%{x}<br>GDP Per Capita=%{y}<extra></extra>",
         "legendgroup": "Myanmar",
         "marker": {
          "color": "#B6E880",
          "symbol": "circle"
         },
         "mode": "markers",
         "name": "Myanmar",
         "orientation": "v",
         "showlegend": true,
         "x": [
          69.1
         ],
         "xaxis": "x",
         "y": [
          6270
         ],
         "yaxis": "y",
         "type": "scatter"
        },
        {
         "hovertemplate": "Country=Chad<br>Life expectancy=%{x}<br>GDP Per Capita=%{y}<extra></extra>",
         "legendgroup": "Chad",
         "marker": {
          "color": "#FF97FF",
          "symbol": "circle"
         },
         "mode": "markers",
         "name": "Chad",
         "orientation": "v",
         "showlegend": true,
         "x": [
          60.6
         ],
         "xaxis": "x",
         "y": [
          1740
         ],
         "yaxis": "y",
         "type": "scatter"
        },
        {
         "hovertemplate": "Country=Ukraine<br>Life expectancy=%{x}<br>GDP Per Capita=%{y}<extra></extra>",
         "legendgroup": "Ukraine",
         "marker": {
          "color": "#FECB52",
          "symbol": "circle"
         },
         "mode": "markers",
         "name": "Ukraine",
         "orientation": "v",
         "showlegend": true,
         "x": [
          70.8
         ],
         "xaxis": "x",
         "y": [
          8480
         ],
         "yaxis": "y",
         "type": "scatter"
        },
        {
         "hovertemplate": "Country=Ethiopia<br>Life expectancy=%{x}<br>GDP Per Capita=%{y}<extra></extra>",
         "legendgroup": "Ethiopia",
         "marker": {
          "color": "#636efa",
          "symbol": "circle"
         },
         "mode": "markers",
         "name": "Ethiopia",
         "orientation": "v",
         "showlegend": true,
         "x": [
          69.1
         ],
         "xaxis": "x",
         "y": [
          1900
         ],
         "yaxis": "y",
         "type": "scatter"
        },
        {
         "hovertemplate": "Country=Swaziland<br>Life expectancy=%{x}<br>GDP Per Capita=%{y}<extra></extra>",
         "legendgroup": "Swaziland",
         "marker": {
          "color": "#EF553B",
          "symbol": "circle"
         },
         "mode": "markers",
         "name": "Swaziland",
         "orientation": "v",
         "showlegend": true,
         "x": [
          61.8
         ],
         "xaxis": "x",
         "y": [
          9560
         ],
         "yaxis": "y",
         "type": "scatter"
        },
        {
         "hovertemplate": "Country=Uganda<br>Life expectancy=%{x}<br>GDP Per Capita=%{y}<extra></extra>",
         "legendgroup": "Uganda",
         "marker": {
          "color": "#00cc96",
          "symbol": "circle"
         },
         "mode": "markers",
         "name": "Uganda",
         "orientation": "v",
         "showlegend": true,
         "x": [
          66.6
         ],
         "xaxis": "x",
         "y": [
          1870
         ],
         "yaxis": "y",
         "type": "scatter"
        },
        {
         "hovertemplate": "Country=Egypt<br>Life expectancy=%{x}<br>GDP Per Capita=%{y}<extra></extra>",
         "legendgroup": "Egypt",
         "marker": {
          "color": "#ab63fa",
          "symbol": "circle"
         },
         "mode": "markers",
         "name": "Egypt",
         "orientation": "v",
         "showlegend": true,
         "x": [
          71.0
         ],
         "xaxis": "x",
         "y": [
          11400
         ],
         "yaxis": "y",
         "type": "scatter"
        },
        {
         "hovertemplate": "Country=Zambia<br>Life expectancy=%{x}<br>GDP Per Capita=%{y}<extra></extra>",
         "legendgroup": "Zambia",
         "marker": {
          "color": "#FFA15A",
          "symbol": "circle"
         },
         "mode": "markers",
         "name": "Zambia",
         "orientation": "v",
         "showlegend": true,
         "x": [
          64.0
         ],
         "xaxis": "x",
         "y": [
          3700
         ],
         "yaxis": "y",
         "type": "scatter"
        },
        {
         "hovertemplate": "Country=Togo<br>Life expectancy=%{x}<br>GDP Per Capita=%{y}<extra></extra>",
         "legendgroup": "Togo",
         "marker": {
          "color": "#19d3f3",
          "symbol": "circle"
         },
         "mode": "markers",
         "name": "Togo",
         "orientation": "v",
         "showlegend": true,
         "x": [
          65.0
         ],
         "xaxis": "x",
         "y": [
          1610
         ],
         "yaxis": "y",
         "type": "scatter"
        },
        {
         "hovertemplate": "Country=India<br>Life expectancy=%{x}<br>GDP Per Capita=%{y}<extra></extra>",
         "legendgroup": "India",
         "marker": {
          "color": "#FF6692",
          "symbol": "circle"
         },
         "mode": "markers",
         "name": "India",
         "orientation": "v",
         "showlegend": true,
         "x": [
          69.5
         ],
         "xaxis": "x",
         "y": [
          7230
         ],
         "yaxis": "y",
         "type": "scatter"
        },
        {
         "hovertemplate": "Country=Liberia<br>Life expectancy=%{x}<br>GDP Per Capita=%{y}<extra></extra>",
         "legendgroup": "Liberia",
         "marker": {
          "color": "#B6E880",
          "symbol": "circle"
         },
         "mode": "markers",
         "name": "Liberia",
         "orientation": "v",
         "showlegend": true,
         "x": [
          65.2
         ],
         "xaxis": "x",
         "y": [
          1140
         ],
         "yaxis": "y",
         "type": "scatter"
        },
        {
         "hovertemplate": "Country=Comoros<br>Life expectancy=%{x}<br>GDP Per Capita=%{y}<extra></extra>",
         "legendgroup": "Comoros",
         "marker": {
          "color": "#FF97FF",
          "symbol": "circle"
         },
         "mode": "markers",
         "name": "Comoros",
         "orientation": "v",
         "showlegend": true,
         "x": [
          69.1
         ],
         "xaxis": "x",
         "y": [
          2480
         ],
         "yaxis": "y",
         "type": "scatter"
        },
        {
         "hovertemplate": "Country=Madagascar<br>Life expectancy=%{x}<br>GDP Per Capita=%{y}<extra></extra>",
         "legendgroup": "Madagascar",
         "marker": {
          "color": "#FECB52",
          "symbol": "circle"
         },
         "mode": "markers",
         "name": "Madagascar",
         "orientation": "v",
         "showlegend": true,
         "x": [
          64.2
         ],
         "xaxis": "x",
         "y": [
          1490
         ],
         "yaxis": "y",
         "type": "scatter"
        },
        {
         "hovertemplate": "Country=Lesotho<br>Life expectancy=%{x}<br>GDP Per Capita=%{y}<extra></extra>",
         "legendgroup": "Lesotho",
         "marker": {
          "color": "#636efa",
          "symbol": "circle"
         },
         "mode": "markers",
         "name": "Lesotho",
         "orientation": "v",
         "showlegend": true,
         "x": [
          56.1
         ],
         "xaxis": "x",
         "y": [
          2920
         ],
         "yaxis": "y",
         "type": "scatter"
        },
        {
         "hovertemplate": "Country=Burundi<br>Life expectancy=%{x}<br>GDP Per Capita=%{y}<extra></extra>",
         "legendgroup": "Burundi",
         "marker": {
          "color": "#EF553B",
          "symbol": "circle"
         },
         "mode": "markers",
         "name": "Burundi",
         "orientation": "v",
         "showlegend": true,
         "x": [
          62.3
         ],
         "xaxis": "x",
         "y": [
          644
         ],
         "yaxis": "y",
         "type": "scatter"
        },
        {
         "hovertemplate": "Country=Zimbabwe<br>Life expectancy=%{x}<br>GDP Per Capita=%{y}<extra></extra>",
         "legendgroup": "Zimbabwe",
         "marker": {
          "color": "#00cc96",
          "symbol": "circle"
         },
         "mode": "markers",
         "name": "Zimbabwe",
         "orientation": "v",
         "showlegend": true,
         "x": [
          62.0
         ],
         "xaxis": "x",
         "y": [
          2390
         ],
         "yaxis": "y",
         "type": "scatter"
        },
        {
         "hovertemplate": "Country=Haiti<br>Life expectancy=%{x}<br>GDP Per Capita=%{y}<extra></extra>",
         "legendgroup": "Haiti",
         "marker": {
          "color": "#ab63fa",
          "symbol": "circle"
         },
         "mode": "markers",
         "name": "Haiti",
         "orientation": "v",
         "showlegend": true,
         "x": [
          65.7
         ],
         "xaxis": "x",
         "y": [
          1640
         ],
         "yaxis": "y",
         "type": "scatter"
        },
        {
         "hovertemplate": "Country=Botswana<br>Life expectancy=%{x}<br>GDP Per Capita=%{y}<extra></extra>",
         "legendgroup": "Botswana",
         "marker": {
          "color": "#FFA15A",
          "symbol": "circle"
         },
         "mode": "markers",
         "name": "Botswana",
         "orientation": "v",
         "showlegend": true,
         "x": [
          69.8
         ],
         "xaxis": "x",
         "y": [
          16800
         ],
         "yaxis": "y",
         "type": "scatter"
        },
        {
         "hovertemplate": "Country=Syria<br>Life expectancy=%{x}<br>GDP Per Capita=%{y}<extra></extra>",
         "legendgroup": "Syria",
         "marker": {
          "color": "#19d3f3",
          "symbol": "circle"
         },
         "mode": "markers",
         "name": "Syria",
         "orientation": "v",
         "showlegend": true,
         "x": [
          71.5
         ],
         "xaxis": "x",
         "y": [
          2900
         ],
         "yaxis": "y",
         "type": "scatter"
        },
        {
         "hovertemplate": "Country=Malawi<br>Life expectancy=%{x}<br>GDP Per Capita=%{y}<extra></extra>",
         "legendgroup": "Malawi",
         "marker": {
          "color": "#FF6692",
          "symbol": "circle"
         },
         "mode": "markers",
         "name": "Malawi",
         "orientation": "v",
         "showlegend": true,
         "x": [
          64.2
         ],
         "xaxis": "x",
         "y": [
          1180
         ],
         "yaxis": "y",
         "type": "scatter"
        },
        {
         "hovertemplate": "Country=Yemen<br>Life expectancy=%{x}<br>GDP Per Capita=%{y}<extra></extra>",
         "legendgroup": "Yemen",
         "marker": {
          "color": "#B6E880",
          "symbol": "circle"
         },
         "mode": "markers",
         "name": "Yemen",
         "orientation": "v",
         "showlegend": true,
         "x": [
          68.1
         ],
         "xaxis": "x",
         "y": [
          2340
         ],
         "yaxis": "y",
         "type": "scatter"
        },
        {
         "hovertemplate": "Country=Rwanda<br>Life expectancy=%{x}<br>GDP Per Capita=%{y}<extra></extra>",
         "legendgroup": "Rwanda",
         "marker": {
          "color": "#FF97FF",
          "symbol": "circle"
         },
         "mode": "markers",
         "name": "Rwanda",
         "orientation": "v",
         "showlegend": true,
         "x": [
          69.1
         ],
         "xaxis": "x",
         "y": [
          2110
         ],
         "yaxis": "y",
         "type": "scatter"
        },
        {
         "hovertemplate": "Country=Tanzania<br>Life expectancy=%{x}<br>GDP Per Capita=%{y}<extra></extra>",
         "legendgroup": "Tanzania",
         "marker": {
          "color": "#FECB52",
          "symbol": "circle"
         },
         "mode": "markers",
         "name": "Tanzania",
         "orientation": "v",
         "showlegend": true,
         "x": [
          67.7
         ],
         "xaxis": "x",
         "y": [
          2980
         ],
         "yaxis": "y",
         "type": "scatter"
        },
        {
         "hovertemplate": "Country=Afghanistan<br>Life expectancy=%{x}<br>GDP Per Capita=%{y}<extra></extra>",
         "legendgroup": "Afghanistan",
         "marker": {
          "color": "#636efa",
          "symbol": "circle"
         },
         "mode": "markers",
         "name": "Afghanistan",
         "orientation": "v",
         "showlegend": true,
         "x": [
          64.1
         ],
         "xaxis": "x",
         "y": [
          1760
         ],
         "yaxis": "y",
         "type": "scatter"
        },
        {
         "hovertemplate": "Country=Central African Republic<br>Life expectancy=%{x}<br>GDP Per Capita=%{y}<extra></extra>",
         "legendgroup": "Central African Republic",
         "marker": {
          "color": "#EF553B",
          "symbol": "circle"
         },
         "mode": "markers",
         "name": "Central African Republic",
         "orientation": "v",
         "showlegend": true,
         "x": [
          52.9
         ],
         "xaxis": "x",
         "y": [
          794
         ],
         "yaxis": "y",
         "type": "scatter"
        },
        {
         "hovertemplate": "Country=South Sudan<br>Life expectancy=%{x}<br>GDP Per Capita=%{y}<extra></extra>",
         "legendgroup": "South Sudan",
         "marker": {
          "color": "#00cc96",
          "symbol": "circle"
         },
         "mode": "markers",
         "name": "South Sudan",
         "orientation": "v",
         "showlegend": true,
         "x": [
          59.7
         ],
         "xaxis": "x",
         "y": [
          1860
         ],
         "yaxis": "y",
         "type": "scatter"
        }
       ],
       "layout": {
        "template": {
         "data": {
          "histogram2dcontour": [
           {
            "type": "histogram2dcontour",
            "colorbar": {
             "outlinewidth": 0,
             "ticks": ""
            },
            "colorscale": [
             [
              0.0,
              "#0d0887"
             ],
             [
              0.1111111111111111,
              "#46039f"
             ],
             [
              0.2222222222222222,
              "#7201a8"
             ],
             [
              0.3333333333333333,
              "#9c179e"
             ],
             [
              0.4444444444444444,
              "#bd3786"
             ],
             [
              0.5555555555555556,
              "#d8576b"
             ],
             [
              0.6666666666666666,
              "#ed7953"
             ],
             [
              0.7777777777777778,
              "#fb9f3a"
             ],
             [
              0.8888888888888888,
              "#fdca26"
             ],
             [
              1.0,
              "#f0f921"
             ]
            ]
           }
          ],
          "choropleth": [
           {
            "type": "choropleth",
            "colorbar": {
             "outlinewidth": 0,
             "ticks": ""
            }
           }
          ],
          "histogram2d": [
           {
            "type": "histogram2d",
            "colorbar": {
             "outlinewidth": 0,
             "ticks": ""
            },
            "colorscale": [
             [
              0.0,
              "#0d0887"
             ],
             [
              0.1111111111111111,
              "#46039f"
             ],
             [
              0.2222222222222222,
              "#7201a8"
             ],
             [
              0.3333333333333333,
              "#9c179e"
             ],
             [
              0.4444444444444444,
              "#bd3786"
             ],
             [
              0.5555555555555556,
              "#d8576b"
             ],
             [
              0.6666666666666666,
              "#ed7953"
             ],
             [
              0.7777777777777778,
              "#fb9f3a"
             ],
             [
              0.8888888888888888,
              "#fdca26"
             ],
             [
              1.0,
              "#f0f921"
             ]
            ]
           }
          ],
          "heatmap": [
           {
            "type": "heatmap",
            "colorbar": {
             "outlinewidth": 0,
             "ticks": ""
            },
            "colorscale": [
             [
              0.0,
              "#0d0887"
             ],
             [
              0.1111111111111111,
              "#46039f"
             ],
             [
              0.2222222222222222,
              "#7201a8"
             ],
             [
              0.3333333333333333,
              "#9c179e"
             ],
             [
              0.4444444444444444,
              "#bd3786"
             ],
             [
              0.5555555555555556,
              "#d8576b"
             ],
             [
              0.6666666666666666,
              "#ed7953"
             ],
             [
              0.7777777777777778,
              "#fb9f3a"
             ],
             [
              0.8888888888888888,
              "#fdca26"
             ],
             [
              1.0,
              "#f0f921"
             ]
            ]
           }
          ],
          "heatmapgl": [
           {
            "type": "heatmapgl",
            "colorbar": {
             "outlinewidth": 0,
             "ticks": ""
            },
            "colorscale": [
             [
              0.0,
              "#0d0887"
             ],
             [
              0.1111111111111111,
              "#46039f"
             ],
             [
              0.2222222222222222,
              "#7201a8"
             ],
             [
              0.3333333333333333,
              "#9c179e"
             ],
             [
              0.4444444444444444,
              "#bd3786"
             ],
             [
              0.5555555555555556,
              "#d8576b"
             ],
             [
              0.6666666666666666,
              "#ed7953"
             ],
             [
              0.7777777777777778,
              "#fb9f3a"
             ],
             [
              0.8888888888888888,
              "#fdca26"
             ],
             [
              1.0,
              "#f0f921"
             ]
            ]
           }
          ],
          "contourcarpet": [
           {
            "type": "contourcarpet",
            "colorbar": {
             "outlinewidth": 0,
             "ticks": ""
            }
           }
          ],
          "contour": [
           {
            "type": "contour",
            "colorbar": {
             "outlinewidth": 0,
             "ticks": ""
            },
            "colorscale": [
             [
              0.0,
              "#0d0887"
             ],
             [
              0.1111111111111111,
              "#46039f"
             ],
             [
              0.2222222222222222,
              "#7201a8"
             ],
             [
              0.3333333333333333,
              "#9c179e"
             ],
             [
              0.4444444444444444,
              "#bd3786"
             ],
             [
              0.5555555555555556,
              "#d8576b"
             ],
             [
              0.6666666666666666,
              "#ed7953"
             ],
             [
              0.7777777777777778,
              "#fb9f3a"
             ],
             [
              0.8888888888888888,
              "#fdca26"
             ],
             [
              1.0,
              "#f0f921"
             ]
            ]
           }
          ],
          "surface": [
           {
            "type": "surface",
            "colorbar": {
             "outlinewidth": 0,
             "ticks": ""
            },
            "colorscale": [
             [
              0.0,
              "#0d0887"
             ],
             [
              0.1111111111111111,
              "#46039f"
             ],
             [
              0.2222222222222222,
              "#7201a8"
             ],
             [
              0.3333333333333333,
              "#9c179e"
             ],
             [
              0.4444444444444444,
              "#bd3786"
             ],
             [
              0.5555555555555556,
              "#d8576b"
             ],
             [
              0.6666666666666666,
              "#ed7953"
             ],
             [
              0.7777777777777778,
              "#fb9f3a"
             ],
             [
              0.8888888888888888,
              "#fdca26"
             ],
             [
              1.0,
              "#f0f921"
             ]
            ]
           }
          ],
          "mesh3d": [
           {
            "type": "mesh3d",
            "colorbar": {
             "outlinewidth": 0,
             "ticks": ""
            }
           }
          ],
          "scatter": [
           {
            "fillpattern": {
             "fillmode": "overlay",
             "size": 10,
             "solidity": 0.2
            },
            "type": "scatter"
           }
          ],
          "parcoords": [
           {
            "type": "parcoords",
            "line": {
             "colorbar": {
              "outlinewidth": 0,
              "ticks": ""
             }
            }
           }
          ],
          "scatterpolargl": [
           {
            "type": "scatterpolargl",
            "marker": {
             "colorbar": {
              "outlinewidth": 0,
              "ticks": ""
             }
            }
           }
          ],
          "bar": [
           {
            "error_x": {
             "color": "#2a3f5f"
            },
            "error_y": {
             "color": "#2a3f5f"
            },
            "marker": {
             "line": {
              "color": "#E5ECF6",
              "width": 0.5
             },
             "pattern": {
              "fillmode": "overlay",
              "size": 10,
              "solidity": 0.2
             }
            },
            "type": "bar"
           }
          ],
          "scattergeo": [
           {
            "type": "scattergeo",
            "marker": {
             "colorbar": {
              "outlinewidth": 0,
              "ticks": ""
             }
            }
           }
          ],
          "scatterpolar": [
           {
            "type": "scatterpolar",
            "marker": {
             "colorbar": {
              "outlinewidth": 0,
              "ticks": ""
             }
            }
           }
          ],
          "histogram": [
           {
            "marker": {
             "pattern": {
              "fillmode": "overlay",
              "size": 10,
              "solidity": 0.2
             }
            },
            "type": "histogram"
           }
          ],
          "scattergl": [
           {
            "type": "scattergl",
            "marker": {
             "colorbar": {
              "outlinewidth": 0,
              "ticks": ""
             }
            }
           }
          ],
          "scatter3d": [
           {
            "type": "scatter3d",
            "line": {
             "colorbar": {
              "outlinewidth": 0,
              "ticks": ""
             }
            },
            "marker": {
             "colorbar": {
              "outlinewidth": 0,
              "ticks": ""
             }
            }
           }
          ],
          "scattermapbox": [
           {
            "type": "scattermapbox",
            "marker": {
             "colorbar": {
              "outlinewidth": 0,
              "ticks": ""
             }
            }
           }
          ],
          "scatterternary": [
           {
            "type": "scatterternary",
            "marker": {
             "colorbar": {
              "outlinewidth": 0,
              "ticks": ""
             }
            }
           }
          ],
          "scattercarpet": [
           {
            "type": "scattercarpet",
            "marker": {
             "colorbar": {
              "outlinewidth": 0,
              "ticks": ""
             }
            }
           }
          ],
          "carpet": [
           {
            "aaxis": {
             "endlinecolor": "#2a3f5f",
             "gridcolor": "white",
             "linecolor": "white",
             "minorgridcolor": "white",
             "startlinecolor": "#2a3f5f"
            },
            "baxis": {
             "endlinecolor": "#2a3f5f",
             "gridcolor": "white",
             "linecolor": "white",
             "minorgridcolor": "white",
             "startlinecolor": "#2a3f5f"
            },
            "type": "carpet"
           }
          ],
          "table": [
           {
            "cells": {
             "fill": {
              "color": "#EBF0F8"
             },
             "line": {
              "color": "white"
             }
            },
            "header": {
             "fill": {
              "color": "#C8D4E3"
             },
             "line": {
              "color": "white"
             }
            },
            "type": "table"
           }
          ],
          "barpolar": [
           {
            "marker": {
             "line": {
              "color": "#E5ECF6",
              "width": 0.5
             },
             "pattern": {
              "fillmode": "overlay",
              "size": 10,
              "solidity": 0.2
             }
            },
            "type": "barpolar"
           }
          ],
          "pie": [
           {
            "automargin": true,
            "type": "pie"
           }
          ]
         },
         "layout": {
          "autotypenumbers": "strict",
          "colorway": [
           "#636efa",
           "#EF553B",
           "#00cc96",
           "#ab63fa",
           "#FFA15A",
           "#19d3f3",
           "#FF6692",
           "#B6E880",
           "#FF97FF",
           "#FECB52"
          ],
          "font": {
           "color": "#2a3f5f"
          },
          "hovermode": "closest",
          "hoverlabel": {
           "align": "left"
          },
          "paper_bgcolor": "white",
          "plot_bgcolor": "#E5ECF6",
          "polar": {
           "bgcolor": "#E5ECF6",
           "angularaxis": {
            "gridcolor": "white",
            "linecolor": "white",
            "ticks": ""
           },
           "radialaxis": {
            "gridcolor": "white",
            "linecolor": "white",
            "ticks": ""
           }
          },
          "ternary": {
           "bgcolor": "#E5ECF6",
           "aaxis": {
            "gridcolor": "white",
            "linecolor": "white",
            "ticks": ""
           },
           "baxis": {
            "gridcolor": "white",
            "linecolor": "white",
            "ticks": ""
           },
           "caxis": {
            "gridcolor": "white",
            "linecolor": "white",
            "ticks": ""
           }
          },
          "coloraxis": {
           "colorbar": {
            "outlinewidth": 0,
            "ticks": ""
           }
          },
          "colorscale": {
           "sequential": [
            [
             0.0,
             "#0d0887"
            ],
            [
             0.1111111111111111,
             "#46039f"
            ],
            [
             0.2222222222222222,
             "#7201a8"
            ],
            [
             0.3333333333333333,
             "#9c179e"
            ],
            [
             0.4444444444444444,
             "#bd3786"
            ],
            [
             0.5555555555555556,
             "#d8576b"
            ],
            [
             0.6666666666666666,
             "#ed7953"
            ],
            [
             0.7777777777777778,
             "#fb9f3a"
            ],
            [
             0.8888888888888888,
             "#fdca26"
            ],
            [
             1.0,
             "#f0f921"
            ]
           ],
           "sequentialminus": [
            [
             0.0,
             "#0d0887"
            ],
            [
             0.1111111111111111,
             "#46039f"
            ],
            [
             0.2222222222222222,
             "#7201a8"
            ],
            [
             0.3333333333333333,
             "#9c179e"
            ],
            [
             0.4444444444444444,
             "#bd3786"
            ],
            [
             0.5555555555555556,
             "#d8576b"
            ],
            [
             0.6666666666666666,
             "#ed7953"
            ],
            [
             0.7777777777777778,
             "#fb9f3a"
            ],
            [
             0.8888888888888888,
             "#fdca26"
            ],
            [
             1.0,
             "#f0f921"
            ]
           ],
           "diverging": [
            [
             0,
             "#8e0152"
            ],
            [
             0.1,
             "#c51b7d"
            ],
            [
             0.2,
             "#de77ae"
            ],
            [
             0.3,
             "#f1b6da"
            ],
            [
             0.4,
             "#fde0ef"
            ],
            [
             0.5,
             "#f7f7f7"
            ],
            [
             0.6,
             "#e6f5d0"
            ],
            [
             0.7,
             "#b8e186"
            ],
            [
             0.8,
             "#7fbc41"
            ],
            [
             0.9,
             "#4d9221"
            ],
            [
             1,
             "#276419"
            ]
           ]
          },
          "xaxis": {
           "gridcolor": "white",
           "linecolor": "white",
           "ticks": "",
           "title": {
            "standoff": 15
           },
           "zerolinecolor": "white",
           "automargin": true,
           "zerolinewidth": 2
          },
          "yaxis": {
           "gridcolor": "white",
           "linecolor": "white",
           "ticks": "",
           "title": {
            "standoff": 15
           },
           "zerolinecolor": "white",
           "automargin": true,
           "zerolinewidth": 2
          },
          "scene": {
           "xaxis": {
            "backgroundcolor": "#E5ECF6",
            "gridcolor": "white",
            "linecolor": "white",
            "showbackground": true,
            "ticks": "",
            "zerolinecolor": "white",
            "gridwidth": 2
           },
           "yaxis": {
            "backgroundcolor": "#E5ECF6",
            "gridcolor": "white",
            "linecolor": "white",
            "showbackground": true,
            "ticks": "",
            "zerolinecolor": "white",
            "gridwidth": 2
           },
           "zaxis": {
            "backgroundcolor": "#E5ECF6",
            "gridcolor": "white",
            "linecolor": "white",
            "showbackground": true,
            "ticks": "",
            "zerolinecolor": "white",
            "gridwidth": 2
           }
          },
          "shapedefaults": {
           "line": {
            "color": "#2a3f5f"
           }
          },
          "annotationdefaults": {
           "arrowcolor": "#2a3f5f",
           "arrowhead": 0,
           "arrowwidth": 1
          },
          "geo": {
           "bgcolor": "white",
           "landcolor": "#E5ECF6",
           "subunitcolor": "white",
           "showland": true,
           "showlakes": true,
           "lakecolor": "white"
          },
          "title": {
           "x": 0.05
          },
          "mapbox": {
           "style": "light"
          }
         }
        },
        "xaxis": {
         "anchor": "y",
         "domain": [
          0.0,
          1.0
         ],
         "title": {
          "text": "Life expectancy"
         }
        },
        "yaxis": {
         "anchor": "x",
         "domain": [
          0.0,
          1.0
         ],
         "title": {
          "text": "GDP Per Capita"
         }
        },
        "legend": {
         "title": {
          "text": "Country"
         },
         "tracegroupgap": 0,
         "x": 0.2,
         "y": 0.95,
         "bgcolor": "rgb(60, 240, 201)",
         "borderwidth": 5
        },
        "margin": {
         "t": 60
        },
        "showlegend": true
       },
       "config": {
        "plotlyServerURL": "https://plot.ly"
       }
      },
      "text/html": [
       "<div>                            <div id=\"f881acd4-6c18-4cb1-ae63-60dd66ab1199\" class=\"plotly-graph-div\" style=\"height:525px; width:100%;\"></div>            <script type=\"text/javascript\">                require([\"plotly\"], function(Plotly) {                    window.PLOTLYENV=window.PLOTLYENV || {};                                    if (document.getElementById(\"f881acd4-6c18-4cb1-ae63-60dd66ab1199\")) {                    Plotly.newPlot(                        \"f881acd4-6c18-4cb1-ae63-60dd66ab1199\",                        [{\"hovertemplate\":\"Country=Finland\\u003cbr\\u003eLife expectancy=%{x}\\u003cbr\\u003eGDP Per Capita=%{y}\\u003cextra\\u003e\\u003c\\u002fextra\\u003e\",\"legendgroup\":\"Finland\",\"marker\":{\"color\":\"#636efa\",\"symbol\":\"circle\"},\"mode\":\"markers\",\"name\":\"Finland\",\"orientation\":\"v\",\"showlegend\":true,\"x\":[81.8],\"xaxis\":\"x\",\"y\":[42400],\"yaxis\":\"y\",\"type\":\"scatter\"},{\"hovertemplate\":\"Country=Denmark\\u003cbr\\u003eLife expectancy=%{x}\\u003cbr\\u003eGDP Per Capita=%{y}\\u003cextra\\u003e\\u003c\\u002fextra\\u003e\",\"legendgroup\":\"Denmark\",\"marker\":{\"color\":\"#EF553B\",\"symbol\":\"circle\"},\"mode\":\"markers\",\"name\":\"Denmark\",\"orientation\":\"v\",\"showlegend\":true,\"x\":[81.0],\"xaxis\":\"x\",\"y\":[48300],\"yaxis\":\"y\",\"type\":\"scatter\"},{\"hovertemplate\":\"Country=Norway\\u003cbr\\u003eLife expectancy=%{x}\\u003cbr\\u003eGDP Per Capita=%{y}\\u003cextra\\u003e\\u003c\\u002fextra\\u003e\",\"legendgroup\":\"Norway\",\"marker\":{\"color\":\"#00cc96\",\"symbol\":\"circle\"},\"mode\":\"markers\",\"name\":\"Norway\",\"orientation\":\"v\",\"showlegend\":true,\"x\":[82.6],\"xaxis\":\"x\",\"y\":[66300],\"yaxis\":\"y\",\"type\":\"scatter\"},{\"hovertemplate\":\"Country=Iceland\\u003cbr\\u003eLife expectancy=%{x}\\u003cbr\\u003eGDP Per Capita=%{y}\\u003cextra\\u003e\\u003c\\u002fextra\\u003e\",\"legendgroup\":\"Iceland\",\"marker\":{\"color\":\"#ab63fa\",\"symbol\":\"circle\"},\"mode\":\"markers\",\"name\":\"Iceland\",\"orientation\":\"v\",\"showlegend\":true,\"x\":[83.0],\"xaxis\":\"x\",\"y\":[47900],\"yaxis\":\"y\",\"type\":\"scatter\"},{\"hovertemplate\":\"Country=Netherlands\\u003cbr\\u003eLife expectancy=%{x}\\u003cbr\\u003eGDP Per Capita=%{y}\\u003cextra\\u003e\\u003c\\u002fextra\\u003e\",\"legendgroup\":\"Netherlands\",\"marker\":{\"color\":\"#FFA15A\",\"symbol\":\"circle\"},\"mode\":\"markers\",\"name\":\"Netherlands\",\"orientation\":\"v\",\"showlegend\":true,\"x\":[81.8],\"xaxis\":\"x\",\"y\":[50500],\"yaxis\":\"y\",\"type\":\"scatter\"},{\"hovertemplate\":\"Country=Switzerland\\u003cbr\\u003eLife expectancy=%{x}\\u003cbr\\u003eGDP Per Capita=%{y}\\u003cextra\\u003e\\u003c\\u002fextra\\u003e\",\"legendgroup\":\"Switzerland\",\"marker\":{\"color\":\"#19d3f3\",\"symbol\":\"circle\"},\"mode\":\"markers\",\"name\":\"Switzerland\",\"orientation\":\"v\",\"showlegend\":true,\"x\":[84.3],\"xaxis\":\"x\",\"y\":[59000],\"yaxis\":\"y\",\"type\":\"scatter\"},{\"hovertemplate\":\"Country=Sweden\\u003cbr\\u003eLife expectancy=%{x}\\u003cbr\\u003eGDP Per Capita=%{y}\\u003cextra\\u003e\\u003c\\u002fextra\\u003e\",\"legendgroup\":\"Sweden\",\"marker\":{\"color\":\"#FF6692\",\"symbol\":\"circle\"},\"mode\":\"markers\",\"name\":\"Sweden\",\"orientation\":\"v\",\"showlegend\":true,\"x\":[82.8],\"xaxis\":\"x\",\"y\":[47200],\"yaxis\":\"y\",\"type\":\"scatter\"},{\"hovertemplate\":\"Country=New Zealand\\u003cbr\\u003eLife expectancy=%{x}\\u003cbr\\u003eGDP Per Capita=%{y}\\u003cextra\\u003e\\u003c\\u002fextra\\u003e\",\"legendgroup\":\"New Zealand\",\"marker\":{\"color\":\"#B6E880\",\"symbol\":\"circle\"},\"mode\":\"markers\",\"name\":\"New Zealand\",\"orientation\":\"v\",\"showlegend\":true,\"x\":[81.9],\"xaxis\":\"x\",\"y\":[36500],\"yaxis\":\"y\",\"type\":\"scatter\"},{\"hovertemplate\":\"Country=Canada\\u003cbr\\u003eLife expectancy=%{x}\\u003cbr\\u003eGDP Per Capita=%{y}\\u003cextra\\u003e\\u003c\\u002fextra\\u003e\",\"legendgroup\":\"Canada\",\"marker\":{\"color\":\"#FF97FF\",\"symbol\":\"circle\"},\"mode\":\"markers\",\"name\":\"Canada\",\"orientation\":\"v\",\"showlegend\":true,\"x\":[82.2],\"xaxis\":\"x\",\"y\":[44200],\"yaxis\":\"y\",\"type\":\"scatter\"},{\"hovertemplate\":\"Country=Austria\\u003cbr\\u003eLife expectancy=%{x}\\u003cbr\\u003eGDP Per Capita=%{y}\\u003cextra\\u003e\\u003c\\u002fextra\\u003e\",\"legendgroup\":\"Austria\",\"marker\":{\"color\":\"#FECB52\",\"symbol\":\"circle\"},\"mode\":\"markers\",\"name\":\"Austria\",\"orientation\":\"v\",\"showlegend\":true,\"x\":[82.0],\"xaxis\":\"x\",\"y\":[46900],\"yaxis\":\"y\",\"type\":\"scatter\"},{\"hovertemplate\":\"Country=Australia\\u003cbr\\u003eLife expectancy=%{x}\\u003cbr\\u003eGDP Per Capita=%{y}\\u003cextra\\u003e\\u003c\\u002fextra\\u003e\",\"legendgroup\":\"Australia\",\"marker\":{\"color\":\"#636efa\",\"symbol\":\"circle\"},\"mode\":\"markers\",\"name\":\"Australia\",\"orientation\":\"v\",\"showlegend\":true,\"x\":[82.7],\"xaxis\":\"x\",\"y\":[45500],\"yaxis\":\"y\",\"type\":\"scatter\"},{\"hovertemplate\":\"Country=Costa Rica\\u003cbr\\u003eLife expectancy=%{x}\\u003cbr\\u003eGDP Per Capita=%{y}\\u003cextra\\u003e\\u003c\\u002fextra\\u003e\",\"legendgroup\":\"Costa Rica\",\"marker\":{\"color\":\"#EF553B\",\"symbol\":\"circle\"},\"mode\":\"markers\",\"name\":\"Costa Rica\",\"orientation\":\"v\",\"showlegend\":true,\"x\":[79.8],\"xaxis\":\"x\",\"y\":[15800],\"yaxis\":\"y\",\"type\":\"scatter\"},{\"hovertemplate\":\"Country=Israel\\u003cbr\\u003eLife expectancy=%{x}\\u003cbr\\u003eGDP Per Capita=%{y}\\u003cextra\\u003e\\u003c\\u002fextra\\u003e\",\"legendgroup\":\"Israel\",\"marker\":{\"color\":\"#00cc96\",\"symbol\":\"circle\"},\"mode\":\"markers\",\"name\":\"Israel\",\"orientation\":\"v\",\"showlegend\":true,\"x\":[83.3],\"xaxis\":\"x\",\"y\":[34100],\"yaxis\":\"y\",\"type\":\"scatter\"},{\"hovertemplate\":\"Country=Luxembourg\\u003cbr\\u003eLife expectancy=%{x}\\u003cbr\\u003eGDP Per Capita=%{y}\\u003cextra\\u003e\\u003c\\u002fextra\\u003e\",\"legendgroup\":\"Luxembourg\",\"marker\":{\"color\":\"#ab63fa\",\"symbol\":\"circle\"},\"mode\":\"markers\",\"name\":\"Luxembourg\",\"orientation\":\"v\",\"showlegend\":true,\"x\":[82.0],\"xaxis\":\"x\",\"y\":[94300],\"yaxis\":\"y\",\"type\":\"scatter\"},{\"hovertemplate\":\"Country=United Kingdom\\u003cbr\\u003eLife expectancy=%{x}\\u003cbr\\u003eGDP Per Capita=%{y}\\u003cextra\\u003e\\u003c\\u002fextra\\u003e\",\"legendgroup\":\"United Kingdom\",\"marker\":{\"color\":\"#FFA15A\",\"symbol\":\"circle\"},\"mode\":\"markers\",\"name\":\"United Kingdom\",\"orientation\":\"v\",\"showlegend\":true,\"x\":[81.1],\"xaxis\":\"x\",\"y\":[40400],\"yaxis\":\"y\",\"type\":\"scatter\"},{\"hovertemplate\":\"Country=Ireland\\u003cbr\\u003eLife expectancy=%{x}\\u003cbr\\u003eGDP Per Capita=%{y}\\u003cextra\\u003e\\u003c\\u002fextra\\u003e\",\"legendgroup\":\"Ireland\",\"marker\":{\"color\":\"#19d3f3\",\"symbol\":\"circle\"},\"mode\":\"markers\",\"name\":\"Ireland\",\"orientation\":\"v\",\"showlegend\":true,\"x\":[82.3],\"xaxis\":\"x\",\"y\":[72400],\"yaxis\":\"y\",\"type\":\"scatter\"},{\"hovertemplate\":\"Country=Germany\\u003cbr\\u003eLife expectancy=%{x}\\u003cbr\\u003eGDP Per Capita=%{y}\\u003cextra\\u003e\\u003c\\u002fextra\\u003e\",\"legendgroup\":\"Germany\",\"marker\":{\"color\":\"#FF6692\",\"symbol\":\"circle\"},\"mode\":\"markers\",\"name\":\"Germany\",\"orientation\":\"v\",\"showlegend\":true,\"x\":[80.9],\"xaxis\":\"x\",\"y\":[46200],\"yaxis\":\"y\",\"type\":\"scatter\"},{\"hovertemplate\":\"Country=Belgium\\u003cbr\\u003eLife expectancy=%{x}\\u003cbr\\u003eGDP Per Capita=%{y}\\u003cextra\\u003e\\u003c\\u002fextra\\u003e\",\"legendgroup\":\"Belgium\",\"marker\":{\"color\":\"#B6E880\",\"symbol\":\"circle\"},\"mode\":\"markers\",\"name\":\"Belgium\",\"orientation\":\"v\",\"showlegend\":true,\"x\":[81.7],\"xaxis\":\"x\",\"y\":[43500],\"yaxis\":\"y\",\"type\":\"scatter\"},{\"hovertemplate\":\"Country=United States\\u003cbr\\u003eLife expectancy=%{x}\\u003cbr\\u003eGDP Per Capita=%{y}\\u003cextra\\u003e\\u003c\\u002fextra\\u003e\",\"legendgroup\":\"United States\",\"marker\":{\"color\":\"#FF97FF\",\"symbol\":\"circle\"},\"mode\":\"markers\",\"name\":\"United States\",\"orientation\":\"v\",\"showlegend\":true,\"x\":[78.6],\"xaxis\":\"x\",\"y\":[56700],\"yaxis\":\"y\",\"type\":\"scatter\"},{\"hovertemplate\":\"Country=Czech Republic\\u003cbr\\u003eLife expectancy=%{x}\\u003cbr\\u003eGDP Per Capita=%{y}\\u003cextra\\u003e\\u003c\\u002fextra\\u003e\",\"legendgroup\":\"Czech Republic\",\"marker\":{\"color\":\"#FECB52\",\"symbol\":\"circle\"},\"mode\":\"markers\",\"name\":\"Czech Republic\",\"orientation\":\"v\",\"showlegend\":true,\"x\":[79.5],\"xaxis\":\"x\",\"y\":[34100],\"yaxis\":\"y\",\"type\":\"scatter\"},{\"hovertemplate\":\"Country=United Arab Emirates\\u003cbr\\u003eLife expectancy=%{x}\\u003cbr\\u003eGDP Per Capita=%{y}\\u003cextra\\u003e\\u003c\\u002fextra\\u003e\",\"legendgroup\":\"United Arab Emirates\",\"marker\":{\"color\":\"#636efa\",\"symbol\":\"circle\"},\"mode\":\"markers\",\"name\":\"United Arab Emirates\",\"orientation\":\"v\",\"showlegend\":true,\"x\":[73.6],\"xaxis\":\"x\",\"y\":[65700],\"yaxis\":\"y\",\"type\":\"scatter\"},{\"hovertemplate\":\"Country=Malta\\u003cbr\\u003eLife expectancy=%{x}\\u003cbr\\u003eGDP Per Capita=%{y}\\u003cextra\\u003e\\u003c\\u002fextra\\u003e\",\"legendgroup\":\"Malta\",\"marker\":{\"color\":\"#EF553B\",\"symbol\":\"circle\"},\"mode\":\"markers\",\"name\":\"Malta\",\"orientation\":\"v\",\"showlegend\":true,\"x\":[81.3],\"xaxis\":\"x\",\"y\":[39300],\"yaxis\":\"y\",\"type\":\"scatter\"},{\"hovertemplate\":\"Country=Mexico\\u003cbr\\u003eLife expectancy=%{x}\\u003cbr\\u003eGDP Per Capita=%{y}\\u003cextra\\u003e\\u003c\\u002fextra\\u003e\",\"legendgroup\":\"Mexico\",\"marker\":{\"color\":\"#00cc96\",\"symbol\":\"circle\"},\"mode\":\"markers\",\"name\":\"Mexico\",\"orientation\":\"v\",\"showlegend\":true,\"x\":[75.6],\"xaxis\":\"x\",\"y\":[18000],\"yaxis\":\"y\",\"type\":\"scatter\"},{\"hovertemplate\":\"Country=France\\u003cbr\\u003eLife expectancy=%{x}\\u003cbr\\u003eGDP Per Capita=%{y}\\u003cextra\\u003e\\u003c\\u002fextra\\u003e\",\"legendgroup\":\"France\",\"marker\":{\"color\":\"#ab63fa\",\"symbol\":\"circle\"},\"mode\":\"markers\",\"name\":\"France\",\"orientation\":\"v\",\"showlegend\":true,\"x\":[83.1],\"xaxis\":\"x\",\"y\":[40000],\"yaxis\":\"y\",\"type\":\"scatter\"},{\"hovertemplate\":\"Country=Chile\\u003cbr\\u003eLife expectancy=%{x}\\u003cbr\\u003eGDP Per Capita=%{y}\\u003cextra\\u003e\\u003c\\u002fextra\\u003e\",\"legendgroup\":\"Chile\",\"marker\":{\"color\":\"#FFA15A\",\"symbol\":\"circle\"},\"mode\":\"markers\",\"name\":\"Chile\",\"orientation\":\"v\",\"showlegend\":true,\"x\":[80.0],\"xaxis\":\"x\",\"y\":[23000],\"yaxis\":\"y\",\"type\":\"scatter\"},{\"hovertemplate\":\"Country=Guatemala\\u003cbr\\u003eLife expectancy=%{x}\\u003cbr\\u003eGDP Per Capita=%{y}\\u003cextra\\u003e\\u003c\\u002fextra\\u003e\",\"legendgroup\":\"Guatemala\",\"marker\":{\"color\":\"#19d3f3\",\"symbol\":\"circle\"},\"mode\":\"markers\",\"name\":\"Guatemala\",\"orientation\":\"v\",\"showlegend\":true,\"x\":[73.1],\"xaxis\":\"x\",\"y\":[7610],\"yaxis\":\"y\",\"type\":\"scatter\"},{\"hovertemplate\":\"Country=Saudi Arabia\\u003cbr\\u003eLife expectancy=%{x}\\u003cbr\\u003eGDP Per Capita=%{y}\\u003cextra\\u003e\\u003c\\u002fextra\\u003e\",\"legendgroup\":\"Saudi Arabia\",\"marker\":{\"color\":\"#FF6692\",\"symbol\":\"circle\"},\"mode\":\"markers\",\"name\":\"Saudi Arabia\",\"orientation\":\"v\",\"showlegend\":true,\"x\":[77.1],\"xaxis\":\"x\",\"y\":[48100],\"yaxis\":\"y\",\"type\":\"scatter\"},{\"hovertemplate\":\"Country=Qatar\\u003cbr\\u003eLife expectancy=%{x}\\u003cbr\\u003eGDP Per Capita=%{y}\\u003cextra\\u003e\\u003c\\u002fextra\\u003e\",\"legendgroup\":\"Qatar\",\"marker\":{\"color\":\"#B6E880\",\"symbol\":\"circle\"},\"mode\":\"markers\",\"name\":\"Qatar\",\"orientation\":\"v\",\"showlegend\":true,\"x\":[80.5],\"xaxis\":\"x\",\"y\":[113000],\"yaxis\":\"y\",\"type\":\"scatter\"},{\"hovertemplate\":\"Country=Spain\\u003cbr\\u003eLife expectancy=%{x}\\u003cbr\\u003eGDP Per Capita=%{y}\\u003cextra\\u003e\\u003c\\u002fextra\\u003e\",\"legendgroup\":\"Spain\",\"marker\":{\"color\":\"#FF97FF\",\"symbol\":\"circle\"},\"mode\":\"markers\",\"name\":\"Spain\",\"orientation\":\"v\",\"showlegend\":true,\"x\":[83.3],\"xaxis\":\"x\",\"y\":[35700],\"yaxis\":\"y\",\"type\":\"scatter\"},{\"hovertemplate\":\"Country=Panama\\u003cbr\\u003eLife expectancy=%{x}\\u003cbr\\u003eGDP Per Capita=%{y}\\u003cextra\\u003e\\u003c\\u002fextra\\u003e\",\"legendgroup\":\"Panama\",\"marker\":{\"color\":\"#FECB52\",\"symbol\":\"circle\"},\"mode\":\"markers\",\"name\":\"Panama\",\"orientation\":\"v\",\"showlegend\":true,\"x\":[79.7],\"xaxis\":\"x\",\"y\":[23300],\"yaxis\":\"y\",\"type\":\"scatter\"},{\"hovertemplate\":\"Country=Brazil\\u003cbr\\u003eLife expectancy=%{x}\\u003cbr\\u003eGDP Per Capita=%{y}\\u003cextra\\u003e\\u003c\\u002fextra\\u003e\",\"legendgroup\":\"Brazil\",\"marker\":{\"color\":\"#636efa\",\"symbol\":\"circle\"},\"mode\":\"markers\",\"name\":\"Brazil\",\"orientation\":\"v\",\"showlegend\":true,\"x\":[75.9],\"xaxis\":\"x\",\"y\":[14300],\"yaxis\":\"y\",\"type\":\"scatter\"},{\"hovertemplate\":\"Country=Uruguay\\u003cbr\\u003eLife expectancy=%{x}\\u003cbr\\u003eGDP Per Capita=%{y}\\u003cextra\\u003e\\u003c\\u002fextra\\u003e\",\"legendgroup\":\"Uruguay\",\"marker\":{\"color\":\"#EF553B\",\"symbol\":\"circle\"},\"mode\":\"markers\",\"name\":\"Uruguay\",\"orientation\":\"v\",\"showlegend\":true,\"x\":[77.3],\"xaxis\":\"x\",\"y\":[20900],\"yaxis\":\"y\",\"type\":\"scatter\"},{\"hovertemplate\":\"Country=Singapore\\u003cbr\\u003eLife expectancy=%{x}\\u003cbr\\u003eGDP Per Capita=%{y}\\u003cextra\\u003e\\u003c\\u002fextra\\u003e\",\"legendgroup\":\"Singapore\",\"marker\":{\"color\":\"#00cc96\",\"symbol\":\"circle\"},\"mode\":\"markers\",\"name\":\"Singapore\",\"orientation\":\"v\",\"showlegend\":true,\"x\":[85.1],\"xaxis\":\"x\",\"y\":[90100],\"yaxis\":\"y\",\"type\":\"scatter\"},{\"hovertemplate\":\"Country=El Salvador\\u003cbr\\u003eLife expectancy=%{x}\\u003cbr\\u003eGDP Per Capita=%{y}\\u003cextra\\u003e\\u003c\\u002fextra\\u003e\",\"legendgroup\":\"El Salvador\",\"marker\":{\"color\":\"#ab63fa\",\"symbol\":\"circle\"},\"mode\":\"markers\",\"name\":\"El Salvador\",\"orientation\":\"v\",\"showlegend\":true,\"x\":[74.5],\"xaxis\":\"x\",\"y\":[7510],\"yaxis\":\"y\",\"type\":\"scatter\"},{\"hovertemplate\":\"Country=Italy\\u003cbr\\u003eLife expectancy=%{x}\\u003cbr\\u003eGDP Per Capita=%{y}\\u003cextra\\u003e\\u003c\\u002fextra\\u003e\",\"legendgroup\":\"Italy\",\"marker\":{\"color\":\"#FFA15A\",\"symbol\":\"circle\"},\"mode\":\"markers\",\"name\":\"Italy\",\"orientation\":\"v\",\"showlegend\":true,\"x\":[83.5],\"xaxis\":\"x\",\"y\":[35800],\"yaxis\":\"y\",\"type\":\"scatter\"},{\"hovertemplate\":\"Country=Bahrain\\u003cbr\\u003eLife expectancy=%{x}\\u003cbr\\u003eGDP Per Capita=%{y}\\u003cextra\\u003e\\u003c\\u002fextra\\u003e\",\"legendgroup\":\"Bahrain\",\"marker\":{\"color\":\"#19d3f3\",\"symbol\":\"circle\"},\"mode\":\"markers\",\"name\":\"Bahrain\",\"orientation\":\"v\",\"showlegend\":true,\"x\":[79.8],\"xaxis\":\"x\",\"y\":[42000],\"yaxis\":\"y\",\"type\":\"scatter\"},{\"hovertemplate\":\"Country=Trinidad and Tobago\\u003cbr\\u003eLife expectancy=%{x}\\u003cbr\\u003eGDP Per Capita=%{y}\\u003cextra\\u003e\\u003c\\u002fextra\\u003e\",\"legendgroup\":\"Trinidad and Tobago\",\"marker\":{\"color\":\"#FF6692\",\"symbol\":\"circle\"},\"mode\":\"markers\",\"name\":\"Trinidad and Tobago\",\"orientation\":\"v\",\"showlegend\":true,\"x\":[74.5],\"xaxis\":\"x\",\"y\":[28500],\"yaxis\":\"y\",\"type\":\"scatter\"},{\"hovertemplate\":\"Country=Poland\\u003cbr\\u003eLife expectancy=%{x}\\u003cbr\\u003eGDP Per Capita=%{y}\\u003cextra\\u003e\\u003c\\u002fextra\\u003e\",\"legendgroup\":\"Poland\",\"marker\":{\"color\":\"#B6E880\",\"symbol\":\"circle\"},\"mode\":\"markers\",\"name\":\"Poland\",\"orientation\":\"v\",\"showlegend\":true,\"x\":[78.4],\"xaxis\":\"x\",\"y\":[29900],\"yaxis\":\"y\",\"type\":\"scatter\"},{\"hovertemplate\":\"Country=Uzbekistan\\u003cbr\\u003eLife expectancy=%{x}\\u003cbr\\u003eGDP Per Capita=%{y}\\u003cextra\\u003e\\u003c\\u002fextra\\u003e\",\"legendgroup\":\"Uzbekistan\",\"marker\":{\"color\":\"#FF97FF\",\"symbol\":\"circle\"},\"mode\":\"markers\",\"name\":\"Uzbekistan\",\"orientation\":\"v\",\"showlegend\":true,\"x\":[70.7],\"xaxis\":\"x\",\"y\":[6490],\"yaxis\":\"y\",\"type\":\"scatter\"},{\"hovertemplate\":\"Country=Lithuania\\u003cbr\\u003eLife expectancy=%{x}\\u003cbr\\u003eGDP Per Capita=%{y}\\u003cextra\\u003e\\u003c\\u002fextra\\u003e\",\"legendgroup\":\"Lithuania\",\"marker\":{\"color\":\"#FECB52\",\"symbol\":\"circle\"},\"mode\":\"markers\",\"name\":\"Lithuania\",\"orientation\":\"v\",\"showlegend\":true,\"x\":[75.4],\"xaxis\":\"x\",\"y\":[32400],\"yaxis\":\"y\",\"type\":\"scatter\"},{\"hovertemplate\":\"Country=Colombia\\u003cbr\\u003eLife expectancy=%{x}\\u003cbr\\u003eGDP Per Capita=%{y}\\u003cextra\\u003e\\u003c\\u002fextra\\u003e\",\"legendgroup\":\"Colombia\",\"marker\":{\"color\":\"#636efa\",\"symbol\":\"circle\"},\"mode\":\"markers\",\"name\":\"Colombia\",\"orientation\":\"v\",\"showlegend\":true,\"x\":[80.5],\"xaxis\":\"x\",\"y\":[13600],\"yaxis\":\"y\",\"type\":\"scatter\"},{\"hovertemplate\":\"Country=Slovenia\\u003cbr\\u003eLife expectancy=%{x}\\u003cbr\\u003eGDP Per Capita=%{y}\\u003cextra\\u003e\\u003c\\u002fextra\\u003e\",\"legendgroup\":\"Slovenia\",\"marker\":{\"color\":\"#EF553B\",\"symbol\":\"circle\"},\"mode\":\"markers\",\"name\":\"Slovenia\",\"orientation\":\"v\",\"showlegend\":true,\"x\":[81.4],\"xaxis\":\"x\",\"y\":[33700],\"yaxis\":\"y\",\"type\":\"scatter\"},{\"hovertemplate\":\"Country=Nicaragua\\u003cbr\\u003eLife expectancy=%{x}\\u003cbr\\u003eGDP Per Capita=%{y}\\u003cextra\\u003e\\u003c\\u002fextra\\u003e\",\"legendgroup\":\"Nicaragua\",\"marker\":{\"color\":\"#00cc96\",\"symbol\":\"circle\"},\"mode\":\"markers\",\"name\":\"Nicaragua\",\"orientation\":\"v\",\"showlegend\":true,\"x\":[79.2],\"xaxis\":\"x\",\"y\":[4620],\"yaxis\":\"y\",\"type\":\"scatter\"},{\"hovertemplate\":\"Country=Argentina\\u003cbr\\u003eLife expectancy=%{x}\\u003cbr\\u003eGDP Per Capita=%{y}\\u003cextra\\u003e\\u003c\\u002fextra\\u003e\",\"legendgroup\":\"Argentina\",\"marker\":{\"color\":\"#ab63fa\",\"symbol\":\"circle\"},\"mode\":\"markers\",\"name\":\"Argentina\",\"orientation\":\"v\",\"showlegend\":true,\"x\":[77.0],\"xaxis\":\"x\",\"y\":[17500],\"yaxis\":\"y\",\"type\":\"scatter\"},{\"hovertemplate\":\"Country=Romania\\u003cbr\\u003eLife expectancy=%{x}\\u003cbr\\u003eGDP Per Capita=%{y}\\u003cextra\\u003e\\u003c\\u002fextra\\u003e\",\"legendgroup\":\"Romania\",\"marker\":{\"color\":\"#FFA15A\",\"symbol\":\"circle\"},\"mode\":\"markers\",\"name\":\"Romania\",\"orientation\":\"v\",\"showlegend\":true,\"x\":[75.4],\"xaxis\":\"x\",\"y\":[25500],\"yaxis\":\"y\",\"type\":\"scatter\"},{\"hovertemplate\":\"Country=Cyprus\\u003cbr\\u003eLife expectancy=%{x}\\u003cbr\\u003eGDP Per Capita=%{y}\\u003cextra\\u003e\\u003c\\u002fextra\\u003e\",\"legendgroup\":\"Cyprus\",\"marker\":{\"color\":\"#19d3f3\",\"symbol\":\"circle\"},\"mode\":\"markers\",\"name\":\"Cyprus\",\"orientation\":\"v\",\"showlegend\":true,\"x\":[82.0],\"xaxis\":\"x\",\"y\":[34500],\"yaxis\":\"y\",\"type\":\"scatter\"},{\"hovertemplate\":\"Country=Ecuador\\u003cbr\\u003eLife expectancy=%{x}\\u003cbr\\u003eGDP Per Capita=%{y}\\u003cextra\\u003e\\u003c\\u002fextra\\u003e\",\"legendgroup\":\"Ecuador\",\"marker\":{\"color\":\"#FF6692\",\"symbol\":\"circle\"},\"mode\":\"markers\",\"name\":\"Ecuador\",\"orientation\":\"v\",\"showlegend\":true,\"x\":[77.2],\"xaxis\":\"x\",\"y\":[10200],\"yaxis\":\"y\",\"type\":\"scatter\"},{\"hovertemplate\":\"Country=Kuwait\\u003cbr\\u003eLife expectancy=%{x}\\u003cbr\\u003eGDP Per Capita=%{y}\\u003cextra\\u003e\\u003c\\u002fextra\\u003e\",\"legendgroup\":\"Kuwait\",\"marker\":{\"color\":\"#B6E880\",\"symbol\":\"circle\"},\"mode\":\"markers\",\"name\":\"Kuwait\",\"orientation\":\"v\",\"showlegend\":true,\"x\":[83.3],\"xaxis\":\"x\",\"y\":[64100],\"yaxis\":\"y\",\"type\":\"scatter\"},{\"hovertemplate\":\"Country=Thailand\\u003cbr\\u003eLife expectancy=%{x}\\u003cbr\\u003eGDP Per Capita=%{y}\\u003cextra\\u003e\\u003c\\u002fextra\\u003e\",\"legendgroup\":\"Thailand\",\"marker\":{\"color\":\"#FF97FF\",\"symbol\":\"circle\"},\"mode\":\"markers\",\"name\":\"Thailand\",\"orientation\":\"v\",\"showlegend\":true,\"x\":[78.6],\"xaxis\":\"x\",\"y\":[17400],\"yaxis\":\"y\",\"type\":\"scatter\"},{\"hovertemplate\":\"Country=Latvia\\u003cbr\\u003eLife expectancy=%{x}\\u003cbr\\u003eGDP Per Capita=%{y}\\u003cextra\\u003e\\u003c\\u002fextra\\u003e\",\"legendgroup\":\"Latvia\",\"marker\":{\"color\":\"#FECB52\",\"symbol\":\"circle\"},\"mode\":\"markers\",\"name\":\"Latvia\",\"orientation\":\"v\",\"showlegend\":true,\"x\":[75.4],\"xaxis\":\"x\",\"y\":[27300],\"yaxis\":\"y\",\"type\":\"scatter\"},{\"hovertemplate\":\"Country=South Korea\\u003cbr\\u003eLife expectancy=%{x}\\u003cbr\\u003eGDP Per Capita=%{y}\\u003cextra\\u003e\\u003c\\u002fextra\\u003e\",\"legendgroup\":\"South Korea\",\"marker\":{\"color\":\"#636efa\",\"symbol\":\"circle\"},\"mode\":\"markers\",\"name\":\"South Korea\",\"orientation\":\"v\",\"showlegend\":true,\"x\":[83.0],\"xaxis\":\"x\",\"y\":[37300],\"yaxis\":\"y\",\"type\":\"scatter\"},{\"hovertemplate\":\"Country=Estonia\\u003cbr\\u003eLife expectancy=%{x}\\u003cbr\\u003eGDP Per Capita=%{y}\\u003cextra\\u003e\\u003c\\u002fextra\\u003e\",\"legendgroup\":\"Estonia\",\"marker\":{\"color\":\"#EF553B\",\"symbol\":\"circle\"},\"mode\":\"markers\",\"name\":\"Estonia\",\"orientation\":\"v\",\"showlegend\":true,\"x\":[78.5],\"xaxis\":\"x\",\"y\":[32000],\"yaxis\":\"y\",\"type\":\"scatter\"},{\"hovertemplate\":\"Country=Jamaica\\u003cbr\\u003eLife expectancy=%{x}\\u003cbr\\u003eGDP Per Capita=%{y}\\u003cextra\\u003e\\u003c\\u002fextra\\u003e\",\"legendgroup\":\"Jamaica\",\"marker\":{\"color\":\"#00cc96\",\"symbol\":\"circle\"},\"mode\":\"markers\",\"name\":\"Jamaica\",\"orientation\":\"v\",\"showlegend\":true,\"x\":[74.9],\"xaxis\":\"x\",\"y\":[8310],\"yaxis\":\"y\",\"type\":\"scatter\"},{\"hovertemplate\":\"Country=Mauritius\\u003cbr\\u003eLife expectancy=%{x}\\u003cbr\\u003eGDP Per Capita=%{y}\\u003cextra\\u003e\\u003c\\u002fextra\\u003e\",\"legendgroup\":\"Mauritius\",\"marker\":{\"color\":\"#ab63fa\",\"symbol\":\"circle\"},\"mode\":\"markers\",\"name\":\"Mauritius\",\"orientation\":\"v\",\"showlegend\":true,\"x\":[75.0],\"xaxis\":\"x\",\"y\":[21800],\"yaxis\":\"y\",\"type\":\"scatter\"},{\"hovertemplate\":\"Country=Japan\\u003cbr\\u003eLife expectancy=%{x}\\u003cbr\\u003eGDP Per Capita=%{y}\\u003cextra\\u003e\\u003c\\u002fextra\\u003e\",\"legendgroup\":\"Japan\",\"marker\":{\"color\":\"#FFA15A\",\"symbol\":\"circle\"},\"mode\":\"markers\",\"name\":\"Japan\",\"orientation\":\"v\",\"showlegend\":true,\"x\":[84.5],\"xaxis\":\"x\",\"y\":[39700],\"yaxis\":\"y\",\"type\":\"scatter\"},{\"hovertemplate\":\"Country=Honduras\\u003cbr\\u003eLife expectancy=%{x}\\u003cbr\\u003eGDP Per Capita=%{y}\\u003cextra\\u003e\\u003c\\u002fextra\\u003e\",\"legendgroup\":\"Honduras\",\"marker\":{\"color\":\"#19d3f3\",\"symbol\":\"circle\"},\"mode\":\"markers\",\"name\":\"Honduras\",\"orientation\":\"v\",\"showlegend\":true,\"x\":[74.3],\"xaxis\":\"x\",\"y\":[4630],\"yaxis\":\"y\",\"type\":\"scatter\"},{\"hovertemplate\":\"Country=Kazakhstan\\u003cbr\\u003eLife expectancy=%{x}\\u003cbr\\u003eGDP Per Capita=%{y}\\u003cextra\\u003e\\u003c\\u002fextra\\u003e\",\"legendgroup\":\"Kazakhstan\",\"marker\":{\"color\":\"#FF6692\",\"symbol\":\"circle\"},\"mode\":\"markers\",\"name\":\"Kazakhstan\",\"orientation\":\"v\",\"showlegend\":true,\"x\":[72.8],\"xaxis\":\"x\",\"y\":[25400],\"yaxis\":\"y\",\"type\":\"scatter\"},{\"hovertemplate\":\"Country=Bolivia\\u003cbr\\u003eLife expectancy=%{x}\\u003cbr\\u003eGDP Per Capita=%{y}\\u003cextra\\u003e\\u003c\\u002fextra\\u003e\",\"legendgroup\":\"Bolivia\",\"marker\":{\"color\":\"#B6E880\",\"symbol\":\"circle\"},\"mode\":\"markers\",\"name\":\"Bolivia\",\"orientation\":\"v\",\"showlegend\":true,\"x\":[73.3],\"xaxis\":\"x\",\"y\":[7150],\"yaxis\":\"y\",\"type\":\"scatter\"},{\"hovertemplate\":\"Country=Hungary\\u003cbr\\u003eLife expectancy=%{x}\\u003cbr\\u003eGDP Per Capita=%{y}\\u003cextra\\u003e\\u003c\\u002fextra\\u003e\",\"legendgroup\":\"Hungary\",\"marker\":{\"color\":\"#FF97FF\",\"symbol\":\"circle\"},\"mode\":\"markers\",\"name\":\"Hungary\",\"orientation\":\"v\",\"showlegend\":true,\"x\":[77.2],\"xaxis\":\"x\",\"y\":[29600],\"yaxis\":\"y\",\"type\":\"scatter\"},{\"hovertemplate\":\"Country=Paraguay\\u003cbr\\u003eLife expectancy=%{x}\\u003cbr\\u003eGDP Per Capita=%{y}\\u003cextra\\u003e\\u003c\\u002fextra\\u003e\",\"legendgroup\":\"Paraguay\",\"marker\":{\"color\":\"#FECB52\",\"symbol\":\"circle\"},\"mode\":\"markers\",\"name\":\"Paraguay\",\"orientation\":\"v\",\"showlegend\":true,\"x\":[76.4],\"xaxis\":\"x\",\"y\":[12000],\"yaxis\":\"y\",\"type\":\"scatter\"},{\"hovertemplate\":\"Country=Peru\\u003cbr\\u003eLife expectancy=%{x}\\u003cbr\\u003eGDP Per Capita=%{y}\\u003cextra\\u003e\\u003c\\u002fextra\\u003e\",\"legendgroup\":\"Peru\",\"marker\":{\"color\":\"#636efa\",\"symbol\":\"circle\"},\"mode\":\"markers\",\"name\":\"Peru\",\"orientation\":\"v\",\"showlegend\":true,\"x\":[80.8],\"xaxis\":\"x\",\"y\":[13000],\"yaxis\":\"y\",\"type\":\"scatter\"},{\"hovertemplate\":\"Country=Portugal\\u003cbr\\u003eLife expectancy=%{x}\\u003cbr\\u003eGDP Per Capita=%{y}\\u003cextra\\u003e\\u003c\\u002fextra\\u003e\",\"legendgroup\":\"Portugal\",\"marker\":{\"color\":\"#EF553B\",\"symbol\":\"circle\"},\"mode\":\"markers\",\"name\":\"Portugal\",\"orientation\":\"v\",\"showlegend\":true,\"x\":[81.8],\"xaxis\":\"x\",\"y\":[29300],\"yaxis\":\"y\",\"type\":\"scatter\"},{\"hovertemplate\":\"Country=Pakistan\\u003cbr\\u003eLife expectancy=%{x}\\u003cbr\\u003eGDP Per Capita=%{y}\\u003cextra\\u003e\\u003c\\u002fextra\\u003e\",\"legendgroup\":\"Pakistan\",\"marker\":{\"color\":\"#00cc96\",\"symbol\":\"circle\"},\"mode\":\"markers\",\"name\":\"Pakistan\",\"orientation\":\"v\",\"showlegend\":true,\"x\":[67.2],\"xaxis\":\"x\",\"y\":[5000],\"yaxis\":\"y\",\"type\":\"scatter\"},{\"hovertemplate\":\"Country=Russia\\u003cbr\\u003eLife expectancy=%{x}\\u003cbr\\u003eGDP Per Capita=%{y}\\u003cextra\\u003e\\u003c\\u002fextra\\u003e\",\"legendgroup\":\"Russia\",\"marker\":{\"color\":\"#ab63fa\",\"symbol\":\"circle\"},\"mode\":\"markers\",\"name\":\"Russia\",\"orientation\":\"v\",\"showlegend\":true,\"x\":[72.5],\"xaxis\":\"x\",\"y\":[25700],\"yaxis\":\"y\",\"type\":\"scatter\"},{\"hovertemplate\":\"Country=Philippines\\u003cbr\\u003eLife expectancy=%{x}\\u003cbr\\u003eGDP Per Capita=%{y}\\u003cextra\\u003e\\u003c\\u002fextra\\u003e\",\"legendgroup\":\"Philippines\",\"marker\":{\"color\":\"#FFA15A\",\"symbol\":\"circle\"},\"mode\":\"markers\",\"name\":\"Philippines\",\"orientation\":\"v\",\"showlegend\":true,\"x\":[70.0],\"xaxis\":\"x\",\"y\":[8260],\"yaxis\":\"y\",\"type\":\"scatter\"},{\"hovertemplate\":\"Country=Serbia\\u003cbr\\u003eLife expectancy=%{x}\\u003cbr\\u003eGDP Per Capita=%{y}\\u003cextra\\u003e\\u003c\\u002fextra\\u003e\",\"legendgroup\":\"Serbia\",\"marker\":{\"color\":\"#19d3f3\",\"symbol\":\"circle\"},\"mode\":\"markers\",\"name\":\"Serbia\",\"orientation\":\"v\",\"showlegend\":true,\"x\":[76.0],\"xaxis\":\"x\",\"y\":[16700],\"yaxis\":\"y\",\"type\":\"scatter\"},{\"hovertemplate\":\"Country=Moldova\\u003cbr\\u003eLife expectancy=%{x}\\u003cbr\\u003eGDP Per Capita=%{y}\\u003cextra\\u003e\\u003c\\u002fextra\\u003e\",\"legendgroup\":\"Moldova\",\"marker\":{\"color\":\"#FF6692\",\"symbol\":\"circle\"},\"mode\":\"markers\",\"name\":\"Moldova\",\"orientation\":\"v\",\"showlegend\":true,\"x\":[73.1],\"xaxis\":\"x\",\"y\":[6720],\"yaxis\":\"y\",\"type\":\"scatter\"},{\"hovertemplate\":\"Country=Libya\\u003cbr\\u003eLife expectancy=%{x}\\u003cbr\\u003eGDP Per Capita=%{y}\\u003cextra\\u003e\\u003c\\u002fextra\\u003e\",\"legendgroup\":\"Libya\",\"marker\":{\"color\":\"#B6E880\",\"symbol\":\"circle\"},\"mode\":\"markers\",\"name\":\"Libya\",\"orientation\":\"v\",\"showlegend\":true,\"x\":[73.3],\"xaxis\":\"x\",\"y\":[14800],\"yaxis\":\"y\",\"type\":\"scatter\"},{\"hovertemplate\":\"Country=Montenegro\\u003cbr\\u003eLife expectancy=%{x}\\u003cbr\\u003eGDP Per Capita=%{y}\\u003cextra\\u003e\\u003c\\u002fextra\\u003e\",\"legendgroup\":\"Montenegro\",\"marker\":{\"color\":\"#FF97FF\",\"symbol\":\"circle\"},\"mode\":\"markers\",\"name\":\"Montenegro\",\"orientation\":\"v\",\"showlegend\":true,\"x\":[76.7],\"xaxis\":\"x\",\"y\":[17800],\"yaxis\":\"y\",\"type\":\"scatter\"},{\"hovertemplate\":\"Country=Tajikistan\\u003cbr\\u003eLife expectancy=%{x}\\u003cbr\\u003eGDP Per Capita=%{y}\\u003cextra\\u003e\\u003c\\u002fextra\\u003e\",\"legendgroup\":\"Tajikistan\",\"marker\":{\"color\":\"#FECB52\",\"symbol\":\"circle\"},\"mode\":\"markers\",\"name\":\"Tajikistan\",\"orientation\":\"v\",\"showlegend\":true,\"x\":[70.8],\"xaxis\":\"x\",\"y\":[3150],\"yaxis\":\"y\",\"type\":\"scatter\"},{\"hovertemplate\":\"Country=Croatia\\u003cbr\\u003eLife expectancy=%{x}\\u003cbr\\u003eGDP Per Capita=%{y}\\u003cextra\\u003e\\u003c\\u002fextra\\u003e\",\"legendgroup\":\"Croatia\",\"marker\":{\"color\":\"#636efa\",\"symbol\":\"circle\"},\"mode\":\"markers\",\"name\":\"Croatia\",\"orientation\":\"v\",\"showlegend\":true,\"x\":[78.8],\"xaxis\":\"x\",\"y\":[24500],\"yaxis\":\"y\",\"type\":\"scatter\"},{\"hovertemplate\":\"Country=Dominican Republic\\u003cbr\\u003eLife expectancy=%{x}\\u003cbr\\u003eGDP Per Capita=%{y}\\u003cextra\\u003e\\u003c\\u002fextra\\u003e\",\"legendgroup\":\"Dominican Republic\",\"marker\":{\"color\":\"#EF553B\",\"symbol\":\"circle\"},\"mode\":\"markers\",\"name\":\"Dominican Republic\",\"orientation\":\"v\",\"showlegend\":true,\"x\":[73.5],\"xaxis\":\"x\",\"y\":[16400],\"yaxis\":\"y\",\"type\":\"scatter\"},{\"hovertemplate\":\"Country=Turkey\\u003cbr\\u003eLife expectancy=%{x}\\u003cbr\\u003eGDP Per Capita=%{y}\\u003cextra\\u003e\\u003c\\u002fextra\\u003e\",\"legendgroup\":\"Turkey\",\"marker\":{\"color\":\"#00cc96\",\"symbol\":\"circle\"},\"mode\":\"markers\",\"name\":\"Turkey\",\"orientation\":\"v\",\"showlegend\":true,\"x\":[79.5],\"xaxis\":\"x\",\"y\":[25000],\"yaxis\":\"y\",\"type\":\"scatter\"},{\"hovertemplate\":\"Country=Malaysia\\u003cbr\\u003eLife expectancy=%{x}\\u003cbr\\u003eGDP Per Capita=%{y}\\u003cextra\\u003e\\u003c\\u002fextra\\u003e\",\"legendgroup\":\"Malaysia\",\"marker\":{\"color\":\"#ab63fa\",\"symbol\":\"circle\"},\"mode\":\"markers\",\"name\":\"Malaysia\",\"orientation\":\"v\",\"showlegend\":true,\"x\":[75.0],\"xaxis\":\"x\",\"y\":[29100],\"yaxis\":\"y\",\"type\":\"scatter\"},{\"hovertemplate\":\"Country=Belarus\\u003cbr\\u003eLife expectancy=%{x}\\u003cbr\\u003eGDP Per Capita=%{y}\\u003cextra\\u003e\\u003c\\u002fextra\\u003e\",\"legendgroup\":\"Belarus\",\"marker\":{\"color\":\"#FFA15A\",\"symbol\":\"circle\"},\"mode\":\"markers\",\"name\":\"Belarus\",\"orientation\":\"v\",\"showlegend\":true,\"x\":[74.5],\"xaxis\":\"x\",\"y\":[18000],\"yaxis\":\"y\",\"type\":\"scatter\"},{\"hovertemplate\":\"Country=Greece\\u003cbr\\u003eLife expectancy=%{x}\\u003cbr\\u003eGDP Per Capita=%{y}\\u003cextra\\u003e\\u003c\\u002fextra\\u003e\",\"legendgroup\":\"Greece\",\"marker\":{\"color\":\"#19d3f3\",\"symbol\":\"circle\"},\"mode\":\"markers\",\"name\":\"Greece\",\"orientation\":\"v\",\"showlegend\":true,\"x\":[81.3],\"xaxis\":\"x\",\"y\":[25700],\"yaxis\":\"y\",\"type\":\"scatter\"},{\"hovertemplate\":\"Country=Mongolia\\u003cbr\\u003eLife expectancy=%{x}\\u003cbr\\u003eGDP Per Capita=%{y}\\u003cextra\\u003e\\u003c\\u002fextra\\u003e\",\"legendgroup\":\"Mongolia\",\"marker\":{\"color\":\"#FF6692\",\"symbol\":\"circle\"},\"mode\":\"markers\",\"name\":\"Mongolia\",\"orientation\":\"v\",\"showlegend\":true,\"x\":[69.3],\"xaxis\":\"x\",\"y\":[12800],\"yaxis\":\"y\",\"type\":\"scatter\"},{\"hovertemplate\":\"Country=Nigeria\\u003cbr\\u003eLife expectancy=%{x}\\u003cbr\\u003eGDP Per Capita=%{y}\\u003cextra\\u003e\\u003c\\u002fextra\\u003e\",\"legendgroup\":\"Nigeria\",\"marker\":{\"color\":\"#B6E880\",\"symbol\":\"circle\"},\"mode\":\"markers\",\"name\":\"Nigeria\",\"orientation\":\"v\",\"showlegend\":true,\"x\":[65.2],\"xaxis\":\"x\",\"y\":[5300],\"yaxis\":\"y\",\"type\":\"scatter\"},{\"hovertemplate\":\"Country=Turkmenistan\\u003cbr\\u003eLife expectancy=%{x}\\u003cbr\\u003eGDP Per Capita=%{y}\\u003cextra\\u003e\\u003c\\u002fextra\\u003e\",\"legendgroup\":\"Turkmenistan\",\"marker\":{\"color\":\"#FF97FF\",\"symbol\":\"circle\"},\"mode\":\"markers\",\"name\":\"Turkmenistan\",\"orientation\":\"v\",\"showlegend\":true,\"x\":[70.3],\"xaxis\":\"x\",\"y\":[17600],\"yaxis\":\"y\",\"type\":\"scatter\"},{\"hovertemplate\":\"Country=Algeria\\u003cbr\\u003eLife expectancy=%{x}\\u003cbr\\u003eGDP Per Capita=%{y}\\u003cextra\\u003e\\u003c\\u002fextra\\u003e\",\"legendgroup\":\"Algeria\",\"marker\":{\"color\":\"#FECB52\",\"symbol\":\"circle\"},\"mode\":\"markers\",\"name\":\"Algeria\",\"orientation\":\"v\",\"showlegend\":true,\"x\":[78.1],\"xaxis\":\"x\",\"y\":[14000],\"yaxis\":\"y\",\"type\":\"scatter\"},{\"hovertemplate\":\"Country=Morocco\\u003cbr\\u003eLife expectancy=%{x}\\u003cbr\\u003eGDP Per Capita=%{y}\\u003cextra\\u003e\\u003c\\u002fextra\\u003e\",\"legendgroup\":\"Morocco\",\"marker\":{\"color\":\"#636efa\",\"symbol\":\"circle\"},\"mode\":\"markers\",\"name\":\"Morocco\",\"orientation\":\"v\",\"showlegend\":true,\"x\":[74.4],\"xaxis\":\"x\",\"y\":[7770],\"yaxis\":\"y\",\"type\":\"scatter\"},{\"hovertemplate\":\"Country=Azerbaijan\\u003cbr\\u003eLife expectancy=%{x}\\u003cbr\\u003eGDP Per Capita=%{y}\\u003cextra\\u003e\\u003c\\u002fextra\\u003e\",\"legendgroup\":\"Azerbaijan\",\"marker\":{\"color\":\"#EF553B\",\"symbol\":\"circle\"},\"mode\":\"markers\",\"name\":\"Azerbaijan\",\"orientation\":\"v\",\"showlegend\":true,\"x\":[71.1],\"xaxis\":\"x\",\"y\":[16200],\"yaxis\":\"y\",\"type\":\"scatter\"},{\"hovertemplate\":\"Country=Lebanon\\u003cbr\\u003eLife expectancy=%{x}\\u003cbr\\u003eGDP Per Capita=%{y}\\u003cextra\\u003e\\u003c\\u002fextra\\u003e\",\"legendgroup\":\"Lebanon\",\"marker\":{\"color\":\"#00cc96\",\"symbol\":\"circle\"},\"mode\":\"markers\",\"name\":\"Lebanon\",\"orientation\":\"v\",\"showlegend\":true,\"x\":[78.1],\"xaxis\":\"x\",\"y\":[11700],\"yaxis\":\"y\",\"type\":\"scatter\"},{\"hovertemplate\":\"Country=Indonesia\\u003cbr\\u003eLife expectancy=%{x}\\u003cbr\\u003eGDP Per Capita=%{y}\\u003cextra\\u003e\\u003c\\u002fextra\\u003e\",\"legendgroup\":\"Indonesia\",\"marker\":{\"color\":\"#ab63fa\",\"symbol\":\"circle\"},\"mode\":\"markers\",\"name\":\"Indonesia\",\"orientation\":\"v\",\"showlegend\":true,\"x\":[71.9],\"xaxis\":\"x\",\"y\":[12100],\"yaxis\":\"y\",\"type\":\"scatter\"},{\"hovertemplate\":\"Country=China\\u003cbr\\u003eLife expectancy=%{x}\\u003cbr\\u003eGDP Per Capita=%{y}\\u003cextra\\u003e\\u003c\\u002fextra\\u003e\",\"legendgroup\":\"China\",\"marker\":{\"color\":\"#FFA15A\",\"symbol\":\"circle\"},\"mode\":\"markers\",\"name\":\"China\",\"orientation\":\"v\",\"showlegend\":true,\"x\":[77.5],\"xaxis\":\"x\",\"y\":[17100],\"yaxis\":\"y\",\"type\":\"scatter\"},{\"hovertemplate\":\"Country=Vietnam\\u003cbr\\u003eLife expectancy=%{x}\\u003cbr\\u003eGDP Per Capita=%{y}\\u003cextra\\u003e\\u003c\\u002fextra\\u003e\",\"legendgroup\":\"Vietnam\",\"marker\":{\"color\":\"#19d3f3\",\"symbol\":\"circle\"},\"mode\":\"markers\",\"name\":\"Vietnam\",\"orientation\":\"v\",\"showlegend\":true,\"x\":[74.7],\"xaxis\":\"x\",\"y\":[6970],\"yaxis\":\"y\",\"type\":\"scatter\"},{\"hovertemplate\":\"Country=Bhutan\\u003cbr\\u003eLife expectancy=%{x}\\u003cbr\\u003eGDP Per Capita=%{y}\\u003cextra\\u003e\\u003c\\u002fextra\\u003e\",\"legendgroup\":\"Bhutan\",\"marker\":{\"color\":\"#FF6692\",\"symbol\":\"circle\"},\"mode\":\"markers\",\"name\":\"Bhutan\",\"orientation\":\"v\",\"showlegend\":true,\"x\":[74.7],\"xaxis\":\"x\",\"y\":[9710],\"yaxis\":\"y\",\"type\":\"scatter\"},{\"hovertemplate\":\"Country=Cameroon\\u003cbr\\u003eLife expectancy=%{x}\\u003cbr\\u003eGDP Per Capita=%{y}\\u003cextra\\u003e\\u003c\\u002fextra\\u003e\",\"legendgroup\":\"Cameroon\",\"marker\":{\"color\":\"#B6E880\",\"symbol\":\"circle\"},\"mode\":\"markers\",\"name\":\"Cameroon\",\"orientation\":\"v\",\"showlegend\":true,\"x\":[63.8],\"xaxis\":\"x\",\"y\":[3400],\"yaxis\":\"y\",\"type\":\"scatter\"},{\"hovertemplate\":\"Country=Bulgaria\\u003cbr\\u003eLife expectancy=%{x}\\u003cbr\\u003eGDP Per Capita=%{y}\\u003cextra\\u003e\\u003c\\u002fextra\\u003e\",\"legendgroup\":\"Bulgaria\",\"marker\":{\"color\":\"#FF97FF\",\"symbol\":\"circle\"},\"mode\":\"markers\",\"name\":\"Bulgaria\",\"orientation\":\"v\",\"showlegend\":true,\"x\":[75.1],\"xaxis\":\"x\",\"y\":[20200],\"yaxis\":\"y\",\"type\":\"scatter\"},{\"hovertemplate\":\"Country=Ghana\\u003cbr\\u003eLife expectancy=%{x}\\u003cbr\\u003eGDP Per Capita=%{y}\\u003cextra\\u003e\\u003c\\u002fextra\\u003e\",\"legendgroup\":\"Ghana\",\"marker\":{\"color\":\"#FECB52\",\"symbol\":\"circle\"},\"mode\":\"markers\",\"name\":\"Ghana\",\"orientation\":\"v\",\"showlegend\":true,\"x\":[66.1],\"xaxis\":\"x\",\"y\":[4430],\"yaxis\":\"y\",\"type\":\"scatter\"},{\"hovertemplate\":\"Country=Nepal\\u003cbr\\u003eLife expectancy=%{x}\\u003cbr\\u003eGDP Per Capita=%{y}\\u003cextra\\u003e\\u003c\\u002fextra\\u003e\",\"legendgroup\":\"Nepal\",\"marker\":{\"color\":\"#636efa\",\"symbol\":\"circle\"},\"mode\":\"markers\",\"name\":\"Nepal\",\"orientation\":\"v\",\"showlegend\":true,\"x\":[71.5],\"xaxis\":\"x\",\"y\":[2880],\"yaxis\":\"y\",\"type\":\"scatter\"},{\"hovertemplate\":\"Country=Jordan\\u003cbr\\u003eLife expectancy=%{x}\\u003cbr\\u003eGDP Per Capita=%{y}\\u003cextra\\u003e\\u003c\\u002fextra\\u003e\",\"legendgroup\":\"Jordan\",\"marker\":{\"color\":\"#EF553B\",\"symbol\":\"circle\"},\"mode\":\"markers\",\"name\":\"Jordan\",\"orientation\":\"v\",\"showlegend\":true,\"x\":[79.6],\"xaxis\":\"x\",\"y\":[8350],\"yaxis\":\"y\",\"type\":\"scatter\"},{\"hovertemplate\":\"Country=Benin\\u003cbr\\u003eLife expectancy=%{x}\\u003cbr\\u003eGDP Per Capita=%{y}\\u003cextra\\u003e\\u003c\\u002fextra\\u003e\",\"legendgroup\":\"Benin\",\"marker\":{\"color\":\"#00cc96\",\"symbol\":\"circle\"},\"mode\":\"markers\",\"name\":\"Benin\",\"orientation\":\"v\",\"showlegend\":true,\"x\":[65.3],\"xaxis\":\"x\",\"y\":[2230],\"yaxis\":\"y\",\"type\":\"scatter\"},{\"hovertemplate\":\"Country=Gabon\\u003cbr\\u003eLife expectancy=%{x}\\u003cbr\\u003eGDP Per Capita=%{y}\\u003cextra\\u003e\\u003c\\u002fextra\\u003e\",\"legendgroup\":\"Gabon\",\"marker\":{\"color\":\"#ab63fa\",\"symbol\":\"circle\"},\"mode\":\"markers\",\"name\":\"Gabon\",\"orientation\":\"v\",\"showlegend\":true,\"x\":[69.0],\"xaxis\":\"x\",\"y\":[16200],\"yaxis\":\"y\",\"type\":\"scatter\"},{\"hovertemplate\":\"Country=South Africa\\u003cbr\\u003eLife expectancy=%{x}\\u003cbr\\u003eGDP Per Capita=%{y}\\u003cextra\\u003e\\u003c\\u002fextra\\u003e\",\"legendgroup\":\"South Africa\",\"marker\":{\"color\":\"#FFA15A\",\"symbol\":\"circle\"},\"mode\":\"markers\",\"name\":\"South Africa\",\"orientation\":\"v\",\"showlegend\":true,\"x\":[66.9],\"xaxis\":\"x\",\"y\":[12000],\"yaxis\":\"y\",\"type\":\"scatter\"},{\"hovertemplate\":\"Country=Albania\\u003cbr\\u003eLife expectancy=%{x}\\u003cbr\\u003eGDP Per Capita=%{y}\\u003cextra\\u003e\\u003c\\u002fextra\\u003e\",\"legendgroup\":\"Albania\",\"marker\":{\"color\":\"#19d3f3\",\"symbol\":\"circle\"},\"mode\":\"markers\",\"name\":\"Albania\",\"orientation\":\"v\",\"showlegend\":true,\"x\":[78.5],\"xaxis\":\"x\",\"y\":[12700],\"yaxis\":\"y\",\"type\":\"scatter\"},{\"hovertemplate\":\"Country=Venezuela\\u003cbr\\u003eLife expectancy=%{x}\\u003cbr\\u003eGDP Per Capita=%{y}\\u003cextra\\u003e\\u003c\\u002fextra\\u003e\",\"legendgroup\":\"Venezuela\",\"marker\":{\"color\":\"#FF6692\",\"symbol\":\"circle\"},\"mode\":\"markers\",\"name\":\"Venezuela\",\"orientation\":\"v\",\"showlegend\":true,\"x\":[75.1],\"xaxis\":\"x\",\"y\":[9720],\"yaxis\":\"y\",\"type\":\"scatter\"},{\"hovertemplate\":\"Country=Cambodia\\u003cbr\\u003eLife expectancy=%{x}\\u003cbr\\u003eGDP Per Capita=%{y}\\u003cextra\\u003e\\u003c\\u002fextra\\u003e\",\"legendgroup\":\"Cambodia\",\"marker\":{\"color\":\"#B6E880\",\"symbol\":\"circle\"},\"mode\":\"markers\",\"name\":\"Cambodia\",\"orientation\":\"v\",\"showlegend\":true,\"x\":[70.4],\"xaxis\":\"x\",\"y\":[4080],\"yaxis\":\"y\",\"type\":\"scatter\"},{\"hovertemplate\":\"Country=Senegal\\u003cbr\\u003eLife expectancy=%{x}\\u003cbr\\u003eGDP Per Capita=%{y}\\u003cextra\\u003e\\u003c\\u002fextra\\u003e\",\"legendgroup\":\"Senegal\",\"marker\":{\"color\":\"#FF97FF\",\"symbol\":\"circle\"},\"mode\":\"markers\",\"name\":\"Senegal\",\"orientation\":\"v\",\"showlegend\":true,\"x\":[68.6],\"xaxis\":\"x\",\"y\":[3460],\"yaxis\":\"y\",\"type\":\"scatter\"},{\"hovertemplate\":\"Country=Somalia\\u003cbr\\u003eLife expectancy=%{x}\\u003cbr\\u003eGDP Per Capita=%{y}\\u003cextra\\u003e\\u003c\\u002fextra\\u003e\",\"legendgroup\":\"Somalia\",\"marker\":{\"color\":\"#FECB52\",\"symbol\":\"circle\"},\"mode\":\"markers\",\"name\":\"Somalia\",\"orientation\":\"v\",\"showlegend\":true,\"x\":[59.2],\"xaxis\":\"x\",\"y\":[631],\"yaxis\":\"y\",\"type\":\"scatter\"},{\"hovertemplate\":\"Country=Namibia\\u003cbr\\u003eLife expectancy=%{x}\\u003cbr\\u003eGDP Per Capita=%{y}\\u003cextra\\u003e\\u003c\\u002fextra\\u003e\",\"legendgroup\":\"Namibia\",\"marker\":{\"color\":\"#636efa\",\"symbol\":\"circle\"},\"mode\":\"markers\",\"name\":\"Namibia\",\"orientation\":\"v\",\"showlegend\":true,\"x\":[67.2],\"xaxis\":\"x\",\"y\":[9700],\"yaxis\":\"y\",\"type\":\"scatter\"},{\"hovertemplate\":\"Country=Niger\\u003cbr\\u003eLife expectancy=%{x}\\u003cbr\\u003eGDP Per Capita=%{y}\\u003cextra\\u003e\\u003c\\u002fextra\\u003e\",\"legendgroup\":\"Niger\",\"marker\":{\"color\":\"#EF553B\",\"symbol\":\"circle\"},\"mode\":\"markers\",\"name\":\"Niger\",\"orientation\":\"v\",\"showlegend\":true,\"x\":[63.2],\"xaxis\":\"x\",\"y\":[954],\"yaxis\":\"y\",\"type\":\"scatter\"},{\"hovertemplate\":\"Country=Burkina Faso\\u003cbr\\u003eLife expectancy=%{x}\\u003cbr\\u003eGDP Per Capita=%{y}\\u003cextra\\u003e\\u003c\\u002fextra\\u003e\",\"legendgroup\":\"Burkina Faso\",\"marker\":{\"color\":\"#00cc96\",\"symbol\":\"circle\"},\"mode\":\"markers\",\"name\":\"Burkina Faso\",\"orientation\":\"v\",\"showlegend\":true,\"x\":[62.5],\"xaxis\":\"x\",\"y\":[1810],\"yaxis\":\"y\",\"type\":\"scatter\"},{\"hovertemplate\":\"Country=Armenia\\u003cbr\\u003eLife expectancy=%{x}\\u003cbr\\u003eGDP Per Capita=%{y}\\u003cextra\\u003e\\u003c\\u002fextra\\u003e\",\"legendgroup\":\"Armenia\",\"marker\":{\"color\":\"#ab63fa\",\"symbol\":\"circle\"},\"mode\":\"markers\",\"name\":\"Armenia\",\"orientation\":\"v\",\"showlegend\":true,\"x\":[75.9],\"xaxis\":\"x\",\"y\":[9730],\"yaxis\":\"y\",\"type\":\"scatter\"},{\"hovertemplate\":\"Country=Iran\\u003cbr\\u003eLife expectancy=%{x}\\u003cbr\\u003eGDP Per Capita=%{y}\\u003cextra\\u003e\\u003c\\u002fextra\\u003e\",\"legendgroup\":\"Iran\",\"marker\":{\"color\":\"#FFA15A\",\"symbol\":\"circle\"},\"mode\":\"markers\",\"name\":\"Iran\",\"orientation\":\"v\",\"showlegend\":true,\"x\":[77.8],\"xaxis\":\"x\",\"y\":[16100],\"yaxis\":\"y\",\"type\":\"scatter\"},{\"hovertemplate\":\"Country=Guinea\\u003cbr\\u003eLife expectancy=%{x}\\u003cbr\\u003eGDP Per Capita=%{y}\\u003cextra\\u003e\\u003c\\u002fextra\\u003e\",\"legendgroup\":\"Guinea\",\"marker\":{\"color\":\"#19d3f3\",\"symbol\":\"circle\"},\"mode\":\"markers\",\"name\":\"Guinea\",\"orientation\":\"v\",\"showlegend\":true,\"x\":[61.6],\"xaxis\":\"x\",\"y\":[2420],\"yaxis\":\"y\",\"type\":\"scatter\"},{\"hovertemplate\":\"Country=Georgia\\u003cbr\\u003eLife expectancy=%{x}\\u003cbr\\u003eGDP Per Capita=%{y}\\u003cextra\\u003e\\u003c\\u002fextra\\u003e\",\"legendgroup\":\"Georgia\",\"marker\":{\"color\":\"#FF6692\",\"symbol\":\"circle\"},\"mode\":\"markers\",\"name\":\"Georgia\",\"orientation\":\"v\",\"showlegend\":true,\"x\":[73.2],\"xaxis\":\"x\",\"y\":[10700],\"yaxis\":\"y\",\"type\":\"scatter\"},{\"hovertemplate\":\"Country=Gambia\\u003cbr\\u003eLife expectancy=%{x}\\u003cbr\\u003eGDP Per Capita=%{y}\\u003cextra\\u003e\\u003c\\u002fextra\\u003e\",\"legendgroup\":\"Gambia\",\"marker\":{\"color\":\"#B6E880\",\"symbol\":\"circle\"},\"mode\":\"markers\",\"name\":\"Gambia\",\"orientation\":\"v\",\"showlegend\":true,\"x\":[66.4],\"xaxis\":\"x\",\"y\":[1570],\"yaxis\":\"y\",\"type\":\"scatter\"},{\"hovertemplate\":\"Country=Kenya\\u003cbr\\u003eLife expectancy=%{x}\\u003cbr\\u003eGDP Per Capita=%{y}\\u003cextra\\u003e\\u003c\\u002fextra\\u003e\",\"legendgroup\":\"Kenya\",\"marker\":{\"color\":\"#FF97FF\",\"symbol\":\"circle\"},\"mode\":\"markers\",\"name\":\"Kenya\",\"orientation\":\"v\",\"showlegend\":true,\"x\":[66.7],\"xaxis\":\"x\",\"y\":[3160],\"yaxis\":\"y\",\"type\":\"scatter\"},{\"hovertemplate\":\"Country=Mauritania\\u003cbr\\u003eLife expectancy=%{x}\\u003cbr\\u003eGDP Per Capita=%{y}\\u003cextra\\u003e\\u003c\\u002fextra\\u003e\",\"legendgroup\":\"Mauritania\",\"marker\":{\"color\":\"#FECB52\",\"symbol\":\"circle\"},\"mode\":\"markers\",\"name\":\"Mauritania\",\"orientation\":\"v\",\"showlegend\":true,\"x\":[71.0],\"xaxis\":\"x\",\"y\":[3890],\"yaxis\":\"y\",\"type\":\"scatter\"},{\"hovertemplate\":\"Country=Mozambique\\u003cbr\\u003eLife expectancy=%{x}\\u003cbr\\u003eGDP Per Capita=%{y}\\u003cextra\\u003e\\u003c\\u002fextra\\u003e\",\"legendgroup\":\"Mozambique\",\"marker\":{\"color\":\"#636efa\",\"symbol\":\"circle\"},\"mode\":\"markers\",\"name\":\"Mozambique\",\"orientation\":\"v\",\"showlegend\":true,\"x\":[59.9],\"xaxis\":\"x\",\"y\":[1170],\"yaxis\":\"y\",\"type\":\"scatter\"},{\"hovertemplate\":\"Country=Tunisia\\u003cbr\\u003eLife expectancy=%{x}\\u003cbr\\u003eGDP Per Capita=%{y}\\u003cextra\\u003e\\u003c\\u002fextra\\u003e\",\"legendgroup\":\"Tunisia\",\"marker\":{\"color\":\"#EF553B\",\"symbol\":\"circle\"},\"mode\":\"markers\",\"name\":\"Tunisia\",\"orientation\":\"v\",\"showlegend\":true,\"x\":[78.7],\"xaxis\":\"x\",\"y\":[11100],\"yaxis\":\"y\",\"type\":\"scatter\"},{\"hovertemplate\":\"Country=Bangladesh\\u003cbr\\u003eLife expectancy=%{x}\\u003cbr\\u003eGDP Per Capita=%{y}\\u003cextra\\u003e\\u003c\\u002fextra\\u003e\",\"legendgroup\":\"Bangladesh\",\"marker\":{\"color\":\"#00cc96\",\"symbol\":\"circle\"},\"mode\":\"markers\",\"name\":\"Bangladesh\",\"orientation\":\"v\",\"showlegend\":true,\"x\":[73.7],\"xaxis\":\"x\",\"y\":[4140],\"yaxis\":\"y\",\"type\":\"scatter\"},{\"hovertemplate\":\"Country=Iraq\\u003cbr\\u003eLife expectancy=%{x}\\u003cbr\\u003eGDP Per Capita=%{y}\\u003cextra\\u003e\\u003c\\u002fextra\\u003e\",\"legendgroup\":\"Iraq\",\"marker\":{\"color\":\"#ab63fa\",\"symbol\":\"circle\"},\"mode\":\"markers\",\"name\":\"Iraq\",\"orientation\":\"v\",\"showlegend\":true,\"x\":[77.1],\"xaxis\":\"x\",\"y\":[15700],\"yaxis\":\"y\",\"type\":\"scatter\"},{\"hovertemplate\":\"Country=Mali\\u003cbr\\u003eLife expectancy=%{x}\\u003cbr\\u003eGDP Per Capita=%{y}\\u003cextra\\u003e\\u003c\\u002fextra\\u003e\",\"legendgroup\":\"Mali\",\"marker\":{\"color\":\"#FFA15A\",\"symbol\":\"circle\"},\"mode\":\"markers\",\"name\":\"Mali\",\"orientation\":\"v\",\"showlegend\":true,\"x\":[62.9],\"xaxis\":\"x\",\"y\":[2100],\"yaxis\":\"y\",\"type\":\"scatter\"},{\"hovertemplate\":\"Country=Sierra Leone\\u003cbr\\u003eLife expectancy=%{x}\\u003cbr\\u003eGDP Per Capita=%{y}\\u003cextra\\u003e\\u003c\\u002fextra\\u003e\",\"legendgroup\":\"Sierra Leone\",\"marker\":{\"color\":\"#19d3f3\",\"symbol\":\"circle\"},\"mode\":\"markers\",\"name\":\"Sierra Leone\",\"orientation\":\"v\",\"showlegend\":true,\"x\":[61.3],\"xaxis\":\"x\",\"y\":[1460],\"yaxis\":\"y\",\"type\":\"scatter\"},{\"hovertemplate\":\"Country=Sri Lanka\\u003cbr\\u003eLife expectancy=%{x}\\u003cbr\\u003eGDP Per Capita=%{y}\\u003cextra\\u003e\\u003c\\u002fextra\\u003e\",\"legendgroup\":\"Sri Lanka\",\"marker\":{\"color\":\"#FF6692\",\"symbol\":\"circle\"},\"mode\":\"markers\",\"name\":\"Sri Lanka\",\"orientation\":\"v\",\"showlegend\":true,\"x\":[77.8],\"xaxis\":\"x\",\"y\":[12100],\"yaxis\":\"y\",\"type\":\"scatter\"},{\"hovertemplate\":\"Country=Myanmar\\u003cbr\\u003eLife expectancy=%{x}\\u003cbr\\u003eGDP Per Capita=%{y}\\u003cextra\\u003e\\u003c\\u002fextra\\u003e\",\"legendgroup\":\"Myanmar\",\"marker\":{\"color\":\"#B6E880\",\"symbol\":\"circle\"},\"mode\":\"markers\",\"name\":\"Myanmar\",\"orientation\":\"v\",\"showlegend\":true,\"x\":[69.1],\"xaxis\":\"x\",\"y\":[6270],\"yaxis\":\"y\",\"type\":\"scatter\"},{\"hovertemplate\":\"Country=Chad\\u003cbr\\u003eLife expectancy=%{x}\\u003cbr\\u003eGDP Per Capita=%{y}\\u003cextra\\u003e\\u003c\\u002fextra\\u003e\",\"legendgroup\":\"Chad\",\"marker\":{\"color\":\"#FF97FF\",\"symbol\":\"circle\"},\"mode\":\"markers\",\"name\":\"Chad\",\"orientation\":\"v\",\"showlegend\":true,\"x\":[60.6],\"xaxis\":\"x\",\"y\":[1740],\"yaxis\":\"y\",\"type\":\"scatter\"},{\"hovertemplate\":\"Country=Ukraine\\u003cbr\\u003eLife expectancy=%{x}\\u003cbr\\u003eGDP Per Capita=%{y}\\u003cextra\\u003e\\u003c\\u002fextra\\u003e\",\"legendgroup\":\"Ukraine\",\"marker\":{\"color\":\"#FECB52\",\"symbol\":\"circle\"},\"mode\":\"markers\",\"name\":\"Ukraine\",\"orientation\":\"v\",\"showlegend\":true,\"x\":[70.8],\"xaxis\":\"x\",\"y\":[8480],\"yaxis\":\"y\",\"type\":\"scatter\"},{\"hovertemplate\":\"Country=Ethiopia\\u003cbr\\u003eLife expectancy=%{x}\\u003cbr\\u003eGDP Per Capita=%{y}\\u003cextra\\u003e\\u003c\\u002fextra\\u003e\",\"legendgroup\":\"Ethiopia\",\"marker\":{\"color\":\"#636efa\",\"symbol\":\"circle\"},\"mode\":\"markers\",\"name\":\"Ethiopia\",\"orientation\":\"v\",\"showlegend\":true,\"x\":[69.1],\"xaxis\":\"x\",\"y\":[1900],\"yaxis\":\"y\",\"type\":\"scatter\"},{\"hovertemplate\":\"Country=Swaziland\\u003cbr\\u003eLife expectancy=%{x}\\u003cbr\\u003eGDP Per Capita=%{y}\\u003cextra\\u003e\\u003c\\u002fextra\\u003e\",\"legendgroup\":\"Swaziland\",\"marker\":{\"color\":\"#EF553B\",\"symbol\":\"circle\"},\"mode\":\"markers\",\"name\":\"Swaziland\",\"orientation\":\"v\",\"showlegend\":true,\"x\":[61.8],\"xaxis\":\"x\",\"y\":[9560],\"yaxis\":\"y\",\"type\":\"scatter\"},{\"hovertemplate\":\"Country=Uganda\\u003cbr\\u003eLife expectancy=%{x}\\u003cbr\\u003eGDP Per Capita=%{y}\\u003cextra\\u003e\\u003c\\u002fextra\\u003e\",\"legendgroup\":\"Uganda\",\"marker\":{\"color\":\"#00cc96\",\"symbol\":\"circle\"},\"mode\":\"markers\",\"name\":\"Uganda\",\"orientation\":\"v\",\"showlegend\":true,\"x\":[66.6],\"xaxis\":\"x\",\"y\":[1870],\"yaxis\":\"y\",\"type\":\"scatter\"},{\"hovertemplate\":\"Country=Egypt\\u003cbr\\u003eLife expectancy=%{x}\\u003cbr\\u003eGDP Per Capita=%{y}\\u003cextra\\u003e\\u003c\\u002fextra\\u003e\",\"legendgroup\":\"Egypt\",\"marker\":{\"color\":\"#ab63fa\",\"symbol\":\"circle\"},\"mode\":\"markers\",\"name\":\"Egypt\",\"orientation\":\"v\",\"showlegend\":true,\"x\":[71.0],\"xaxis\":\"x\",\"y\":[11400],\"yaxis\":\"y\",\"type\":\"scatter\"},{\"hovertemplate\":\"Country=Zambia\\u003cbr\\u003eLife expectancy=%{x}\\u003cbr\\u003eGDP Per Capita=%{y}\\u003cextra\\u003e\\u003c\\u002fextra\\u003e\",\"legendgroup\":\"Zambia\",\"marker\":{\"color\":\"#FFA15A\",\"symbol\":\"circle\"},\"mode\":\"markers\",\"name\":\"Zambia\",\"orientation\":\"v\",\"showlegend\":true,\"x\":[64.0],\"xaxis\":\"x\",\"y\":[3700],\"yaxis\":\"y\",\"type\":\"scatter\"},{\"hovertemplate\":\"Country=Togo\\u003cbr\\u003eLife expectancy=%{x}\\u003cbr\\u003eGDP Per Capita=%{y}\\u003cextra\\u003e\\u003c\\u002fextra\\u003e\",\"legendgroup\":\"Togo\",\"marker\":{\"color\":\"#19d3f3\",\"symbol\":\"circle\"},\"mode\":\"markers\",\"name\":\"Togo\",\"orientation\":\"v\",\"showlegend\":true,\"x\":[65.0],\"xaxis\":\"x\",\"y\":[1610],\"yaxis\":\"y\",\"type\":\"scatter\"},{\"hovertemplate\":\"Country=India\\u003cbr\\u003eLife expectancy=%{x}\\u003cbr\\u003eGDP Per Capita=%{y}\\u003cextra\\u003e\\u003c\\u002fextra\\u003e\",\"legendgroup\":\"India\",\"marker\":{\"color\":\"#FF6692\",\"symbol\":\"circle\"},\"mode\":\"markers\",\"name\":\"India\",\"orientation\":\"v\",\"showlegend\":true,\"x\":[69.5],\"xaxis\":\"x\",\"y\":[7230],\"yaxis\":\"y\",\"type\":\"scatter\"},{\"hovertemplate\":\"Country=Liberia\\u003cbr\\u003eLife expectancy=%{x}\\u003cbr\\u003eGDP Per Capita=%{y}\\u003cextra\\u003e\\u003c\\u002fextra\\u003e\",\"legendgroup\":\"Liberia\",\"marker\":{\"color\":\"#B6E880\",\"symbol\":\"circle\"},\"mode\":\"markers\",\"name\":\"Liberia\",\"orientation\":\"v\",\"showlegend\":true,\"x\":[65.2],\"xaxis\":\"x\",\"y\":[1140],\"yaxis\":\"y\",\"type\":\"scatter\"},{\"hovertemplate\":\"Country=Comoros\\u003cbr\\u003eLife expectancy=%{x}\\u003cbr\\u003eGDP Per Capita=%{y}\\u003cextra\\u003e\\u003c\\u002fextra\\u003e\",\"legendgroup\":\"Comoros\",\"marker\":{\"color\":\"#FF97FF\",\"symbol\":\"circle\"},\"mode\":\"markers\",\"name\":\"Comoros\",\"orientation\":\"v\",\"showlegend\":true,\"x\":[69.1],\"xaxis\":\"x\",\"y\":[2480],\"yaxis\":\"y\",\"type\":\"scatter\"},{\"hovertemplate\":\"Country=Madagascar\\u003cbr\\u003eLife expectancy=%{x}\\u003cbr\\u003eGDP Per Capita=%{y}\\u003cextra\\u003e\\u003c\\u002fextra\\u003e\",\"legendgroup\":\"Madagascar\",\"marker\":{\"color\":\"#FECB52\",\"symbol\":\"circle\"},\"mode\":\"markers\",\"name\":\"Madagascar\",\"orientation\":\"v\",\"showlegend\":true,\"x\":[64.2],\"xaxis\":\"x\",\"y\":[1490],\"yaxis\":\"y\",\"type\":\"scatter\"},{\"hovertemplate\":\"Country=Lesotho\\u003cbr\\u003eLife expectancy=%{x}\\u003cbr\\u003eGDP Per Capita=%{y}\\u003cextra\\u003e\\u003c\\u002fextra\\u003e\",\"legendgroup\":\"Lesotho\",\"marker\":{\"color\":\"#636efa\",\"symbol\":\"circle\"},\"mode\":\"markers\",\"name\":\"Lesotho\",\"orientation\":\"v\",\"showlegend\":true,\"x\":[56.1],\"xaxis\":\"x\",\"y\":[2920],\"yaxis\":\"y\",\"type\":\"scatter\"},{\"hovertemplate\":\"Country=Burundi\\u003cbr\\u003eLife expectancy=%{x}\\u003cbr\\u003eGDP Per Capita=%{y}\\u003cextra\\u003e\\u003c\\u002fextra\\u003e\",\"legendgroup\":\"Burundi\",\"marker\":{\"color\":\"#EF553B\",\"symbol\":\"circle\"},\"mode\":\"markers\",\"name\":\"Burundi\",\"orientation\":\"v\",\"showlegend\":true,\"x\":[62.3],\"xaxis\":\"x\",\"y\":[644],\"yaxis\":\"y\",\"type\":\"scatter\"},{\"hovertemplate\":\"Country=Zimbabwe\\u003cbr\\u003eLife expectancy=%{x}\\u003cbr\\u003eGDP Per Capita=%{y}\\u003cextra\\u003e\\u003c\\u002fextra\\u003e\",\"legendgroup\":\"Zimbabwe\",\"marker\":{\"color\":\"#00cc96\",\"symbol\":\"circle\"},\"mode\":\"markers\",\"name\":\"Zimbabwe\",\"orientation\":\"v\",\"showlegend\":true,\"x\":[62.0],\"xaxis\":\"x\",\"y\":[2390],\"yaxis\":\"y\",\"type\":\"scatter\"},{\"hovertemplate\":\"Country=Haiti\\u003cbr\\u003eLife expectancy=%{x}\\u003cbr\\u003eGDP Per Capita=%{y}\\u003cextra\\u003e\\u003c\\u002fextra\\u003e\",\"legendgroup\":\"Haiti\",\"marker\":{\"color\":\"#ab63fa\",\"symbol\":\"circle\"},\"mode\":\"markers\",\"name\":\"Haiti\",\"orientation\":\"v\",\"showlegend\":true,\"x\":[65.7],\"xaxis\":\"x\",\"y\":[1640],\"yaxis\":\"y\",\"type\":\"scatter\"},{\"hovertemplate\":\"Country=Botswana\\u003cbr\\u003eLife expectancy=%{x}\\u003cbr\\u003eGDP Per Capita=%{y}\\u003cextra\\u003e\\u003c\\u002fextra\\u003e\",\"legendgroup\":\"Botswana\",\"marker\":{\"color\":\"#FFA15A\",\"symbol\":\"circle\"},\"mode\":\"markers\",\"name\":\"Botswana\",\"orientation\":\"v\",\"showlegend\":true,\"x\":[69.8],\"xaxis\":\"x\",\"y\":[16800],\"yaxis\":\"y\",\"type\":\"scatter\"},{\"hovertemplate\":\"Country=Syria\\u003cbr\\u003eLife expectancy=%{x}\\u003cbr\\u003eGDP Per Capita=%{y}\\u003cextra\\u003e\\u003c\\u002fextra\\u003e\",\"legendgroup\":\"Syria\",\"marker\":{\"color\":\"#19d3f3\",\"symbol\":\"circle\"},\"mode\":\"markers\",\"name\":\"Syria\",\"orientation\":\"v\",\"showlegend\":true,\"x\":[71.5],\"xaxis\":\"x\",\"y\":[2900],\"yaxis\":\"y\",\"type\":\"scatter\"},{\"hovertemplate\":\"Country=Malawi\\u003cbr\\u003eLife expectancy=%{x}\\u003cbr\\u003eGDP Per Capita=%{y}\\u003cextra\\u003e\\u003c\\u002fextra\\u003e\",\"legendgroup\":\"Malawi\",\"marker\":{\"color\":\"#FF6692\",\"symbol\":\"circle\"},\"mode\":\"markers\",\"name\":\"Malawi\",\"orientation\":\"v\",\"showlegend\":true,\"x\":[64.2],\"xaxis\":\"x\",\"y\":[1180],\"yaxis\":\"y\",\"type\":\"scatter\"},{\"hovertemplate\":\"Country=Yemen\\u003cbr\\u003eLife expectancy=%{x}\\u003cbr\\u003eGDP Per Capita=%{y}\\u003cextra\\u003e\\u003c\\u002fextra\\u003e\",\"legendgroup\":\"Yemen\",\"marker\":{\"color\":\"#B6E880\",\"symbol\":\"circle\"},\"mode\":\"markers\",\"name\":\"Yemen\",\"orientation\":\"v\",\"showlegend\":true,\"x\":[68.1],\"xaxis\":\"x\",\"y\":[2340],\"yaxis\":\"y\",\"type\":\"scatter\"},{\"hovertemplate\":\"Country=Rwanda\\u003cbr\\u003eLife expectancy=%{x}\\u003cbr\\u003eGDP Per Capita=%{y}\\u003cextra\\u003e\\u003c\\u002fextra\\u003e\",\"legendgroup\":\"Rwanda\",\"marker\":{\"color\":\"#FF97FF\",\"symbol\":\"circle\"},\"mode\":\"markers\",\"name\":\"Rwanda\",\"orientation\":\"v\",\"showlegend\":true,\"x\":[69.1],\"xaxis\":\"x\",\"y\":[2110],\"yaxis\":\"y\",\"type\":\"scatter\"},{\"hovertemplate\":\"Country=Tanzania\\u003cbr\\u003eLife expectancy=%{x}\\u003cbr\\u003eGDP Per Capita=%{y}\\u003cextra\\u003e\\u003c\\u002fextra\\u003e\",\"legendgroup\":\"Tanzania\",\"marker\":{\"color\":\"#FECB52\",\"symbol\":\"circle\"},\"mode\":\"markers\",\"name\":\"Tanzania\",\"orientation\":\"v\",\"showlegend\":true,\"x\":[67.7],\"xaxis\":\"x\",\"y\":[2980],\"yaxis\":\"y\",\"type\":\"scatter\"},{\"hovertemplate\":\"Country=Afghanistan\\u003cbr\\u003eLife expectancy=%{x}\\u003cbr\\u003eGDP Per Capita=%{y}\\u003cextra\\u003e\\u003c\\u002fextra\\u003e\",\"legendgroup\":\"Afghanistan\",\"marker\":{\"color\":\"#636efa\",\"symbol\":\"circle\"},\"mode\":\"markers\",\"name\":\"Afghanistan\",\"orientation\":\"v\",\"showlegend\":true,\"x\":[64.1],\"xaxis\":\"x\",\"y\":[1760],\"yaxis\":\"y\",\"type\":\"scatter\"},{\"hovertemplate\":\"Country=Central African Republic\\u003cbr\\u003eLife expectancy=%{x}\\u003cbr\\u003eGDP Per Capita=%{y}\\u003cextra\\u003e\\u003c\\u002fextra\\u003e\",\"legendgroup\":\"Central African Republic\",\"marker\":{\"color\":\"#EF553B\",\"symbol\":\"circle\"},\"mode\":\"markers\",\"name\":\"Central African Republic\",\"orientation\":\"v\",\"showlegend\":true,\"x\":[52.9],\"xaxis\":\"x\",\"y\":[794],\"yaxis\":\"y\",\"type\":\"scatter\"},{\"hovertemplate\":\"Country=South Sudan\\u003cbr\\u003eLife expectancy=%{x}\\u003cbr\\u003eGDP Per Capita=%{y}\\u003cextra\\u003e\\u003c\\u002fextra\\u003e\",\"legendgroup\":\"South Sudan\",\"marker\":{\"color\":\"#00cc96\",\"symbol\":\"circle\"},\"mode\":\"markers\",\"name\":\"South Sudan\",\"orientation\":\"v\",\"showlegend\":true,\"x\":[59.7],\"xaxis\":\"x\",\"y\":[1860],\"yaxis\":\"y\",\"type\":\"scatter\"}],                        {\"template\":{\"data\":{\"histogram2dcontour\":[{\"type\":\"histogram2dcontour\",\"colorbar\":{\"outlinewidth\":0,\"ticks\":\"\"},\"colorscale\":[[0.0,\"#0d0887\"],[0.1111111111111111,\"#46039f\"],[0.2222222222222222,\"#7201a8\"],[0.3333333333333333,\"#9c179e\"],[0.4444444444444444,\"#bd3786\"],[0.5555555555555556,\"#d8576b\"],[0.6666666666666666,\"#ed7953\"],[0.7777777777777778,\"#fb9f3a\"],[0.8888888888888888,\"#fdca26\"],[1.0,\"#f0f921\"]]}],\"choropleth\":[{\"type\":\"choropleth\",\"colorbar\":{\"outlinewidth\":0,\"ticks\":\"\"}}],\"histogram2d\":[{\"type\":\"histogram2d\",\"colorbar\":{\"outlinewidth\":0,\"ticks\":\"\"},\"colorscale\":[[0.0,\"#0d0887\"],[0.1111111111111111,\"#46039f\"],[0.2222222222222222,\"#7201a8\"],[0.3333333333333333,\"#9c179e\"],[0.4444444444444444,\"#bd3786\"],[0.5555555555555556,\"#d8576b\"],[0.6666666666666666,\"#ed7953\"],[0.7777777777777778,\"#fb9f3a\"],[0.8888888888888888,\"#fdca26\"],[1.0,\"#f0f921\"]]}],\"heatmap\":[{\"type\":\"heatmap\",\"colorbar\":{\"outlinewidth\":0,\"ticks\":\"\"},\"colorscale\":[[0.0,\"#0d0887\"],[0.1111111111111111,\"#46039f\"],[0.2222222222222222,\"#7201a8\"],[0.3333333333333333,\"#9c179e\"],[0.4444444444444444,\"#bd3786\"],[0.5555555555555556,\"#d8576b\"],[0.6666666666666666,\"#ed7953\"],[0.7777777777777778,\"#fb9f3a\"],[0.8888888888888888,\"#fdca26\"],[1.0,\"#f0f921\"]]}],\"heatmapgl\":[{\"type\":\"heatmapgl\",\"colorbar\":{\"outlinewidth\":0,\"ticks\":\"\"},\"colorscale\":[[0.0,\"#0d0887\"],[0.1111111111111111,\"#46039f\"],[0.2222222222222222,\"#7201a8\"],[0.3333333333333333,\"#9c179e\"],[0.4444444444444444,\"#bd3786\"],[0.5555555555555556,\"#d8576b\"],[0.6666666666666666,\"#ed7953\"],[0.7777777777777778,\"#fb9f3a\"],[0.8888888888888888,\"#fdca26\"],[1.0,\"#f0f921\"]]}],\"contourcarpet\":[{\"type\":\"contourcarpet\",\"colorbar\":{\"outlinewidth\":0,\"ticks\":\"\"}}],\"contour\":[{\"type\":\"contour\",\"colorbar\":{\"outlinewidth\":0,\"ticks\":\"\"},\"colorscale\":[[0.0,\"#0d0887\"],[0.1111111111111111,\"#46039f\"],[0.2222222222222222,\"#7201a8\"],[0.3333333333333333,\"#9c179e\"],[0.4444444444444444,\"#bd3786\"],[0.5555555555555556,\"#d8576b\"],[0.6666666666666666,\"#ed7953\"],[0.7777777777777778,\"#fb9f3a\"],[0.8888888888888888,\"#fdca26\"],[1.0,\"#f0f921\"]]}],\"surface\":[{\"type\":\"surface\",\"colorbar\":{\"outlinewidth\":0,\"ticks\":\"\"},\"colorscale\":[[0.0,\"#0d0887\"],[0.1111111111111111,\"#46039f\"],[0.2222222222222222,\"#7201a8\"],[0.3333333333333333,\"#9c179e\"],[0.4444444444444444,\"#bd3786\"],[0.5555555555555556,\"#d8576b\"],[0.6666666666666666,\"#ed7953\"],[0.7777777777777778,\"#fb9f3a\"],[0.8888888888888888,\"#fdca26\"],[1.0,\"#f0f921\"]]}],\"mesh3d\":[{\"type\":\"mesh3d\",\"colorbar\":{\"outlinewidth\":0,\"ticks\":\"\"}}],\"scatter\":[{\"fillpattern\":{\"fillmode\":\"overlay\",\"size\":10,\"solidity\":0.2},\"type\":\"scatter\"}],\"parcoords\":[{\"type\":\"parcoords\",\"line\":{\"colorbar\":{\"outlinewidth\":0,\"ticks\":\"\"}}}],\"scatterpolargl\":[{\"type\":\"scatterpolargl\",\"marker\":{\"colorbar\":{\"outlinewidth\":0,\"ticks\":\"\"}}}],\"bar\":[{\"error_x\":{\"color\":\"#2a3f5f\"},\"error_y\":{\"color\":\"#2a3f5f\"},\"marker\":{\"line\":{\"color\":\"#E5ECF6\",\"width\":0.5},\"pattern\":{\"fillmode\":\"overlay\",\"size\":10,\"solidity\":0.2}},\"type\":\"bar\"}],\"scattergeo\":[{\"type\":\"scattergeo\",\"marker\":{\"colorbar\":{\"outlinewidth\":0,\"ticks\":\"\"}}}],\"scatterpolar\":[{\"type\":\"scatterpolar\",\"marker\":{\"colorbar\":{\"outlinewidth\":0,\"ticks\":\"\"}}}],\"histogram\":[{\"marker\":{\"pattern\":{\"fillmode\":\"overlay\",\"size\":10,\"solidity\":0.2}},\"type\":\"histogram\"}],\"scattergl\":[{\"type\":\"scattergl\",\"marker\":{\"colorbar\":{\"outlinewidth\":0,\"ticks\":\"\"}}}],\"scatter3d\":[{\"type\":\"scatter3d\",\"line\":{\"colorbar\":{\"outlinewidth\":0,\"ticks\":\"\"}},\"marker\":{\"colorbar\":{\"outlinewidth\":0,\"ticks\":\"\"}}}],\"scattermapbox\":[{\"type\":\"scattermapbox\",\"marker\":{\"colorbar\":{\"outlinewidth\":0,\"ticks\":\"\"}}}],\"scatterternary\":[{\"type\":\"scatterternary\",\"marker\":{\"colorbar\":{\"outlinewidth\":0,\"ticks\":\"\"}}}],\"scattercarpet\":[{\"type\":\"scattercarpet\",\"marker\":{\"colorbar\":{\"outlinewidth\":0,\"ticks\":\"\"}}}],\"carpet\":[{\"aaxis\":{\"endlinecolor\":\"#2a3f5f\",\"gridcolor\":\"white\",\"linecolor\":\"white\",\"minorgridcolor\":\"white\",\"startlinecolor\":\"#2a3f5f\"},\"baxis\":{\"endlinecolor\":\"#2a3f5f\",\"gridcolor\":\"white\",\"linecolor\":\"white\",\"minorgridcolor\":\"white\",\"startlinecolor\":\"#2a3f5f\"},\"type\":\"carpet\"}],\"table\":[{\"cells\":{\"fill\":{\"color\":\"#EBF0F8\"},\"line\":{\"color\":\"white\"}},\"header\":{\"fill\":{\"color\":\"#C8D4E3\"},\"line\":{\"color\":\"white\"}},\"type\":\"table\"}],\"barpolar\":[{\"marker\":{\"line\":{\"color\":\"#E5ECF6\",\"width\":0.5},\"pattern\":{\"fillmode\":\"overlay\",\"size\":10,\"solidity\":0.2}},\"type\":\"barpolar\"}],\"pie\":[{\"automargin\":true,\"type\":\"pie\"}]},\"layout\":{\"autotypenumbers\":\"strict\",\"colorway\":[\"#636efa\",\"#EF553B\",\"#00cc96\",\"#ab63fa\",\"#FFA15A\",\"#19d3f3\",\"#FF6692\",\"#B6E880\",\"#FF97FF\",\"#FECB52\"],\"font\":{\"color\":\"#2a3f5f\"},\"hovermode\":\"closest\",\"hoverlabel\":{\"align\":\"left\"},\"paper_bgcolor\":\"white\",\"plot_bgcolor\":\"#E5ECF6\",\"polar\":{\"bgcolor\":\"#E5ECF6\",\"angularaxis\":{\"gridcolor\":\"white\",\"linecolor\":\"white\",\"ticks\":\"\"},\"radialaxis\":{\"gridcolor\":\"white\",\"linecolor\":\"white\",\"ticks\":\"\"}},\"ternary\":{\"bgcolor\":\"#E5ECF6\",\"aaxis\":{\"gridcolor\":\"white\",\"linecolor\":\"white\",\"ticks\":\"\"},\"baxis\":{\"gridcolor\":\"white\",\"linecolor\":\"white\",\"ticks\":\"\"},\"caxis\":{\"gridcolor\":\"white\",\"linecolor\":\"white\",\"ticks\":\"\"}},\"coloraxis\":{\"colorbar\":{\"outlinewidth\":0,\"ticks\":\"\"}},\"colorscale\":{\"sequential\":[[0.0,\"#0d0887\"],[0.1111111111111111,\"#46039f\"],[0.2222222222222222,\"#7201a8\"],[0.3333333333333333,\"#9c179e\"],[0.4444444444444444,\"#bd3786\"],[0.5555555555555556,\"#d8576b\"],[0.6666666666666666,\"#ed7953\"],[0.7777777777777778,\"#fb9f3a\"],[0.8888888888888888,\"#fdca26\"],[1.0,\"#f0f921\"]],\"sequentialminus\":[[0.0,\"#0d0887\"],[0.1111111111111111,\"#46039f\"],[0.2222222222222222,\"#7201a8\"],[0.3333333333333333,\"#9c179e\"],[0.4444444444444444,\"#bd3786\"],[0.5555555555555556,\"#d8576b\"],[0.6666666666666666,\"#ed7953\"],[0.7777777777777778,\"#fb9f3a\"],[0.8888888888888888,\"#fdca26\"],[1.0,\"#f0f921\"]],\"diverging\":[[0,\"#8e0152\"],[0.1,\"#c51b7d\"],[0.2,\"#de77ae\"],[0.3,\"#f1b6da\"],[0.4,\"#fde0ef\"],[0.5,\"#f7f7f7\"],[0.6,\"#e6f5d0\"],[0.7,\"#b8e186\"],[0.8,\"#7fbc41\"],[0.9,\"#4d9221\"],[1,\"#276419\"]]},\"xaxis\":{\"gridcolor\":\"white\",\"linecolor\":\"white\",\"ticks\":\"\",\"title\":{\"standoff\":15},\"zerolinecolor\":\"white\",\"automargin\":true,\"zerolinewidth\":2},\"yaxis\":{\"gridcolor\":\"white\",\"linecolor\":\"white\",\"ticks\":\"\",\"title\":{\"standoff\":15},\"zerolinecolor\":\"white\",\"automargin\":true,\"zerolinewidth\":2},\"scene\":{\"xaxis\":{\"backgroundcolor\":\"#E5ECF6\",\"gridcolor\":\"white\",\"linecolor\":\"white\",\"showbackground\":true,\"ticks\":\"\",\"zerolinecolor\":\"white\",\"gridwidth\":2},\"yaxis\":{\"backgroundcolor\":\"#E5ECF6\",\"gridcolor\":\"white\",\"linecolor\":\"white\",\"showbackground\":true,\"ticks\":\"\",\"zerolinecolor\":\"white\",\"gridwidth\":2},\"zaxis\":{\"backgroundcolor\":\"#E5ECF6\",\"gridcolor\":\"white\",\"linecolor\":\"white\",\"showbackground\":true,\"ticks\":\"\",\"zerolinecolor\":\"white\",\"gridwidth\":2}},\"shapedefaults\":{\"line\":{\"color\":\"#2a3f5f\"}},\"annotationdefaults\":{\"arrowcolor\":\"#2a3f5f\",\"arrowhead\":0,\"arrowwidth\":1},\"geo\":{\"bgcolor\":\"white\",\"landcolor\":\"#E5ECF6\",\"subunitcolor\":\"white\",\"showland\":true,\"showlakes\":true,\"lakecolor\":\"white\"},\"title\":{\"x\":0.05},\"mapbox\":{\"style\":\"light\"}}},\"xaxis\":{\"anchor\":\"y\",\"domain\":[0.0,1.0],\"title\":{\"text\":\"Life expectancy\"}},\"yaxis\":{\"anchor\":\"x\",\"domain\":[0.0,1.0],\"title\":{\"text\":\"GDP Per Capita\"}},\"legend\":{\"title\":{\"text\":\"Country\"},\"tracegroupgap\":0,\"x\":0.2,\"y\":0.95,\"bgcolor\":\"rgb(60, 240, 201)\",\"borderwidth\":5},\"margin\":{\"t\":60},\"showlegend\":true},                        {\"responsive\": true}                    ).then(function(){\n",
       "                            \n",
       "var gd = document.getElementById('f881acd4-6c18-4cb1-ae63-60dd66ab1199');\n",
       "var x = new MutationObserver(function (mutations, observer) {{\n",
       "        var display = window.getComputedStyle(gd).display;\n",
       "        if (!display || display === 'none') {{\n",
       "            console.log([gd, 'removed!']);\n",
       "            Plotly.purge(gd);\n",
       "            observer.disconnect();\n",
       "        }}\n",
       "}});\n",
       "\n",
       "// Listen for the removal of the full notebook cells\n",
       "var notebookContainer = gd.closest('#notebook-container');\n",
       "if (notebookContainer) {{\n",
       "    x.observe(notebookContainer, {childList: true});\n",
       "}}\n",
       "\n",
       "// Listen for the clearing of the current output cell\n",
       "var outputEl = gd.closest('.output');\n",
       "if (outputEl) {{\n",
       "    x.observe(outputEl, {childList: true});\n",
       "}}\n",
       "\n",
       "                        })                };                });            </script>        </div>"
      ]
     },
     "metadata": {},
     "output_type": "display_data"
    }
   ],
   "execution_count": 39
  },
  {
   "metadata": {},
   "cell_type": "markdown",
   "source": "## Customizing hover information",
   "id": "c786af47692ca8c1"
  },
  {
   "metadata": {
    "ExecuteTime": {
     "end_time": "2024-07-30T15:02:29.312932Z",
     "start_time": "2024-07-30T15:02:29.139992Z"
    }
   },
   "cell_type": "code",
   "source": [
    "# Create the scatterplot\n",
    "fig = px.scatter(\n",
    "  data_frame=life_gdp, \n",
    "  x=\"Life expectancy\", \n",
    "  y=\"GDP Per Capita\",\n",
    "  color='Country',\n",
    "  # Add columns to the hover information\n",
    "  hover_data=[\"Country\", \"Life expectancy\", \"GDP Per Capita\"],\n",
    "  # Add bold variable in hover information\n",
    "  hover_name='Country'\n",
    ")\n",
    "\n",
    "# Show the plot\n",
    "fig.show()\n",
    "with open('../docs/plots/scatter/hover_and_legends_2.html', 'w') as f:\n",
    "    f.write(fig.to_html())"
   ],
   "id": "a8ddf9918cf3448e",
   "outputs": [
    {
     "data": {
      "application/vnd.plotly.v1+json": {
       "data": [
        {
         "customdata": [
          [
           "Finland"
          ]
         ],
         "hovertemplate": "<b>%{hovertext}</b><br><br>Country=%{customdata[0]}<br>Life expectancy=%{x}<br>GDP Per Capita=%{y}<extra></extra>",
         "hovertext": [
          "Finland"
         ],
         "legendgroup": "Finland",
         "marker": {
          "color": "#636efa",
          "symbol": "circle"
         },
         "mode": "markers",
         "name": "Finland",
         "orientation": "v",
         "showlegend": true,
         "x": [
          81.8
         ],
         "xaxis": "x",
         "y": [
          42400
         ],
         "yaxis": "y",
         "type": "scatter"
        },
        {
         "customdata": [
          [
           "Denmark"
          ]
         ],
         "hovertemplate": "<b>%{hovertext}</b><br><br>Country=%{customdata[0]}<br>Life expectancy=%{x}<br>GDP Per Capita=%{y}<extra></extra>",
         "hovertext": [
          "Denmark"
         ],
         "legendgroup": "Denmark",
         "marker": {
          "color": "#EF553B",
          "symbol": "circle"
         },
         "mode": "markers",
         "name": "Denmark",
         "orientation": "v",
         "showlegend": true,
         "x": [
          81.0
         ],
         "xaxis": "x",
         "y": [
          48300
         ],
         "yaxis": "y",
         "type": "scatter"
        },
        {
         "customdata": [
          [
           "Norway"
          ]
         ],
         "hovertemplate": "<b>%{hovertext}</b><br><br>Country=%{customdata[0]}<br>Life expectancy=%{x}<br>GDP Per Capita=%{y}<extra></extra>",
         "hovertext": [
          "Norway"
         ],
         "legendgroup": "Norway",
         "marker": {
          "color": "#00cc96",
          "symbol": "circle"
         },
         "mode": "markers",
         "name": "Norway",
         "orientation": "v",
         "showlegend": true,
         "x": [
          82.6
         ],
         "xaxis": "x",
         "y": [
          66300
         ],
         "yaxis": "y",
         "type": "scatter"
        },
        {
         "customdata": [
          [
           "Iceland"
          ]
         ],
         "hovertemplate": "<b>%{hovertext}</b><br><br>Country=%{customdata[0]}<br>Life expectancy=%{x}<br>GDP Per Capita=%{y}<extra></extra>",
         "hovertext": [
          "Iceland"
         ],
         "legendgroup": "Iceland",
         "marker": {
          "color": "#ab63fa",
          "symbol": "circle"
         },
         "mode": "markers",
         "name": "Iceland",
         "orientation": "v",
         "showlegend": true,
         "x": [
          83.0
         ],
         "xaxis": "x",
         "y": [
          47900
         ],
         "yaxis": "y",
         "type": "scatter"
        },
        {
         "customdata": [
          [
           "Netherlands"
          ]
         ],
         "hovertemplate": "<b>%{hovertext}</b><br><br>Country=%{customdata[0]}<br>Life expectancy=%{x}<br>GDP Per Capita=%{y}<extra></extra>",
         "hovertext": [
          "Netherlands"
         ],
         "legendgroup": "Netherlands",
         "marker": {
          "color": "#FFA15A",
          "symbol": "circle"
         },
         "mode": "markers",
         "name": "Netherlands",
         "orientation": "v",
         "showlegend": true,
         "x": [
          81.8
         ],
         "xaxis": "x",
         "y": [
          50500
         ],
         "yaxis": "y",
         "type": "scatter"
        },
        {
         "customdata": [
          [
           "Switzerland"
          ]
         ],
         "hovertemplate": "<b>%{hovertext}</b><br><br>Country=%{customdata[0]}<br>Life expectancy=%{x}<br>GDP Per Capita=%{y}<extra></extra>",
         "hovertext": [
          "Switzerland"
         ],
         "legendgroup": "Switzerland",
         "marker": {
          "color": "#19d3f3",
          "symbol": "circle"
         },
         "mode": "markers",
         "name": "Switzerland",
         "orientation": "v",
         "showlegend": true,
         "x": [
          84.3
         ],
         "xaxis": "x",
         "y": [
          59000
         ],
         "yaxis": "y",
         "type": "scatter"
        },
        {
         "customdata": [
          [
           "Sweden"
          ]
         ],
         "hovertemplate": "<b>%{hovertext}</b><br><br>Country=%{customdata[0]}<br>Life expectancy=%{x}<br>GDP Per Capita=%{y}<extra></extra>",
         "hovertext": [
          "Sweden"
         ],
         "legendgroup": "Sweden",
         "marker": {
          "color": "#FF6692",
          "symbol": "circle"
         },
         "mode": "markers",
         "name": "Sweden",
         "orientation": "v",
         "showlegend": true,
         "x": [
          82.8
         ],
         "xaxis": "x",
         "y": [
          47200
         ],
         "yaxis": "y",
         "type": "scatter"
        },
        {
         "customdata": [
          [
           "New Zealand"
          ]
         ],
         "hovertemplate": "<b>%{hovertext}</b><br><br>Country=%{customdata[0]}<br>Life expectancy=%{x}<br>GDP Per Capita=%{y}<extra></extra>",
         "hovertext": [
          "New Zealand"
         ],
         "legendgroup": "New Zealand",
         "marker": {
          "color": "#B6E880",
          "symbol": "circle"
         },
         "mode": "markers",
         "name": "New Zealand",
         "orientation": "v",
         "showlegend": true,
         "x": [
          81.9
         ],
         "xaxis": "x",
         "y": [
          36500
         ],
         "yaxis": "y",
         "type": "scatter"
        },
        {
         "customdata": [
          [
           "Canada"
          ]
         ],
         "hovertemplate": "<b>%{hovertext}</b><br><br>Country=%{customdata[0]}<br>Life expectancy=%{x}<br>GDP Per Capita=%{y}<extra></extra>",
         "hovertext": [
          "Canada"
         ],
         "legendgroup": "Canada",
         "marker": {
          "color": "#FF97FF",
          "symbol": "circle"
         },
         "mode": "markers",
         "name": "Canada",
         "orientation": "v",
         "showlegend": true,
         "x": [
          82.2
         ],
         "xaxis": "x",
         "y": [
          44200
         ],
         "yaxis": "y",
         "type": "scatter"
        },
        {
         "customdata": [
          [
           "Austria"
          ]
         ],
         "hovertemplate": "<b>%{hovertext}</b><br><br>Country=%{customdata[0]}<br>Life expectancy=%{x}<br>GDP Per Capita=%{y}<extra></extra>",
         "hovertext": [
          "Austria"
         ],
         "legendgroup": "Austria",
         "marker": {
          "color": "#FECB52",
          "symbol": "circle"
         },
         "mode": "markers",
         "name": "Austria",
         "orientation": "v",
         "showlegend": true,
         "x": [
          82.0
         ],
         "xaxis": "x",
         "y": [
          46900
         ],
         "yaxis": "y",
         "type": "scatter"
        },
        {
         "customdata": [
          [
           "Australia"
          ]
         ],
         "hovertemplate": "<b>%{hovertext}</b><br><br>Country=%{customdata[0]}<br>Life expectancy=%{x}<br>GDP Per Capita=%{y}<extra></extra>",
         "hovertext": [
          "Australia"
         ],
         "legendgroup": "Australia",
         "marker": {
          "color": "#636efa",
          "symbol": "circle"
         },
         "mode": "markers",
         "name": "Australia",
         "orientation": "v",
         "showlegend": true,
         "x": [
          82.7
         ],
         "xaxis": "x",
         "y": [
          45500
         ],
         "yaxis": "y",
         "type": "scatter"
        },
        {
         "customdata": [
          [
           "Costa Rica"
          ]
         ],
         "hovertemplate": "<b>%{hovertext}</b><br><br>Country=%{customdata[0]}<br>Life expectancy=%{x}<br>GDP Per Capita=%{y}<extra></extra>",
         "hovertext": [
          "Costa Rica"
         ],
         "legendgroup": "Costa Rica",
         "marker": {
          "color": "#EF553B",
          "symbol": "circle"
         },
         "mode": "markers",
         "name": "Costa Rica",
         "orientation": "v",
         "showlegend": true,
         "x": [
          79.8
         ],
         "xaxis": "x",
         "y": [
          15800
         ],
         "yaxis": "y",
         "type": "scatter"
        },
        {
         "customdata": [
          [
           "Israel"
          ]
         ],
         "hovertemplate": "<b>%{hovertext}</b><br><br>Country=%{customdata[0]}<br>Life expectancy=%{x}<br>GDP Per Capita=%{y}<extra></extra>",
         "hovertext": [
          "Israel"
         ],
         "legendgroup": "Israel",
         "marker": {
          "color": "#00cc96",
          "symbol": "circle"
         },
         "mode": "markers",
         "name": "Israel",
         "orientation": "v",
         "showlegend": true,
         "x": [
          83.3
         ],
         "xaxis": "x",
         "y": [
          34100
         ],
         "yaxis": "y",
         "type": "scatter"
        },
        {
         "customdata": [
          [
           "Luxembourg"
          ]
         ],
         "hovertemplate": "<b>%{hovertext}</b><br><br>Country=%{customdata[0]}<br>Life expectancy=%{x}<br>GDP Per Capita=%{y}<extra></extra>",
         "hovertext": [
          "Luxembourg"
         ],
         "legendgroup": "Luxembourg",
         "marker": {
          "color": "#ab63fa",
          "symbol": "circle"
         },
         "mode": "markers",
         "name": "Luxembourg",
         "orientation": "v",
         "showlegend": true,
         "x": [
          82.0
         ],
         "xaxis": "x",
         "y": [
          94300
         ],
         "yaxis": "y",
         "type": "scatter"
        },
        {
         "customdata": [
          [
           "United Kingdom"
          ]
         ],
         "hovertemplate": "<b>%{hovertext}</b><br><br>Country=%{customdata[0]}<br>Life expectancy=%{x}<br>GDP Per Capita=%{y}<extra></extra>",
         "hovertext": [
          "United Kingdom"
         ],
         "legendgroup": "United Kingdom",
         "marker": {
          "color": "#FFA15A",
          "symbol": "circle"
         },
         "mode": "markers",
         "name": "United Kingdom",
         "orientation": "v",
         "showlegend": true,
         "x": [
          81.1
         ],
         "xaxis": "x",
         "y": [
          40400
         ],
         "yaxis": "y",
         "type": "scatter"
        },
        {
         "customdata": [
          [
           "Ireland"
          ]
         ],
         "hovertemplate": "<b>%{hovertext}</b><br><br>Country=%{customdata[0]}<br>Life expectancy=%{x}<br>GDP Per Capita=%{y}<extra></extra>",
         "hovertext": [
          "Ireland"
         ],
         "legendgroup": "Ireland",
         "marker": {
          "color": "#19d3f3",
          "symbol": "circle"
         },
         "mode": "markers",
         "name": "Ireland",
         "orientation": "v",
         "showlegend": true,
         "x": [
          82.3
         ],
         "xaxis": "x",
         "y": [
          72400
         ],
         "yaxis": "y",
         "type": "scatter"
        },
        {
         "customdata": [
          [
           "Germany"
          ]
         ],
         "hovertemplate": "<b>%{hovertext}</b><br><br>Country=%{customdata[0]}<br>Life expectancy=%{x}<br>GDP Per Capita=%{y}<extra></extra>",
         "hovertext": [
          "Germany"
         ],
         "legendgroup": "Germany",
         "marker": {
          "color": "#FF6692",
          "symbol": "circle"
         },
         "mode": "markers",
         "name": "Germany",
         "orientation": "v",
         "showlegend": true,
         "x": [
          80.9
         ],
         "xaxis": "x",
         "y": [
          46200
         ],
         "yaxis": "y",
         "type": "scatter"
        },
        {
         "customdata": [
          [
           "Belgium"
          ]
         ],
         "hovertemplate": "<b>%{hovertext}</b><br><br>Country=%{customdata[0]}<br>Life expectancy=%{x}<br>GDP Per Capita=%{y}<extra></extra>",
         "hovertext": [
          "Belgium"
         ],
         "legendgroup": "Belgium",
         "marker": {
          "color": "#B6E880",
          "symbol": "circle"
         },
         "mode": "markers",
         "name": "Belgium",
         "orientation": "v",
         "showlegend": true,
         "x": [
          81.7
         ],
         "xaxis": "x",
         "y": [
          43500
         ],
         "yaxis": "y",
         "type": "scatter"
        },
        {
         "customdata": [
          [
           "United States"
          ]
         ],
         "hovertemplate": "<b>%{hovertext}</b><br><br>Country=%{customdata[0]}<br>Life expectancy=%{x}<br>GDP Per Capita=%{y}<extra></extra>",
         "hovertext": [
          "United States"
         ],
         "legendgroup": "United States",
         "marker": {
          "color": "#FF97FF",
          "symbol": "circle"
         },
         "mode": "markers",
         "name": "United States",
         "orientation": "v",
         "showlegend": true,
         "x": [
          78.6
         ],
         "xaxis": "x",
         "y": [
          56700
         ],
         "yaxis": "y",
         "type": "scatter"
        },
        {
         "customdata": [
          [
           "Czech Republic"
          ]
         ],
         "hovertemplate": "<b>%{hovertext}</b><br><br>Country=%{customdata[0]}<br>Life expectancy=%{x}<br>GDP Per Capita=%{y}<extra></extra>",
         "hovertext": [
          "Czech Republic"
         ],
         "legendgroup": "Czech Republic",
         "marker": {
          "color": "#FECB52",
          "symbol": "circle"
         },
         "mode": "markers",
         "name": "Czech Republic",
         "orientation": "v",
         "showlegend": true,
         "x": [
          79.5
         ],
         "xaxis": "x",
         "y": [
          34100
         ],
         "yaxis": "y",
         "type": "scatter"
        },
        {
         "customdata": [
          [
           "United Arab Emirates"
          ]
         ],
         "hovertemplate": "<b>%{hovertext}</b><br><br>Country=%{customdata[0]}<br>Life expectancy=%{x}<br>GDP Per Capita=%{y}<extra></extra>",
         "hovertext": [
          "United Arab Emirates"
         ],
         "legendgroup": "United Arab Emirates",
         "marker": {
          "color": "#636efa",
          "symbol": "circle"
         },
         "mode": "markers",
         "name": "United Arab Emirates",
         "orientation": "v",
         "showlegend": true,
         "x": [
          73.6
         ],
         "xaxis": "x",
         "y": [
          65700
         ],
         "yaxis": "y",
         "type": "scatter"
        },
        {
         "customdata": [
          [
           "Malta"
          ]
         ],
         "hovertemplate": "<b>%{hovertext}</b><br><br>Country=%{customdata[0]}<br>Life expectancy=%{x}<br>GDP Per Capita=%{y}<extra></extra>",
         "hovertext": [
          "Malta"
         ],
         "legendgroup": "Malta",
         "marker": {
          "color": "#EF553B",
          "symbol": "circle"
         },
         "mode": "markers",
         "name": "Malta",
         "orientation": "v",
         "showlegend": true,
         "x": [
          81.3
         ],
         "xaxis": "x",
         "y": [
          39300
         ],
         "yaxis": "y",
         "type": "scatter"
        },
        {
         "customdata": [
          [
           "Mexico"
          ]
         ],
         "hovertemplate": "<b>%{hovertext}</b><br><br>Country=%{customdata[0]}<br>Life expectancy=%{x}<br>GDP Per Capita=%{y}<extra></extra>",
         "hovertext": [
          "Mexico"
         ],
         "legendgroup": "Mexico",
         "marker": {
          "color": "#00cc96",
          "symbol": "circle"
         },
         "mode": "markers",
         "name": "Mexico",
         "orientation": "v",
         "showlegend": true,
         "x": [
          75.6
         ],
         "xaxis": "x",
         "y": [
          18000
         ],
         "yaxis": "y",
         "type": "scatter"
        },
        {
         "customdata": [
          [
           "France"
          ]
         ],
         "hovertemplate": "<b>%{hovertext}</b><br><br>Country=%{customdata[0]}<br>Life expectancy=%{x}<br>GDP Per Capita=%{y}<extra></extra>",
         "hovertext": [
          "France"
         ],
         "legendgroup": "France",
         "marker": {
          "color": "#ab63fa",
          "symbol": "circle"
         },
         "mode": "markers",
         "name": "France",
         "orientation": "v",
         "showlegend": true,
         "x": [
          83.1
         ],
         "xaxis": "x",
         "y": [
          40000
         ],
         "yaxis": "y",
         "type": "scatter"
        },
        {
         "customdata": [
          [
           "Chile"
          ]
         ],
         "hovertemplate": "<b>%{hovertext}</b><br><br>Country=%{customdata[0]}<br>Life expectancy=%{x}<br>GDP Per Capita=%{y}<extra></extra>",
         "hovertext": [
          "Chile"
         ],
         "legendgroup": "Chile",
         "marker": {
          "color": "#FFA15A",
          "symbol": "circle"
         },
         "mode": "markers",
         "name": "Chile",
         "orientation": "v",
         "showlegend": true,
         "x": [
          80.0
         ],
         "xaxis": "x",
         "y": [
          23000
         ],
         "yaxis": "y",
         "type": "scatter"
        },
        {
         "customdata": [
          [
           "Guatemala"
          ]
         ],
         "hovertemplate": "<b>%{hovertext}</b><br><br>Country=%{customdata[0]}<br>Life expectancy=%{x}<br>GDP Per Capita=%{y}<extra></extra>",
         "hovertext": [
          "Guatemala"
         ],
         "legendgroup": "Guatemala",
         "marker": {
          "color": "#19d3f3",
          "symbol": "circle"
         },
         "mode": "markers",
         "name": "Guatemala",
         "orientation": "v",
         "showlegend": true,
         "x": [
          73.1
         ],
         "xaxis": "x",
         "y": [
          7610
         ],
         "yaxis": "y",
         "type": "scatter"
        },
        {
         "customdata": [
          [
           "Saudi Arabia"
          ]
         ],
         "hovertemplate": "<b>%{hovertext}</b><br><br>Country=%{customdata[0]}<br>Life expectancy=%{x}<br>GDP Per Capita=%{y}<extra></extra>",
         "hovertext": [
          "Saudi Arabia"
         ],
         "legendgroup": "Saudi Arabia",
         "marker": {
          "color": "#FF6692",
          "symbol": "circle"
         },
         "mode": "markers",
         "name": "Saudi Arabia",
         "orientation": "v",
         "showlegend": true,
         "x": [
          77.1
         ],
         "xaxis": "x",
         "y": [
          48100
         ],
         "yaxis": "y",
         "type": "scatter"
        },
        {
         "customdata": [
          [
           "Qatar"
          ]
         ],
         "hovertemplate": "<b>%{hovertext}</b><br><br>Country=%{customdata[0]}<br>Life expectancy=%{x}<br>GDP Per Capita=%{y}<extra></extra>",
         "hovertext": [
          "Qatar"
         ],
         "legendgroup": "Qatar",
         "marker": {
          "color": "#B6E880",
          "symbol": "circle"
         },
         "mode": "markers",
         "name": "Qatar",
         "orientation": "v",
         "showlegend": true,
         "x": [
          80.5
         ],
         "xaxis": "x",
         "y": [
          113000
         ],
         "yaxis": "y",
         "type": "scatter"
        },
        {
         "customdata": [
          [
           "Spain"
          ]
         ],
         "hovertemplate": "<b>%{hovertext}</b><br><br>Country=%{customdata[0]}<br>Life expectancy=%{x}<br>GDP Per Capita=%{y}<extra></extra>",
         "hovertext": [
          "Spain"
         ],
         "legendgroup": "Spain",
         "marker": {
          "color": "#FF97FF",
          "symbol": "circle"
         },
         "mode": "markers",
         "name": "Spain",
         "orientation": "v",
         "showlegend": true,
         "x": [
          83.3
         ],
         "xaxis": "x",
         "y": [
          35700
         ],
         "yaxis": "y",
         "type": "scatter"
        },
        {
         "customdata": [
          [
           "Panama"
          ]
         ],
         "hovertemplate": "<b>%{hovertext}</b><br><br>Country=%{customdata[0]}<br>Life expectancy=%{x}<br>GDP Per Capita=%{y}<extra></extra>",
         "hovertext": [
          "Panama"
         ],
         "legendgroup": "Panama",
         "marker": {
          "color": "#FECB52",
          "symbol": "circle"
         },
         "mode": "markers",
         "name": "Panama",
         "orientation": "v",
         "showlegend": true,
         "x": [
          79.7
         ],
         "xaxis": "x",
         "y": [
          23300
         ],
         "yaxis": "y",
         "type": "scatter"
        },
        {
         "customdata": [
          [
           "Brazil"
          ]
         ],
         "hovertemplate": "<b>%{hovertext}</b><br><br>Country=%{customdata[0]}<br>Life expectancy=%{x}<br>GDP Per Capita=%{y}<extra></extra>",
         "hovertext": [
          "Brazil"
         ],
         "legendgroup": "Brazil",
         "marker": {
          "color": "#636efa",
          "symbol": "circle"
         },
         "mode": "markers",
         "name": "Brazil",
         "orientation": "v",
         "showlegend": true,
         "x": [
          75.9
         ],
         "xaxis": "x",
         "y": [
          14300
         ],
         "yaxis": "y",
         "type": "scatter"
        },
        {
         "customdata": [
          [
           "Uruguay"
          ]
         ],
         "hovertemplate": "<b>%{hovertext}</b><br><br>Country=%{customdata[0]}<br>Life expectancy=%{x}<br>GDP Per Capita=%{y}<extra></extra>",
         "hovertext": [
          "Uruguay"
         ],
         "legendgroup": "Uruguay",
         "marker": {
          "color": "#EF553B",
          "symbol": "circle"
         },
         "mode": "markers",
         "name": "Uruguay",
         "orientation": "v",
         "showlegend": true,
         "x": [
          77.3
         ],
         "xaxis": "x",
         "y": [
          20900
         ],
         "yaxis": "y",
         "type": "scatter"
        },
        {
         "customdata": [
          [
           "Singapore"
          ]
         ],
         "hovertemplate": "<b>%{hovertext}</b><br><br>Country=%{customdata[0]}<br>Life expectancy=%{x}<br>GDP Per Capita=%{y}<extra></extra>",
         "hovertext": [
          "Singapore"
         ],
         "legendgroup": "Singapore",
         "marker": {
          "color": "#00cc96",
          "symbol": "circle"
         },
         "mode": "markers",
         "name": "Singapore",
         "orientation": "v",
         "showlegend": true,
         "x": [
          85.1
         ],
         "xaxis": "x",
         "y": [
          90100
         ],
         "yaxis": "y",
         "type": "scatter"
        },
        {
         "customdata": [
          [
           "El Salvador"
          ]
         ],
         "hovertemplate": "<b>%{hovertext}</b><br><br>Country=%{customdata[0]}<br>Life expectancy=%{x}<br>GDP Per Capita=%{y}<extra></extra>",
         "hovertext": [
          "El Salvador"
         ],
         "legendgroup": "El Salvador",
         "marker": {
          "color": "#ab63fa",
          "symbol": "circle"
         },
         "mode": "markers",
         "name": "El Salvador",
         "orientation": "v",
         "showlegend": true,
         "x": [
          74.5
         ],
         "xaxis": "x",
         "y": [
          7510
         ],
         "yaxis": "y",
         "type": "scatter"
        },
        {
         "customdata": [
          [
           "Italy"
          ]
         ],
         "hovertemplate": "<b>%{hovertext}</b><br><br>Country=%{customdata[0]}<br>Life expectancy=%{x}<br>GDP Per Capita=%{y}<extra></extra>",
         "hovertext": [
          "Italy"
         ],
         "legendgroup": "Italy",
         "marker": {
          "color": "#FFA15A",
          "symbol": "circle"
         },
         "mode": "markers",
         "name": "Italy",
         "orientation": "v",
         "showlegend": true,
         "x": [
          83.5
         ],
         "xaxis": "x",
         "y": [
          35800
         ],
         "yaxis": "y",
         "type": "scatter"
        },
        {
         "customdata": [
          [
           "Bahrain"
          ]
         ],
         "hovertemplate": "<b>%{hovertext}</b><br><br>Country=%{customdata[0]}<br>Life expectancy=%{x}<br>GDP Per Capita=%{y}<extra></extra>",
         "hovertext": [
          "Bahrain"
         ],
         "legendgroup": "Bahrain",
         "marker": {
          "color": "#19d3f3",
          "symbol": "circle"
         },
         "mode": "markers",
         "name": "Bahrain",
         "orientation": "v",
         "showlegend": true,
         "x": [
          79.8
         ],
         "xaxis": "x",
         "y": [
          42000
         ],
         "yaxis": "y",
         "type": "scatter"
        },
        {
         "customdata": [
          [
           "Trinidad and Tobago"
          ]
         ],
         "hovertemplate": "<b>%{hovertext}</b><br><br>Country=%{customdata[0]}<br>Life expectancy=%{x}<br>GDP Per Capita=%{y}<extra></extra>",
         "hovertext": [
          "Trinidad and Tobago"
         ],
         "legendgroup": "Trinidad and Tobago",
         "marker": {
          "color": "#FF6692",
          "symbol": "circle"
         },
         "mode": "markers",
         "name": "Trinidad and Tobago",
         "orientation": "v",
         "showlegend": true,
         "x": [
          74.5
         ],
         "xaxis": "x",
         "y": [
          28500
         ],
         "yaxis": "y",
         "type": "scatter"
        },
        {
         "customdata": [
          [
           "Poland"
          ]
         ],
         "hovertemplate": "<b>%{hovertext}</b><br><br>Country=%{customdata[0]}<br>Life expectancy=%{x}<br>GDP Per Capita=%{y}<extra></extra>",
         "hovertext": [
          "Poland"
         ],
         "legendgroup": "Poland",
         "marker": {
          "color": "#B6E880",
          "symbol": "circle"
         },
         "mode": "markers",
         "name": "Poland",
         "orientation": "v",
         "showlegend": true,
         "x": [
          78.4
         ],
         "xaxis": "x",
         "y": [
          29900
         ],
         "yaxis": "y",
         "type": "scatter"
        },
        {
         "customdata": [
          [
           "Uzbekistan"
          ]
         ],
         "hovertemplate": "<b>%{hovertext}</b><br><br>Country=%{customdata[0]}<br>Life expectancy=%{x}<br>GDP Per Capita=%{y}<extra></extra>",
         "hovertext": [
          "Uzbekistan"
         ],
         "legendgroup": "Uzbekistan",
         "marker": {
          "color": "#FF97FF",
          "symbol": "circle"
         },
         "mode": "markers",
         "name": "Uzbekistan",
         "orientation": "v",
         "showlegend": true,
         "x": [
          70.7
         ],
         "xaxis": "x",
         "y": [
          6490
         ],
         "yaxis": "y",
         "type": "scatter"
        },
        {
         "customdata": [
          [
           "Lithuania"
          ]
         ],
         "hovertemplate": "<b>%{hovertext}</b><br><br>Country=%{customdata[0]}<br>Life expectancy=%{x}<br>GDP Per Capita=%{y}<extra></extra>",
         "hovertext": [
          "Lithuania"
         ],
         "legendgroup": "Lithuania",
         "marker": {
          "color": "#FECB52",
          "symbol": "circle"
         },
         "mode": "markers",
         "name": "Lithuania",
         "orientation": "v",
         "showlegend": true,
         "x": [
          75.4
         ],
         "xaxis": "x",
         "y": [
          32400
         ],
         "yaxis": "y",
         "type": "scatter"
        },
        {
         "customdata": [
          [
           "Colombia"
          ]
         ],
         "hovertemplate": "<b>%{hovertext}</b><br><br>Country=%{customdata[0]}<br>Life expectancy=%{x}<br>GDP Per Capita=%{y}<extra></extra>",
         "hovertext": [
          "Colombia"
         ],
         "legendgroup": "Colombia",
         "marker": {
          "color": "#636efa",
          "symbol": "circle"
         },
         "mode": "markers",
         "name": "Colombia",
         "orientation": "v",
         "showlegend": true,
         "x": [
          80.5
         ],
         "xaxis": "x",
         "y": [
          13600
         ],
         "yaxis": "y",
         "type": "scatter"
        },
        {
         "customdata": [
          [
           "Slovenia"
          ]
         ],
         "hovertemplate": "<b>%{hovertext}</b><br><br>Country=%{customdata[0]}<br>Life expectancy=%{x}<br>GDP Per Capita=%{y}<extra></extra>",
         "hovertext": [
          "Slovenia"
         ],
         "legendgroup": "Slovenia",
         "marker": {
          "color": "#EF553B",
          "symbol": "circle"
         },
         "mode": "markers",
         "name": "Slovenia",
         "orientation": "v",
         "showlegend": true,
         "x": [
          81.4
         ],
         "xaxis": "x",
         "y": [
          33700
         ],
         "yaxis": "y",
         "type": "scatter"
        },
        {
         "customdata": [
          [
           "Nicaragua"
          ]
         ],
         "hovertemplate": "<b>%{hovertext}</b><br><br>Country=%{customdata[0]}<br>Life expectancy=%{x}<br>GDP Per Capita=%{y}<extra></extra>",
         "hovertext": [
          "Nicaragua"
         ],
         "legendgroup": "Nicaragua",
         "marker": {
          "color": "#00cc96",
          "symbol": "circle"
         },
         "mode": "markers",
         "name": "Nicaragua",
         "orientation": "v",
         "showlegend": true,
         "x": [
          79.2
         ],
         "xaxis": "x",
         "y": [
          4620
         ],
         "yaxis": "y",
         "type": "scatter"
        },
        {
         "customdata": [
          [
           "Argentina"
          ]
         ],
         "hovertemplate": "<b>%{hovertext}</b><br><br>Country=%{customdata[0]}<br>Life expectancy=%{x}<br>GDP Per Capita=%{y}<extra></extra>",
         "hovertext": [
          "Argentina"
         ],
         "legendgroup": "Argentina",
         "marker": {
          "color": "#ab63fa",
          "symbol": "circle"
         },
         "mode": "markers",
         "name": "Argentina",
         "orientation": "v",
         "showlegend": true,
         "x": [
          77.0
         ],
         "xaxis": "x",
         "y": [
          17500
         ],
         "yaxis": "y",
         "type": "scatter"
        },
        {
         "customdata": [
          [
           "Romania"
          ]
         ],
         "hovertemplate": "<b>%{hovertext}</b><br><br>Country=%{customdata[0]}<br>Life expectancy=%{x}<br>GDP Per Capita=%{y}<extra></extra>",
         "hovertext": [
          "Romania"
         ],
         "legendgroup": "Romania",
         "marker": {
          "color": "#FFA15A",
          "symbol": "circle"
         },
         "mode": "markers",
         "name": "Romania",
         "orientation": "v",
         "showlegend": true,
         "x": [
          75.4
         ],
         "xaxis": "x",
         "y": [
          25500
         ],
         "yaxis": "y",
         "type": "scatter"
        },
        {
         "customdata": [
          [
           "Cyprus"
          ]
         ],
         "hovertemplate": "<b>%{hovertext}</b><br><br>Country=%{customdata[0]}<br>Life expectancy=%{x}<br>GDP Per Capita=%{y}<extra></extra>",
         "hovertext": [
          "Cyprus"
         ],
         "legendgroup": "Cyprus",
         "marker": {
          "color": "#19d3f3",
          "symbol": "circle"
         },
         "mode": "markers",
         "name": "Cyprus",
         "orientation": "v",
         "showlegend": true,
         "x": [
          82.0
         ],
         "xaxis": "x",
         "y": [
          34500
         ],
         "yaxis": "y",
         "type": "scatter"
        },
        {
         "customdata": [
          [
           "Ecuador"
          ]
         ],
         "hovertemplate": "<b>%{hovertext}</b><br><br>Country=%{customdata[0]}<br>Life expectancy=%{x}<br>GDP Per Capita=%{y}<extra></extra>",
         "hovertext": [
          "Ecuador"
         ],
         "legendgroup": "Ecuador",
         "marker": {
          "color": "#FF6692",
          "symbol": "circle"
         },
         "mode": "markers",
         "name": "Ecuador",
         "orientation": "v",
         "showlegend": true,
         "x": [
          77.2
         ],
         "xaxis": "x",
         "y": [
          10200
         ],
         "yaxis": "y",
         "type": "scatter"
        },
        {
         "customdata": [
          [
           "Kuwait"
          ]
         ],
         "hovertemplate": "<b>%{hovertext}</b><br><br>Country=%{customdata[0]}<br>Life expectancy=%{x}<br>GDP Per Capita=%{y}<extra></extra>",
         "hovertext": [
          "Kuwait"
         ],
         "legendgroup": "Kuwait",
         "marker": {
          "color": "#B6E880",
          "symbol": "circle"
         },
         "mode": "markers",
         "name": "Kuwait",
         "orientation": "v",
         "showlegend": true,
         "x": [
          83.3
         ],
         "xaxis": "x",
         "y": [
          64100
         ],
         "yaxis": "y",
         "type": "scatter"
        },
        {
         "customdata": [
          [
           "Thailand"
          ]
         ],
         "hovertemplate": "<b>%{hovertext}</b><br><br>Country=%{customdata[0]}<br>Life expectancy=%{x}<br>GDP Per Capita=%{y}<extra></extra>",
         "hovertext": [
          "Thailand"
         ],
         "legendgroup": "Thailand",
         "marker": {
          "color": "#FF97FF",
          "symbol": "circle"
         },
         "mode": "markers",
         "name": "Thailand",
         "orientation": "v",
         "showlegend": true,
         "x": [
          78.6
         ],
         "xaxis": "x",
         "y": [
          17400
         ],
         "yaxis": "y",
         "type": "scatter"
        },
        {
         "customdata": [
          [
           "Latvia"
          ]
         ],
         "hovertemplate": "<b>%{hovertext}</b><br><br>Country=%{customdata[0]}<br>Life expectancy=%{x}<br>GDP Per Capita=%{y}<extra></extra>",
         "hovertext": [
          "Latvia"
         ],
         "legendgroup": "Latvia",
         "marker": {
          "color": "#FECB52",
          "symbol": "circle"
         },
         "mode": "markers",
         "name": "Latvia",
         "orientation": "v",
         "showlegend": true,
         "x": [
          75.4
         ],
         "xaxis": "x",
         "y": [
          27300
         ],
         "yaxis": "y",
         "type": "scatter"
        },
        {
         "customdata": [
          [
           "South Korea"
          ]
         ],
         "hovertemplate": "<b>%{hovertext}</b><br><br>Country=%{customdata[0]}<br>Life expectancy=%{x}<br>GDP Per Capita=%{y}<extra></extra>",
         "hovertext": [
          "South Korea"
         ],
         "legendgroup": "South Korea",
         "marker": {
          "color": "#636efa",
          "symbol": "circle"
         },
         "mode": "markers",
         "name": "South Korea",
         "orientation": "v",
         "showlegend": true,
         "x": [
          83.0
         ],
         "xaxis": "x",
         "y": [
          37300
         ],
         "yaxis": "y",
         "type": "scatter"
        },
        {
         "customdata": [
          [
           "Estonia"
          ]
         ],
         "hovertemplate": "<b>%{hovertext}</b><br><br>Country=%{customdata[0]}<br>Life expectancy=%{x}<br>GDP Per Capita=%{y}<extra></extra>",
         "hovertext": [
          "Estonia"
         ],
         "legendgroup": "Estonia",
         "marker": {
          "color": "#EF553B",
          "symbol": "circle"
         },
         "mode": "markers",
         "name": "Estonia",
         "orientation": "v",
         "showlegend": true,
         "x": [
          78.5
         ],
         "xaxis": "x",
         "y": [
          32000
         ],
         "yaxis": "y",
         "type": "scatter"
        },
        {
         "customdata": [
          [
           "Jamaica"
          ]
         ],
         "hovertemplate": "<b>%{hovertext}</b><br><br>Country=%{customdata[0]}<br>Life expectancy=%{x}<br>GDP Per Capita=%{y}<extra></extra>",
         "hovertext": [
          "Jamaica"
         ],
         "legendgroup": "Jamaica",
         "marker": {
          "color": "#00cc96",
          "symbol": "circle"
         },
         "mode": "markers",
         "name": "Jamaica",
         "orientation": "v",
         "showlegend": true,
         "x": [
          74.9
         ],
         "xaxis": "x",
         "y": [
          8310
         ],
         "yaxis": "y",
         "type": "scatter"
        },
        {
         "customdata": [
          [
           "Mauritius"
          ]
         ],
         "hovertemplate": "<b>%{hovertext}</b><br><br>Country=%{customdata[0]}<br>Life expectancy=%{x}<br>GDP Per Capita=%{y}<extra></extra>",
         "hovertext": [
          "Mauritius"
         ],
         "legendgroup": "Mauritius",
         "marker": {
          "color": "#ab63fa",
          "symbol": "circle"
         },
         "mode": "markers",
         "name": "Mauritius",
         "orientation": "v",
         "showlegend": true,
         "x": [
          75.0
         ],
         "xaxis": "x",
         "y": [
          21800
         ],
         "yaxis": "y",
         "type": "scatter"
        },
        {
         "customdata": [
          [
           "Japan"
          ]
         ],
         "hovertemplate": "<b>%{hovertext}</b><br><br>Country=%{customdata[0]}<br>Life expectancy=%{x}<br>GDP Per Capita=%{y}<extra></extra>",
         "hovertext": [
          "Japan"
         ],
         "legendgroup": "Japan",
         "marker": {
          "color": "#FFA15A",
          "symbol": "circle"
         },
         "mode": "markers",
         "name": "Japan",
         "orientation": "v",
         "showlegend": true,
         "x": [
          84.5
         ],
         "xaxis": "x",
         "y": [
          39700
         ],
         "yaxis": "y",
         "type": "scatter"
        },
        {
         "customdata": [
          [
           "Honduras"
          ]
         ],
         "hovertemplate": "<b>%{hovertext}</b><br><br>Country=%{customdata[0]}<br>Life expectancy=%{x}<br>GDP Per Capita=%{y}<extra></extra>",
         "hovertext": [
          "Honduras"
         ],
         "legendgroup": "Honduras",
         "marker": {
          "color": "#19d3f3",
          "symbol": "circle"
         },
         "mode": "markers",
         "name": "Honduras",
         "orientation": "v",
         "showlegend": true,
         "x": [
          74.3
         ],
         "xaxis": "x",
         "y": [
          4630
         ],
         "yaxis": "y",
         "type": "scatter"
        },
        {
         "customdata": [
          [
           "Kazakhstan"
          ]
         ],
         "hovertemplate": "<b>%{hovertext}</b><br><br>Country=%{customdata[0]}<br>Life expectancy=%{x}<br>GDP Per Capita=%{y}<extra></extra>",
         "hovertext": [
          "Kazakhstan"
         ],
         "legendgroup": "Kazakhstan",
         "marker": {
          "color": "#FF6692",
          "symbol": "circle"
         },
         "mode": "markers",
         "name": "Kazakhstan",
         "orientation": "v",
         "showlegend": true,
         "x": [
          72.8
         ],
         "xaxis": "x",
         "y": [
          25400
         ],
         "yaxis": "y",
         "type": "scatter"
        },
        {
         "customdata": [
          [
           "Bolivia"
          ]
         ],
         "hovertemplate": "<b>%{hovertext}</b><br><br>Country=%{customdata[0]}<br>Life expectancy=%{x}<br>GDP Per Capita=%{y}<extra></extra>",
         "hovertext": [
          "Bolivia"
         ],
         "legendgroup": "Bolivia",
         "marker": {
          "color": "#B6E880",
          "symbol": "circle"
         },
         "mode": "markers",
         "name": "Bolivia",
         "orientation": "v",
         "showlegend": true,
         "x": [
          73.3
         ],
         "xaxis": "x",
         "y": [
          7150
         ],
         "yaxis": "y",
         "type": "scatter"
        },
        {
         "customdata": [
          [
           "Hungary"
          ]
         ],
         "hovertemplate": "<b>%{hovertext}</b><br><br>Country=%{customdata[0]}<br>Life expectancy=%{x}<br>GDP Per Capita=%{y}<extra></extra>",
         "hovertext": [
          "Hungary"
         ],
         "legendgroup": "Hungary",
         "marker": {
          "color": "#FF97FF",
          "symbol": "circle"
         },
         "mode": "markers",
         "name": "Hungary",
         "orientation": "v",
         "showlegend": true,
         "x": [
          77.2
         ],
         "xaxis": "x",
         "y": [
          29600
         ],
         "yaxis": "y",
         "type": "scatter"
        },
        {
         "customdata": [
          [
           "Paraguay"
          ]
         ],
         "hovertemplate": "<b>%{hovertext}</b><br><br>Country=%{customdata[0]}<br>Life expectancy=%{x}<br>GDP Per Capita=%{y}<extra></extra>",
         "hovertext": [
          "Paraguay"
         ],
         "legendgroup": "Paraguay",
         "marker": {
          "color": "#FECB52",
          "symbol": "circle"
         },
         "mode": "markers",
         "name": "Paraguay",
         "orientation": "v",
         "showlegend": true,
         "x": [
          76.4
         ],
         "xaxis": "x",
         "y": [
          12000
         ],
         "yaxis": "y",
         "type": "scatter"
        },
        {
         "customdata": [
          [
           "Peru"
          ]
         ],
         "hovertemplate": "<b>%{hovertext}</b><br><br>Country=%{customdata[0]}<br>Life expectancy=%{x}<br>GDP Per Capita=%{y}<extra></extra>",
         "hovertext": [
          "Peru"
         ],
         "legendgroup": "Peru",
         "marker": {
          "color": "#636efa",
          "symbol": "circle"
         },
         "mode": "markers",
         "name": "Peru",
         "orientation": "v",
         "showlegend": true,
         "x": [
          80.8
         ],
         "xaxis": "x",
         "y": [
          13000
         ],
         "yaxis": "y",
         "type": "scatter"
        },
        {
         "customdata": [
          [
           "Portugal"
          ]
         ],
         "hovertemplate": "<b>%{hovertext}</b><br><br>Country=%{customdata[0]}<br>Life expectancy=%{x}<br>GDP Per Capita=%{y}<extra></extra>",
         "hovertext": [
          "Portugal"
         ],
         "legendgroup": "Portugal",
         "marker": {
          "color": "#EF553B",
          "symbol": "circle"
         },
         "mode": "markers",
         "name": "Portugal",
         "orientation": "v",
         "showlegend": true,
         "x": [
          81.8
         ],
         "xaxis": "x",
         "y": [
          29300
         ],
         "yaxis": "y",
         "type": "scatter"
        },
        {
         "customdata": [
          [
           "Pakistan"
          ]
         ],
         "hovertemplate": "<b>%{hovertext}</b><br><br>Country=%{customdata[0]}<br>Life expectancy=%{x}<br>GDP Per Capita=%{y}<extra></extra>",
         "hovertext": [
          "Pakistan"
         ],
         "legendgroup": "Pakistan",
         "marker": {
          "color": "#00cc96",
          "symbol": "circle"
         },
         "mode": "markers",
         "name": "Pakistan",
         "orientation": "v",
         "showlegend": true,
         "x": [
          67.2
         ],
         "xaxis": "x",
         "y": [
          5000
         ],
         "yaxis": "y",
         "type": "scatter"
        },
        {
         "customdata": [
          [
           "Russia"
          ]
         ],
         "hovertemplate": "<b>%{hovertext}</b><br><br>Country=%{customdata[0]}<br>Life expectancy=%{x}<br>GDP Per Capita=%{y}<extra></extra>",
         "hovertext": [
          "Russia"
         ],
         "legendgroup": "Russia",
         "marker": {
          "color": "#ab63fa",
          "symbol": "circle"
         },
         "mode": "markers",
         "name": "Russia",
         "orientation": "v",
         "showlegend": true,
         "x": [
          72.5
         ],
         "xaxis": "x",
         "y": [
          25700
         ],
         "yaxis": "y",
         "type": "scatter"
        },
        {
         "customdata": [
          [
           "Philippines"
          ]
         ],
         "hovertemplate": "<b>%{hovertext}</b><br><br>Country=%{customdata[0]}<br>Life expectancy=%{x}<br>GDP Per Capita=%{y}<extra></extra>",
         "hovertext": [
          "Philippines"
         ],
         "legendgroup": "Philippines",
         "marker": {
          "color": "#FFA15A",
          "symbol": "circle"
         },
         "mode": "markers",
         "name": "Philippines",
         "orientation": "v",
         "showlegend": true,
         "x": [
          70.0
         ],
         "xaxis": "x",
         "y": [
          8260
         ],
         "yaxis": "y",
         "type": "scatter"
        },
        {
         "customdata": [
          [
           "Serbia"
          ]
         ],
         "hovertemplate": "<b>%{hovertext}</b><br><br>Country=%{customdata[0]}<br>Life expectancy=%{x}<br>GDP Per Capita=%{y}<extra></extra>",
         "hovertext": [
          "Serbia"
         ],
         "legendgroup": "Serbia",
         "marker": {
          "color": "#19d3f3",
          "symbol": "circle"
         },
         "mode": "markers",
         "name": "Serbia",
         "orientation": "v",
         "showlegend": true,
         "x": [
          76.0
         ],
         "xaxis": "x",
         "y": [
          16700
         ],
         "yaxis": "y",
         "type": "scatter"
        },
        {
         "customdata": [
          [
           "Moldova"
          ]
         ],
         "hovertemplate": "<b>%{hovertext}</b><br><br>Country=%{customdata[0]}<br>Life expectancy=%{x}<br>GDP Per Capita=%{y}<extra></extra>",
         "hovertext": [
          "Moldova"
         ],
         "legendgroup": "Moldova",
         "marker": {
          "color": "#FF6692",
          "symbol": "circle"
         },
         "mode": "markers",
         "name": "Moldova",
         "orientation": "v",
         "showlegend": true,
         "x": [
          73.1
         ],
         "xaxis": "x",
         "y": [
          6720
         ],
         "yaxis": "y",
         "type": "scatter"
        },
        {
         "customdata": [
          [
           "Libya"
          ]
         ],
         "hovertemplate": "<b>%{hovertext}</b><br><br>Country=%{customdata[0]}<br>Life expectancy=%{x}<br>GDP Per Capita=%{y}<extra></extra>",
         "hovertext": [
          "Libya"
         ],
         "legendgroup": "Libya",
         "marker": {
          "color": "#B6E880",
          "symbol": "circle"
         },
         "mode": "markers",
         "name": "Libya",
         "orientation": "v",
         "showlegend": true,
         "x": [
          73.3
         ],
         "xaxis": "x",
         "y": [
          14800
         ],
         "yaxis": "y",
         "type": "scatter"
        },
        {
         "customdata": [
          [
           "Montenegro"
          ]
         ],
         "hovertemplate": "<b>%{hovertext}</b><br><br>Country=%{customdata[0]}<br>Life expectancy=%{x}<br>GDP Per Capita=%{y}<extra></extra>",
         "hovertext": [
          "Montenegro"
         ],
         "legendgroup": "Montenegro",
         "marker": {
          "color": "#FF97FF",
          "symbol": "circle"
         },
         "mode": "markers",
         "name": "Montenegro",
         "orientation": "v",
         "showlegend": true,
         "x": [
          76.7
         ],
         "xaxis": "x",
         "y": [
          17800
         ],
         "yaxis": "y",
         "type": "scatter"
        },
        {
         "customdata": [
          [
           "Tajikistan"
          ]
         ],
         "hovertemplate": "<b>%{hovertext}</b><br><br>Country=%{customdata[0]}<br>Life expectancy=%{x}<br>GDP Per Capita=%{y}<extra></extra>",
         "hovertext": [
          "Tajikistan"
         ],
         "legendgroup": "Tajikistan",
         "marker": {
          "color": "#FECB52",
          "symbol": "circle"
         },
         "mode": "markers",
         "name": "Tajikistan",
         "orientation": "v",
         "showlegend": true,
         "x": [
          70.8
         ],
         "xaxis": "x",
         "y": [
          3150
         ],
         "yaxis": "y",
         "type": "scatter"
        },
        {
         "customdata": [
          [
           "Croatia"
          ]
         ],
         "hovertemplate": "<b>%{hovertext}</b><br><br>Country=%{customdata[0]}<br>Life expectancy=%{x}<br>GDP Per Capita=%{y}<extra></extra>",
         "hovertext": [
          "Croatia"
         ],
         "legendgroup": "Croatia",
         "marker": {
          "color": "#636efa",
          "symbol": "circle"
         },
         "mode": "markers",
         "name": "Croatia",
         "orientation": "v",
         "showlegend": true,
         "x": [
          78.8
         ],
         "xaxis": "x",
         "y": [
          24500
         ],
         "yaxis": "y",
         "type": "scatter"
        },
        {
         "customdata": [
          [
           "Dominican Republic"
          ]
         ],
         "hovertemplate": "<b>%{hovertext}</b><br><br>Country=%{customdata[0]}<br>Life expectancy=%{x}<br>GDP Per Capita=%{y}<extra></extra>",
         "hovertext": [
          "Dominican Republic"
         ],
         "legendgroup": "Dominican Republic",
         "marker": {
          "color": "#EF553B",
          "symbol": "circle"
         },
         "mode": "markers",
         "name": "Dominican Republic",
         "orientation": "v",
         "showlegend": true,
         "x": [
          73.5
         ],
         "xaxis": "x",
         "y": [
          16400
         ],
         "yaxis": "y",
         "type": "scatter"
        },
        {
         "customdata": [
          [
           "Turkey"
          ]
         ],
         "hovertemplate": "<b>%{hovertext}</b><br><br>Country=%{customdata[0]}<br>Life expectancy=%{x}<br>GDP Per Capita=%{y}<extra></extra>",
         "hovertext": [
          "Turkey"
         ],
         "legendgroup": "Turkey",
         "marker": {
          "color": "#00cc96",
          "symbol": "circle"
         },
         "mode": "markers",
         "name": "Turkey",
         "orientation": "v",
         "showlegend": true,
         "x": [
          79.5
         ],
         "xaxis": "x",
         "y": [
          25000
         ],
         "yaxis": "y",
         "type": "scatter"
        },
        {
         "customdata": [
          [
           "Malaysia"
          ]
         ],
         "hovertemplate": "<b>%{hovertext}</b><br><br>Country=%{customdata[0]}<br>Life expectancy=%{x}<br>GDP Per Capita=%{y}<extra></extra>",
         "hovertext": [
          "Malaysia"
         ],
         "legendgroup": "Malaysia",
         "marker": {
          "color": "#ab63fa",
          "symbol": "circle"
         },
         "mode": "markers",
         "name": "Malaysia",
         "orientation": "v",
         "showlegend": true,
         "x": [
          75.0
         ],
         "xaxis": "x",
         "y": [
          29100
         ],
         "yaxis": "y",
         "type": "scatter"
        },
        {
         "customdata": [
          [
           "Belarus"
          ]
         ],
         "hovertemplate": "<b>%{hovertext}</b><br><br>Country=%{customdata[0]}<br>Life expectancy=%{x}<br>GDP Per Capita=%{y}<extra></extra>",
         "hovertext": [
          "Belarus"
         ],
         "legendgroup": "Belarus",
         "marker": {
          "color": "#FFA15A",
          "symbol": "circle"
         },
         "mode": "markers",
         "name": "Belarus",
         "orientation": "v",
         "showlegend": true,
         "x": [
          74.5
         ],
         "xaxis": "x",
         "y": [
          18000
         ],
         "yaxis": "y",
         "type": "scatter"
        },
        {
         "customdata": [
          [
           "Greece"
          ]
         ],
         "hovertemplate": "<b>%{hovertext}</b><br><br>Country=%{customdata[0]}<br>Life expectancy=%{x}<br>GDP Per Capita=%{y}<extra></extra>",
         "hovertext": [
          "Greece"
         ],
         "legendgroup": "Greece",
         "marker": {
          "color": "#19d3f3",
          "symbol": "circle"
         },
         "mode": "markers",
         "name": "Greece",
         "orientation": "v",
         "showlegend": true,
         "x": [
          81.3
         ],
         "xaxis": "x",
         "y": [
          25700
         ],
         "yaxis": "y",
         "type": "scatter"
        },
        {
         "customdata": [
          [
           "Mongolia"
          ]
         ],
         "hovertemplate": "<b>%{hovertext}</b><br><br>Country=%{customdata[0]}<br>Life expectancy=%{x}<br>GDP Per Capita=%{y}<extra></extra>",
         "hovertext": [
          "Mongolia"
         ],
         "legendgroup": "Mongolia",
         "marker": {
          "color": "#FF6692",
          "symbol": "circle"
         },
         "mode": "markers",
         "name": "Mongolia",
         "orientation": "v",
         "showlegend": true,
         "x": [
          69.3
         ],
         "xaxis": "x",
         "y": [
          12800
         ],
         "yaxis": "y",
         "type": "scatter"
        },
        {
         "customdata": [
          [
           "Nigeria"
          ]
         ],
         "hovertemplate": "<b>%{hovertext}</b><br><br>Country=%{customdata[0]}<br>Life expectancy=%{x}<br>GDP Per Capita=%{y}<extra></extra>",
         "hovertext": [
          "Nigeria"
         ],
         "legendgroup": "Nigeria",
         "marker": {
          "color": "#B6E880",
          "symbol": "circle"
         },
         "mode": "markers",
         "name": "Nigeria",
         "orientation": "v",
         "showlegend": true,
         "x": [
          65.2
         ],
         "xaxis": "x",
         "y": [
          5300
         ],
         "yaxis": "y",
         "type": "scatter"
        },
        {
         "customdata": [
          [
           "Turkmenistan"
          ]
         ],
         "hovertemplate": "<b>%{hovertext}</b><br><br>Country=%{customdata[0]}<br>Life expectancy=%{x}<br>GDP Per Capita=%{y}<extra></extra>",
         "hovertext": [
          "Turkmenistan"
         ],
         "legendgroup": "Turkmenistan",
         "marker": {
          "color": "#FF97FF",
          "symbol": "circle"
         },
         "mode": "markers",
         "name": "Turkmenistan",
         "orientation": "v",
         "showlegend": true,
         "x": [
          70.3
         ],
         "xaxis": "x",
         "y": [
          17600
         ],
         "yaxis": "y",
         "type": "scatter"
        },
        {
         "customdata": [
          [
           "Algeria"
          ]
         ],
         "hovertemplate": "<b>%{hovertext}</b><br><br>Country=%{customdata[0]}<br>Life expectancy=%{x}<br>GDP Per Capita=%{y}<extra></extra>",
         "hovertext": [
          "Algeria"
         ],
         "legendgroup": "Algeria",
         "marker": {
          "color": "#FECB52",
          "symbol": "circle"
         },
         "mode": "markers",
         "name": "Algeria",
         "orientation": "v",
         "showlegend": true,
         "x": [
          78.1
         ],
         "xaxis": "x",
         "y": [
          14000
         ],
         "yaxis": "y",
         "type": "scatter"
        },
        {
         "customdata": [
          [
           "Morocco"
          ]
         ],
         "hovertemplate": "<b>%{hovertext}</b><br><br>Country=%{customdata[0]}<br>Life expectancy=%{x}<br>GDP Per Capita=%{y}<extra></extra>",
         "hovertext": [
          "Morocco"
         ],
         "legendgroup": "Morocco",
         "marker": {
          "color": "#636efa",
          "symbol": "circle"
         },
         "mode": "markers",
         "name": "Morocco",
         "orientation": "v",
         "showlegend": true,
         "x": [
          74.4
         ],
         "xaxis": "x",
         "y": [
          7770
         ],
         "yaxis": "y",
         "type": "scatter"
        },
        {
         "customdata": [
          [
           "Azerbaijan"
          ]
         ],
         "hovertemplate": "<b>%{hovertext}</b><br><br>Country=%{customdata[0]}<br>Life expectancy=%{x}<br>GDP Per Capita=%{y}<extra></extra>",
         "hovertext": [
          "Azerbaijan"
         ],
         "legendgroup": "Azerbaijan",
         "marker": {
          "color": "#EF553B",
          "symbol": "circle"
         },
         "mode": "markers",
         "name": "Azerbaijan",
         "orientation": "v",
         "showlegend": true,
         "x": [
          71.1
         ],
         "xaxis": "x",
         "y": [
          16200
         ],
         "yaxis": "y",
         "type": "scatter"
        },
        {
         "customdata": [
          [
           "Lebanon"
          ]
         ],
         "hovertemplate": "<b>%{hovertext}</b><br><br>Country=%{customdata[0]}<br>Life expectancy=%{x}<br>GDP Per Capita=%{y}<extra></extra>",
         "hovertext": [
          "Lebanon"
         ],
         "legendgroup": "Lebanon",
         "marker": {
          "color": "#00cc96",
          "symbol": "circle"
         },
         "mode": "markers",
         "name": "Lebanon",
         "orientation": "v",
         "showlegend": true,
         "x": [
          78.1
         ],
         "xaxis": "x",
         "y": [
          11700
         ],
         "yaxis": "y",
         "type": "scatter"
        },
        {
         "customdata": [
          [
           "Indonesia"
          ]
         ],
         "hovertemplate": "<b>%{hovertext}</b><br><br>Country=%{customdata[0]}<br>Life expectancy=%{x}<br>GDP Per Capita=%{y}<extra></extra>",
         "hovertext": [
          "Indonesia"
         ],
         "legendgroup": "Indonesia",
         "marker": {
          "color": "#ab63fa",
          "symbol": "circle"
         },
         "mode": "markers",
         "name": "Indonesia",
         "orientation": "v",
         "showlegend": true,
         "x": [
          71.9
         ],
         "xaxis": "x",
         "y": [
          12100
         ],
         "yaxis": "y",
         "type": "scatter"
        },
        {
         "customdata": [
          [
           "China"
          ]
         ],
         "hovertemplate": "<b>%{hovertext}</b><br><br>Country=%{customdata[0]}<br>Life expectancy=%{x}<br>GDP Per Capita=%{y}<extra></extra>",
         "hovertext": [
          "China"
         ],
         "legendgroup": "China",
         "marker": {
          "color": "#FFA15A",
          "symbol": "circle"
         },
         "mode": "markers",
         "name": "China",
         "orientation": "v",
         "showlegend": true,
         "x": [
          77.5
         ],
         "xaxis": "x",
         "y": [
          17100
         ],
         "yaxis": "y",
         "type": "scatter"
        },
        {
         "customdata": [
          [
           "Vietnam"
          ]
         ],
         "hovertemplate": "<b>%{hovertext}</b><br><br>Country=%{customdata[0]}<br>Life expectancy=%{x}<br>GDP Per Capita=%{y}<extra></extra>",
         "hovertext": [
          "Vietnam"
         ],
         "legendgroup": "Vietnam",
         "marker": {
          "color": "#19d3f3",
          "symbol": "circle"
         },
         "mode": "markers",
         "name": "Vietnam",
         "orientation": "v",
         "showlegend": true,
         "x": [
          74.7
         ],
         "xaxis": "x",
         "y": [
          6970
         ],
         "yaxis": "y",
         "type": "scatter"
        },
        {
         "customdata": [
          [
           "Bhutan"
          ]
         ],
         "hovertemplate": "<b>%{hovertext}</b><br><br>Country=%{customdata[0]}<br>Life expectancy=%{x}<br>GDP Per Capita=%{y}<extra></extra>",
         "hovertext": [
          "Bhutan"
         ],
         "legendgroup": "Bhutan",
         "marker": {
          "color": "#FF6692",
          "symbol": "circle"
         },
         "mode": "markers",
         "name": "Bhutan",
         "orientation": "v",
         "showlegend": true,
         "x": [
          74.7
         ],
         "xaxis": "x",
         "y": [
          9710
         ],
         "yaxis": "y",
         "type": "scatter"
        },
        {
         "customdata": [
          [
           "Cameroon"
          ]
         ],
         "hovertemplate": "<b>%{hovertext}</b><br><br>Country=%{customdata[0]}<br>Life expectancy=%{x}<br>GDP Per Capita=%{y}<extra></extra>",
         "hovertext": [
          "Cameroon"
         ],
         "legendgroup": "Cameroon",
         "marker": {
          "color": "#B6E880",
          "symbol": "circle"
         },
         "mode": "markers",
         "name": "Cameroon",
         "orientation": "v",
         "showlegend": true,
         "x": [
          63.8
         ],
         "xaxis": "x",
         "y": [
          3400
         ],
         "yaxis": "y",
         "type": "scatter"
        },
        {
         "customdata": [
          [
           "Bulgaria"
          ]
         ],
         "hovertemplate": "<b>%{hovertext}</b><br><br>Country=%{customdata[0]}<br>Life expectancy=%{x}<br>GDP Per Capita=%{y}<extra></extra>",
         "hovertext": [
          "Bulgaria"
         ],
         "legendgroup": "Bulgaria",
         "marker": {
          "color": "#FF97FF",
          "symbol": "circle"
         },
         "mode": "markers",
         "name": "Bulgaria",
         "orientation": "v",
         "showlegend": true,
         "x": [
          75.1
         ],
         "xaxis": "x",
         "y": [
          20200
         ],
         "yaxis": "y",
         "type": "scatter"
        },
        {
         "customdata": [
          [
           "Ghana"
          ]
         ],
         "hovertemplate": "<b>%{hovertext}</b><br><br>Country=%{customdata[0]}<br>Life expectancy=%{x}<br>GDP Per Capita=%{y}<extra></extra>",
         "hovertext": [
          "Ghana"
         ],
         "legendgroup": "Ghana",
         "marker": {
          "color": "#FECB52",
          "symbol": "circle"
         },
         "mode": "markers",
         "name": "Ghana",
         "orientation": "v",
         "showlegend": true,
         "x": [
          66.1
         ],
         "xaxis": "x",
         "y": [
          4430
         ],
         "yaxis": "y",
         "type": "scatter"
        },
        {
         "customdata": [
          [
           "Nepal"
          ]
         ],
         "hovertemplate": "<b>%{hovertext}</b><br><br>Country=%{customdata[0]}<br>Life expectancy=%{x}<br>GDP Per Capita=%{y}<extra></extra>",
         "hovertext": [
          "Nepal"
         ],
         "legendgroup": "Nepal",
         "marker": {
          "color": "#636efa",
          "symbol": "circle"
         },
         "mode": "markers",
         "name": "Nepal",
         "orientation": "v",
         "showlegend": true,
         "x": [
          71.5
         ],
         "xaxis": "x",
         "y": [
          2880
         ],
         "yaxis": "y",
         "type": "scatter"
        },
        {
         "customdata": [
          [
           "Jordan"
          ]
         ],
         "hovertemplate": "<b>%{hovertext}</b><br><br>Country=%{customdata[0]}<br>Life expectancy=%{x}<br>GDP Per Capita=%{y}<extra></extra>",
         "hovertext": [
          "Jordan"
         ],
         "legendgroup": "Jordan",
         "marker": {
          "color": "#EF553B",
          "symbol": "circle"
         },
         "mode": "markers",
         "name": "Jordan",
         "orientation": "v",
         "showlegend": true,
         "x": [
          79.6
         ],
         "xaxis": "x",
         "y": [
          8350
         ],
         "yaxis": "y",
         "type": "scatter"
        },
        {
         "customdata": [
          [
           "Benin"
          ]
         ],
         "hovertemplate": "<b>%{hovertext}</b><br><br>Country=%{customdata[0]}<br>Life expectancy=%{x}<br>GDP Per Capita=%{y}<extra></extra>",
         "hovertext": [
          "Benin"
         ],
         "legendgroup": "Benin",
         "marker": {
          "color": "#00cc96",
          "symbol": "circle"
         },
         "mode": "markers",
         "name": "Benin",
         "orientation": "v",
         "showlegend": true,
         "x": [
          65.3
         ],
         "xaxis": "x",
         "y": [
          2230
         ],
         "yaxis": "y",
         "type": "scatter"
        },
        {
         "customdata": [
          [
           "Gabon"
          ]
         ],
         "hovertemplate": "<b>%{hovertext}</b><br><br>Country=%{customdata[0]}<br>Life expectancy=%{x}<br>GDP Per Capita=%{y}<extra></extra>",
         "hovertext": [
          "Gabon"
         ],
         "legendgroup": "Gabon",
         "marker": {
          "color": "#ab63fa",
          "symbol": "circle"
         },
         "mode": "markers",
         "name": "Gabon",
         "orientation": "v",
         "showlegend": true,
         "x": [
          69.0
         ],
         "xaxis": "x",
         "y": [
          16200
         ],
         "yaxis": "y",
         "type": "scatter"
        },
        {
         "customdata": [
          [
           "South Africa"
          ]
         ],
         "hovertemplate": "<b>%{hovertext}</b><br><br>Country=%{customdata[0]}<br>Life expectancy=%{x}<br>GDP Per Capita=%{y}<extra></extra>",
         "hovertext": [
          "South Africa"
         ],
         "legendgroup": "South Africa",
         "marker": {
          "color": "#FFA15A",
          "symbol": "circle"
         },
         "mode": "markers",
         "name": "South Africa",
         "orientation": "v",
         "showlegend": true,
         "x": [
          66.9
         ],
         "xaxis": "x",
         "y": [
          12000
         ],
         "yaxis": "y",
         "type": "scatter"
        },
        {
         "customdata": [
          [
           "Albania"
          ]
         ],
         "hovertemplate": "<b>%{hovertext}</b><br><br>Country=%{customdata[0]}<br>Life expectancy=%{x}<br>GDP Per Capita=%{y}<extra></extra>",
         "hovertext": [
          "Albania"
         ],
         "legendgroup": "Albania",
         "marker": {
          "color": "#19d3f3",
          "symbol": "circle"
         },
         "mode": "markers",
         "name": "Albania",
         "orientation": "v",
         "showlegend": true,
         "x": [
          78.5
         ],
         "xaxis": "x",
         "y": [
          12700
         ],
         "yaxis": "y",
         "type": "scatter"
        },
        {
         "customdata": [
          [
           "Venezuela"
          ]
         ],
         "hovertemplate": "<b>%{hovertext}</b><br><br>Country=%{customdata[0]}<br>Life expectancy=%{x}<br>GDP Per Capita=%{y}<extra></extra>",
         "hovertext": [
          "Venezuela"
         ],
         "legendgroup": "Venezuela",
         "marker": {
          "color": "#FF6692",
          "symbol": "circle"
         },
         "mode": "markers",
         "name": "Venezuela",
         "orientation": "v",
         "showlegend": true,
         "x": [
          75.1
         ],
         "xaxis": "x",
         "y": [
          9720
         ],
         "yaxis": "y",
         "type": "scatter"
        },
        {
         "customdata": [
          [
           "Cambodia"
          ]
         ],
         "hovertemplate": "<b>%{hovertext}</b><br><br>Country=%{customdata[0]}<br>Life expectancy=%{x}<br>GDP Per Capita=%{y}<extra></extra>",
         "hovertext": [
          "Cambodia"
         ],
         "legendgroup": "Cambodia",
         "marker": {
          "color": "#B6E880",
          "symbol": "circle"
         },
         "mode": "markers",
         "name": "Cambodia",
         "orientation": "v",
         "showlegend": true,
         "x": [
          70.4
         ],
         "xaxis": "x",
         "y": [
          4080
         ],
         "yaxis": "y",
         "type": "scatter"
        },
        {
         "customdata": [
          [
           "Senegal"
          ]
         ],
         "hovertemplate": "<b>%{hovertext}</b><br><br>Country=%{customdata[0]}<br>Life expectancy=%{x}<br>GDP Per Capita=%{y}<extra></extra>",
         "hovertext": [
          "Senegal"
         ],
         "legendgroup": "Senegal",
         "marker": {
          "color": "#FF97FF",
          "symbol": "circle"
         },
         "mode": "markers",
         "name": "Senegal",
         "orientation": "v",
         "showlegend": true,
         "x": [
          68.6
         ],
         "xaxis": "x",
         "y": [
          3460
         ],
         "yaxis": "y",
         "type": "scatter"
        },
        {
         "customdata": [
          [
           "Somalia"
          ]
         ],
         "hovertemplate": "<b>%{hovertext}</b><br><br>Country=%{customdata[0]}<br>Life expectancy=%{x}<br>GDP Per Capita=%{y}<extra></extra>",
         "hovertext": [
          "Somalia"
         ],
         "legendgroup": "Somalia",
         "marker": {
          "color": "#FECB52",
          "symbol": "circle"
         },
         "mode": "markers",
         "name": "Somalia",
         "orientation": "v",
         "showlegend": true,
         "x": [
          59.2
         ],
         "xaxis": "x",
         "y": [
          631
         ],
         "yaxis": "y",
         "type": "scatter"
        },
        {
         "customdata": [
          [
           "Namibia"
          ]
         ],
         "hovertemplate": "<b>%{hovertext}</b><br><br>Country=%{customdata[0]}<br>Life expectancy=%{x}<br>GDP Per Capita=%{y}<extra></extra>",
         "hovertext": [
          "Namibia"
         ],
         "legendgroup": "Namibia",
         "marker": {
          "color": "#636efa",
          "symbol": "circle"
         },
         "mode": "markers",
         "name": "Namibia",
         "orientation": "v",
         "showlegend": true,
         "x": [
          67.2
         ],
         "xaxis": "x",
         "y": [
          9700
         ],
         "yaxis": "y",
         "type": "scatter"
        },
        {
         "customdata": [
          [
           "Niger"
          ]
         ],
         "hovertemplate": "<b>%{hovertext}</b><br><br>Country=%{customdata[0]}<br>Life expectancy=%{x}<br>GDP Per Capita=%{y}<extra></extra>",
         "hovertext": [
          "Niger"
         ],
         "legendgroup": "Niger",
         "marker": {
          "color": "#EF553B",
          "symbol": "circle"
         },
         "mode": "markers",
         "name": "Niger",
         "orientation": "v",
         "showlegend": true,
         "x": [
          63.2
         ],
         "xaxis": "x",
         "y": [
          954
         ],
         "yaxis": "y",
         "type": "scatter"
        },
        {
         "customdata": [
          [
           "Burkina Faso"
          ]
         ],
         "hovertemplate": "<b>%{hovertext}</b><br><br>Country=%{customdata[0]}<br>Life expectancy=%{x}<br>GDP Per Capita=%{y}<extra></extra>",
         "hovertext": [
          "Burkina Faso"
         ],
         "legendgroup": "Burkina Faso",
         "marker": {
          "color": "#00cc96",
          "symbol": "circle"
         },
         "mode": "markers",
         "name": "Burkina Faso",
         "orientation": "v",
         "showlegend": true,
         "x": [
          62.5
         ],
         "xaxis": "x",
         "y": [
          1810
         ],
         "yaxis": "y",
         "type": "scatter"
        },
        {
         "customdata": [
          [
           "Armenia"
          ]
         ],
         "hovertemplate": "<b>%{hovertext}</b><br><br>Country=%{customdata[0]}<br>Life expectancy=%{x}<br>GDP Per Capita=%{y}<extra></extra>",
         "hovertext": [
          "Armenia"
         ],
         "legendgroup": "Armenia",
         "marker": {
          "color": "#ab63fa",
          "symbol": "circle"
         },
         "mode": "markers",
         "name": "Armenia",
         "orientation": "v",
         "showlegend": true,
         "x": [
          75.9
         ],
         "xaxis": "x",
         "y": [
          9730
         ],
         "yaxis": "y",
         "type": "scatter"
        },
        {
         "customdata": [
          [
           "Iran"
          ]
         ],
         "hovertemplate": "<b>%{hovertext}</b><br><br>Country=%{customdata[0]}<br>Life expectancy=%{x}<br>GDP Per Capita=%{y}<extra></extra>",
         "hovertext": [
          "Iran"
         ],
         "legendgroup": "Iran",
         "marker": {
          "color": "#FFA15A",
          "symbol": "circle"
         },
         "mode": "markers",
         "name": "Iran",
         "orientation": "v",
         "showlegend": true,
         "x": [
          77.8
         ],
         "xaxis": "x",
         "y": [
          16100
         ],
         "yaxis": "y",
         "type": "scatter"
        },
        {
         "customdata": [
          [
           "Guinea"
          ]
         ],
         "hovertemplate": "<b>%{hovertext}</b><br><br>Country=%{customdata[0]}<br>Life expectancy=%{x}<br>GDP Per Capita=%{y}<extra></extra>",
         "hovertext": [
          "Guinea"
         ],
         "legendgroup": "Guinea",
         "marker": {
          "color": "#19d3f3",
          "symbol": "circle"
         },
         "mode": "markers",
         "name": "Guinea",
         "orientation": "v",
         "showlegend": true,
         "x": [
          61.6
         ],
         "xaxis": "x",
         "y": [
          2420
         ],
         "yaxis": "y",
         "type": "scatter"
        },
        {
         "customdata": [
          [
           "Georgia"
          ]
         ],
         "hovertemplate": "<b>%{hovertext}</b><br><br>Country=%{customdata[0]}<br>Life expectancy=%{x}<br>GDP Per Capita=%{y}<extra></extra>",
         "hovertext": [
          "Georgia"
         ],
         "legendgroup": "Georgia",
         "marker": {
          "color": "#FF6692",
          "symbol": "circle"
         },
         "mode": "markers",
         "name": "Georgia",
         "orientation": "v",
         "showlegend": true,
         "x": [
          73.2
         ],
         "xaxis": "x",
         "y": [
          10700
         ],
         "yaxis": "y",
         "type": "scatter"
        },
        {
         "customdata": [
          [
           "Gambia"
          ]
         ],
         "hovertemplate": "<b>%{hovertext}</b><br><br>Country=%{customdata[0]}<br>Life expectancy=%{x}<br>GDP Per Capita=%{y}<extra></extra>",
         "hovertext": [
          "Gambia"
         ],
         "legendgroup": "Gambia",
         "marker": {
          "color": "#B6E880",
          "symbol": "circle"
         },
         "mode": "markers",
         "name": "Gambia",
         "orientation": "v",
         "showlegend": true,
         "x": [
          66.4
         ],
         "xaxis": "x",
         "y": [
          1570
         ],
         "yaxis": "y",
         "type": "scatter"
        },
        {
         "customdata": [
          [
           "Kenya"
          ]
         ],
         "hovertemplate": "<b>%{hovertext}</b><br><br>Country=%{customdata[0]}<br>Life expectancy=%{x}<br>GDP Per Capita=%{y}<extra></extra>",
         "hovertext": [
          "Kenya"
         ],
         "legendgroup": "Kenya",
         "marker": {
          "color": "#FF97FF",
          "symbol": "circle"
         },
         "mode": "markers",
         "name": "Kenya",
         "orientation": "v",
         "showlegend": true,
         "x": [
          66.7
         ],
         "xaxis": "x",
         "y": [
          3160
         ],
         "yaxis": "y",
         "type": "scatter"
        },
        {
         "customdata": [
          [
           "Mauritania"
          ]
         ],
         "hovertemplate": "<b>%{hovertext}</b><br><br>Country=%{customdata[0]}<br>Life expectancy=%{x}<br>GDP Per Capita=%{y}<extra></extra>",
         "hovertext": [
          "Mauritania"
         ],
         "legendgroup": "Mauritania",
         "marker": {
          "color": "#FECB52",
          "symbol": "circle"
         },
         "mode": "markers",
         "name": "Mauritania",
         "orientation": "v",
         "showlegend": true,
         "x": [
          71.0
         ],
         "xaxis": "x",
         "y": [
          3890
         ],
         "yaxis": "y",
         "type": "scatter"
        },
        {
         "customdata": [
          [
           "Mozambique"
          ]
         ],
         "hovertemplate": "<b>%{hovertext}</b><br><br>Country=%{customdata[0]}<br>Life expectancy=%{x}<br>GDP Per Capita=%{y}<extra></extra>",
         "hovertext": [
          "Mozambique"
         ],
         "legendgroup": "Mozambique",
         "marker": {
          "color": "#636efa",
          "symbol": "circle"
         },
         "mode": "markers",
         "name": "Mozambique",
         "orientation": "v",
         "showlegend": true,
         "x": [
          59.9
         ],
         "xaxis": "x",
         "y": [
          1170
         ],
         "yaxis": "y",
         "type": "scatter"
        },
        {
         "customdata": [
          [
           "Tunisia"
          ]
         ],
         "hovertemplate": "<b>%{hovertext}</b><br><br>Country=%{customdata[0]}<br>Life expectancy=%{x}<br>GDP Per Capita=%{y}<extra></extra>",
         "hovertext": [
          "Tunisia"
         ],
         "legendgroup": "Tunisia",
         "marker": {
          "color": "#EF553B",
          "symbol": "circle"
         },
         "mode": "markers",
         "name": "Tunisia",
         "orientation": "v",
         "showlegend": true,
         "x": [
          78.7
         ],
         "xaxis": "x",
         "y": [
          11100
         ],
         "yaxis": "y",
         "type": "scatter"
        },
        {
         "customdata": [
          [
           "Bangladesh"
          ]
         ],
         "hovertemplate": "<b>%{hovertext}</b><br><br>Country=%{customdata[0]}<br>Life expectancy=%{x}<br>GDP Per Capita=%{y}<extra></extra>",
         "hovertext": [
          "Bangladesh"
         ],
         "legendgroup": "Bangladesh",
         "marker": {
          "color": "#00cc96",
          "symbol": "circle"
         },
         "mode": "markers",
         "name": "Bangladesh",
         "orientation": "v",
         "showlegend": true,
         "x": [
          73.7
         ],
         "xaxis": "x",
         "y": [
          4140
         ],
         "yaxis": "y",
         "type": "scatter"
        },
        {
         "customdata": [
          [
           "Iraq"
          ]
         ],
         "hovertemplate": "<b>%{hovertext}</b><br><br>Country=%{customdata[0]}<br>Life expectancy=%{x}<br>GDP Per Capita=%{y}<extra></extra>",
         "hovertext": [
          "Iraq"
         ],
         "legendgroup": "Iraq",
         "marker": {
          "color": "#ab63fa",
          "symbol": "circle"
         },
         "mode": "markers",
         "name": "Iraq",
         "orientation": "v",
         "showlegend": true,
         "x": [
          77.1
         ],
         "xaxis": "x",
         "y": [
          15700
         ],
         "yaxis": "y",
         "type": "scatter"
        },
        {
         "customdata": [
          [
           "Mali"
          ]
         ],
         "hovertemplate": "<b>%{hovertext}</b><br><br>Country=%{customdata[0]}<br>Life expectancy=%{x}<br>GDP Per Capita=%{y}<extra></extra>",
         "hovertext": [
          "Mali"
         ],
         "legendgroup": "Mali",
         "marker": {
          "color": "#FFA15A",
          "symbol": "circle"
         },
         "mode": "markers",
         "name": "Mali",
         "orientation": "v",
         "showlegend": true,
         "x": [
          62.9
         ],
         "xaxis": "x",
         "y": [
          2100
         ],
         "yaxis": "y",
         "type": "scatter"
        },
        {
         "customdata": [
          [
           "Sierra Leone"
          ]
         ],
         "hovertemplate": "<b>%{hovertext}</b><br><br>Country=%{customdata[0]}<br>Life expectancy=%{x}<br>GDP Per Capita=%{y}<extra></extra>",
         "hovertext": [
          "Sierra Leone"
         ],
         "legendgroup": "Sierra Leone",
         "marker": {
          "color": "#19d3f3",
          "symbol": "circle"
         },
         "mode": "markers",
         "name": "Sierra Leone",
         "orientation": "v",
         "showlegend": true,
         "x": [
          61.3
         ],
         "xaxis": "x",
         "y": [
          1460
         ],
         "yaxis": "y",
         "type": "scatter"
        },
        {
         "customdata": [
          [
           "Sri Lanka"
          ]
         ],
         "hovertemplate": "<b>%{hovertext}</b><br><br>Country=%{customdata[0]}<br>Life expectancy=%{x}<br>GDP Per Capita=%{y}<extra></extra>",
         "hovertext": [
          "Sri Lanka"
         ],
         "legendgroup": "Sri Lanka",
         "marker": {
          "color": "#FF6692",
          "symbol": "circle"
         },
         "mode": "markers",
         "name": "Sri Lanka",
         "orientation": "v",
         "showlegend": true,
         "x": [
          77.8
         ],
         "xaxis": "x",
         "y": [
          12100
         ],
         "yaxis": "y",
         "type": "scatter"
        },
        {
         "customdata": [
          [
           "Myanmar"
          ]
         ],
         "hovertemplate": "<b>%{hovertext}</b><br><br>Country=%{customdata[0]}<br>Life expectancy=%{x}<br>GDP Per Capita=%{y}<extra></extra>",
         "hovertext": [
          "Myanmar"
         ],
         "legendgroup": "Myanmar",
         "marker": {
          "color": "#B6E880",
          "symbol": "circle"
         },
         "mode": "markers",
         "name": "Myanmar",
         "orientation": "v",
         "showlegend": true,
         "x": [
          69.1
         ],
         "xaxis": "x",
         "y": [
          6270
         ],
         "yaxis": "y",
         "type": "scatter"
        },
        {
         "customdata": [
          [
           "Chad"
          ]
         ],
         "hovertemplate": "<b>%{hovertext}</b><br><br>Country=%{customdata[0]}<br>Life expectancy=%{x}<br>GDP Per Capita=%{y}<extra></extra>",
         "hovertext": [
          "Chad"
         ],
         "legendgroup": "Chad",
         "marker": {
          "color": "#FF97FF",
          "symbol": "circle"
         },
         "mode": "markers",
         "name": "Chad",
         "orientation": "v",
         "showlegend": true,
         "x": [
          60.6
         ],
         "xaxis": "x",
         "y": [
          1740
         ],
         "yaxis": "y",
         "type": "scatter"
        },
        {
         "customdata": [
          [
           "Ukraine"
          ]
         ],
         "hovertemplate": "<b>%{hovertext}</b><br><br>Country=%{customdata[0]}<br>Life expectancy=%{x}<br>GDP Per Capita=%{y}<extra></extra>",
         "hovertext": [
          "Ukraine"
         ],
         "legendgroup": "Ukraine",
         "marker": {
          "color": "#FECB52",
          "symbol": "circle"
         },
         "mode": "markers",
         "name": "Ukraine",
         "orientation": "v",
         "showlegend": true,
         "x": [
          70.8
         ],
         "xaxis": "x",
         "y": [
          8480
         ],
         "yaxis": "y",
         "type": "scatter"
        },
        {
         "customdata": [
          [
           "Ethiopia"
          ]
         ],
         "hovertemplate": "<b>%{hovertext}</b><br><br>Country=%{customdata[0]}<br>Life expectancy=%{x}<br>GDP Per Capita=%{y}<extra></extra>",
         "hovertext": [
          "Ethiopia"
         ],
         "legendgroup": "Ethiopia",
         "marker": {
          "color": "#636efa",
          "symbol": "circle"
         },
         "mode": "markers",
         "name": "Ethiopia",
         "orientation": "v",
         "showlegend": true,
         "x": [
          69.1
         ],
         "xaxis": "x",
         "y": [
          1900
         ],
         "yaxis": "y",
         "type": "scatter"
        },
        {
         "customdata": [
          [
           "Swaziland"
          ]
         ],
         "hovertemplate": "<b>%{hovertext}</b><br><br>Country=%{customdata[0]}<br>Life expectancy=%{x}<br>GDP Per Capita=%{y}<extra></extra>",
         "hovertext": [
          "Swaziland"
         ],
         "legendgroup": "Swaziland",
         "marker": {
          "color": "#EF553B",
          "symbol": "circle"
         },
         "mode": "markers",
         "name": "Swaziland",
         "orientation": "v",
         "showlegend": true,
         "x": [
          61.8
         ],
         "xaxis": "x",
         "y": [
          9560
         ],
         "yaxis": "y",
         "type": "scatter"
        },
        {
         "customdata": [
          [
           "Uganda"
          ]
         ],
         "hovertemplate": "<b>%{hovertext}</b><br><br>Country=%{customdata[0]}<br>Life expectancy=%{x}<br>GDP Per Capita=%{y}<extra></extra>",
         "hovertext": [
          "Uganda"
         ],
         "legendgroup": "Uganda",
         "marker": {
          "color": "#00cc96",
          "symbol": "circle"
         },
         "mode": "markers",
         "name": "Uganda",
         "orientation": "v",
         "showlegend": true,
         "x": [
          66.6
         ],
         "xaxis": "x",
         "y": [
          1870
         ],
         "yaxis": "y",
         "type": "scatter"
        },
        {
         "customdata": [
          [
           "Egypt"
          ]
         ],
         "hovertemplate": "<b>%{hovertext}</b><br><br>Country=%{customdata[0]}<br>Life expectancy=%{x}<br>GDP Per Capita=%{y}<extra></extra>",
         "hovertext": [
          "Egypt"
         ],
         "legendgroup": "Egypt",
         "marker": {
          "color": "#ab63fa",
          "symbol": "circle"
         },
         "mode": "markers",
         "name": "Egypt",
         "orientation": "v",
         "showlegend": true,
         "x": [
          71.0
         ],
         "xaxis": "x",
         "y": [
          11400
         ],
         "yaxis": "y",
         "type": "scatter"
        },
        {
         "customdata": [
          [
           "Zambia"
          ]
         ],
         "hovertemplate": "<b>%{hovertext}</b><br><br>Country=%{customdata[0]}<br>Life expectancy=%{x}<br>GDP Per Capita=%{y}<extra></extra>",
         "hovertext": [
          "Zambia"
         ],
         "legendgroup": "Zambia",
         "marker": {
          "color": "#FFA15A",
          "symbol": "circle"
         },
         "mode": "markers",
         "name": "Zambia",
         "orientation": "v",
         "showlegend": true,
         "x": [
          64.0
         ],
         "xaxis": "x",
         "y": [
          3700
         ],
         "yaxis": "y",
         "type": "scatter"
        },
        {
         "customdata": [
          [
           "Togo"
          ]
         ],
         "hovertemplate": "<b>%{hovertext}</b><br><br>Country=%{customdata[0]}<br>Life expectancy=%{x}<br>GDP Per Capita=%{y}<extra></extra>",
         "hovertext": [
          "Togo"
         ],
         "legendgroup": "Togo",
         "marker": {
          "color": "#19d3f3",
          "symbol": "circle"
         },
         "mode": "markers",
         "name": "Togo",
         "orientation": "v",
         "showlegend": true,
         "x": [
          65.0
         ],
         "xaxis": "x",
         "y": [
          1610
         ],
         "yaxis": "y",
         "type": "scatter"
        },
        {
         "customdata": [
          [
           "India"
          ]
         ],
         "hovertemplate": "<b>%{hovertext}</b><br><br>Country=%{customdata[0]}<br>Life expectancy=%{x}<br>GDP Per Capita=%{y}<extra></extra>",
         "hovertext": [
          "India"
         ],
         "legendgroup": "India",
         "marker": {
          "color": "#FF6692",
          "symbol": "circle"
         },
         "mode": "markers",
         "name": "India",
         "orientation": "v",
         "showlegend": true,
         "x": [
          69.5
         ],
         "xaxis": "x",
         "y": [
          7230
         ],
         "yaxis": "y",
         "type": "scatter"
        },
        {
         "customdata": [
          [
           "Liberia"
          ]
         ],
         "hovertemplate": "<b>%{hovertext}</b><br><br>Country=%{customdata[0]}<br>Life expectancy=%{x}<br>GDP Per Capita=%{y}<extra></extra>",
         "hovertext": [
          "Liberia"
         ],
         "legendgroup": "Liberia",
         "marker": {
          "color": "#B6E880",
          "symbol": "circle"
         },
         "mode": "markers",
         "name": "Liberia",
         "orientation": "v",
         "showlegend": true,
         "x": [
          65.2
         ],
         "xaxis": "x",
         "y": [
          1140
         ],
         "yaxis": "y",
         "type": "scatter"
        },
        {
         "customdata": [
          [
           "Comoros"
          ]
         ],
         "hovertemplate": "<b>%{hovertext}</b><br><br>Country=%{customdata[0]}<br>Life expectancy=%{x}<br>GDP Per Capita=%{y}<extra></extra>",
         "hovertext": [
          "Comoros"
         ],
         "legendgroup": "Comoros",
         "marker": {
          "color": "#FF97FF",
          "symbol": "circle"
         },
         "mode": "markers",
         "name": "Comoros",
         "orientation": "v",
         "showlegend": true,
         "x": [
          69.1
         ],
         "xaxis": "x",
         "y": [
          2480
         ],
         "yaxis": "y",
         "type": "scatter"
        },
        {
         "customdata": [
          [
           "Madagascar"
          ]
         ],
         "hovertemplate": "<b>%{hovertext}</b><br><br>Country=%{customdata[0]}<br>Life expectancy=%{x}<br>GDP Per Capita=%{y}<extra></extra>",
         "hovertext": [
          "Madagascar"
         ],
         "legendgroup": "Madagascar",
         "marker": {
          "color": "#FECB52",
          "symbol": "circle"
         },
         "mode": "markers",
         "name": "Madagascar",
         "orientation": "v",
         "showlegend": true,
         "x": [
          64.2
         ],
         "xaxis": "x",
         "y": [
          1490
         ],
         "yaxis": "y",
         "type": "scatter"
        },
        {
         "customdata": [
          [
           "Lesotho"
          ]
         ],
         "hovertemplate": "<b>%{hovertext}</b><br><br>Country=%{customdata[0]}<br>Life expectancy=%{x}<br>GDP Per Capita=%{y}<extra></extra>",
         "hovertext": [
          "Lesotho"
         ],
         "legendgroup": "Lesotho",
         "marker": {
          "color": "#636efa",
          "symbol": "circle"
         },
         "mode": "markers",
         "name": "Lesotho",
         "orientation": "v",
         "showlegend": true,
         "x": [
          56.1
         ],
         "xaxis": "x",
         "y": [
          2920
         ],
         "yaxis": "y",
         "type": "scatter"
        },
        {
         "customdata": [
          [
           "Burundi"
          ]
         ],
         "hovertemplate": "<b>%{hovertext}</b><br><br>Country=%{customdata[0]}<br>Life expectancy=%{x}<br>GDP Per Capita=%{y}<extra></extra>",
         "hovertext": [
          "Burundi"
         ],
         "legendgroup": "Burundi",
         "marker": {
          "color": "#EF553B",
          "symbol": "circle"
         },
         "mode": "markers",
         "name": "Burundi",
         "orientation": "v",
         "showlegend": true,
         "x": [
          62.3
         ],
         "xaxis": "x",
         "y": [
          644
         ],
         "yaxis": "y",
         "type": "scatter"
        },
        {
         "customdata": [
          [
           "Zimbabwe"
          ]
         ],
         "hovertemplate": "<b>%{hovertext}</b><br><br>Country=%{customdata[0]}<br>Life expectancy=%{x}<br>GDP Per Capita=%{y}<extra></extra>",
         "hovertext": [
          "Zimbabwe"
         ],
         "legendgroup": "Zimbabwe",
         "marker": {
          "color": "#00cc96",
          "symbol": "circle"
         },
         "mode": "markers",
         "name": "Zimbabwe",
         "orientation": "v",
         "showlegend": true,
         "x": [
          62.0
         ],
         "xaxis": "x",
         "y": [
          2390
         ],
         "yaxis": "y",
         "type": "scatter"
        },
        {
         "customdata": [
          [
           "Haiti"
          ]
         ],
         "hovertemplate": "<b>%{hovertext}</b><br><br>Country=%{customdata[0]}<br>Life expectancy=%{x}<br>GDP Per Capita=%{y}<extra></extra>",
         "hovertext": [
          "Haiti"
         ],
         "legendgroup": "Haiti",
         "marker": {
          "color": "#ab63fa",
          "symbol": "circle"
         },
         "mode": "markers",
         "name": "Haiti",
         "orientation": "v",
         "showlegend": true,
         "x": [
          65.7
         ],
         "xaxis": "x",
         "y": [
          1640
         ],
         "yaxis": "y",
         "type": "scatter"
        },
        {
         "customdata": [
          [
           "Botswana"
          ]
         ],
         "hovertemplate": "<b>%{hovertext}</b><br><br>Country=%{customdata[0]}<br>Life expectancy=%{x}<br>GDP Per Capita=%{y}<extra></extra>",
         "hovertext": [
          "Botswana"
         ],
         "legendgroup": "Botswana",
         "marker": {
          "color": "#FFA15A",
          "symbol": "circle"
         },
         "mode": "markers",
         "name": "Botswana",
         "orientation": "v",
         "showlegend": true,
         "x": [
          69.8
         ],
         "xaxis": "x",
         "y": [
          16800
         ],
         "yaxis": "y",
         "type": "scatter"
        },
        {
         "customdata": [
          [
           "Syria"
          ]
         ],
         "hovertemplate": "<b>%{hovertext}</b><br><br>Country=%{customdata[0]}<br>Life expectancy=%{x}<br>GDP Per Capita=%{y}<extra></extra>",
         "hovertext": [
          "Syria"
         ],
         "legendgroup": "Syria",
         "marker": {
          "color": "#19d3f3",
          "symbol": "circle"
         },
         "mode": "markers",
         "name": "Syria",
         "orientation": "v",
         "showlegend": true,
         "x": [
          71.5
         ],
         "xaxis": "x",
         "y": [
          2900
         ],
         "yaxis": "y",
         "type": "scatter"
        },
        {
         "customdata": [
          [
           "Malawi"
          ]
         ],
         "hovertemplate": "<b>%{hovertext}</b><br><br>Country=%{customdata[0]}<br>Life expectancy=%{x}<br>GDP Per Capita=%{y}<extra></extra>",
         "hovertext": [
          "Malawi"
         ],
         "legendgroup": "Malawi",
         "marker": {
          "color": "#FF6692",
          "symbol": "circle"
         },
         "mode": "markers",
         "name": "Malawi",
         "orientation": "v",
         "showlegend": true,
         "x": [
          64.2
         ],
         "xaxis": "x",
         "y": [
          1180
         ],
         "yaxis": "y",
         "type": "scatter"
        },
        {
         "customdata": [
          [
           "Yemen"
          ]
         ],
         "hovertemplate": "<b>%{hovertext}</b><br><br>Country=%{customdata[0]}<br>Life expectancy=%{x}<br>GDP Per Capita=%{y}<extra></extra>",
         "hovertext": [
          "Yemen"
         ],
         "legendgroup": "Yemen",
         "marker": {
          "color": "#B6E880",
          "symbol": "circle"
         },
         "mode": "markers",
         "name": "Yemen",
         "orientation": "v",
         "showlegend": true,
         "x": [
          68.1
         ],
         "xaxis": "x",
         "y": [
          2340
         ],
         "yaxis": "y",
         "type": "scatter"
        },
        {
         "customdata": [
          [
           "Rwanda"
          ]
         ],
         "hovertemplate": "<b>%{hovertext}</b><br><br>Country=%{customdata[0]}<br>Life expectancy=%{x}<br>GDP Per Capita=%{y}<extra></extra>",
         "hovertext": [
          "Rwanda"
         ],
         "legendgroup": "Rwanda",
         "marker": {
          "color": "#FF97FF",
          "symbol": "circle"
         },
         "mode": "markers",
         "name": "Rwanda",
         "orientation": "v",
         "showlegend": true,
         "x": [
          69.1
         ],
         "xaxis": "x",
         "y": [
          2110
         ],
         "yaxis": "y",
         "type": "scatter"
        },
        {
         "customdata": [
          [
           "Tanzania"
          ]
         ],
         "hovertemplate": "<b>%{hovertext}</b><br><br>Country=%{customdata[0]}<br>Life expectancy=%{x}<br>GDP Per Capita=%{y}<extra></extra>",
         "hovertext": [
          "Tanzania"
         ],
         "legendgroup": "Tanzania",
         "marker": {
          "color": "#FECB52",
          "symbol": "circle"
         },
         "mode": "markers",
         "name": "Tanzania",
         "orientation": "v",
         "showlegend": true,
         "x": [
          67.7
         ],
         "xaxis": "x",
         "y": [
          2980
         ],
         "yaxis": "y",
         "type": "scatter"
        },
        {
         "customdata": [
          [
           "Afghanistan"
          ]
         ],
         "hovertemplate": "<b>%{hovertext}</b><br><br>Country=%{customdata[0]}<br>Life expectancy=%{x}<br>GDP Per Capita=%{y}<extra></extra>",
         "hovertext": [
          "Afghanistan"
         ],
         "legendgroup": "Afghanistan",
         "marker": {
          "color": "#636efa",
          "symbol": "circle"
         },
         "mode": "markers",
         "name": "Afghanistan",
         "orientation": "v",
         "showlegend": true,
         "x": [
          64.1
         ],
         "xaxis": "x",
         "y": [
          1760
         ],
         "yaxis": "y",
         "type": "scatter"
        },
        {
         "customdata": [
          [
           "Central African Republic"
          ]
         ],
         "hovertemplate": "<b>%{hovertext}</b><br><br>Country=%{customdata[0]}<br>Life expectancy=%{x}<br>GDP Per Capita=%{y}<extra></extra>",
         "hovertext": [
          "Central African Republic"
         ],
         "legendgroup": "Central African Republic",
         "marker": {
          "color": "#EF553B",
          "symbol": "circle"
         },
         "mode": "markers",
         "name": "Central African Republic",
         "orientation": "v",
         "showlegend": true,
         "x": [
          52.9
         ],
         "xaxis": "x",
         "y": [
          794
         ],
         "yaxis": "y",
         "type": "scatter"
        },
        {
         "customdata": [
          [
           "South Sudan"
          ]
         ],
         "hovertemplate": "<b>%{hovertext}</b><br><br>Country=%{customdata[0]}<br>Life expectancy=%{x}<br>GDP Per Capita=%{y}<extra></extra>",
         "hovertext": [
          "South Sudan"
         ],
         "legendgroup": "South Sudan",
         "marker": {
          "color": "#00cc96",
          "symbol": "circle"
         },
         "mode": "markers",
         "name": "South Sudan",
         "orientation": "v",
         "showlegend": true,
         "x": [
          59.7
         ],
         "xaxis": "x",
         "y": [
          1860
         ],
         "yaxis": "y",
         "type": "scatter"
        }
       ],
       "layout": {
        "template": {
         "data": {
          "histogram2dcontour": [
           {
            "type": "histogram2dcontour",
            "colorbar": {
             "outlinewidth": 0,
             "ticks": ""
            },
            "colorscale": [
             [
              0.0,
              "#0d0887"
             ],
             [
              0.1111111111111111,
              "#46039f"
             ],
             [
              0.2222222222222222,
              "#7201a8"
             ],
             [
              0.3333333333333333,
              "#9c179e"
             ],
             [
              0.4444444444444444,
              "#bd3786"
             ],
             [
              0.5555555555555556,
              "#d8576b"
             ],
             [
              0.6666666666666666,
              "#ed7953"
             ],
             [
              0.7777777777777778,
              "#fb9f3a"
             ],
             [
              0.8888888888888888,
              "#fdca26"
             ],
             [
              1.0,
              "#f0f921"
             ]
            ]
           }
          ],
          "choropleth": [
           {
            "type": "choropleth",
            "colorbar": {
             "outlinewidth": 0,
             "ticks": ""
            }
           }
          ],
          "histogram2d": [
           {
            "type": "histogram2d",
            "colorbar": {
             "outlinewidth": 0,
             "ticks": ""
            },
            "colorscale": [
             [
              0.0,
              "#0d0887"
             ],
             [
              0.1111111111111111,
              "#46039f"
             ],
             [
              0.2222222222222222,
              "#7201a8"
             ],
             [
              0.3333333333333333,
              "#9c179e"
             ],
             [
              0.4444444444444444,
              "#bd3786"
             ],
             [
              0.5555555555555556,
              "#d8576b"
             ],
             [
              0.6666666666666666,
              "#ed7953"
             ],
             [
              0.7777777777777778,
              "#fb9f3a"
             ],
             [
              0.8888888888888888,
              "#fdca26"
             ],
             [
              1.0,
              "#f0f921"
             ]
            ]
           }
          ],
          "heatmap": [
           {
            "type": "heatmap",
            "colorbar": {
             "outlinewidth": 0,
             "ticks": ""
            },
            "colorscale": [
             [
              0.0,
              "#0d0887"
             ],
             [
              0.1111111111111111,
              "#46039f"
             ],
             [
              0.2222222222222222,
              "#7201a8"
             ],
             [
              0.3333333333333333,
              "#9c179e"
             ],
             [
              0.4444444444444444,
              "#bd3786"
             ],
             [
              0.5555555555555556,
              "#d8576b"
             ],
             [
              0.6666666666666666,
              "#ed7953"
             ],
             [
              0.7777777777777778,
              "#fb9f3a"
             ],
             [
              0.8888888888888888,
              "#fdca26"
             ],
             [
              1.0,
              "#f0f921"
             ]
            ]
           }
          ],
          "heatmapgl": [
           {
            "type": "heatmapgl",
            "colorbar": {
             "outlinewidth": 0,
             "ticks": ""
            },
            "colorscale": [
             [
              0.0,
              "#0d0887"
             ],
             [
              0.1111111111111111,
              "#46039f"
             ],
             [
              0.2222222222222222,
              "#7201a8"
             ],
             [
              0.3333333333333333,
              "#9c179e"
             ],
             [
              0.4444444444444444,
              "#bd3786"
             ],
             [
              0.5555555555555556,
              "#d8576b"
             ],
             [
              0.6666666666666666,
              "#ed7953"
             ],
             [
              0.7777777777777778,
              "#fb9f3a"
             ],
             [
              0.8888888888888888,
              "#fdca26"
             ],
             [
              1.0,
              "#f0f921"
             ]
            ]
           }
          ],
          "contourcarpet": [
           {
            "type": "contourcarpet",
            "colorbar": {
             "outlinewidth": 0,
             "ticks": ""
            }
           }
          ],
          "contour": [
           {
            "type": "contour",
            "colorbar": {
             "outlinewidth": 0,
             "ticks": ""
            },
            "colorscale": [
             [
              0.0,
              "#0d0887"
             ],
             [
              0.1111111111111111,
              "#46039f"
             ],
             [
              0.2222222222222222,
              "#7201a8"
             ],
             [
              0.3333333333333333,
              "#9c179e"
             ],
             [
              0.4444444444444444,
              "#bd3786"
             ],
             [
              0.5555555555555556,
              "#d8576b"
             ],
             [
              0.6666666666666666,
              "#ed7953"
             ],
             [
              0.7777777777777778,
              "#fb9f3a"
             ],
             [
              0.8888888888888888,
              "#fdca26"
             ],
             [
              1.0,
              "#f0f921"
             ]
            ]
           }
          ],
          "surface": [
           {
            "type": "surface",
            "colorbar": {
             "outlinewidth": 0,
             "ticks": ""
            },
            "colorscale": [
             [
              0.0,
              "#0d0887"
             ],
             [
              0.1111111111111111,
              "#46039f"
             ],
             [
              0.2222222222222222,
              "#7201a8"
             ],
             [
              0.3333333333333333,
              "#9c179e"
             ],
             [
              0.4444444444444444,
              "#bd3786"
             ],
             [
              0.5555555555555556,
              "#d8576b"
             ],
             [
              0.6666666666666666,
              "#ed7953"
             ],
             [
              0.7777777777777778,
              "#fb9f3a"
             ],
             [
              0.8888888888888888,
              "#fdca26"
             ],
             [
              1.0,
              "#f0f921"
             ]
            ]
           }
          ],
          "mesh3d": [
           {
            "type": "mesh3d",
            "colorbar": {
             "outlinewidth": 0,
             "ticks": ""
            }
           }
          ],
          "scatter": [
           {
            "fillpattern": {
             "fillmode": "overlay",
             "size": 10,
             "solidity": 0.2
            },
            "type": "scatter"
           }
          ],
          "parcoords": [
           {
            "type": "parcoords",
            "line": {
             "colorbar": {
              "outlinewidth": 0,
              "ticks": ""
             }
            }
           }
          ],
          "scatterpolargl": [
           {
            "type": "scatterpolargl",
            "marker": {
             "colorbar": {
              "outlinewidth": 0,
              "ticks": ""
             }
            }
           }
          ],
          "bar": [
           {
            "error_x": {
             "color": "#2a3f5f"
            },
            "error_y": {
             "color": "#2a3f5f"
            },
            "marker": {
             "line": {
              "color": "#E5ECF6",
              "width": 0.5
             },
             "pattern": {
              "fillmode": "overlay",
              "size": 10,
              "solidity": 0.2
             }
            },
            "type": "bar"
           }
          ],
          "scattergeo": [
           {
            "type": "scattergeo",
            "marker": {
             "colorbar": {
              "outlinewidth": 0,
              "ticks": ""
             }
            }
           }
          ],
          "scatterpolar": [
           {
            "type": "scatterpolar",
            "marker": {
             "colorbar": {
              "outlinewidth": 0,
              "ticks": ""
             }
            }
           }
          ],
          "histogram": [
           {
            "marker": {
             "pattern": {
              "fillmode": "overlay",
              "size": 10,
              "solidity": 0.2
             }
            },
            "type": "histogram"
           }
          ],
          "scattergl": [
           {
            "type": "scattergl",
            "marker": {
             "colorbar": {
              "outlinewidth": 0,
              "ticks": ""
             }
            }
           }
          ],
          "scatter3d": [
           {
            "type": "scatter3d",
            "line": {
             "colorbar": {
              "outlinewidth": 0,
              "ticks": ""
             }
            },
            "marker": {
             "colorbar": {
              "outlinewidth": 0,
              "ticks": ""
             }
            }
           }
          ],
          "scattermapbox": [
           {
            "type": "scattermapbox",
            "marker": {
             "colorbar": {
              "outlinewidth": 0,
              "ticks": ""
             }
            }
           }
          ],
          "scatterternary": [
           {
            "type": "scatterternary",
            "marker": {
             "colorbar": {
              "outlinewidth": 0,
              "ticks": ""
             }
            }
           }
          ],
          "scattercarpet": [
           {
            "type": "scattercarpet",
            "marker": {
             "colorbar": {
              "outlinewidth": 0,
              "ticks": ""
             }
            }
           }
          ],
          "carpet": [
           {
            "aaxis": {
             "endlinecolor": "#2a3f5f",
             "gridcolor": "white",
             "linecolor": "white",
             "minorgridcolor": "white",
             "startlinecolor": "#2a3f5f"
            },
            "baxis": {
             "endlinecolor": "#2a3f5f",
             "gridcolor": "white",
             "linecolor": "white",
             "minorgridcolor": "white",
             "startlinecolor": "#2a3f5f"
            },
            "type": "carpet"
           }
          ],
          "table": [
           {
            "cells": {
             "fill": {
              "color": "#EBF0F8"
             },
             "line": {
              "color": "white"
             }
            },
            "header": {
             "fill": {
              "color": "#C8D4E3"
             },
             "line": {
              "color": "white"
             }
            },
            "type": "table"
           }
          ],
          "barpolar": [
           {
            "marker": {
             "line": {
              "color": "#E5ECF6",
              "width": 0.5
             },
             "pattern": {
              "fillmode": "overlay",
              "size": 10,
              "solidity": 0.2
             }
            },
            "type": "barpolar"
           }
          ],
          "pie": [
           {
            "automargin": true,
            "type": "pie"
           }
          ]
         },
         "layout": {
          "autotypenumbers": "strict",
          "colorway": [
           "#636efa",
           "#EF553B",
           "#00cc96",
           "#ab63fa",
           "#FFA15A",
           "#19d3f3",
           "#FF6692",
           "#B6E880",
           "#FF97FF",
           "#FECB52"
          ],
          "font": {
           "color": "#2a3f5f"
          },
          "hovermode": "closest",
          "hoverlabel": {
           "align": "left"
          },
          "paper_bgcolor": "white",
          "plot_bgcolor": "#E5ECF6",
          "polar": {
           "bgcolor": "#E5ECF6",
           "angularaxis": {
            "gridcolor": "white",
            "linecolor": "white",
            "ticks": ""
           },
           "radialaxis": {
            "gridcolor": "white",
            "linecolor": "white",
            "ticks": ""
           }
          },
          "ternary": {
           "bgcolor": "#E5ECF6",
           "aaxis": {
            "gridcolor": "white",
            "linecolor": "white",
            "ticks": ""
           },
           "baxis": {
            "gridcolor": "white",
            "linecolor": "white",
            "ticks": ""
           },
           "caxis": {
            "gridcolor": "white",
            "linecolor": "white",
            "ticks": ""
           }
          },
          "coloraxis": {
           "colorbar": {
            "outlinewidth": 0,
            "ticks": ""
           }
          },
          "colorscale": {
           "sequential": [
            [
             0.0,
             "#0d0887"
            ],
            [
             0.1111111111111111,
             "#46039f"
            ],
            [
             0.2222222222222222,
             "#7201a8"
            ],
            [
             0.3333333333333333,
             "#9c179e"
            ],
            [
             0.4444444444444444,
             "#bd3786"
            ],
            [
             0.5555555555555556,
             "#d8576b"
            ],
            [
             0.6666666666666666,
             "#ed7953"
            ],
            [
             0.7777777777777778,
             "#fb9f3a"
            ],
            [
             0.8888888888888888,
             "#fdca26"
            ],
            [
             1.0,
             "#f0f921"
            ]
           ],
           "sequentialminus": [
            [
             0.0,
             "#0d0887"
            ],
            [
             0.1111111111111111,
             "#46039f"
            ],
            [
             0.2222222222222222,
             "#7201a8"
            ],
            [
             0.3333333333333333,
             "#9c179e"
            ],
            [
             0.4444444444444444,
             "#bd3786"
            ],
            [
             0.5555555555555556,
             "#d8576b"
            ],
            [
             0.6666666666666666,
             "#ed7953"
            ],
            [
             0.7777777777777778,
             "#fb9f3a"
            ],
            [
             0.8888888888888888,
             "#fdca26"
            ],
            [
             1.0,
             "#f0f921"
            ]
           ],
           "diverging": [
            [
             0,
             "#8e0152"
            ],
            [
             0.1,
             "#c51b7d"
            ],
            [
             0.2,
             "#de77ae"
            ],
            [
             0.3,
             "#f1b6da"
            ],
            [
             0.4,
             "#fde0ef"
            ],
            [
             0.5,
             "#f7f7f7"
            ],
            [
             0.6,
             "#e6f5d0"
            ],
            [
             0.7,
             "#b8e186"
            ],
            [
             0.8,
             "#7fbc41"
            ],
            [
             0.9,
             "#4d9221"
            ],
            [
             1,
             "#276419"
            ]
           ]
          },
          "xaxis": {
           "gridcolor": "white",
           "linecolor": "white",
           "ticks": "",
           "title": {
            "standoff": 15
           },
           "zerolinecolor": "white",
           "automargin": true,
           "zerolinewidth": 2
          },
          "yaxis": {
           "gridcolor": "white",
           "linecolor": "white",
           "ticks": "",
           "title": {
            "standoff": 15
           },
           "zerolinecolor": "white",
           "automargin": true,
           "zerolinewidth": 2
          },
          "scene": {
           "xaxis": {
            "backgroundcolor": "#E5ECF6",
            "gridcolor": "white",
            "linecolor": "white",
            "showbackground": true,
            "ticks": "",
            "zerolinecolor": "white",
            "gridwidth": 2
           },
           "yaxis": {
            "backgroundcolor": "#E5ECF6",
            "gridcolor": "white",
            "linecolor": "white",
            "showbackground": true,
            "ticks": "",
            "zerolinecolor": "white",
            "gridwidth": 2
           },
           "zaxis": {
            "backgroundcolor": "#E5ECF6",
            "gridcolor": "white",
            "linecolor": "white",
            "showbackground": true,
            "ticks": "",
            "zerolinecolor": "white",
            "gridwidth": 2
           }
          },
          "shapedefaults": {
           "line": {
            "color": "#2a3f5f"
           }
          },
          "annotationdefaults": {
           "arrowcolor": "#2a3f5f",
           "arrowhead": 0,
           "arrowwidth": 1
          },
          "geo": {
           "bgcolor": "white",
           "landcolor": "#E5ECF6",
           "subunitcolor": "white",
           "showland": true,
           "showlakes": true,
           "lakecolor": "white"
          },
          "title": {
           "x": 0.05
          },
          "mapbox": {
           "style": "light"
          }
         }
        },
        "xaxis": {
         "anchor": "y",
         "domain": [
          0.0,
          1.0
         ],
         "title": {
          "text": "Life expectancy"
         }
        },
        "yaxis": {
         "anchor": "x",
         "domain": [
          0.0,
          1.0
         ],
         "title": {
          "text": "GDP Per Capita"
         }
        },
        "legend": {
         "title": {
          "text": "Country"
         },
         "tracegroupgap": 0
        },
        "margin": {
         "t": 60
        }
       },
       "config": {
        "plotlyServerURL": "https://plot.ly"
       }
      },
      "text/html": [
       "<div>                            <div id=\"36fbc8d7-3192-4060-810e-b22b04302fd5\" class=\"plotly-graph-div\" style=\"height:525px; width:100%;\"></div>            <script type=\"text/javascript\">                require([\"plotly\"], function(Plotly) {                    window.PLOTLYENV=window.PLOTLYENV || {};                                    if (document.getElementById(\"36fbc8d7-3192-4060-810e-b22b04302fd5\")) {                    Plotly.newPlot(                        \"36fbc8d7-3192-4060-810e-b22b04302fd5\",                        [{\"customdata\":[[\"Finland\"]],\"hovertemplate\":\"\\u003cb\\u003e%{hovertext}\\u003c\\u002fb\\u003e\\u003cbr\\u003e\\u003cbr\\u003eCountry=%{customdata[0]}\\u003cbr\\u003eLife expectancy=%{x}\\u003cbr\\u003eGDP Per Capita=%{y}\\u003cextra\\u003e\\u003c\\u002fextra\\u003e\",\"hovertext\":[\"Finland\"],\"legendgroup\":\"Finland\",\"marker\":{\"color\":\"#636efa\",\"symbol\":\"circle\"},\"mode\":\"markers\",\"name\":\"Finland\",\"orientation\":\"v\",\"showlegend\":true,\"x\":[81.8],\"xaxis\":\"x\",\"y\":[42400],\"yaxis\":\"y\",\"type\":\"scatter\"},{\"customdata\":[[\"Denmark\"]],\"hovertemplate\":\"\\u003cb\\u003e%{hovertext}\\u003c\\u002fb\\u003e\\u003cbr\\u003e\\u003cbr\\u003eCountry=%{customdata[0]}\\u003cbr\\u003eLife expectancy=%{x}\\u003cbr\\u003eGDP Per Capita=%{y}\\u003cextra\\u003e\\u003c\\u002fextra\\u003e\",\"hovertext\":[\"Denmark\"],\"legendgroup\":\"Denmark\",\"marker\":{\"color\":\"#EF553B\",\"symbol\":\"circle\"},\"mode\":\"markers\",\"name\":\"Denmark\",\"orientation\":\"v\",\"showlegend\":true,\"x\":[81.0],\"xaxis\":\"x\",\"y\":[48300],\"yaxis\":\"y\",\"type\":\"scatter\"},{\"customdata\":[[\"Norway\"]],\"hovertemplate\":\"\\u003cb\\u003e%{hovertext}\\u003c\\u002fb\\u003e\\u003cbr\\u003e\\u003cbr\\u003eCountry=%{customdata[0]}\\u003cbr\\u003eLife expectancy=%{x}\\u003cbr\\u003eGDP Per Capita=%{y}\\u003cextra\\u003e\\u003c\\u002fextra\\u003e\",\"hovertext\":[\"Norway\"],\"legendgroup\":\"Norway\",\"marker\":{\"color\":\"#00cc96\",\"symbol\":\"circle\"},\"mode\":\"markers\",\"name\":\"Norway\",\"orientation\":\"v\",\"showlegend\":true,\"x\":[82.6],\"xaxis\":\"x\",\"y\":[66300],\"yaxis\":\"y\",\"type\":\"scatter\"},{\"customdata\":[[\"Iceland\"]],\"hovertemplate\":\"\\u003cb\\u003e%{hovertext}\\u003c\\u002fb\\u003e\\u003cbr\\u003e\\u003cbr\\u003eCountry=%{customdata[0]}\\u003cbr\\u003eLife expectancy=%{x}\\u003cbr\\u003eGDP Per Capita=%{y}\\u003cextra\\u003e\\u003c\\u002fextra\\u003e\",\"hovertext\":[\"Iceland\"],\"legendgroup\":\"Iceland\",\"marker\":{\"color\":\"#ab63fa\",\"symbol\":\"circle\"},\"mode\":\"markers\",\"name\":\"Iceland\",\"orientation\":\"v\",\"showlegend\":true,\"x\":[83.0],\"xaxis\":\"x\",\"y\":[47900],\"yaxis\":\"y\",\"type\":\"scatter\"},{\"customdata\":[[\"Netherlands\"]],\"hovertemplate\":\"\\u003cb\\u003e%{hovertext}\\u003c\\u002fb\\u003e\\u003cbr\\u003e\\u003cbr\\u003eCountry=%{customdata[0]}\\u003cbr\\u003eLife expectancy=%{x}\\u003cbr\\u003eGDP Per Capita=%{y}\\u003cextra\\u003e\\u003c\\u002fextra\\u003e\",\"hovertext\":[\"Netherlands\"],\"legendgroup\":\"Netherlands\",\"marker\":{\"color\":\"#FFA15A\",\"symbol\":\"circle\"},\"mode\":\"markers\",\"name\":\"Netherlands\",\"orientation\":\"v\",\"showlegend\":true,\"x\":[81.8],\"xaxis\":\"x\",\"y\":[50500],\"yaxis\":\"y\",\"type\":\"scatter\"},{\"customdata\":[[\"Switzerland\"]],\"hovertemplate\":\"\\u003cb\\u003e%{hovertext}\\u003c\\u002fb\\u003e\\u003cbr\\u003e\\u003cbr\\u003eCountry=%{customdata[0]}\\u003cbr\\u003eLife expectancy=%{x}\\u003cbr\\u003eGDP Per Capita=%{y}\\u003cextra\\u003e\\u003c\\u002fextra\\u003e\",\"hovertext\":[\"Switzerland\"],\"legendgroup\":\"Switzerland\",\"marker\":{\"color\":\"#19d3f3\",\"symbol\":\"circle\"},\"mode\":\"markers\",\"name\":\"Switzerland\",\"orientation\":\"v\",\"showlegend\":true,\"x\":[84.3],\"xaxis\":\"x\",\"y\":[59000],\"yaxis\":\"y\",\"type\":\"scatter\"},{\"customdata\":[[\"Sweden\"]],\"hovertemplate\":\"\\u003cb\\u003e%{hovertext}\\u003c\\u002fb\\u003e\\u003cbr\\u003e\\u003cbr\\u003eCountry=%{customdata[0]}\\u003cbr\\u003eLife expectancy=%{x}\\u003cbr\\u003eGDP Per Capita=%{y}\\u003cextra\\u003e\\u003c\\u002fextra\\u003e\",\"hovertext\":[\"Sweden\"],\"legendgroup\":\"Sweden\",\"marker\":{\"color\":\"#FF6692\",\"symbol\":\"circle\"},\"mode\":\"markers\",\"name\":\"Sweden\",\"orientation\":\"v\",\"showlegend\":true,\"x\":[82.8],\"xaxis\":\"x\",\"y\":[47200],\"yaxis\":\"y\",\"type\":\"scatter\"},{\"customdata\":[[\"New Zealand\"]],\"hovertemplate\":\"\\u003cb\\u003e%{hovertext}\\u003c\\u002fb\\u003e\\u003cbr\\u003e\\u003cbr\\u003eCountry=%{customdata[0]}\\u003cbr\\u003eLife expectancy=%{x}\\u003cbr\\u003eGDP Per Capita=%{y}\\u003cextra\\u003e\\u003c\\u002fextra\\u003e\",\"hovertext\":[\"New Zealand\"],\"legendgroup\":\"New Zealand\",\"marker\":{\"color\":\"#B6E880\",\"symbol\":\"circle\"},\"mode\":\"markers\",\"name\":\"New Zealand\",\"orientation\":\"v\",\"showlegend\":true,\"x\":[81.9],\"xaxis\":\"x\",\"y\":[36500],\"yaxis\":\"y\",\"type\":\"scatter\"},{\"customdata\":[[\"Canada\"]],\"hovertemplate\":\"\\u003cb\\u003e%{hovertext}\\u003c\\u002fb\\u003e\\u003cbr\\u003e\\u003cbr\\u003eCountry=%{customdata[0]}\\u003cbr\\u003eLife expectancy=%{x}\\u003cbr\\u003eGDP Per Capita=%{y}\\u003cextra\\u003e\\u003c\\u002fextra\\u003e\",\"hovertext\":[\"Canada\"],\"legendgroup\":\"Canada\",\"marker\":{\"color\":\"#FF97FF\",\"symbol\":\"circle\"},\"mode\":\"markers\",\"name\":\"Canada\",\"orientation\":\"v\",\"showlegend\":true,\"x\":[82.2],\"xaxis\":\"x\",\"y\":[44200],\"yaxis\":\"y\",\"type\":\"scatter\"},{\"customdata\":[[\"Austria\"]],\"hovertemplate\":\"\\u003cb\\u003e%{hovertext}\\u003c\\u002fb\\u003e\\u003cbr\\u003e\\u003cbr\\u003eCountry=%{customdata[0]}\\u003cbr\\u003eLife expectancy=%{x}\\u003cbr\\u003eGDP Per Capita=%{y}\\u003cextra\\u003e\\u003c\\u002fextra\\u003e\",\"hovertext\":[\"Austria\"],\"legendgroup\":\"Austria\",\"marker\":{\"color\":\"#FECB52\",\"symbol\":\"circle\"},\"mode\":\"markers\",\"name\":\"Austria\",\"orientation\":\"v\",\"showlegend\":true,\"x\":[82.0],\"xaxis\":\"x\",\"y\":[46900],\"yaxis\":\"y\",\"type\":\"scatter\"},{\"customdata\":[[\"Australia\"]],\"hovertemplate\":\"\\u003cb\\u003e%{hovertext}\\u003c\\u002fb\\u003e\\u003cbr\\u003e\\u003cbr\\u003eCountry=%{customdata[0]}\\u003cbr\\u003eLife expectancy=%{x}\\u003cbr\\u003eGDP Per Capita=%{y}\\u003cextra\\u003e\\u003c\\u002fextra\\u003e\",\"hovertext\":[\"Australia\"],\"legendgroup\":\"Australia\",\"marker\":{\"color\":\"#636efa\",\"symbol\":\"circle\"},\"mode\":\"markers\",\"name\":\"Australia\",\"orientation\":\"v\",\"showlegend\":true,\"x\":[82.7],\"xaxis\":\"x\",\"y\":[45500],\"yaxis\":\"y\",\"type\":\"scatter\"},{\"customdata\":[[\"Costa Rica\"]],\"hovertemplate\":\"\\u003cb\\u003e%{hovertext}\\u003c\\u002fb\\u003e\\u003cbr\\u003e\\u003cbr\\u003eCountry=%{customdata[0]}\\u003cbr\\u003eLife expectancy=%{x}\\u003cbr\\u003eGDP Per Capita=%{y}\\u003cextra\\u003e\\u003c\\u002fextra\\u003e\",\"hovertext\":[\"Costa Rica\"],\"legendgroup\":\"Costa Rica\",\"marker\":{\"color\":\"#EF553B\",\"symbol\":\"circle\"},\"mode\":\"markers\",\"name\":\"Costa Rica\",\"orientation\":\"v\",\"showlegend\":true,\"x\":[79.8],\"xaxis\":\"x\",\"y\":[15800],\"yaxis\":\"y\",\"type\":\"scatter\"},{\"customdata\":[[\"Israel\"]],\"hovertemplate\":\"\\u003cb\\u003e%{hovertext}\\u003c\\u002fb\\u003e\\u003cbr\\u003e\\u003cbr\\u003eCountry=%{customdata[0]}\\u003cbr\\u003eLife expectancy=%{x}\\u003cbr\\u003eGDP Per Capita=%{y}\\u003cextra\\u003e\\u003c\\u002fextra\\u003e\",\"hovertext\":[\"Israel\"],\"legendgroup\":\"Israel\",\"marker\":{\"color\":\"#00cc96\",\"symbol\":\"circle\"},\"mode\":\"markers\",\"name\":\"Israel\",\"orientation\":\"v\",\"showlegend\":true,\"x\":[83.3],\"xaxis\":\"x\",\"y\":[34100],\"yaxis\":\"y\",\"type\":\"scatter\"},{\"customdata\":[[\"Luxembourg\"]],\"hovertemplate\":\"\\u003cb\\u003e%{hovertext}\\u003c\\u002fb\\u003e\\u003cbr\\u003e\\u003cbr\\u003eCountry=%{customdata[0]}\\u003cbr\\u003eLife expectancy=%{x}\\u003cbr\\u003eGDP Per Capita=%{y}\\u003cextra\\u003e\\u003c\\u002fextra\\u003e\",\"hovertext\":[\"Luxembourg\"],\"legendgroup\":\"Luxembourg\",\"marker\":{\"color\":\"#ab63fa\",\"symbol\":\"circle\"},\"mode\":\"markers\",\"name\":\"Luxembourg\",\"orientation\":\"v\",\"showlegend\":true,\"x\":[82.0],\"xaxis\":\"x\",\"y\":[94300],\"yaxis\":\"y\",\"type\":\"scatter\"},{\"customdata\":[[\"United Kingdom\"]],\"hovertemplate\":\"\\u003cb\\u003e%{hovertext}\\u003c\\u002fb\\u003e\\u003cbr\\u003e\\u003cbr\\u003eCountry=%{customdata[0]}\\u003cbr\\u003eLife expectancy=%{x}\\u003cbr\\u003eGDP Per Capita=%{y}\\u003cextra\\u003e\\u003c\\u002fextra\\u003e\",\"hovertext\":[\"United Kingdom\"],\"legendgroup\":\"United Kingdom\",\"marker\":{\"color\":\"#FFA15A\",\"symbol\":\"circle\"},\"mode\":\"markers\",\"name\":\"United Kingdom\",\"orientation\":\"v\",\"showlegend\":true,\"x\":[81.1],\"xaxis\":\"x\",\"y\":[40400],\"yaxis\":\"y\",\"type\":\"scatter\"},{\"customdata\":[[\"Ireland\"]],\"hovertemplate\":\"\\u003cb\\u003e%{hovertext}\\u003c\\u002fb\\u003e\\u003cbr\\u003e\\u003cbr\\u003eCountry=%{customdata[0]}\\u003cbr\\u003eLife expectancy=%{x}\\u003cbr\\u003eGDP Per Capita=%{y}\\u003cextra\\u003e\\u003c\\u002fextra\\u003e\",\"hovertext\":[\"Ireland\"],\"legendgroup\":\"Ireland\",\"marker\":{\"color\":\"#19d3f3\",\"symbol\":\"circle\"},\"mode\":\"markers\",\"name\":\"Ireland\",\"orientation\":\"v\",\"showlegend\":true,\"x\":[82.3],\"xaxis\":\"x\",\"y\":[72400],\"yaxis\":\"y\",\"type\":\"scatter\"},{\"customdata\":[[\"Germany\"]],\"hovertemplate\":\"\\u003cb\\u003e%{hovertext}\\u003c\\u002fb\\u003e\\u003cbr\\u003e\\u003cbr\\u003eCountry=%{customdata[0]}\\u003cbr\\u003eLife expectancy=%{x}\\u003cbr\\u003eGDP Per Capita=%{y}\\u003cextra\\u003e\\u003c\\u002fextra\\u003e\",\"hovertext\":[\"Germany\"],\"legendgroup\":\"Germany\",\"marker\":{\"color\":\"#FF6692\",\"symbol\":\"circle\"},\"mode\":\"markers\",\"name\":\"Germany\",\"orientation\":\"v\",\"showlegend\":true,\"x\":[80.9],\"xaxis\":\"x\",\"y\":[46200],\"yaxis\":\"y\",\"type\":\"scatter\"},{\"customdata\":[[\"Belgium\"]],\"hovertemplate\":\"\\u003cb\\u003e%{hovertext}\\u003c\\u002fb\\u003e\\u003cbr\\u003e\\u003cbr\\u003eCountry=%{customdata[0]}\\u003cbr\\u003eLife expectancy=%{x}\\u003cbr\\u003eGDP Per Capita=%{y}\\u003cextra\\u003e\\u003c\\u002fextra\\u003e\",\"hovertext\":[\"Belgium\"],\"legendgroup\":\"Belgium\",\"marker\":{\"color\":\"#B6E880\",\"symbol\":\"circle\"},\"mode\":\"markers\",\"name\":\"Belgium\",\"orientation\":\"v\",\"showlegend\":true,\"x\":[81.7],\"xaxis\":\"x\",\"y\":[43500],\"yaxis\":\"y\",\"type\":\"scatter\"},{\"customdata\":[[\"United States\"]],\"hovertemplate\":\"\\u003cb\\u003e%{hovertext}\\u003c\\u002fb\\u003e\\u003cbr\\u003e\\u003cbr\\u003eCountry=%{customdata[0]}\\u003cbr\\u003eLife expectancy=%{x}\\u003cbr\\u003eGDP Per Capita=%{y}\\u003cextra\\u003e\\u003c\\u002fextra\\u003e\",\"hovertext\":[\"United States\"],\"legendgroup\":\"United States\",\"marker\":{\"color\":\"#FF97FF\",\"symbol\":\"circle\"},\"mode\":\"markers\",\"name\":\"United States\",\"orientation\":\"v\",\"showlegend\":true,\"x\":[78.6],\"xaxis\":\"x\",\"y\":[56700],\"yaxis\":\"y\",\"type\":\"scatter\"},{\"customdata\":[[\"Czech Republic\"]],\"hovertemplate\":\"\\u003cb\\u003e%{hovertext}\\u003c\\u002fb\\u003e\\u003cbr\\u003e\\u003cbr\\u003eCountry=%{customdata[0]}\\u003cbr\\u003eLife expectancy=%{x}\\u003cbr\\u003eGDP Per Capita=%{y}\\u003cextra\\u003e\\u003c\\u002fextra\\u003e\",\"hovertext\":[\"Czech Republic\"],\"legendgroup\":\"Czech Republic\",\"marker\":{\"color\":\"#FECB52\",\"symbol\":\"circle\"},\"mode\":\"markers\",\"name\":\"Czech Republic\",\"orientation\":\"v\",\"showlegend\":true,\"x\":[79.5],\"xaxis\":\"x\",\"y\":[34100],\"yaxis\":\"y\",\"type\":\"scatter\"},{\"customdata\":[[\"United Arab Emirates\"]],\"hovertemplate\":\"\\u003cb\\u003e%{hovertext}\\u003c\\u002fb\\u003e\\u003cbr\\u003e\\u003cbr\\u003eCountry=%{customdata[0]}\\u003cbr\\u003eLife expectancy=%{x}\\u003cbr\\u003eGDP Per Capita=%{y}\\u003cextra\\u003e\\u003c\\u002fextra\\u003e\",\"hovertext\":[\"United Arab Emirates\"],\"legendgroup\":\"United Arab Emirates\",\"marker\":{\"color\":\"#636efa\",\"symbol\":\"circle\"},\"mode\":\"markers\",\"name\":\"United Arab Emirates\",\"orientation\":\"v\",\"showlegend\":true,\"x\":[73.6],\"xaxis\":\"x\",\"y\":[65700],\"yaxis\":\"y\",\"type\":\"scatter\"},{\"customdata\":[[\"Malta\"]],\"hovertemplate\":\"\\u003cb\\u003e%{hovertext}\\u003c\\u002fb\\u003e\\u003cbr\\u003e\\u003cbr\\u003eCountry=%{customdata[0]}\\u003cbr\\u003eLife expectancy=%{x}\\u003cbr\\u003eGDP Per Capita=%{y}\\u003cextra\\u003e\\u003c\\u002fextra\\u003e\",\"hovertext\":[\"Malta\"],\"legendgroup\":\"Malta\",\"marker\":{\"color\":\"#EF553B\",\"symbol\":\"circle\"},\"mode\":\"markers\",\"name\":\"Malta\",\"orientation\":\"v\",\"showlegend\":true,\"x\":[81.3],\"xaxis\":\"x\",\"y\":[39300],\"yaxis\":\"y\",\"type\":\"scatter\"},{\"customdata\":[[\"Mexico\"]],\"hovertemplate\":\"\\u003cb\\u003e%{hovertext}\\u003c\\u002fb\\u003e\\u003cbr\\u003e\\u003cbr\\u003eCountry=%{customdata[0]}\\u003cbr\\u003eLife expectancy=%{x}\\u003cbr\\u003eGDP Per Capita=%{y}\\u003cextra\\u003e\\u003c\\u002fextra\\u003e\",\"hovertext\":[\"Mexico\"],\"legendgroup\":\"Mexico\",\"marker\":{\"color\":\"#00cc96\",\"symbol\":\"circle\"},\"mode\":\"markers\",\"name\":\"Mexico\",\"orientation\":\"v\",\"showlegend\":true,\"x\":[75.6],\"xaxis\":\"x\",\"y\":[18000],\"yaxis\":\"y\",\"type\":\"scatter\"},{\"customdata\":[[\"France\"]],\"hovertemplate\":\"\\u003cb\\u003e%{hovertext}\\u003c\\u002fb\\u003e\\u003cbr\\u003e\\u003cbr\\u003eCountry=%{customdata[0]}\\u003cbr\\u003eLife expectancy=%{x}\\u003cbr\\u003eGDP Per Capita=%{y}\\u003cextra\\u003e\\u003c\\u002fextra\\u003e\",\"hovertext\":[\"France\"],\"legendgroup\":\"France\",\"marker\":{\"color\":\"#ab63fa\",\"symbol\":\"circle\"},\"mode\":\"markers\",\"name\":\"France\",\"orientation\":\"v\",\"showlegend\":true,\"x\":[83.1],\"xaxis\":\"x\",\"y\":[40000],\"yaxis\":\"y\",\"type\":\"scatter\"},{\"customdata\":[[\"Chile\"]],\"hovertemplate\":\"\\u003cb\\u003e%{hovertext}\\u003c\\u002fb\\u003e\\u003cbr\\u003e\\u003cbr\\u003eCountry=%{customdata[0]}\\u003cbr\\u003eLife expectancy=%{x}\\u003cbr\\u003eGDP Per Capita=%{y}\\u003cextra\\u003e\\u003c\\u002fextra\\u003e\",\"hovertext\":[\"Chile\"],\"legendgroup\":\"Chile\",\"marker\":{\"color\":\"#FFA15A\",\"symbol\":\"circle\"},\"mode\":\"markers\",\"name\":\"Chile\",\"orientation\":\"v\",\"showlegend\":true,\"x\":[80.0],\"xaxis\":\"x\",\"y\":[23000],\"yaxis\":\"y\",\"type\":\"scatter\"},{\"customdata\":[[\"Guatemala\"]],\"hovertemplate\":\"\\u003cb\\u003e%{hovertext}\\u003c\\u002fb\\u003e\\u003cbr\\u003e\\u003cbr\\u003eCountry=%{customdata[0]}\\u003cbr\\u003eLife expectancy=%{x}\\u003cbr\\u003eGDP Per Capita=%{y}\\u003cextra\\u003e\\u003c\\u002fextra\\u003e\",\"hovertext\":[\"Guatemala\"],\"legendgroup\":\"Guatemala\",\"marker\":{\"color\":\"#19d3f3\",\"symbol\":\"circle\"},\"mode\":\"markers\",\"name\":\"Guatemala\",\"orientation\":\"v\",\"showlegend\":true,\"x\":[73.1],\"xaxis\":\"x\",\"y\":[7610],\"yaxis\":\"y\",\"type\":\"scatter\"},{\"customdata\":[[\"Saudi Arabia\"]],\"hovertemplate\":\"\\u003cb\\u003e%{hovertext}\\u003c\\u002fb\\u003e\\u003cbr\\u003e\\u003cbr\\u003eCountry=%{customdata[0]}\\u003cbr\\u003eLife expectancy=%{x}\\u003cbr\\u003eGDP Per Capita=%{y}\\u003cextra\\u003e\\u003c\\u002fextra\\u003e\",\"hovertext\":[\"Saudi Arabia\"],\"legendgroup\":\"Saudi Arabia\",\"marker\":{\"color\":\"#FF6692\",\"symbol\":\"circle\"},\"mode\":\"markers\",\"name\":\"Saudi Arabia\",\"orientation\":\"v\",\"showlegend\":true,\"x\":[77.1],\"xaxis\":\"x\",\"y\":[48100],\"yaxis\":\"y\",\"type\":\"scatter\"},{\"customdata\":[[\"Qatar\"]],\"hovertemplate\":\"\\u003cb\\u003e%{hovertext}\\u003c\\u002fb\\u003e\\u003cbr\\u003e\\u003cbr\\u003eCountry=%{customdata[0]}\\u003cbr\\u003eLife expectancy=%{x}\\u003cbr\\u003eGDP Per Capita=%{y}\\u003cextra\\u003e\\u003c\\u002fextra\\u003e\",\"hovertext\":[\"Qatar\"],\"legendgroup\":\"Qatar\",\"marker\":{\"color\":\"#B6E880\",\"symbol\":\"circle\"},\"mode\":\"markers\",\"name\":\"Qatar\",\"orientation\":\"v\",\"showlegend\":true,\"x\":[80.5],\"xaxis\":\"x\",\"y\":[113000],\"yaxis\":\"y\",\"type\":\"scatter\"},{\"customdata\":[[\"Spain\"]],\"hovertemplate\":\"\\u003cb\\u003e%{hovertext}\\u003c\\u002fb\\u003e\\u003cbr\\u003e\\u003cbr\\u003eCountry=%{customdata[0]}\\u003cbr\\u003eLife expectancy=%{x}\\u003cbr\\u003eGDP Per Capita=%{y}\\u003cextra\\u003e\\u003c\\u002fextra\\u003e\",\"hovertext\":[\"Spain\"],\"legendgroup\":\"Spain\",\"marker\":{\"color\":\"#FF97FF\",\"symbol\":\"circle\"},\"mode\":\"markers\",\"name\":\"Spain\",\"orientation\":\"v\",\"showlegend\":true,\"x\":[83.3],\"xaxis\":\"x\",\"y\":[35700],\"yaxis\":\"y\",\"type\":\"scatter\"},{\"customdata\":[[\"Panama\"]],\"hovertemplate\":\"\\u003cb\\u003e%{hovertext}\\u003c\\u002fb\\u003e\\u003cbr\\u003e\\u003cbr\\u003eCountry=%{customdata[0]}\\u003cbr\\u003eLife expectancy=%{x}\\u003cbr\\u003eGDP Per Capita=%{y}\\u003cextra\\u003e\\u003c\\u002fextra\\u003e\",\"hovertext\":[\"Panama\"],\"legendgroup\":\"Panama\",\"marker\":{\"color\":\"#FECB52\",\"symbol\":\"circle\"},\"mode\":\"markers\",\"name\":\"Panama\",\"orientation\":\"v\",\"showlegend\":true,\"x\":[79.7],\"xaxis\":\"x\",\"y\":[23300],\"yaxis\":\"y\",\"type\":\"scatter\"},{\"customdata\":[[\"Brazil\"]],\"hovertemplate\":\"\\u003cb\\u003e%{hovertext}\\u003c\\u002fb\\u003e\\u003cbr\\u003e\\u003cbr\\u003eCountry=%{customdata[0]}\\u003cbr\\u003eLife expectancy=%{x}\\u003cbr\\u003eGDP Per Capita=%{y}\\u003cextra\\u003e\\u003c\\u002fextra\\u003e\",\"hovertext\":[\"Brazil\"],\"legendgroup\":\"Brazil\",\"marker\":{\"color\":\"#636efa\",\"symbol\":\"circle\"},\"mode\":\"markers\",\"name\":\"Brazil\",\"orientation\":\"v\",\"showlegend\":true,\"x\":[75.9],\"xaxis\":\"x\",\"y\":[14300],\"yaxis\":\"y\",\"type\":\"scatter\"},{\"customdata\":[[\"Uruguay\"]],\"hovertemplate\":\"\\u003cb\\u003e%{hovertext}\\u003c\\u002fb\\u003e\\u003cbr\\u003e\\u003cbr\\u003eCountry=%{customdata[0]}\\u003cbr\\u003eLife expectancy=%{x}\\u003cbr\\u003eGDP Per Capita=%{y}\\u003cextra\\u003e\\u003c\\u002fextra\\u003e\",\"hovertext\":[\"Uruguay\"],\"legendgroup\":\"Uruguay\",\"marker\":{\"color\":\"#EF553B\",\"symbol\":\"circle\"},\"mode\":\"markers\",\"name\":\"Uruguay\",\"orientation\":\"v\",\"showlegend\":true,\"x\":[77.3],\"xaxis\":\"x\",\"y\":[20900],\"yaxis\":\"y\",\"type\":\"scatter\"},{\"customdata\":[[\"Singapore\"]],\"hovertemplate\":\"\\u003cb\\u003e%{hovertext}\\u003c\\u002fb\\u003e\\u003cbr\\u003e\\u003cbr\\u003eCountry=%{customdata[0]}\\u003cbr\\u003eLife expectancy=%{x}\\u003cbr\\u003eGDP Per Capita=%{y}\\u003cextra\\u003e\\u003c\\u002fextra\\u003e\",\"hovertext\":[\"Singapore\"],\"legendgroup\":\"Singapore\",\"marker\":{\"color\":\"#00cc96\",\"symbol\":\"circle\"},\"mode\":\"markers\",\"name\":\"Singapore\",\"orientation\":\"v\",\"showlegend\":true,\"x\":[85.1],\"xaxis\":\"x\",\"y\":[90100],\"yaxis\":\"y\",\"type\":\"scatter\"},{\"customdata\":[[\"El Salvador\"]],\"hovertemplate\":\"\\u003cb\\u003e%{hovertext}\\u003c\\u002fb\\u003e\\u003cbr\\u003e\\u003cbr\\u003eCountry=%{customdata[0]}\\u003cbr\\u003eLife expectancy=%{x}\\u003cbr\\u003eGDP Per Capita=%{y}\\u003cextra\\u003e\\u003c\\u002fextra\\u003e\",\"hovertext\":[\"El Salvador\"],\"legendgroup\":\"El Salvador\",\"marker\":{\"color\":\"#ab63fa\",\"symbol\":\"circle\"},\"mode\":\"markers\",\"name\":\"El Salvador\",\"orientation\":\"v\",\"showlegend\":true,\"x\":[74.5],\"xaxis\":\"x\",\"y\":[7510],\"yaxis\":\"y\",\"type\":\"scatter\"},{\"customdata\":[[\"Italy\"]],\"hovertemplate\":\"\\u003cb\\u003e%{hovertext}\\u003c\\u002fb\\u003e\\u003cbr\\u003e\\u003cbr\\u003eCountry=%{customdata[0]}\\u003cbr\\u003eLife expectancy=%{x}\\u003cbr\\u003eGDP Per Capita=%{y}\\u003cextra\\u003e\\u003c\\u002fextra\\u003e\",\"hovertext\":[\"Italy\"],\"legendgroup\":\"Italy\",\"marker\":{\"color\":\"#FFA15A\",\"symbol\":\"circle\"},\"mode\":\"markers\",\"name\":\"Italy\",\"orientation\":\"v\",\"showlegend\":true,\"x\":[83.5],\"xaxis\":\"x\",\"y\":[35800],\"yaxis\":\"y\",\"type\":\"scatter\"},{\"customdata\":[[\"Bahrain\"]],\"hovertemplate\":\"\\u003cb\\u003e%{hovertext}\\u003c\\u002fb\\u003e\\u003cbr\\u003e\\u003cbr\\u003eCountry=%{customdata[0]}\\u003cbr\\u003eLife expectancy=%{x}\\u003cbr\\u003eGDP Per Capita=%{y}\\u003cextra\\u003e\\u003c\\u002fextra\\u003e\",\"hovertext\":[\"Bahrain\"],\"legendgroup\":\"Bahrain\",\"marker\":{\"color\":\"#19d3f3\",\"symbol\":\"circle\"},\"mode\":\"markers\",\"name\":\"Bahrain\",\"orientation\":\"v\",\"showlegend\":true,\"x\":[79.8],\"xaxis\":\"x\",\"y\":[42000],\"yaxis\":\"y\",\"type\":\"scatter\"},{\"customdata\":[[\"Trinidad and Tobago\"]],\"hovertemplate\":\"\\u003cb\\u003e%{hovertext}\\u003c\\u002fb\\u003e\\u003cbr\\u003e\\u003cbr\\u003eCountry=%{customdata[0]}\\u003cbr\\u003eLife expectancy=%{x}\\u003cbr\\u003eGDP Per Capita=%{y}\\u003cextra\\u003e\\u003c\\u002fextra\\u003e\",\"hovertext\":[\"Trinidad and Tobago\"],\"legendgroup\":\"Trinidad and Tobago\",\"marker\":{\"color\":\"#FF6692\",\"symbol\":\"circle\"},\"mode\":\"markers\",\"name\":\"Trinidad and Tobago\",\"orientation\":\"v\",\"showlegend\":true,\"x\":[74.5],\"xaxis\":\"x\",\"y\":[28500],\"yaxis\":\"y\",\"type\":\"scatter\"},{\"customdata\":[[\"Poland\"]],\"hovertemplate\":\"\\u003cb\\u003e%{hovertext}\\u003c\\u002fb\\u003e\\u003cbr\\u003e\\u003cbr\\u003eCountry=%{customdata[0]}\\u003cbr\\u003eLife expectancy=%{x}\\u003cbr\\u003eGDP Per Capita=%{y}\\u003cextra\\u003e\\u003c\\u002fextra\\u003e\",\"hovertext\":[\"Poland\"],\"legendgroup\":\"Poland\",\"marker\":{\"color\":\"#B6E880\",\"symbol\":\"circle\"},\"mode\":\"markers\",\"name\":\"Poland\",\"orientation\":\"v\",\"showlegend\":true,\"x\":[78.4],\"xaxis\":\"x\",\"y\":[29900],\"yaxis\":\"y\",\"type\":\"scatter\"},{\"customdata\":[[\"Uzbekistan\"]],\"hovertemplate\":\"\\u003cb\\u003e%{hovertext}\\u003c\\u002fb\\u003e\\u003cbr\\u003e\\u003cbr\\u003eCountry=%{customdata[0]}\\u003cbr\\u003eLife expectancy=%{x}\\u003cbr\\u003eGDP Per Capita=%{y}\\u003cextra\\u003e\\u003c\\u002fextra\\u003e\",\"hovertext\":[\"Uzbekistan\"],\"legendgroup\":\"Uzbekistan\",\"marker\":{\"color\":\"#FF97FF\",\"symbol\":\"circle\"},\"mode\":\"markers\",\"name\":\"Uzbekistan\",\"orientation\":\"v\",\"showlegend\":true,\"x\":[70.7],\"xaxis\":\"x\",\"y\":[6490],\"yaxis\":\"y\",\"type\":\"scatter\"},{\"customdata\":[[\"Lithuania\"]],\"hovertemplate\":\"\\u003cb\\u003e%{hovertext}\\u003c\\u002fb\\u003e\\u003cbr\\u003e\\u003cbr\\u003eCountry=%{customdata[0]}\\u003cbr\\u003eLife expectancy=%{x}\\u003cbr\\u003eGDP Per Capita=%{y}\\u003cextra\\u003e\\u003c\\u002fextra\\u003e\",\"hovertext\":[\"Lithuania\"],\"legendgroup\":\"Lithuania\",\"marker\":{\"color\":\"#FECB52\",\"symbol\":\"circle\"},\"mode\":\"markers\",\"name\":\"Lithuania\",\"orientation\":\"v\",\"showlegend\":true,\"x\":[75.4],\"xaxis\":\"x\",\"y\":[32400],\"yaxis\":\"y\",\"type\":\"scatter\"},{\"customdata\":[[\"Colombia\"]],\"hovertemplate\":\"\\u003cb\\u003e%{hovertext}\\u003c\\u002fb\\u003e\\u003cbr\\u003e\\u003cbr\\u003eCountry=%{customdata[0]}\\u003cbr\\u003eLife expectancy=%{x}\\u003cbr\\u003eGDP Per Capita=%{y}\\u003cextra\\u003e\\u003c\\u002fextra\\u003e\",\"hovertext\":[\"Colombia\"],\"legendgroup\":\"Colombia\",\"marker\":{\"color\":\"#636efa\",\"symbol\":\"circle\"},\"mode\":\"markers\",\"name\":\"Colombia\",\"orientation\":\"v\",\"showlegend\":true,\"x\":[80.5],\"xaxis\":\"x\",\"y\":[13600],\"yaxis\":\"y\",\"type\":\"scatter\"},{\"customdata\":[[\"Slovenia\"]],\"hovertemplate\":\"\\u003cb\\u003e%{hovertext}\\u003c\\u002fb\\u003e\\u003cbr\\u003e\\u003cbr\\u003eCountry=%{customdata[0]}\\u003cbr\\u003eLife expectancy=%{x}\\u003cbr\\u003eGDP Per Capita=%{y}\\u003cextra\\u003e\\u003c\\u002fextra\\u003e\",\"hovertext\":[\"Slovenia\"],\"legendgroup\":\"Slovenia\",\"marker\":{\"color\":\"#EF553B\",\"symbol\":\"circle\"},\"mode\":\"markers\",\"name\":\"Slovenia\",\"orientation\":\"v\",\"showlegend\":true,\"x\":[81.4],\"xaxis\":\"x\",\"y\":[33700],\"yaxis\":\"y\",\"type\":\"scatter\"},{\"customdata\":[[\"Nicaragua\"]],\"hovertemplate\":\"\\u003cb\\u003e%{hovertext}\\u003c\\u002fb\\u003e\\u003cbr\\u003e\\u003cbr\\u003eCountry=%{customdata[0]}\\u003cbr\\u003eLife expectancy=%{x}\\u003cbr\\u003eGDP Per Capita=%{y}\\u003cextra\\u003e\\u003c\\u002fextra\\u003e\",\"hovertext\":[\"Nicaragua\"],\"legendgroup\":\"Nicaragua\",\"marker\":{\"color\":\"#00cc96\",\"symbol\":\"circle\"},\"mode\":\"markers\",\"name\":\"Nicaragua\",\"orientation\":\"v\",\"showlegend\":true,\"x\":[79.2],\"xaxis\":\"x\",\"y\":[4620],\"yaxis\":\"y\",\"type\":\"scatter\"},{\"customdata\":[[\"Argentina\"]],\"hovertemplate\":\"\\u003cb\\u003e%{hovertext}\\u003c\\u002fb\\u003e\\u003cbr\\u003e\\u003cbr\\u003eCountry=%{customdata[0]}\\u003cbr\\u003eLife expectancy=%{x}\\u003cbr\\u003eGDP Per Capita=%{y}\\u003cextra\\u003e\\u003c\\u002fextra\\u003e\",\"hovertext\":[\"Argentina\"],\"legendgroup\":\"Argentina\",\"marker\":{\"color\":\"#ab63fa\",\"symbol\":\"circle\"},\"mode\":\"markers\",\"name\":\"Argentina\",\"orientation\":\"v\",\"showlegend\":true,\"x\":[77.0],\"xaxis\":\"x\",\"y\":[17500],\"yaxis\":\"y\",\"type\":\"scatter\"},{\"customdata\":[[\"Romania\"]],\"hovertemplate\":\"\\u003cb\\u003e%{hovertext}\\u003c\\u002fb\\u003e\\u003cbr\\u003e\\u003cbr\\u003eCountry=%{customdata[0]}\\u003cbr\\u003eLife expectancy=%{x}\\u003cbr\\u003eGDP Per Capita=%{y}\\u003cextra\\u003e\\u003c\\u002fextra\\u003e\",\"hovertext\":[\"Romania\"],\"legendgroup\":\"Romania\",\"marker\":{\"color\":\"#FFA15A\",\"symbol\":\"circle\"},\"mode\":\"markers\",\"name\":\"Romania\",\"orientation\":\"v\",\"showlegend\":true,\"x\":[75.4],\"xaxis\":\"x\",\"y\":[25500],\"yaxis\":\"y\",\"type\":\"scatter\"},{\"customdata\":[[\"Cyprus\"]],\"hovertemplate\":\"\\u003cb\\u003e%{hovertext}\\u003c\\u002fb\\u003e\\u003cbr\\u003e\\u003cbr\\u003eCountry=%{customdata[0]}\\u003cbr\\u003eLife expectancy=%{x}\\u003cbr\\u003eGDP Per Capita=%{y}\\u003cextra\\u003e\\u003c\\u002fextra\\u003e\",\"hovertext\":[\"Cyprus\"],\"legendgroup\":\"Cyprus\",\"marker\":{\"color\":\"#19d3f3\",\"symbol\":\"circle\"},\"mode\":\"markers\",\"name\":\"Cyprus\",\"orientation\":\"v\",\"showlegend\":true,\"x\":[82.0],\"xaxis\":\"x\",\"y\":[34500],\"yaxis\":\"y\",\"type\":\"scatter\"},{\"customdata\":[[\"Ecuador\"]],\"hovertemplate\":\"\\u003cb\\u003e%{hovertext}\\u003c\\u002fb\\u003e\\u003cbr\\u003e\\u003cbr\\u003eCountry=%{customdata[0]}\\u003cbr\\u003eLife expectancy=%{x}\\u003cbr\\u003eGDP Per Capita=%{y}\\u003cextra\\u003e\\u003c\\u002fextra\\u003e\",\"hovertext\":[\"Ecuador\"],\"legendgroup\":\"Ecuador\",\"marker\":{\"color\":\"#FF6692\",\"symbol\":\"circle\"},\"mode\":\"markers\",\"name\":\"Ecuador\",\"orientation\":\"v\",\"showlegend\":true,\"x\":[77.2],\"xaxis\":\"x\",\"y\":[10200],\"yaxis\":\"y\",\"type\":\"scatter\"},{\"customdata\":[[\"Kuwait\"]],\"hovertemplate\":\"\\u003cb\\u003e%{hovertext}\\u003c\\u002fb\\u003e\\u003cbr\\u003e\\u003cbr\\u003eCountry=%{customdata[0]}\\u003cbr\\u003eLife expectancy=%{x}\\u003cbr\\u003eGDP Per Capita=%{y}\\u003cextra\\u003e\\u003c\\u002fextra\\u003e\",\"hovertext\":[\"Kuwait\"],\"legendgroup\":\"Kuwait\",\"marker\":{\"color\":\"#B6E880\",\"symbol\":\"circle\"},\"mode\":\"markers\",\"name\":\"Kuwait\",\"orientation\":\"v\",\"showlegend\":true,\"x\":[83.3],\"xaxis\":\"x\",\"y\":[64100],\"yaxis\":\"y\",\"type\":\"scatter\"},{\"customdata\":[[\"Thailand\"]],\"hovertemplate\":\"\\u003cb\\u003e%{hovertext}\\u003c\\u002fb\\u003e\\u003cbr\\u003e\\u003cbr\\u003eCountry=%{customdata[0]}\\u003cbr\\u003eLife expectancy=%{x}\\u003cbr\\u003eGDP Per Capita=%{y}\\u003cextra\\u003e\\u003c\\u002fextra\\u003e\",\"hovertext\":[\"Thailand\"],\"legendgroup\":\"Thailand\",\"marker\":{\"color\":\"#FF97FF\",\"symbol\":\"circle\"},\"mode\":\"markers\",\"name\":\"Thailand\",\"orientation\":\"v\",\"showlegend\":true,\"x\":[78.6],\"xaxis\":\"x\",\"y\":[17400],\"yaxis\":\"y\",\"type\":\"scatter\"},{\"customdata\":[[\"Latvia\"]],\"hovertemplate\":\"\\u003cb\\u003e%{hovertext}\\u003c\\u002fb\\u003e\\u003cbr\\u003e\\u003cbr\\u003eCountry=%{customdata[0]}\\u003cbr\\u003eLife expectancy=%{x}\\u003cbr\\u003eGDP Per Capita=%{y}\\u003cextra\\u003e\\u003c\\u002fextra\\u003e\",\"hovertext\":[\"Latvia\"],\"legendgroup\":\"Latvia\",\"marker\":{\"color\":\"#FECB52\",\"symbol\":\"circle\"},\"mode\":\"markers\",\"name\":\"Latvia\",\"orientation\":\"v\",\"showlegend\":true,\"x\":[75.4],\"xaxis\":\"x\",\"y\":[27300],\"yaxis\":\"y\",\"type\":\"scatter\"},{\"customdata\":[[\"South Korea\"]],\"hovertemplate\":\"\\u003cb\\u003e%{hovertext}\\u003c\\u002fb\\u003e\\u003cbr\\u003e\\u003cbr\\u003eCountry=%{customdata[0]}\\u003cbr\\u003eLife expectancy=%{x}\\u003cbr\\u003eGDP Per Capita=%{y}\\u003cextra\\u003e\\u003c\\u002fextra\\u003e\",\"hovertext\":[\"South Korea\"],\"legendgroup\":\"South Korea\",\"marker\":{\"color\":\"#636efa\",\"symbol\":\"circle\"},\"mode\":\"markers\",\"name\":\"South Korea\",\"orientation\":\"v\",\"showlegend\":true,\"x\":[83.0],\"xaxis\":\"x\",\"y\":[37300],\"yaxis\":\"y\",\"type\":\"scatter\"},{\"customdata\":[[\"Estonia\"]],\"hovertemplate\":\"\\u003cb\\u003e%{hovertext}\\u003c\\u002fb\\u003e\\u003cbr\\u003e\\u003cbr\\u003eCountry=%{customdata[0]}\\u003cbr\\u003eLife expectancy=%{x}\\u003cbr\\u003eGDP Per Capita=%{y}\\u003cextra\\u003e\\u003c\\u002fextra\\u003e\",\"hovertext\":[\"Estonia\"],\"legendgroup\":\"Estonia\",\"marker\":{\"color\":\"#EF553B\",\"symbol\":\"circle\"},\"mode\":\"markers\",\"name\":\"Estonia\",\"orientation\":\"v\",\"showlegend\":true,\"x\":[78.5],\"xaxis\":\"x\",\"y\":[32000],\"yaxis\":\"y\",\"type\":\"scatter\"},{\"customdata\":[[\"Jamaica\"]],\"hovertemplate\":\"\\u003cb\\u003e%{hovertext}\\u003c\\u002fb\\u003e\\u003cbr\\u003e\\u003cbr\\u003eCountry=%{customdata[0]}\\u003cbr\\u003eLife expectancy=%{x}\\u003cbr\\u003eGDP Per Capita=%{y}\\u003cextra\\u003e\\u003c\\u002fextra\\u003e\",\"hovertext\":[\"Jamaica\"],\"legendgroup\":\"Jamaica\",\"marker\":{\"color\":\"#00cc96\",\"symbol\":\"circle\"},\"mode\":\"markers\",\"name\":\"Jamaica\",\"orientation\":\"v\",\"showlegend\":true,\"x\":[74.9],\"xaxis\":\"x\",\"y\":[8310],\"yaxis\":\"y\",\"type\":\"scatter\"},{\"customdata\":[[\"Mauritius\"]],\"hovertemplate\":\"\\u003cb\\u003e%{hovertext}\\u003c\\u002fb\\u003e\\u003cbr\\u003e\\u003cbr\\u003eCountry=%{customdata[0]}\\u003cbr\\u003eLife expectancy=%{x}\\u003cbr\\u003eGDP Per Capita=%{y}\\u003cextra\\u003e\\u003c\\u002fextra\\u003e\",\"hovertext\":[\"Mauritius\"],\"legendgroup\":\"Mauritius\",\"marker\":{\"color\":\"#ab63fa\",\"symbol\":\"circle\"},\"mode\":\"markers\",\"name\":\"Mauritius\",\"orientation\":\"v\",\"showlegend\":true,\"x\":[75.0],\"xaxis\":\"x\",\"y\":[21800],\"yaxis\":\"y\",\"type\":\"scatter\"},{\"customdata\":[[\"Japan\"]],\"hovertemplate\":\"\\u003cb\\u003e%{hovertext}\\u003c\\u002fb\\u003e\\u003cbr\\u003e\\u003cbr\\u003eCountry=%{customdata[0]}\\u003cbr\\u003eLife expectancy=%{x}\\u003cbr\\u003eGDP Per Capita=%{y}\\u003cextra\\u003e\\u003c\\u002fextra\\u003e\",\"hovertext\":[\"Japan\"],\"legendgroup\":\"Japan\",\"marker\":{\"color\":\"#FFA15A\",\"symbol\":\"circle\"},\"mode\":\"markers\",\"name\":\"Japan\",\"orientation\":\"v\",\"showlegend\":true,\"x\":[84.5],\"xaxis\":\"x\",\"y\":[39700],\"yaxis\":\"y\",\"type\":\"scatter\"},{\"customdata\":[[\"Honduras\"]],\"hovertemplate\":\"\\u003cb\\u003e%{hovertext}\\u003c\\u002fb\\u003e\\u003cbr\\u003e\\u003cbr\\u003eCountry=%{customdata[0]}\\u003cbr\\u003eLife expectancy=%{x}\\u003cbr\\u003eGDP Per Capita=%{y}\\u003cextra\\u003e\\u003c\\u002fextra\\u003e\",\"hovertext\":[\"Honduras\"],\"legendgroup\":\"Honduras\",\"marker\":{\"color\":\"#19d3f3\",\"symbol\":\"circle\"},\"mode\":\"markers\",\"name\":\"Honduras\",\"orientation\":\"v\",\"showlegend\":true,\"x\":[74.3],\"xaxis\":\"x\",\"y\":[4630],\"yaxis\":\"y\",\"type\":\"scatter\"},{\"customdata\":[[\"Kazakhstan\"]],\"hovertemplate\":\"\\u003cb\\u003e%{hovertext}\\u003c\\u002fb\\u003e\\u003cbr\\u003e\\u003cbr\\u003eCountry=%{customdata[0]}\\u003cbr\\u003eLife expectancy=%{x}\\u003cbr\\u003eGDP Per Capita=%{y}\\u003cextra\\u003e\\u003c\\u002fextra\\u003e\",\"hovertext\":[\"Kazakhstan\"],\"legendgroup\":\"Kazakhstan\",\"marker\":{\"color\":\"#FF6692\",\"symbol\":\"circle\"},\"mode\":\"markers\",\"name\":\"Kazakhstan\",\"orientation\":\"v\",\"showlegend\":true,\"x\":[72.8],\"xaxis\":\"x\",\"y\":[25400],\"yaxis\":\"y\",\"type\":\"scatter\"},{\"customdata\":[[\"Bolivia\"]],\"hovertemplate\":\"\\u003cb\\u003e%{hovertext}\\u003c\\u002fb\\u003e\\u003cbr\\u003e\\u003cbr\\u003eCountry=%{customdata[0]}\\u003cbr\\u003eLife expectancy=%{x}\\u003cbr\\u003eGDP Per Capita=%{y}\\u003cextra\\u003e\\u003c\\u002fextra\\u003e\",\"hovertext\":[\"Bolivia\"],\"legendgroup\":\"Bolivia\",\"marker\":{\"color\":\"#B6E880\",\"symbol\":\"circle\"},\"mode\":\"markers\",\"name\":\"Bolivia\",\"orientation\":\"v\",\"showlegend\":true,\"x\":[73.3],\"xaxis\":\"x\",\"y\":[7150],\"yaxis\":\"y\",\"type\":\"scatter\"},{\"customdata\":[[\"Hungary\"]],\"hovertemplate\":\"\\u003cb\\u003e%{hovertext}\\u003c\\u002fb\\u003e\\u003cbr\\u003e\\u003cbr\\u003eCountry=%{customdata[0]}\\u003cbr\\u003eLife expectancy=%{x}\\u003cbr\\u003eGDP Per Capita=%{y}\\u003cextra\\u003e\\u003c\\u002fextra\\u003e\",\"hovertext\":[\"Hungary\"],\"legendgroup\":\"Hungary\",\"marker\":{\"color\":\"#FF97FF\",\"symbol\":\"circle\"},\"mode\":\"markers\",\"name\":\"Hungary\",\"orientation\":\"v\",\"showlegend\":true,\"x\":[77.2],\"xaxis\":\"x\",\"y\":[29600],\"yaxis\":\"y\",\"type\":\"scatter\"},{\"customdata\":[[\"Paraguay\"]],\"hovertemplate\":\"\\u003cb\\u003e%{hovertext}\\u003c\\u002fb\\u003e\\u003cbr\\u003e\\u003cbr\\u003eCountry=%{customdata[0]}\\u003cbr\\u003eLife expectancy=%{x}\\u003cbr\\u003eGDP Per Capita=%{y}\\u003cextra\\u003e\\u003c\\u002fextra\\u003e\",\"hovertext\":[\"Paraguay\"],\"legendgroup\":\"Paraguay\",\"marker\":{\"color\":\"#FECB52\",\"symbol\":\"circle\"},\"mode\":\"markers\",\"name\":\"Paraguay\",\"orientation\":\"v\",\"showlegend\":true,\"x\":[76.4],\"xaxis\":\"x\",\"y\":[12000],\"yaxis\":\"y\",\"type\":\"scatter\"},{\"customdata\":[[\"Peru\"]],\"hovertemplate\":\"\\u003cb\\u003e%{hovertext}\\u003c\\u002fb\\u003e\\u003cbr\\u003e\\u003cbr\\u003eCountry=%{customdata[0]}\\u003cbr\\u003eLife expectancy=%{x}\\u003cbr\\u003eGDP Per Capita=%{y}\\u003cextra\\u003e\\u003c\\u002fextra\\u003e\",\"hovertext\":[\"Peru\"],\"legendgroup\":\"Peru\",\"marker\":{\"color\":\"#636efa\",\"symbol\":\"circle\"},\"mode\":\"markers\",\"name\":\"Peru\",\"orientation\":\"v\",\"showlegend\":true,\"x\":[80.8],\"xaxis\":\"x\",\"y\":[13000],\"yaxis\":\"y\",\"type\":\"scatter\"},{\"customdata\":[[\"Portugal\"]],\"hovertemplate\":\"\\u003cb\\u003e%{hovertext}\\u003c\\u002fb\\u003e\\u003cbr\\u003e\\u003cbr\\u003eCountry=%{customdata[0]}\\u003cbr\\u003eLife expectancy=%{x}\\u003cbr\\u003eGDP Per Capita=%{y}\\u003cextra\\u003e\\u003c\\u002fextra\\u003e\",\"hovertext\":[\"Portugal\"],\"legendgroup\":\"Portugal\",\"marker\":{\"color\":\"#EF553B\",\"symbol\":\"circle\"},\"mode\":\"markers\",\"name\":\"Portugal\",\"orientation\":\"v\",\"showlegend\":true,\"x\":[81.8],\"xaxis\":\"x\",\"y\":[29300],\"yaxis\":\"y\",\"type\":\"scatter\"},{\"customdata\":[[\"Pakistan\"]],\"hovertemplate\":\"\\u003cb\\u003e%{hovertext}\\u003c\\u002fb\\u003e\\u003cbr\\u003e\\u003cbr\\u003eCountry=%{customdata[0]}\\u003cbr\\u003eLife expectancy=%{x}\\u003cbr\\u003eGDP Per Capita=%{y}\\u003cextra\\u003e\\u003c\\u002fextra\\u003e\",\"hovertext\":[\"Pakistan\"],\"legendgroup\":\"Pakistan\",\"marker\":{\"color\":\"#00cc96\",\"symbol\":\"circle\"},\"mode\":\"markers\",\"name\":\"Pakistan\",\"orientation\":\"v\",\"showlegend\":true,\"x\":[67.2],\"xaxis\":\"x\",\"y\":[5000],\"yaxis\":\"y\",\"type\":\"scatter\"},{\"customdata\":[[\"Russia\"]],\"hovertemplate\":\"\\u003cb\\u003e%{hovertext}\\u003c\\u002fb\\u003e\\u003cbr\\u003e\\u003cbr\\u003eCountry=%{customdata[0]}\\u003cbr\\u003eLife expectancy=%{x}\\u003cbr\\u003eGDP Per Capita=%{y}\\u003cextra\\u003e\\u003c\\u002fextra\\u003e\",\"hovertext\":[\"Russia\"],\"legendgroup\":\"Russia\",\"marker\":{\"color\":\"#ab63fa\",\"symbol\":\"circle\"},\"mode\":\"markers\",\"name\":\"Russia\",\"orientation\":\"v\",\"showlegend\":true,\"x\":[72.5],\"xaxis\":\"x\",\"y\":[25700],\"yaxis\":\"y\",\"type\":\"scatter\"},{\"customdata\":[[\"Philippines\"]],\"hovertemplate\":\"\\u003cb\\u003e%{hovertext}\\u003c\\u002fb\\u003e\\u003cbr\\u003e\\u003cbr\\u003eCountry=%{customdata[0]}\\u003cbr\\u003eLife expectancy=%{x}\\u003cbr\\u003eGDP Per Capita=%{y}\\u003cextra\\u003e\\u003c\\u002fextra\\u003e\",\"hovertext\":[\"Philippines\"],\"legendgroup\":\"Philippines\",\"marker\":{\"color\":\"#FFA15A\",\"symbol\":\"circle\"},\"mode\":\"markers\",\"name\":\"Philippines\",\"orientation\":\"v\",\"showlegend\":true,\"x\":[70.0],\"xaxis\":\"x\",\"y\":[8260],\"yaxis\":\"y\",\"type\":\"scatter\"},{\"customdata\":[[\"Serbia\"]],\"hovertemplate\":\"\\u003cb\\u003e%{hovertext}\\u003c\\u002fb\\u003e\\u003cbr\\u003e\\u003cbr\\u003eCountry=%{customdata[0]}\\u003cbr\\u003eLife expectancy=%{x}\\u003cbr\\u003eGDP Per Capita=%{y}\\u003cextra\\u003e\\u003c\\u002fextra\\u003e\",\"hovertext\":[\"Serbia\"],\"legendgroup\":\"Serbia\",\"marker\":{\"color\":\"#19d3f3\",\"symbol\":\"circle\"},\"mode\":\"markers\",\"name\":\"Serbia\",\"orientation\":\"v\",\"showlegend\":true,\"x\":[76.0],\"xaxis\":\"x\",\"y\":[16700],\"yaxis\":\"y\",\"type\":\"scatter\"},{\"customdata\":[[\"Moldova\"]],\"hovertemplate\":\"\\u003cb\\u003e%{hovertext}\\u003c\\u002fb\\u003e\\u003cbr\\u003e\\u003cbr\\u003eCountry=%{customdata[0]}\\u003cbr\\u003eLife expectancy=%{x}\\u003cbr\\u003eGDP Per Capita=%{y}\\u003cextra\\u003e\\u003c\\u002fextra\\u003e\",\"hovertext\":[\"Moldova\"],\"legendgroup\":\"Moldova\",\"marker\":{\"color\":\"#FF6692\",\"symbol\":\"circle\"},\"mode\":\"markers\",\"name\":\"Moldova\",\"orientation\":\"v\",\"showlegend\":true,\"x\":[73.1],\"xaxis\":\"x\",\"y\":[6720],\"yaxis\":\"y\",\"type\":\"scatter\"},{\"customdata\":[[\"Libya\"]],\"hovertemplate\":\"\\u003cb\\u003e%{hovertext}\\u003c\\u002fb\\u003e\\u003cbr\\u003e\\u003cbr\\u003eCountry=%{customdata[0]}\\u003cbr\\u003eLife expectancy=%{x}\\u003cbr\\u003eGDP Per Capita=%{y}\\u003cextra\\u003e\\u003c\\u002fextra\\u003e\",\"hovertext\":[\"Libya\"],\"legendgroup\":\"Libya\",\"marker\":{\"color\":\"#B6E880\",\"symbol\":\"circle\"},\"mode\":\"markers\",\"name\":\"Libya\",\"orientation\":\"v\",\"showlegend\":true,\"x\":[73.3],\"xaxis\":\"x\",\"y\":[14800],\"yaxis\":\"y\",\"type\":\"scatter\"},{\"customdata\":[[\"Montenegro\"]],\"hovertemplate\":\"\\u003cb\\u003e%{hovertext}\\u003c\\u002fb\\u003e\\u003cbr\\u003e\\u003cbr\\u003eCountry=%{customdata[0]}\\u003cbr\\u003eLife expectancy=%{x}\\u003cbr\\u003eGDP Per Capita=%{y}\\u003cextra\\u003e\\u003c\\u002fextra\\u003e\",\"hovertext\":[\"Montenegro\"],\"legendgroup\":\"Montenegro\",\"marker\":{\"color\":\"#FF97FF\",\"symbol\":\"circle\"},\"mode\":\"markers\",\"name\":\"Montenegro\",\"orientation\":\"v\",\"showlegend\":true,\"x\":[76.7],\"xaxis\":\"x\",\"y\":[17800],\"yaxis\":\"y\",\"type\":\"scatter\"},{\"customdata\":[[\"Tajikistan\"]],\"hovertemplate\":\"\\u003cb\\u003e%{hovertext}\\u003c\\u002fb\\u003e\\u003cbr\\u003e\\u003cbr\\u003eCountry=%{customdata[0]}\\u003cbr\\u003eLife expectancy=%{x}\\u003cbr\\u003eGDP Per Capita=%{y}\\u003cextra\\u003e\\u003c\\u002fextra\\u003e\",\"hovertext\":[\"Tajikistan\"],\"legendgroup\":\"Tajikistan\",\"marker\":{\"color\":\"#FECB52\",\"symbol\":\"circle\"},\"mode\":\"markers\",\"name\":\"Tajikistan\",\"orientation\":\"v\",\"showlegend\":true,\"x\":[70.8],\"xaxis\":\"x\",\"y\":[3150],\"yaxis\":\"y\",\"type\":\"scatter\"},{\"customdata\":[[\"Croatia\"]],\"hovertemplate\":\"\\u003cb\\u003e%{hovertext}\\u003c\\u002fb\\u003e\\u003cbr\\u003e\\u003cbr\\u003eCountry=%{customdata[0]}\\u003cbr\\u003eLife expectancy=%{x}\\u003cbr\\u003eGDP Per Capita=%{y}\\u003cextra\\u003e\\u003c\\u002fextra\\u003e\",\"hovertext\":[\"Croatia\"],\"legendgroup\":\"Croatia\",\"marker\":{\"color\":\"#636efa\",\"symbol\":\"circle\"},\"mode\":\"markers\",\"name\":\"Croatia\",\"orientation\":\"v\",\"showlegend\":true,\"x\":[78.8],\"xaxis\":\"x\",\"y\":[24500],\"yaxis\":\"y\",\"type\":\"scatter\"},{\"customdata\":[[\"Dominican Republic\"]],\"hovertemplate\":\"\\u003cb\\u003e%{hovertext}\\u003c\\u002fb\\u003e\\u003cbr\\u003e\\u003cbr\\u003eCountry=%{customdata[0]}\\u003cbr\\u003eLife expectancy=%{x}\\u003cbr\\u003eGDP Per Capita=%{y}\\u003cextra\\u003e\\u003c\\u002fextra\\u003e\",\"hovertext\":[\"Dominican Republic\"],\"legendgroup\":\"Dominican Republic\",\"marker\":{\"color\":\"#EF553B\",\"symbol\":\"circle\"},\"mode\":\"markers\",\"name\":\"Dominican Republic\",\"orientation\":\"v\",\"showlegend\":true,\"x\":[73.5],\"xaxis\":\"x\",\"y\":[16400],\"yaxis\":\"y\",\"type\":\"scatter\"},{\"customdata\":[[\"Turkey\"]],\"hovertemplate\":\"\\u003cb\\u003e%{hovertext}\\u003c\\u002fb\\u003e\\u003cbr\\u003e\\u003cbr\\u003eCountry=%{customdata[0]}\\u003cbr\\u003eLife expectancy=%{x}\\u003cbr\\u003eGDP Per Capita=%{y}\\u003cextra\\u003e\\u003c\\u002fextra\\u003e\",\"hovertext\":[\"Turkey\"],\"legendgroup\":\"Turkey\",\"marker\":{\"color\":\"#00cc96\",\"symbol\":\"circle\"},\"mode\":\"markers\",\"name\":\"Turkey\",\"orientation\":\"v\",\"showlegend\":true,\"x\":[79.5],\"xaxis\":\"x\",\"y\":[25000],\"yaxis\":\"y\",\"type\":\"scatter\"},{\"customdata\":[[\"Malaysia\"]],\"hovertemplate\":\"\\u003cb\\u003e%{hovertext}\\u003c\\u002fb\\u003e\\u003cbr\\u003e\\u003cbr\\u003eCountry=%{customdata[0]}\\u003cbr\\u003eLife expectancy=%{x}\\u003cbr\\u003eGDP Per Capita=%{y}\\u003cextra\\u003e\\u003c\\u002fextra\\u003e\",\"hovertext\":[\"Malaysia\"],\"legendgroup\":\"Malaysia\",\"marker\":{\"color\":\"#ab63fa\",\"symbol\":\"circle\"},\"mode\":\"markers\",\"name\":\"Malaysia\",\"orientation\":\"v\",\"showlegend\":true,\"x\":[75.0],\"xaxis\":\"x\",\"y\":[29100],\"yaxis\":\"y\",\"type\":\"scatter\"},{\"customdata\":[[\"Belarus\"]],\"hovertemplate\":\"\\u003cb\\u003e%{hovertext}\\u003c\\u002fb\\u003e\\u003cbr\\u003e\\u003cbr\\u003eCountry=%{customdata[0]}\\u003cbr\\u003eLife expectancy=%{x}\\u003cbr\\u003eGDP Per Capita=%{y}\\u003cextra\\u003e\\u003c\\u002fextra\\u003e\",\"hovertext\":[\"Belarus\"],\"legendgroup\":\"Belarus\",\"marker\":{\"color\":\"#FFA15A\",\"symbol\":\"circle\"},\"mode\":\"markers\",\"name\":\"Belarus\",\"orientation\":\"v\",\"showlegend\":true,\"x\":[74.5],\"xaxis\":\"x\",\"y\":[18000],\"yaxis\":\"y\",\"type\":\"scatter\"},{\"customdata\":[[\"Greece\"]],\"hovertemplate\":\"\\u003cb\\u003e%{hovertext}\\u003c\\u002fb\\u003e\\u003cbr\\u003e\\u003cbr\\u003eCountry=%{customdata[0]}\\u003cbr\\u003eLife expectancy=%{x}\\u003cbr\\u003eGDP Per Capita=%{y}\\u003cextra\\u003e\\u003c\\u002fextra\\u003e\",\"hovertext\":[\"Greece\"],\"legendgroup\":\"Greece\",\"marker\":{\"color\":\"#19d3f3\",\"symbol\":\"circle\"},\"mode\":\"markers\",\"name\":\"Greece\",\"orientation\":\"v\",\"showlegend\":true,\"x\":[81.3],\"xaxis\":\"x\",\"y\":[25700],\"yaxis\":\"y\",\"type\":\"scatter\"},{\"customdata\":[[\"Mongolia\"]],\"hovertemplate\":\"\\u003cb\\u003e%{hovertext}\\u003c\\u002fb\\u003e\\u003cbr\\u003e\\u003cbr\\u003eCountry=%{customdata[0]}\\u003cbr\\u003eLife expectancy=%{x}\\u003cbr\\u003eGDP Per Capita=%{y}\\u003cextra\\u003e\\u003c\\u002fextra\\u003e\",\"hovertext\":[\"Mongolia\"],\"legendgroup\":\"Mongolia\",\"marker\":{\"color\":\"#FF6692\",\"symbol\":\"circle\"},\"mode\":\"markers\",\"name\":\"Mongolia\",\"orientation\":\"v\",\"showlegend\":true,\"x\":[69.3],\"xaxis\":\"x\",\"y\":[12800],\"yaxis\":\"y\",\"type\":\"scatter\"},{\"customdata\":[[\"Nigeria\"]],\"hovertemplate\":\"\\u003cb\\u003e%{hovertext}\\u003c\\u002fb\\u003e\\u003cbr\\u003e\\u003cbr\\u003eCountry=%{customdata[0]}\\u003cbr\\u003eLife expectancy=%{x}\\u003cbr\\u003eGDP Per Capita=%{y}\\u003cextra\\u003e\\u003c\\u002fextra\\u003e\",\"hovertext\":[\"Nigeria\"],\"legendgroup\":\"Nigeria\",\"marker\":{\"color\":\"#B6E880\",\"symbol\":\"circle\"},\"mode\":\"markers\",\"name\":\"Nigeria\",\"orientation\":\"v\",\"showlegend\":true,\"x\":[65.2],\"xaxis\":\"x\",\"y\":[5300],\"yaxis\":\"y\",\"type\":\"scatter\"},{\"customdata\":[[\"Turkmenistan\"]],\"hovertemplate\":\"\\u003cb\\u003e%{hovertext}\\u003c\\u002fb\\u003e\\u003cbr\\u003e\\u003cbr\\u003eCountry=%{customdata[0]}\\u003cbr\\u003eLife expectancy=%{x}\\u003cbr\\u003eGDP Per Capita=%{y}\\u003cextra\\u003e\\u003c\\u002fextra\\u003e\",\"hovertext\":[\"Turkmenistan\"],\"legendgroup\":\"Turkmenistan\",\"marker\":{\"color\":\"#FF97FF\",\"symbol\":\"circle\"},\"mode\":\"markers\",\"name\":\"Turkmenistan\",\"orientation\":\"v\",\"showlegend\":true,\"x\":[70.3],\"xaxis\":\"x\",\"y\":[17600],\"yaxis\":\"y\",\"type\":\"scatter\"},{\"customdata\":[[\"Algeria\"]],\"hovertemplate\":\"\\u003cb\\u003e%{hovertext}\\u003c\\u002fb\\u003e\\u003cbr\\u003e\\u003cbr\\u003eCountry=%{customdata[0]}\\u003cbr\\u003eLife expectancy=%{x}\\u003cbr\\u003eGDP Per Capita=%{y}\\u003cextra\\u003e\\u003c\\u002fextra\\u003e\",\"hovertext\":[\"Algeria\"],\"legendgroup\":\"Algeria\",\"marker\":{\"color\":\"#FECB52\",\"symbol\":\"circle\"},\"mode\":\"markers\",\"name\":\"Algeria\",\"orientation\":\"v\",\"showlegend\":true,\"x\":[78.1],\"xaxis\":\"x\",\"y\":[14000],\"yaxis\":\"y\",\"type\":\"scatter\"},{\"customdata\":[[\"Morocco\"]],\"hovertemplate\":\"\\u003cb\\u003e%{hovertext}\\u003c\\u002fb\\u003e\\u003cbr\\u003e\\u003cbr\\u003eCountry=%{customdata[0]}\\u003cbr\\u003eLife expectancy=%{x}\\u003cbr\\u003eGDP Per Capita=%{y}\\u003cextra\\u003e\\u003c\\u002fextra\\u003e\",\"hovertext\":[\"Morocco\"],\"legendgroup\":\"Morocco\",\"marker\":{\"color\":\"#636efa\",\"symbol\":\"circle\"},\"mode\":\"markers\",\"name\":\"Morocco\",\"orientation\":\"v\",\"showlegend\":true,\"x\":[74.4],\"xaxis\":\"x\",\"y\":[7770],\"yaxis\":\"y\",\"type\":\"scatter\"},{\"customdata\":[[\"Azerbaijan\"]],\"hovertemplate\":\"\\u003cb\\u003e%{hovertext}\\u003c\\u002fb\\u003e\\u003cbr\\u003e\\u003cbr\\u003eCountry=%{customdata[0]}\\u003cbr\\u003eLife expectancy=%{x}\\u003cbr\\u003eGDP Per Capita=%{y}\\u003cextra\\u003e\\u003c\\u002fextra\\u003e\",\"hovertext\":[\"Azerbaijan\"],\"legendgroup\":\"Azerbaijan\",\"marker\":{\"color\":\"#EF553B\",\"symbol\":\"circle\"},\"mode\":\"markers\",\"name\":\"Azerbaijan\",\"orientation\":\"v\",\"showlegend\":true,\"x\":[71.1],\"xaxis\":\"x\",\"y\":[16200],\"yaxis\":\"y\",\"type\":\"scatter\"},{\"customdata\":[[\"Lebanon\"]],\"hovertemplate\":\"\\u003cb\\u003e%{hovertext}\\u003c\\u002fb\\u003e\\u003cbr\\u003e\\u003cbr\\u003eCountry=%{customdata[0]}\\u003cbr\\u003eLife expectancy=%{x}\\u003cbr\\u003eGDP Per Capita=%{y}\\u003cextra\\u003e\\u003c\\u002fextra\\u003e\",\"hovertext\":[\"Lebanon\"],\"legendgroup\":\"Lebanon\",\"marker\":{\"color\":\"#00cc96\",\"symbol\":\"circle\"},\"mode\":\"markers\",\"name\":\"Lebanon\",\"orientation\":\"v\",\"showlegend\":true,\"x\":[78.1],\"xaxis\":\"x\",\"y\":[11700],\"yaxis\":\"y\",\"type\":\"scatter\"},{\"customdata\":[[\"Indonesia\"]],\"hovertemplate\":\"\\u003cb\\u003e%{hovertext}\\u003c\\u002fb\\u003e\\u003cbr\\u003e\\u003cbr\\u003eCountry=%{customdata[0]}\\u003cbr\\u003eLife expectancy=%{x}\\u003cbr\\u003eGDP Per Capita=%{y}\\u003cextra\\u003e\\u003c\\u002fextra\\u003e\",\"hovertext\":[\"Indonesia\"],\"legendgroup\":\"Indonesia\",\"marker\":{\"color\":\"#ab63fa\",\"symbol\":\"circle\"},\"mode\":\"markers\",\"name\":\"Indonesia\",\"orientation\":\"v\",\"showlegend\":true,\"x\":[71.9],\"xaxis\":\"x\",\"y\":[12100],\"yaxis\":\"y\",\"type\":\"scatter\"},{\"customdata\":[[\"China\"]],\"hovertemplate\":\"\\u003cb\\u003e%{hovertext}\\u003c\\u002fb\\u003e\\u003cbr\\u003e\\u003cbr\\u003eCountry=%{customdata[0]}\\u003cbr\\u003eLife expectancy=%{x}\\u003cbr\\u003eGDP Per Capita=%{y}\\u003cextra\\u003e\\u003c\\u002fextra\\u003e\",\"hovertext\":[\"China\"],\"legendgroup\":\"China\",\"marker\":{\"color\":\"#FFA15A\",\"symbol\":\"circle\"},\"mode\":\"markers\",\"name\":\"China\",\"orientation\":\"v\",\"showlegend\":true,\"x\":[77.5],\"xaxis\":\"x\",\"y\":[17100],\"yaxis\":\"y\",\"type\":\"scatter\"},{\"customdata\":[[\"Vietnam\"]],\"hovertemplate\":\"\\u003cb\\u003e%{hovertext}\\u003c\\u002fb\\u003e\\u003cbr\\u003e\\u003cbr\\u003eCountry=%{customdata[0]}\\u003cbr\\u003eLife expectancy=%{x}\\u003cbr\\u003eGDP Per Capita=%{y}\\u003cextra\\u003e\\u003c\\u002fextra\\u003e\",\"hovertext\":[\"Vietnam\"],\"legendgroup\":\"Vietnam\",\"marker\":{\"color\":\"#19d3f3\",\"symbol\":\"circle\"},\"mode\":\"markers\",\"name\":\"Vietnam\",\"orientation\":\"v\",\"showlegend\":true,\"x\":[74.7],\"xaxis\":\"x\",\"y\":[6970],\"yaxis\":\"y\",\"type\":\"scatter\"},{\"customdata\":[[\"Bhutan\"]],\"hovertemplate\":\"\\u003cb\\u003e%{hovertext}\\u003c\\u002fb\\u003e\\u003cbr\\u003e\\u003cbr\\u003eCountry=%{customdata[0]}\\u003cbr\\u003eLife expectancy=%{x}\\u003cbr\\u003eGDP Per Capita=%{y}\\u003cextra\\u003e\\u003c\\u002fextra\\u003e\",\"hovertext\":[\"Bhutan\"],\"legendgroup\":\"Bhutan\",\"marker\":{\"color\":\"#FF6692\",\"symbol\":\"circle\"},\"mode\":\"markers\",\"name\":\"Bhutan\",\"orientation\":\"v\",\"showlegend\":true,\"x\":[74.7],\"xaxis\":\"x\",\"y\":[9710],\"yaxis\":\"y\",\"type\":\"scatter\"},{\"customdata\":[[\"Cameroon\"]],\"hovertemplate\":\"\\u003cb\\u003e%{hovertext}\\u003c\\u002fb\\u003e\\u003cbr\\u003e\\u003cbr\\u003eCountry=%{customdata[0]}\\u003cbr\\u003eLife expectancy=%{x}\\u003cbr\\u003eGDP Per Capita=%{y}\\u003cextra\\u003e\\u003c\\u002fextra\\u003e\",\"hovertext\":[\"Cameroon\"],\"legendgroup\":\"Cameroon\",\"marker\":{\"color\":\"#B6E880\",\"symbol\":\"circle\"},\"mode\":\"markers\",\"name\":\"Cameroon\",\"orientation\":\"v\",\"showlegend\":true,\"x\":[63.8],\"xaxis\":\"x\",\"y\":[3400],\"yaxis\":\"y\",\"type\":\"scatter\"},{\"customdata\":[[\"Bulgaria\"]],\"hovertemplate\":\"\\u003cb\\u003e%{hovertext}\\u003c\\u002fb\\u003e\\u003cbr\\u003e\\u003cbr\\u003eCountry=%{customdata[0]}\\u003cbr\\u003eLife expectancy=%{x}\\u003cbr\\u003eGDP Per Capita=%{y}\\u003cextra\\u003e\\u003c\\u002fextra\\u003e\",\"hovertext\":[\"Bulgaria\"],\"legendgroup\":\"Bulgaria\",\"marker\":{\"color\":\"#FF97FF\",\"symbol\":\"circle\"},\"mode\":\"markers\",\"name\":\"Bulgaria\",\"orientation\":\"v\",\"showlegend\":true,\"x\":[75.1],\"xaxis\":\"x\",\"y\":[20200],\"yaxis\":\"y\",\"type\":\"scatter\"},{\"customdata\":[[\"Ghana\"]],\"hovertemplate\":\"\\u003cb\\u003e%{hovertext}\\u003c\\u002fb\\u003e\\u003cbr\\u003e\\u003cbr\\u003eCountry=%{customdata[0]}\\u003cbr\\u003eLife expectancy=%{x}\\u003cbr\\u003eGDP Per Capita=%{y}\\u003cextra\\u003e\\u003c\\u002fextra\\u003e\",\"hovertext\":[\"Ghana\"],\"legendgroup\":\"Ghana\",\"marker\":{\"color\":\"#FECB52\",\"symbol\":\"circle\"},\"mode\":\"markers\",\"name\":\"Ghana\",\"orientation\":\"v\",\"showlegend\":true,\"x\":[66.1],\"xaxis\":\"x\",\"y\":[4430],\"yaxis\":\"y\",\"type\":\"scatter\"},{\"customdata\":[[\"Nepal\"]],\"hovertemplate\":\"\\u003cb\\u003e%{hovertext}\\u003c\\u002fb\\u003e\\u003cbr\\u003e\\u003cbr\\u003eCountry=%{customdata[0]}\\u003cbr\\u003eLife expectancy=%{x}\\u003cbr\\u003eGDP Per Capita=%{y}\\u003cextra\\u003e\\u003c\\u002fextra\\u003e\",\"hovertext\":[\"Nepal\"],\"legendgroup\":\"Nepal\",\"marker\":{\"color\":\"#636efa\",\"symbol\":\"circle\"},\"mode\":\"markers\",\"name\":\"Nepal\",\"orientation\":\"v\",\"showlegend\":true,\"x\":[71.5],\"xaxis\":\"x\",\"y\":[2880],\"yaxis\":\"y\",\"type\":\"scatter\"},{\"customdata\":[[\"Jordan\"]],\"hovertemplate\":\"\\u003cb\\u003e%{hovertext}\\u003c\\u002fb\\u003e\\u003cbr\\u003e\\u003cbr\\u003eCountry=%{customdata[0]}\\u003cbr\\u003eLife expectancy=%{x}\\u003cbr\\u003eGDP Per Capita=%{y}\\u003cextra\\u003e\\u003c\\u002fextra\\u003e\",\"hovertext\":[\"Jordan\"],\"legendgroup\":\"Jordan\",\"marker\":{\"color\":\"#EF553B\",\"symbol\":\"circle\"},\"mode\":\"markers\",\"name\":\"Jordan\",\"orientation\":\"v\",\"showlegend\":true,\"x\":[79.6],\"xaxis\":\"x\",\"y\":[8350],\"yaxis\":\"y\",\"type\":\"scatter\"},{\"customdata\":[[\"Benin\"]],\"hovertemplate\":\"\\u003cb\\u003e%{hovertext}\\u003c\\u002fb\\u003e\\u003cbr\\u003e\\u003cbr\\u003eCountry=%{customdata[0]}\\u003cbr\\u003eLife expectancy=%{x}\\u003cbr\\u003eGDP Per Capita=%{y}\\u003cextra\\u003e\\u003c\\u002fextra\\u003e\",\"hovertext\":[\"Benin\"],\"legendgroup\":\"Benin\",\"marker\":{\"color\":\"#00cc96\",\"symbol\":\"circle\"},\"mode\":\"markers\",\"name\":\"Benin\",\"orientation\":\"v\",\"showlegend\":true,\"x\":[65.3],\"xaxis\":\"x\",\"y\":[2230],\"yaxis\":\"y\",\"type\":\"scatter\"},{\"customdata\":[[\"Gabon\"]],\"hovertemplate\":\"\\u003cb\\u003e%{hovertext}\\u003c\\u002fb\\u003e\\u003cbr\\u003e\\u003cbr\\u003eCountry=%{customdata[0]}\\u003cbr\\u003eLife expectancy=%{x}\\u003cbr\\u003eGDP Per Capita=%{y}\\u003cextra\\u003e\\u003c\\u002fextra\\u003e\",\"hovertext\":[\"Gabon\"],\"legendgroup\":\"Gabon\",\"marker\":{\"color\":\"#ab63fa\",\"symbol\":\"circle\"},\"mode\":\"markers\",\"name\":\"Gabon\",\"orientation\":\"v\",\"showlegend\":true,\"x\":[69.0],\"xaxis\":\"x\",\"y\":[16200],\"yaxis\":\"y\",\"type\":\"scatter\"},{\"customdata\":[[\"South Africa\"]],\"hovertemplate\":\"\\u003cb\\u003e%{hovertext}\\u003c\\u002fb\\u003e\\u003cbr\\u003e\\u003cbr\\u003eCountry=%{customdata[0]}\\u003cbr\\u003eLife expectancy=%{x}\\u003cbr\\u003eGDP Per Capita=%{y}\\u003cextra\\u003e\\u003c\\u002fextra\\u003e\",\"hovertext\":[\"South Africa\"],\"legendgroup\":\"South Africa\",\"marker\":{\"color\":\"#FFA15A\",\"symbol\":\"circle\"},\"mode\":\"markers\",\"name\":\"South Africa\",\"orientation\":\"v\",\"showlegend\":true,\"x\":[66.9],\"xaxis\":\"x\",\"y\":[12000],\"yaxis\":\"y\",\"type\":\"scatter\"},{\"customdata\":[[\"Albania\"]],\"hovertemplate\":\"\\u003cb\\u003e%{hovertext}\\u003c\\u002fb\\u003e\\u003cbr\\u003e\\u003cbr\\u003eCountry=%{customdata[0]}\\u003cbr\\u003eLife expectancy=%{x}\\u003cbr\\u003eGDP Per Capita=%{y}\\u003cextra\\u003e\\u003c\\u002fextra\\u003e\",\"hovertext\":[\"Albania\"],\"legendgroup\":\"Albania\",\"marker\":{\"color\":\"#19d3f3\",\"symbol\":\"circle\"},\"mode\":\"markers\",\"name\":\"Albania\",\"orientation\":\"v\",\"showlegend\":true,\"x\":[78.5],\"xaxis\":\"x\",\"y\":[12700],\"yaxis\":\"y\",\"type\":\"scatter\"},{\"customdata\":[[\"Venezuela\"]],\"hovertemplate\":\"\\u003cb\\u003e%{hovertext}\\u003c\\u002fb\\u003e\\u003cbr\\u003e\\u003cbr\\u003eCountry=%{customdata[0]}\\u003cbr\\u003eLife expectancy=%{x}\\u003cbr\\u003eGDP Per Capita=%{y}\\u003cextra\\u003e\\u003c\\u002fextra\\u003e\",\"hovertext\":[\"Venezuela\"],\"legendgroup\":\"Venezuela\",\"marker\":{\"color\":\"#FF6692\",\"symbol\":\"circle\"},\"mode\":\"markers\",\"name\":\"Venezuela\",\"orientation\":\"v\",\"showlegend\":true,\"x\":[75.1],\"xaxis\":\"x\",\"y\":[9720],\"yaxis\":\"y\",\"type\":\"scatter\"},{\"customdata\":[[\"Cambodia\"]],\"hovertemplate\":\"\\u003cb\\u003e%{hovertext}\\u003c\\u002fb\\u003e\\u003cbr\\u003e\\u003cbr\\u003eCountry=%{customdata[0]}\\u003cbr\\u003eLife expectancy=%{x}\\u003cbr\\u003eGDP Per Capita=%{y}\\u003cextra\\u003e\\u003c\\u002fextra\\u003e\",\"hovertext\":[\"Cambodia\"],\"legendgroup\":\"Cambodia\",\"marker\":{\"color\":\"#B6E880\",\"symbol\":\"circle\"},\"mode\":\"markers\",\"name\":\"Cambodia\",\"orientation\":\"v\",\"showlegend\":true,\"x\":[70.4],\"xaxis\":\"x\",\"y\":[4080],\"yaxis\":\"y\",\"type\":\"scatter\"},{\"customdata\":[[\"Senegal\"]],\"hovertemplate\":\"\\u003cb\\u003e%{hovertext}\\u003c\\u002fb\\u003e\\u003cbr\\u003e\\u003cbr\\u003eCountry=%{customdata[0]}\\u003cbr\\u003eLife expectancy=%{x}\\u003cbr\\u003eGDP Per Capita=%{y}\\u003cextra\\u003e\\u003c\\u002fextra\\u003e\",\"hovertext\":[\"Senegal\"],\"legendgroup\":\"Senegal\",\"marker\":{\"color\":\"#FF97FF\",\"symbol\":\"circle\"},\"mode\":\"markers\",\"name\":\"Senegal\",\"orientation\":\"v\",\"showlegend\":true,\"x\":[68.6],\"xaxis\":\"x\",\"y\":[3460],\"yaxis\":\"y\",\"type\":\"scatter\"},{\"customdata\":[[\"Somalia\"]],\"hovertemplate\":\"\\u003cb\\u003e%{hovertext}\\u003c\\u002fb\\u003e\\u003cbr\\u003e\\u003cbr\\u003eCountry=%{customdata[0]}\\u003cbr\\u003eLife expectancy=%{x}\\u003cbr\\u003eGDP Per Capita=%{y}\\u003cextra\\u003e\\u003c\\u002fextra\\u003e\",\"hovertext\":[\"Somalia\"],\"legendgroup\":\"Somalia\",\"marker\":{\"color\":\"#FECB52\",\"symbol\":\"circle\"},\"mode\":\"markers\",\"name\":\"Somalia\",\"orientation\":\"v\",\"showlegend\":true,\"x\":[59.2],\"xaxis\":\"x\",\"y\":[631],\"yaxis\":\"y\",\"type\":\"scatter\"},{\"customdata\":[[\"Namibia\"]],\"hovertemplate\":\"\\u003cb\\u003e%{hovertext}\\u003c\\u002fb\\u003e\\u003cbr\\u003e\\u003cbr\\u003eCountry=%{customdata[0]}\\u003cbr\\u003eLife expectancy=%{x}\\u003cbr\\u003eGDP Per Capita=%{y}\\u003cextra\\u003e\\u003c\\u002fextra\\u003e\",\"hovertext\":[\"Namibia\"],\"legendgroup\":\"Namibia\",\"marker\":{\"color\":\"#636efa\",\"symbol\":\"circle\"},\"mode\":\"markers\",\"name\":\"Namibia\",\"orientation\":\"v\",\"showlegend\":true,\"x\":[67.2],\"xaxis\":\"x\",\"y\":[9700],\"yaxis\":\"y\",\"type\":\"scatter\"},{\"customdata\":[[\"Niger\"]],\"hovertemplate\":\"\\u003cb\\u003e%{hovertext}\\u003c\\u002fb\\u003e\\u003cbr\\u003e\\u003cbr\\u003eCountry=%{customdata[0]}\\u003cbr\\u003eLife expectancy=%{x}\\u003cbr\\u003eGDP Per Capita=%{y}\\u003cextra\\u003e\\u003c\\u002fextra\\u003e\",\"hovertext\":[\"Niger\"],\"legendgroup\":\"Niger\",\"marker\":{\"color\":\"#EF553B\",\"symbol\":\"circle\"},\"mode\":\"markers\",\"name\":\"Niger\",\"orientation\":\"v\",\"showlegend\":true,\"x\":[63.2],\"xaxis\":\"x\",\"y\":[954],\"yaxis\":\"y\",\"type\":\"scatter\"},{\"customdata\":[[\"Burkina Faso\"]],\"hovertemplate\":\"\\u003cb\\u003e%{hovertext}\\u003c\\u002fb\\u003e\\u003cbr\\u003e\\u003cbr\\u003eCountry=%{customdata[0]}\\u003cbr\\u003eLife expectancy=%{x}\\u003cbr\\u003eGDP Per Capita=%{y}\\u003cextra\\u003e\\u003c\\u002fextra\\u003e\",\"hovertext\":[\"Burkina Faso\"],\"legendgroup\":\"Burkina Faso\",\"marker\":{\"color\":\"#00cc96\",\"symbol\":\"circle\"},\"mode\":\"markers\",\"name\":\"Burkina Faso\",\"orientation\":\"v\",\"showlegend\":true,\"x\":[62.5],\"xaxis\":\"x\",\"y\":[1810],\"yaxis\":\"y\",\"type\":\"scatter\"},{\"customdata\":[[\"Armenia\"]],\"hovertemplate\":\"\\u003cb\\u003e%{hovertext}\\u003c\\u002fb\\u003e\\u003cbr\\u003e\\u003cbr\\u003eCountry=%{customdata[0]}\\u003cbr\\u003eLife expectancy=%{x}\\u003cbr\\u003eGDP Per Capita=%{y}\\u003cextra\\u003e\\u003c\\u002fextra\\u003e\",\"hovertext\":[\"Armenia\"],\"legendgroup\":\"Armenia\",\"marker\":{\"color\":\"#ab63fa\",\"symbol\":\"circle\"},\"mode\":\"markers\",\"name\":\"Armenia\",\"orientation\":\"v\",\"showlegend\":true,\"x\":[75.9],\"xaxis\":\"x\",\"y\":[9730],\"yaxis\":\"y\",\"type\":\"scatter\"},{\"customdata\":[[\"Iran\"]],\"hovertemplate\":\"\\u003cb\\u003e%{hovertext}\\u003c\\u002fb\\u003e\\u003cbr\\u003e\\u003cbr\\u003eCountry=%{customdata[0]}\\u003cbr\\u003eLife expectancy=%{x}\\u003cbr\\u003eGDP Per Capita=%{y}\\u003cextra\\u003e\\u003c\\u002fextra\\u003e\",\"hovertext\":[\"Iran\"],\"legendgroup\":\"Iran\",\"marker\":{\"color\":\"#FFA15A\",\"symbol\":\"circle\"},\"mode\":\"markers\",\"name\":\"Iran\",\"orientation\":\"v\",\"showlegend\":true,\"x\":[77.8],\"xaxis\":\"x\",\"y\":[16100],\"yaxis\":\"y\",\"type\":\"scatter\"},{\"customdata\":[[\"Guinea\"]],\"hovertemplate\":\"\\u003cb\\u003e%{hovertext}\\u003c\\u002fb\\u003e\\u003cbr\\u003e\\u003cbr\\u003eCountry=%{customdata[0]}\\u003cbr\\u003eLife expectancy=%{x}\\u003cbr\\u003eGDP Per Capita=%{y}\\u003cextra\\u003e\\u003c\\u002fextra\\u003e\",\"hovertext\":[\"Guinea\"],\"legendgroup\":\"Guinea\",\"marker\":{\"color\":\"#19d3f3\",\"symbol\":\"circle\"},\"mode\":\"markers\",\"name\":\"Guinea\",\"orientation\":\"v\",\"showlegend\":true,\"x\":[61.6],\"xaxis\":\"x\",\"y\":[2420],\"yaxis\":\"y\",\"type\":\"scatter\"},{\"customdata\":[[\"Georgia\"]],\"hovertemplate\":\"\\u003cb\\u003e%{hovertext}\\u003c\\u002fb\\u003e\\u003cbr\\u003e\\u003cbr\\u003eCountry=%{customdata[0]}\\u003cbr\\u003eLife expectancy=%{x}\\u003cbr\\u003eGDP Per Capita=%{y}\\u003cextra\\u003e\\u003c\\u002fextra\\u003e\",\"hovertext\":[\"Georgia\"],\"legendgroup\":\"Georgia\",\"marker\":{\"color\":\"#FF6692\",\"symbol\":\"circle\"},\"mode\":\"markers\",\"name\":\"Georgia\",\"orientation\":\"v\",\"showlegend\":true,\"x\":[73.2],\"xaxis\":\"x\",\"y\":[10700],\"yaxis\":\"y\",\"type\":\"scatter\"},{\"customdata\":[[\"Gambia\"]],\"hovertemplate\":\"\\u003cb\\u003e%{hovertext}\\u003c\\u002fb\\u003e\\u003cbr\\u003e\\u003cbr\\u003eCountry=%{customdata[0]}\\u003cbr\\u003eLife expectancy=%{x}\\u003cbr\\u003eGDP Per Capita=%{y}\\u003cextra\\u003e\\u003c\\u002fextra\\u003e\",\"hovertext\":[\"Gambia\"],\"legendgroup\":\"Gambia\",\"marker\":{\"color\":\"#B6E880\",\"symbol\":\"circle\"},\"mode\":\"markers\",\"name\":\"Gambia\",\"orientation\":\"v\",\"showlegend\":true,\"x\":[66.4],\"xaxis\":\"x\",\"y\":[1570],\"yaxis\":\"y\",\"type\":\"scatter\"},{\"customdata\":[[\"Kenya\"]],\"hovertemplate\":\"\\u003cb\\u003e%{hovertext}\\u003c\\u002fb\\u003e\\u003cbr\\u003e\\u003cbr\\u003eCountry=%{customdata[0]}\\u003cbr\\u003eLife expectancy=%{x}\\u003cbr\\u003eGDP Per Capita=%{y}\\u003cextra\\u003e\\u003c\\u002fextra\\u003e\",\"hovertext\":[\"Kenya\"],\"legendgroup\":\"Kenya\",\"marker\":{\"color\":\"#FF97FF\",\"symbol\":\"circle\"},\"mode\":\"markers\",\"name\":\"Kenya\",\"orientation\":\"v\",\"showlegend\":true,\"x\":[66.7],\"xaxis\":\"x\",\"y\":[3160],\"yaxis\":\"y\",\"type\":\"scatter\"},{\"customdata\":[[\"Mauritania\"]],\"hovertemplate\":\"\\u003cb\\u003e%{hovertext}\\u003c\\u002fb\\u003e\\u003cbr\\u003e\\u003cbr\\u003eCountry=%{customdata[0]}\\u003cbr\\u003eLife expectancy=%{x}\\u003cbr\\u003eGDP Per Capita=%{y}\\u003cextra\\u003e\\u003c\\u002fextra\\u003e\",\"hovertext\":[\"Mauritania\"],\"legendgroup\":\"Mauritania\",\"marker\":{\"color\":\"#FECB52\",\"symbol\":\"circle\"},\"mode\":\"markers\",\"name\":\"Mauritania\",\"orientation\":\"v\",\"showlegend\":true,\"x\":[71.0],\"xaxis\":\"x\",\"y\":[3890],\"yaxis\":\"y\",\"type\":\"scatter\"},{\"customdata\":[[\"Mozambique\"]],\"hovertemplate\":\"\\u003cb\\u003e%{hovertext}\\u003c\\u002fb\\u003e\\u003cbr\\u003e\\u003cbr\\u003eCountry=%{customdata[0]}\\u003cbr\\u003eLife expectancy=%{x}\\u003cbr\\u003eGDP Per Capita=%{y}\\u003cextra\\u003e\\u003c\\u002fextra\\u003e\",\"hovertext\":[\"Mozambique\"],\"legendgroup\":\"Mozambique\",\"marker\":{\"color\":\"#636efa\",\"symbol\":\"circle\"},\"mode\":\"markers\",\"name\":\"Mozambique\",\"orientation\":\"v\",\"showlegend\":true,\"x\":[59.9],\"xaxis\":\"x\",\"y\":[1170],\"yaxis\":\"y\",\"type\":\"scatter\"},{\"customdata\":[[\"Tunisia\"]],\"hovertemplate\":\"\\u003cb\\u003e%{hovertext}\\u003c\\u002fb\\u003e\\u003cbr\\u003e\\u003cbr\\u003eCountry=%{customdata[0]}\\u003cbr\\u003eLife expectancy=%{x}\\u003cbr\\u003eGDP Per Capita=%{y}\\u003cextra\\u003e\\u003c\\u002fextra\\u003e\",\"hovertext\":[\"Tunisia\"],\"legendgroup\":\"Tunisia\",\"marker\":{\"color\":\"#EF553B\",\"symbol\":\"circle\"},\"mode\":\"markers\",\"name\":\"Tunisia\",\"orientation\":\"v\",\"showlegend\":true,\"x\":[78.7],\"xaxis\":\"x\",\"y\":[11100],\"yaxis\":\"y\",\"type\":\"scatter\"},{\"customdata\":[[\"Bangladesh\"]],\"hovertemplate\":\"\\u003cb\\u003e%{hovertext}\\u003c\\u002fb\\u003e\\u003cbr\\u003e\\u003cbr\\u003eCountry=%{customdata[0]}\\u003cbr\\u003eLife expectancy=%{x}\\u003cbr\\u003eGDP Per Capita=%{y}\\u003cextra\\u003e\\u003c\\u002fextra\\u003e\",\"hovertext\":[\"Bangladesh\"],\"legendgroup\":\"Bangladesh\",\"marker\":{\"color\":\"#00cc96\",\"symbol\":\"circle\"},\"mode\":\"markers\",\"name\":\"Bangladesh\",\"orientation\":\"v\",\"showlegend\":true,\"x\":[73.7],\"xaxis\":\"x\",\"y\":[4140],\"yaxis\":\"y\",\"type\":\"scatter\"},{\"customdata\":[[\"Iraq\"]],\"hovertemplate\":\"\\u003cb\\u003e%{hovertext}\\u003c\\u002fb\\u003e\\u003cbr\\u003e\\u003cbr\\u003eCountry=%{customdata[0]}\\u003cbr\\u003eLife expectancy=%{x}\\u003cbr\\u003eGDP Per Capita=%{y}\\u003cextra\\u003e\\u003c\\u002fextra\\u003e\",\"hovertext\":[\"Iraq\"],\"legendgroup\":\"Iraq\",\"marker\":{\"color\":\"#ab63fa\",\"symbol\":\"circle\"},\"mode\":\"markers\",\"name\":\"Iraq\",\"orientation\":\"v\",\"showlegend\":true,\"x\":[77.1],\"xaxis\":\"x\",\"y\":[15700],\"yaxis\":\"y\",\"type\":\"scatter\"},{\"customdata\":[[\"Mali\"]],\"hovertemplate\":\"\\u003cb\\u003e%{hovertext}\\u003c\\u002fb\\u003e\\u003cbr\\u003e\\u003cbr\\u003eCountry=%{customdata[0]}\\u003cbr\\u003eLife expectancy=%{x}\\u003cbr\\u003eGDP Per Capita=%{y}\\u003cextra\\u003e\\u003c\\u002fextra\\u003e\",\"hovertext\":[\"Mali\"],\"legendgroup\":\"Mali\",\"marker\":{\"color\":\"#FFA15A\",\"symbol\":\"circle\"},\"mode\":\"markers\",\"name\":\"Mali\",\"orientation\":\"v\",\"showlegend\":true,\"x\":[62.9],\"xaxis\":\"x\",\"y\":[2100],\"yaxis\":\"y\",\"type\":\"scatter\"},{\"customdata\":[[\"Sierra Leone\"]],\"hovertemplate\":\"\\u003cb\\u003e%{hovertext}\\u003c\\u002fb\\u003e\\u003cbr\\u003e\\u003cbr\\u003eCountry=%{customdata[0]}\\u003cbr\\u003eLife expectancy=%{x}\\u003cbr\\u003eGDP Per Capita=%{y}\\u003cextra\\u003e\\u003c\\u002fextra\\u003e\",\"hovertext\":[\"Sierra Leone\"],\"legendgroup\":\"Sierra Leone\",\"marker\":{\"color\":\"#19d3f3\",\"symbol\":\"circle\"},\"mode\":\"markers\",\"name\":\"Sierra Leone\",\"orientation\":\"v\",\"showlegend\":true,\"x\":[61.3],\"xaxis\":\"x\",\"y\":[1460],\"yaxis\":\"y\",\"type\":\"scatter\"},{\"customdata\":[[\"Sri Lanka\"]],\"hovertemplate\":\"\\u003cb\\u003e%{hovertext}\\u003c\\u002fb\\u003e\\u003cbr\\u003e\\u003cbr\\u003eCountry=%{customdata[0]}\\u003cbr\\u003eLife expectancy=%{x}\\u003cbr\\u003eGDP Per Capita=%{y}\\u003cextra\\u003e\\u003c\\u002fextra\\u003e\",\"hovertext\":[\"Sri Lanka\"],\"legendgroup\":\"Sri Lanka\",\"marker\":{\"color\":\"#FF6692\",\"symbol\":\"circle\"},\"mode\":\"markers\",\"name\":\"Sri Lanka\",\"orientation\":\"v\",\"showlegend\":true,\"x\":[77.8],\"xaxis\":\"x\",\"y\":[12100],\"yaxis\":\"y\",\"type\":\"scatter\"},{\"customdata\":[[\"Myanmar\"]],\"hovertemplate\":\"\\u003cb\\u003e%{hovertext}\\u003c\\u002fb\\u003e\\u003cbr\\u003e\\u003cbr\\u003eCountry=%{customdata[0]}\\u003cbr\\u003eLife expectancy=%{x}\\u003cbr\\u003eGDP Per Capita=%{y}\\u003cextra\\u003e\\u003c\\u002fextra\\u003e\",\"hovertext\":[\"Myanmar\"],\"legendgroup\":\"Myanmar\",\"marker\":{\"color\":\"#B6E880\",\"symbol\":\"circle\"},\"mode\":\"markers\",\"name\":\"Myanmar\",\"orientation\":\"v\",\"showlegend\":true,\"x\":[69.1],\"xaxis\":\"x\",\"y\":[6270],\"yaxis\":\"y\",\"type\":\"scatter\"},{\"customdata\":[[\"Chad\"]],\"hovertemplate\":\"\\u003cb\\u003e%{hovertext}\\u003c\\u002fb\\u003e\\u003cbr\\u003e\\u003cbr\\u003eCountry=%{customdata[0]}\\u003cbr\\u003eLife expectancy=%{x}\\u003cbr\\u003eGDP Per Capita=%{y}\\u003cextra\\u003e\\u003c\\u002fextra\\u003e\",\"hovertext\":[\"Chad\"],\"legendgroup\":\"Chad\",\"marker\":{\"color\":\"#FF97FF\",\"symbol\":\"circle\"},\"mode\":\"markers\",\"name\":\"Chad\",\"orientation\":\"v\",\"showlegend\":true,\"x\":[60.6],\"xaxis\":\"x\",\"y\":[1740],\"yaxis\":\"y\",\"type\":\"scatter\"},{\"customdata\":[[\"Ukraine\"]],\"hovertemplate\":\"\\u003cb\\u003e%{hovertext}\\u003c\\u002fb\\u003e\\u003cbr\\u003e\\u003cbr\\u003eCountry=%{customdata[0]}\\u003cbr\\u003eLife expectancy=%{x}\\u003cbr\\u003eGDP Per Capita=%{y}\\u003cextra\\u003e\\u003c\\u002fextra\\u003e\",\"hovertext\":[\"Ukraine\"],\"legendgroup\":\"Ukraine\",\"marker\":{\"color\":\"#FECB52\",\"symbol\":\"circle\"},\"mode\":\"markers\",\"name\":\"Ukraine\",\"orientation\":\"v\",\"showlegend\":true,\"x\":[70.8],\"xaxis\":\"x\",\"y\":[8480],\"yaxis\":\"y\",\"type\":\"scatter\"},{\"customdata\":[[\"Ethiopia\"]],\"hovertemplate\":\"\\u003cb\\u003e%{hovertext}\\u003c\\u002fb\\u003e\\u003cbr\\u003e\\u003cbr\\u003eCountry=%{customdata[0]}\\u003cbr\\u003eLife expectancy=%{x}\\u003cbr\\u003eGDP Per Capita=%{y}\\u003cextra\\u003e\\u003c\\u002fextra\\u003e\",\"hovertext\":[\"Ethiopia\"],\"legendgroup\":\"Ethiopia\",\"marker\":{\"color\":\"#636efa\",\"symbol\":\"circle\"},\"mode\":\"markers\",\"name\":\"Ethiopia\",\"orientation\":\"v\",\"showlegend\":true,\"x\":[69.1],\"xaxis\":\"x\",\"y\":[1900],\"yaxis\":\"y\",\"type\":\"scatter\"},{\"customdata\":[[\"Swaziland\"]],\"hovertemplate\":\"\\u003cb\\u003e%{hovertext}\\u003c\\u002fb\\u003e\\u003cbr\\u003e\\u003cbr\\u003eCountry=%{customdata[0]}\\u003cbr\\u003eLife expectancy=%{x}\\u003cbr\\u003eGDP Per Capita=%{y}\\u003cextra\\u003e\\u003c\\u002fextra\\u003e\",\"hovertext\":[\"Swaziland\"],\"legendgroup\":\"Swaziland\",\"marker\":{\"color\":\"#EF553B\",\"symbol\":\"circle\"},\"mode\":\"markers\",\"name\":\"Swaziland\",\"orientation\":\"v\",\"showlegend\":true,\"x\":[61.8],\"xaxis\":\"x\",\"y\":[9560],\"yaxis\":\"y\",\"type\":\"scatter\"},{\"customdata\":[[\"Uganda\"]],\"hovertemplate\":\"\\u003cb\\u003e%{hovertext}\\u003c\\u002fb\\u003e\\u003cbr\\u003e\\u003cbr\\u003eCountry=%{customdata[0]}\\u003cbr\\u003eLife expectancy=%{x}\\u003cbr\\u003eGDP Per Capita=%{y}\\u003cextra\\u003e\\u003c\\u002fextra\\u003e\",\"hovertext\":[\"Uganda\"],\"legendgroup\":\"Uganda\",\"marker\":{\"color\":\"#00cc96\",\"symbol\":\"circle\"},\"mode\":\"markers\",\"name\":\"Uganda\",\"orientation\":\"v\",\"showlegend\":true,\"x\":[66.6],\"xaxis\":\"x\",\"y\":[1870],\"yaxis\":\"y\",\"type\":\"scatter\"},{\"customdata\":[[\"Egypt\"]],\"hovertemplate\":\"\\u003cb\\u003e%{hovertext}\\u003c\\u002fb\\u003e\\u003cbr\\u003e\\u003cbr\\u003eCountry=%{customdata[0]}\\u003cbr\\u003eLife expectancy=%{x}\\u003cbr\\u003eGDP Per Capita=%{y}\\u003cextra\\u003e\\u003c\\u002fextra\\u003e\",\"hovertext\":[\"Egypt\"],\"legendgroup\":\"Egypt\",\"marker\":{\"color\":\"#ab63fa\",\"symbol\":\"circle\"},\"mode\":\"markers\",\"name\":\"Egypt\",\"orientation\":\"v\",\"showlegend\":true,\"x\":[71.0],\"xaxis\":\"x\",\"y\":[11400],\"yaxis\":\"y\",\"type\":\"scatter\"},{\"customdata\":[[\"Zambia\"]],\"hovertemplate\":\"\\u003cb\\u003e%{hovertext}\\u003c\\u002fb\\u003e\\u003cbr\\u003e\\u003cbr\\u003eCountry=%{customdata[0]}\\u003cbr\\u003eLife expectancy=%{x}\\u003cbr\\u003eGDP Per Capita=%{y}\\u003cextra\\u003e\\u003c\\u002fextra\\u003e\",\"hovertext\":[\"Zambia\"],\"legendgroup\":\"Zambia\",\"marker\":{\"color\":\"#FFA15A\",\"symbol\":\"circle\"},\"mode\":\"markers\",\"name\":\"Zambia\",\"orientation\":\"v\",\"showlegend\":true,\"x\":[64.0],\"xaxis\":\"x\",\"y\":[3700],\"yaxis\":\"y\",\"type\":\"scatter\"},{\"customdata\":[[\"Togo\"]],\"hovertemplate\":\"\\u003cb\\u003e%{hovertext}\\u003c\\u002fb\\u003e\\u003cbr\\u003e\\u003cbr\\u003eCountry=%{customdata[0]}\\u003cbr\\u003eLife expectancy=%{x}\\u003cbr\\u003eGDP Per Capita=%{y}\\u003cextra\\u003e\\u003c\\u002fextra\\u003e\",\"hovertext\":[\"Togo\"],\"legendgroup\":\"Togo\",\"marker\":{\"color\":\"#19d3f3\",\"symbol\":\"circle\"},\"mode\":\"markers\",\"name\":\"Togo\",\"orientation\":\"v\",\"showlegend\":true,\"x\":[65.0],\"xaxis\":\"x\",\"y\":[1610],\"yaxis\":\"y\",\"type\":\"scatter\"},{\"customdata\":[[\"India\"]],\"hovertemplate\":\"\\u003cb\\u003e%{hovertext}\\u003c\\u002fb\\u003e\\u003cbr\\u003e\\u003cbr\\u003eCountry=%{customdata[0]}\\u003cbr\\u003eLife expectancy=%{x}\\u003cbr\\u003eGDP Per Capita=%{y}\\u003cextra\\u003e\\u003c\\u002fextra\\u003e\",\"hovertext\":[\"India\"],\"legendgroup\":\"India\",\"marker\":{\"color\":\"#FF6692\",\"symbol\":\"circle\"},\"mode\":\"markers\",\"name\":\"India\",\"orientation\":\"v\",\"showlegend\":true,\"x\":[69.5],\"xaxis\":\"x\",\"y\":[7230],\"yaxis\":\"y\",\"type\":\"scatter\"},{\"customdata\":[[\"Liberia\"]],\"hovertemplate\":\"\\u003cb\\u003e%{hovertext}\\u003c\\u002fb\\u003e\\u003cbr\\u003e\\u003cbr\\u003eCountry=%{customdata[0]}\\u003cbr\\u003eLife expectancy=%{x}\\u003cbr\\u003eGDP Per Capita=%{y}\\u003cextra\\u003e\\u003c\\u002fextra\\u003e\",\"hovertext\":[\"Liberia\"],\"legendgroup\":\"Liberia\",\"marker\":{\"color\":\"#B6E880\",\"symbol\":\"circle\"},\"mode\":\"markers\",\"name\":\"Liberia\",\"orientation\":\"v\",\"showlegend\":true,\"x\":[65.2],\"xaxis\":\"x\",\"y\":[1140],\"yaxis\":\"y\",\"type\":\"scatter\"},{\"customdata\":[[\"Comoros\"]],\"hovertemplate\":\"\\u003cb\\u003e%{hovertext}\\u003c\\u002fb\\u003e\\u003cbr\\u003e\\u003cbr\\u003eCountry=%{customdata[0]}\\u003cbr\\u003eLife expectancy=%{x}\\u003cbr\\u003eGDP Per Capita=%{y}\\u003cextra\\u003e\\u003c\\u002fextra\\u003e\",\"hovertext\":[\"Comoros\"],\"legendgroup\":\"Comoros\",\"marker\":{\"color\":\"#FF97FF\",\"symbol\":\"circle\"},\"mode\":\"markers\",\"name\":\"Comoros\",\"orientation\":\"v\",\"showlegend\":true,\"x\":[69.1],\"xaxis\":\"x\",\"y\":[2480],\"yaxis\":\"y\",\"type\":\"scatter\"},{\"customdata\":[[\"Madagascar\"]],\"hovertemplate\":\"\\u003cb\\u003e%{hovertext}\\u003c\\u002fb\\u003e\\u003cbr\\u003e\\u003cbr\\u003eCountry=%{customdata[0]}\\u003cbr\\u003eLife expectancy=%{x}\\u003cbr\\u003eGDP Per Capita=%{y}\\u003cextra\\u003e\\u003c\\u002fextra\\u003e\",\"hovertext\":[\"Madagascar\"],\"legendgroup\":\"Madagascar\",\"marker\":{\"color\":\"#FECB52\",\"symbol\":\"circle\"},\"mode\":\"markers\",\"name\":\"Madagascar\",\"orientation\":\"v\",\"showlegend\":true,\"x\":[64.2],\"xaxis\":\"x\",\"y\":[1490],\"yaxis\":\"y\",\"type\":\"scatter\"},{\"customdata\":[[\"Lesotho\"]],\"hovertemplate\":\"\\u003cb\\u003e%{hovertext}\\u003c\\u002fb\\u003e\\u003cbr\\u003e\\u003cbr\\u003eCountry=%{customdata[0]}\\u003cbr\\u003eLife expectancy=%{x}\\u003cbr\\u003eGDP Per Capita=%{y}\\u003cextra\\u003e\\u003c\\u002fextra\\u003e\",\"hovertext\":[\"Lesotho\"],\"legendgroup\":\"Lesotho\",\"marker\":{\"color\":\"#636efa\",\"symbol\":\"circle\"},\"mode\":\"markers\",\"name\":\"Lesotho\",\"orientation\":\"v\",\"showlegend\":true,\"x\":[56.1],\"xaxis\":\"x\",\"y\":[2920],\"yaxis\":\"y\",\"type\":\"scatter\"},{\"customdata\":[[\"Burundi\"]],\"hovertemplate\":\"\\u003cb\\u003e%{hovertext}\\u003c\\u002fb\\u003e\\u003cbr\\u003e\\u003cbr\\u003eCountry=%{customdata[0]}\\u003cbr\\u003eLife expectancy=%{x}\\u003cbr\\u003eGDP Per Capita=%{y}\\u003cextra\\u003e\\u003c\\u002fextra\\u003e\",\"hovertext\":[\"Burundi\"],\"legendgroup\":\"Burundi\",\"marker\":{\"color\":\"#EF553B\",\"symbol\":\"circle\"},\"mode\":\"markers\",\"name\":\"Burundi\",\"orientation\":\"v\",\"showlegend\":true,\"x\":[62.3],\"xaxis\":\"x\",\"y\":[644],\"yaxis\":\"y\",\"type\":\"scatter\"},{\"customdata\":[[\"Zimbabwe\"]],\"hovertemplate\":\"\\u003cb\\u003e%{hovertext}\\u003c\\u002fb\\u003e\\u003cbr\\u003e\\u003cbr\\u003eCountry=%{customdata[0]}\\u003cbr\\u003eLife expectancy=%{x}\\u003cbr\\u003eGDP Per Capita=%{y}\\u003cextra\\u003e\\u003c\\u002fextra\\u003e\",\"hovertext\":[\"Zimbabwe\"],\"legendgroup\":\"Zimbabwe\",\"marker\":{\"color\":\"#00cc96\",\"symbol\":\"circle\"},\"mode\":\"markers\",\"name\":\"Zimbabwe\",\"orientation\":\"v\",\"showlegend\":true,\"x\":[62.0],\"xaxis\":\"x\",\"y\":[2390],\"yaxis\":\"y\",\"type\":\"scatter\"},{\"customdata\":[[\"Haiti\"]],\"hovertemplate\":\"\\u003cb\\u003e%{hovertext}\\u003c\\u002fb\\u003e\\u003cbr\\u003e\\u003cbr\\u003eCountry=%{customdata[0]}\\u003cbr\\u003eLife expectancy=%{x}\\u003cbr\\u003eGDP Per Capita=%{y}\\u003cextra\\u003e\\u003c\\u002fextra\\u003e\",\"hovertext\":[\"Haiti\"],\"legendgroup\":\"Haiti\",\"marker\":{\"color\":\"#ab63fa\",\"symbol\":\"circle\"},\"mode\":\"markers\",\"name\":\"Haiti\",\"orientation\":\"v\",\"showlegend\":true,\"x\":[65.7],\"xaxis\":\"x\",\"y\":[1640],\"yaxis\":\"y\",\"type\":\"scatter\"},{\"customdata\":[[\"Botswana\"]],\"hovertemplate\":\"\\u003cb\\u003e%{hovertext}\\u003c\\u002fb\\u003e\\u003cbr\\u003e\\u003cbr\\u003eCountry=%{customdata[0]}\\u003cbr\\u003eLife expectancy=%{x}\\u003cbr\\u003eGDP Per Capita=%{y}\\u003cextra\\u003e\\u003c\\u002fextra\\u003e\",\"hovertext\":[\"Botswana\"],\"legendgroup\":\"Botswana\",\"marker\":{\"color\":\"#FFA15A\",\"symbol\":\"circle\"},\"mode\":\"markers\",\"name\":\"Botswana\",\"orientation\":\"v\",\"showlegend\":true,\"x\":[69.8],\"xaxis\":\"x\",\"y\":[16800],\"yaxis\":\"y\",\"type\":\"scatter\"},{\"customdata\":[[\"Syria\"]],\"hovertemplate\":\"\\u003cb\\u003e%{hovertext}\\u003c\\u002fb\\u003e\\u003cbr\\u003e\\u003cbr\\u003eCountry=%{customdata[0]}\\u003cbr\\u003eLife expectancy=%{x}\\u003cbr\\u003eGDP Per Capita=%{y}\\u003cextra\\u003e\\u003c\\u002fextra\\u003e\",\"hovertext\":[\"Syria\"],\"legendgroup\":\"Syria\",\"marker\":{\"color\":\"#19d3f3\",\"symbol\":\"circle\"},\"mode\":\"markers\",\"name\":\"Syria\",\"orientation\":\"v\",\"showlegend\":true,\"x\":[71.5],\"xaxis\":\"x\",\"y\":[2900],\"yaxis\":\"y\",\"type\":\"scatter\"},{\"customdata\":[[\"Malawi\"]],\"hovertemplate\":\"\\u003cb\\u003e%{hovertext}\\u003c\\u002fb\\u003e\\u003cbr\\u003e\\u003cbr\\u003eCountry=%{customdata[0]}\\u003cbr\\u003eLife expectancy=%{x}\\u003cbr\\u003eGDP Per Capita=%{y}\\u003cextra\\u003e\\u003c\\u002fextra\\u003e\",\"hovertext\":[\"Malawi\"],\"legendgroup\":\"Malawi\",\"marker\":{\"color\":\"#FF6692\",\"symbol\":\"circle\"},\"mode\":\"markers\",\"name\":\"Malawi\",\"orientation\":\"v\",\"showlegend\":true,\"x\":[64.2],\"xaxis\":\"x\",\"y\":[1180],\"yaxis\":\"y\",\"type\":\"scatter\"},{\"customdata\":[[\"Yemen\"]],\"hovertemplate\":\"\\u003cb\\u003e%{hovertext}\\u003c\\u002fb\\u003e\\u003cbr\\u003e\\u003cbr\\u003eCountry=%{customdata[0]}\\u003cbr\\u003eLife expectancy=%{x}\\u003cbr\\u003eGDP Per Capita=%{y}\\u003cextra\\u003e\\u003c\\u002fextra\\u003e\",\"hovertext\":[\"Yemen\"],\"legendgroup\":\"Yemen\",\"marker\":{\"color\":\"#B6E880\",\"symbol\":\"circle\"},\"mode\":\"markers\",\"name\":\"Yemen\",\"orientation\":\"v\",\"showlegend\":true,\"x\":[68.1],\"xaxis\":\"x\",\"y\":[2340],\"yaxis\":\"y\",\"type\":\"scatter\"},{\"customdata\":[[\"Rwanda\"]],\"hovertemplate\":\"\\u003cb\\u003e%{hovertext}\\u003c\\u002fb\\u003e\\u003cbr\\u003e\\u003cbr\\u003eCountry=%{customdata[0]}\\u003cbr\\u003eLife expectancy=%{x}\\u003cbr\\u003eGDP Per Capita=%{y}\\u003cextra\\u003e\\u003c\\u002fextra\\u003e\",\"hovertext\":[\"Rwanda\"],\"legendgroup\":\"Rwanda\",\"marker\":{\"color\":\"#FF97FF\",\"symbol\":\"circle\"},\"mode\":\"markers\",\"name\":\"Rwanda\",\"orientation\":\"v\",\"showlegend\":true,\"x\":[69.1],\"xaxis\":\"x\",\"y\":[2110],\"yaxis\":\"y\",\"type\":\"scatter\"},{\"customdata\":[[\"Tanzania\"]],\"hovertemplate\":\"\\u003cb\\u003e%{hovertext}\\u003c\\u002fb\\u003e\\u003cbr\\u003e\\u003cbr\\u003eCountry=%{customdata[0]}\\u003cbr\\u003eLife expectancy=%{x}\\u003cbr\\u003eGDP Per Capita=%{y}\\u003cextra\\u003e\\u003c\\u002fextra\\u003e\",\"hovertext\":[\"Tanzania\"],\"legendgroup\":\"Tanzania\",\"marker\":{\"color\":\"#FECB52\",\"symbol\":\"circle\"},\"mode\":\"markers\",\"name\":\"Tanzania\",\"orientation\":\"v\",\"showlegend\":true,\"x\":[67.7],\"xaxis\":\"x\",\"y\":[2980],\"yaxis\":\"y\",\"type\":\"scatter\"},{\"customdata\":[[\"Afghanistan\"]],\"hovertemplate\":\"\\u003cb\\u003e%{hovertext}\\u003c\\u002fb\\u003e\\u003cbr\\u003e\\u003cbr\\u003eCountry=%{customdata[0]}\\u003cbr\\u003eLife expectancy=%{x}\\u003cbr\\u003eGDP Per Capita=%{y}\\u003cextra\\u003e\\u003c\\u002fextra\\u003e\",\"hovertext\":[\"Afghanistan\"],\"legendgroup\":\"Afghanistan\",\"marker\":{\"color\":\"#636efa\",\"symbol\":\"circle\"},\"mode\":\"markers\",\"name\":\"Afghanistan\",\"orientation\":\"v\",\"showlegend\":true,\"x\":[64.1],\"xaxis\":\"x\",\"y\":[1760],\"yaxis\":\"y\",\"type\":\"scatter\"},{\"customdata\":[[\"Central African Republic\"]],\"hovertemplate\":\"\\u003cb\\u003e%{hovertext}\\u003c\\u002fb\\u003e\\u003cbr\\u003e\\u003cbr\\u003eCountry=%{customdata[0]}\\u003cbr\\u003eLife expectancy=%{x}\\u003cbr\\u003eGDP Per Capita=%{y}\\u003cextra\\u003e\\u003c\\u002fextra\\u003e\",\"hovertext\":[\"Central African Republic\"],\"legendgroup\":\"Central African Republic\",\"marker\":{\"color\":\"#EF553B\",\"symbol\":\"circle\"},\"mode\":\"markers\",\"name\":\"Central African Republic\",\"orientation\":\"v\",\"showlegend\":true,\"x\":[52.9],\"xaxis\":\"x\",\"y\":[794],\"yaxis\":\"y\",\"type\":\"scatter\"},{\"customdata\":[[\"South Sudan\"]],\"hovertemplate\":\"\\u003cb\\u003e%{hovertext}\\u003c\\u002fb\\u003e\\u003cbr\\u003e\\u003cbr\\u003eCountry=%{customdata[0]}\\u003cbr\\u003eLife expectancy=%{x}\\u003cbr\\u003eGDP Per Capita=%{y}\\u003cextra\\u003e\\u003c\\u002fextra\\u003e\",\"hovertext\":[\"South Sudan\"],\"legendgroup\":\"South Sudan\",\"marker\":{\"color\":\"#00cc96\",\"symbol\":\"circle\"},\"mode\":\"markers\",\"name\":\"South Sudan\",\"orientation\":\"v\",\"showlegend\":true,\"x\":[59.7],\"xaxis\":\"x\",\"y\":[1860],\"yaxis\":\"y\",\"type\":\"scatter\"}],                        {\"template\":{\"data\":{\"histogram2dcontour\":[{\"type\":\"histogram2dcontour\",\"colorbar\":{\"outlinewidth\":0,\"ticks\":\"\"},\"colorscale\":[[0.0,\"#0d0887\"],[0.1111111111111111,\"#46039f\"],[0.2222222222222222,\"#7201a8\"],[0.3333333333333333,\"#9c179e\"],[0.4444444444444444,\"#bd3786\"],[0.5555555555555556,\"#d8576b\"],[0.6666666666666666,\"#ed7953\"],[0.7777777777777778,\"#fb9f3a\"],[0.8888888888888888,\"#fdca26\"],[1.0,\"#f0f921\"]]}],\"choropleth\":[{\"type\":\"choropleth\",\"colorbar\":{\"outlinewidth\":0,\"ticks\":\"\"}}],\"histogram2d\":[{\"type\":\"histogram2d\",\"colorbar\":{\"outlinewidth\":0,\"ticks\":\"\"},\"colorscale\":[[0.0,\"#0d0887\"],[0.1111111111111111,\"#46039f\"],[0.2222222222222222,\"#7201a8\"],[0.3333333333333333,\"#9c179e\"],[0.4444444444444444,\"#bd3786\"],[0.5555555555555556,\"#d8576b\"],[0.6666666666666666,\"#ed7953\"],[0.7777777777777778,\"#fb9f3a\"],[0.8888888888888888,\"#fdca26\"],[1.0,\"#f0f921\"]]}],\"heatmap\":[{\"type\":\"heatmap\",\"colorbar\":{\"outlinewidth\":0,\"ticks\":\"\"},\"colorscale\":[[0.0,\"#0d0887\"],[0.1111111111111111,\"#46039f\"],[0.2222222222222222,\"#7201a8\"],[0.3333333333333333,\"#9c179e\"],[0.4444444444444444,\"#bd3786\"],[0.5555555555555556,\"#d8576b\"],[0.6666666666666666,\"#ed7953\"],[0.7777777777777778,\"#fb9f3a\"],[0.8888888888888888,\"#fdca26\"],[1.0,\"#f0f921\"]]}],\"heatmapgl\":[{\"type\":\"heatmapgl\",\"colorbar\":{\"outlinewidth\":0,\"ticks\":\"\"},\"colorscale\":[[0.0,\"#0d0887\"],[0.1111111111111111,\"#46039f\"],[0.2222222222222222,\"#7201a8\"],[0.3333333333333333,\"#9c179e\"],[0.4444444444444444,\"#bd3786\"],[0.5555555555555556,\"#d8576b\"],[0.6666666666666666,\"#ed7953\"],[0.7777777777777778,\"#fb9f3a\"],[0.8888888888888888,\"#fdca26\"],[1.0,\"#f0f921\"]]}],\"contourcarpet\":[{\"type\":\"contourcarpet\",\"colorbar\":{\"outlinewidth\":0,\"ticks\":\"\"}}],\"contour\":[{\"type\":\"contour\",\"colorbar\":{\"outlinewidth\":0,\"ticks\":\"\"},\"colorscale\":[[0.0,\"#0d0887\"],[0.1111111111111111,\"#46039f\"],[0.2222222222222222,\"#7201a8\"],[0.3333333333333333,\"#9c179e\"],[0.4444444444444444,\"#bd3786\"],[0.5555555555555556,\"#d8576b\"],[0.6666666666666666,\"#ed7953\"],[0.7777777777777778,\"#fb9f3a\"],[0.8888888888888888,\"#fdca26\"],[1.0,\"#f0f921\"]]}],\"surface\":[{\"type\":\"surface\",\"colorbar\":{\"outlinewidth\":0,\"ticks\":\"\"},\"colorscale\":[[0.0,\"#0d0887\"],[0.1111111111111111,\"#46039f\"],[0.2222222222222222,\"#7201a8\"],[0.3333333333333333,\"#9c179e\"],[0.4444444444444444,\"#bd3786\"],[0.5555555555555556,\"#d8576b\"],[0.6666666666666666,\"#ed7953\"],[0.7777777777777778,\"#fb9f3a\"],[0.8888888888888888,\"#fdca26\"],[1.0,\"#f0f921\"]]}],\"mesh3d\":[{\"type\":\"mesh3d\",\"colorbar\":{\"outlinewidth\":0,\"ticks\":\"\"}}],\"scatter\":[{\"fillpattern\":{\"fillmode\":\"overlay\",\"size\":10,\"solidity\":0.2},\"type\":\"scatter\"}],\"parcoords\":[{\"type\":\"parcoords\",\"line\":{\"colorbar\":{\"outlinewidth\":0,\"ticks\":\"\"}}}],\"scatterpolargl\":[{\"type\":\"scatterpolargl\",\"marker\":{\"colorbar\":{\"outlinewidth\":0,\"ticks\":\"\"}}}],\"bar\":[{\"error_x\":{\"color\":\"#2a3f5f\"},\"error_y\":{\"color\":\"#2a3f5f\"},\"marker\":{\"line\":{\"color\":\"#E5ECF6\",\"width\":0.5},\"pattern\":{\"fillmode\":\"overlay\",\"size\":10,\"solidity\":0.2}},\"type\":\"bar\"}],\"scattergeo\":[{\"type\":\"scattergeo\",\"marker\":{\"colorbar\":{\"outlinewidth\":0,\"ticks\":\"\"}}}],\"scatterpolar\":[{\"type\":\"scatterpolar\",\"marker\":{\"colorbar\":{\"outlinewidth\":0,\"ticks\":\"\"}}}],\"histogram\":[{\"marker\":{\"pattern\":{\"fillmode\":\"overlay\",\"size\":10,\"solidity\":0.2}},\"type\":\"histogram\"}],\"scattergl\":[{\"type\":\"scattergl\",\"marker\":{\"colorbar\":{\"outlinewidth\":0,\"ticks\":\"\"}}}],\"scatter3d\":[{\"type\":\"scatter3d\",\"line\":{\"colorbar\":{\"outlinewidth\":0,\"ticks\":\"\"}},\"marker\":{\"colorbar\":{\"outlinewidth\":0,\"ticks\":\"\"}}}],\"scattermapbox\":[{\"type\":\"scattermapbox\",\"marker\":{\"colorbar\":{\"outlinewidth\":0,\"ticks\":\"\"}}}],\"scatterternary\":[{\"type\":\"scatterternary\",\"marker\":{\"colorbar\":{\"outlinewidth\":0,\"ticks\":\"\"}}}],\"scattercarpet\":[{\"type\":\"scattercarpet\",\"marker\":{\"colorbar\":{\"outlinewidth\":0,\"ticks\":\"\"}}}],\"carpet\":[{\"aaxis\":{\"endlinecolor\":\"#2a3f5f\",\"gridcolor\":\"white\",\"linecolor\":\"white\",\"minorgridcolor\":\"white\",\"startlinecolor\":\"#2a3f5f\"},\"baxis\":{\"endlinecolor\":\"#2a3f5f\",\"gridcolor\":\"white\",\"linecolor\":\"white\",\"minorgridcolor\":\"white\",\"startlinecolor\":\"#2a3f5f\"},\"type\":\"carpet\"}],\"table\":[{\"cells\":{\"fill\":{\"color\":\"#EBF0F8\"},\"line\":{\"color\":\"white\"}},\"header\":{\"fill\":{\"color\":\"#C8D4E3\"},\"line\":{\"color\":\"white\"}},\"type\":\"table\"}],\"barpolar\":[{\"marker\":{\"line\":{\"color\":\"#E5ECF6\",\"width\":0.5},\"pattern\":{\"fillmode\":\"overlay\",\"size\":10,\"solidity\":0.2}},\"type\":\"barpolar\"}],\"pie\":[{\"automargin\":true,\"type\":\"pie\"}]},\"layout\":{\"autotypenumbers\":\"strict\",\"colorway\":[\"#636efa\",\"#EF553B\",\"#00cc96\",\"#ab63fa\",\"#FFA15A\",\"#19d3f3\",\"#FF6692\",\"#B6E880\",\"#FF97FF\",\"#FECB52\"],\"font\":{\"color\":\"#2a3f5f\"},\"hovermode\":\"closest\",\"hoverlabel\":{\"align\":\"left\"},\"paper_bgcolor\":\"white\",\"plot_bgcolor\":\"#E5ECF6\",\"polar\":{\"bgcolor\":\"#E5ECF6\",\"angularaxis\":{\"gridcolor\":\"white\",\"linecolor\":\"white\",\"ticks\":\"\"},\"radialaxis\":{\"gridcolor\":\"white\",\"linecolor\":\"white\",\"ticks\":\"\"}},\"ternary\":{\"bgcolor\":\"#E5ECF6\",\"aaxis\":{\"gridcolor\":\"white\",\"linecolor\":\"white\",\"ticks\":\"\"},\"baxis\":{\"gridcolor\":\"white\",\"linecolor\":\"white\",\"ticks\":\"\"},\"caxis\":{\"gridcolor\":\"white\",\"linecolor\":\"white\",\"ticks\":\"\"}},\"coloraxis\":{\"colorbar\":{\"outlinewidth\":0,\"ticks\":\"\"}},\"colorscale\":{\"sequential\":[[0.0,\"#0d0887\"],[0.1111111111111111,\"#46039f\"],[0.2222222222222222,\"#7201a8\"],[0.3333333333333333,\"#9c179e\"],[0.4444444444444444,\"#bd3786\"],[0.5555555555555556,\"#d8576b\"],[0.6666666666666666,\"#ed7953\"],[0.7777777777777778,\"#fb9f3a\"],[0.8888888888888888,\"#fdca26\"],[1.0,\"#f0f921\"]],\"sequentialminus\":[[0.0,\"#0d0887\"],[0.1111111111111111,\"#46039f\"],[0.2222222222222222,\"#7201a8\"],[0.3333333333333333,\"#9c179e\"],[0.4444444444444444,\"#bd3786\"],[0.5555555555555556,\"#d8576b\"],[0.6666666666666666,\"#ed7953\"],[0.7777777777777778,\"#fb9f3a\"],[0.8888888888888888,\"#fdca26\"],[1.0,\"#f0f921\"]],\"diverging\":[[0,\"#8e0152\"],[0.1,\"#c51b7d\"],[0.2,\"#de77ae\"],[0.3,\"#f1b6da\"],[0.4,\"#fde0ef\"],[0.5,\"#f7f7f7\"],[0.6,\"#e6f5d0\"],[0.7,\"#b8e186\"],[0.8,\"#7fbc41\"],[0.9,\"#4d9221\"],[1,\"#276419\"]]},\"xaxis\":{\"gridcolor\":\"white\",\"linecolor\":\"white\",\"ticks\":\"\",\"title\":{\"standoff\":15},\"zerolinecolor\":\"white\",\"automargin\":true,\"zerolinewidth\":2},\"yaxis\":{\"gridcolor\":\"white\",\"linecolor\":\"white\",\"ticks\":\"\",\"title\":{\"standoff\":15},\"zerolinecolor\":\"white\",\"automargin\":true,\"zerolinewidth\":2},\"scene\":{\"xaxis\":{\"backgroundcolor\":\"#E5ECF6\",\"gridcolor\":\"white\",\"linecolor\":\"white\",\"showbackground\":true,\"ticks\":\"\",\"zerolinecolor\":\"white\",\"gridwidth\":2},\"yaxis\":{\"backgroundcolor\":\"#E5ECF6\",\"gridcolor\":\"white\",\"linecolor\":\"white\",\"showbackground\":true,\"ticks\":\"\",\"zerolinecolor\":\"white\",\"gridwidth\":2},\"zaxis\":{\"backgroundcolor\":\"#E5ECF6\",\"gridcolor\":\"white\",\"linecolor\":\"white\",\"showbackground\":true,\"ticks\":\"\",\"zerolinecolor\":\"white\",\"gridwidth\":2}},\"shapedefaults\":{\"line\":{\"color\":\"#2a3f5f\"}},\"annotationdefaults\":{\"arrowcolor\":\"#2a3f5f\",\"arrowhead\":0,\"arrowwidth\":1},\"geo\":{\"bgcolor\":\"white\",\"landcolor\":\"#E5ECF6\",\"subunitcolor\":\"white\",\"showland\":true,\"showlakes\":true,\"lakecolor\":\"white\"},\"title\":{\"x\":0.05},\"mapbox\":{\"style\":\"light\"}}},\"xaxis\":{\"anchor\":\"y\",\"domain\":[0.0,1.0],\"title\":{\"text\":\"Life expectancy\"}},\"yaxis\":{\"anchor\":\"x\",\"domain\":[0.0,1.0],\"title\":{\"text\":\"GDP Per Capita\"}},\"legend\":{\"title\":{\"text\":\"Country\"},\"tracegroupgap\":0},\"margin\":{\"t\":60}},                        {\"responsive\": true}                    ).then(function(){\n",
       "                            \n",
       "var gd = document.getElementById('36fbc8d7-3192-4060-810e-b22b04302fd5');\n",
       "var x = new MutationObserver(function (mutations, observer) {{\n",
       "        var display = window.getComputedStyle(gd).display;\n",
       "        if (!display || display === 'none') {{\n",
       "            console.log([gd, 'removed!']);\n",
       "            Plotly.purge(gd);\n",
       "            observer.disconnect();\n",
       "        }}\n",
       "}});\n",
       "\n",
       "// Listen for the removal of the full notebook cells\n",
       "var notebookContainer = gd.closest('#notebook-container');\n",
       "if (notebookContainer) {{\n",
       "    x.observe(notebookContainer, {childList: true});\n",
       "}}\n",
       "\n",
       "// Listen for the clearing of the current output cell\n",
       "var outputEl = gd.closest('.output');\n",
       "if (outputEl) {{\n",
       "    x.observe(outputEl, {childList: true});\n",
       "}}\n",
       "\n",
       "                        })                };                });            </script>        </div>"
      ]
     },
     "metadata": {},
     "output_type": "display_data"
    }
   ],
   "execution_count": 40
  },
  {
   "metadata": {},
   "cell_type": "code",
   "outputs": [],
   "execution_count": null,
   "source": "",
   "id": "af3a6f628a071f55"
  }
 ],
 "metadata": {
  "kernelspec": {
   "display_name": "Python 3",
   "language": "python",
   "name": "python3"
  },
  "language_info": {
   "codemirror_mode": {
    "name": "ipython",
    "version": 2
   },
   "file_extension": ".py",
   "mimetype": "text/x-python",
   "name": "python",
   "nbconvert_exporter": "python",
   "pygments_lexer": "ipython2",
   "version": "2.7.6"
  }
 },
 "nbformat": 4,
 "nbformat_minor": 5
}
